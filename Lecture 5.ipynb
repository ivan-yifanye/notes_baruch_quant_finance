{
 "cells": [
  {
   "cell_type": "markdown",
   "metadata": {},
   "source": [
    "# Topics in Quantitative Finance, Summer 2020\n",
    "\n",
    "## Lecture 5: Fixed Income Products\n",
    "\n",
    "### Tai-Ho Wang (王 太 和)\n",
    "    \n",
    "<h2><img src=\"BCstacked_blk.jpg\" align = \"center\" height=50 width=190></h2>\n",
    "\n",
    "$$\n",
    "\\newcommand{\\bea}{\\begin{eqnarray}}\n",
    "\\newcommand{\\eea}{\\end{eqnarray}}\n",
    "\\newcommand{\\supp}{\\mathrm{supp}}\n",
    "\\newcommand{\\F}{\\mathcal{F} }\n",
    "\\newcommand{\\cF}{\\mathcal{F} }\n",
    "\\newcommand{\\E}{\\mathbb{E} }\n",
    "\\newcommand{\\Eof}[1]{\\mathbb{E}\\left[ #1 \\right]}\n",
    "\\newcommand{\\Etof}[1]{\\mathbb{E}_t\\left[ #1 \\right]}\n",
    "\\def\\Cov{{ \\mbox{Cov} }}\n",
    "\\def\\ES{{ \\mbox{ES} }}\n",
    "\\def\\Var{{ \\mbox{Var} }}\n",
    "\\def\\VaR{{ \\mbox{VaR} }}\n",
    "\\def\\sd{{ \\mbox{sd} }}\n",
    "\\def\\corr{{ \\mbox{corr} }}\n",
    "\\newcommand{\\1}{\\mathbf{1} }\n",
    "\\newcommand{\\p}{\\partial}\n",
    "\\newcommand{\\PP}{\\mathbb{P} }\n",
    "\\newcommand{\\Pof}[1]{\\mathbb{P}\\left[ #1 \\right]}\n",
    "\\newcommand{\\QQ}{\\mathbb{Q} }\n",
    "\\newcommand{\\R}{\\mathbb{R} }\n",
    "\\newcommand{\\DD}{\\mathbb{D} }\n",
    "\\newcommand{\\HH}{\\mathbb{H} }\n",
    "\\newcommand{\\spn}{\\mathrm{span} }\n",
    "\\newcommand{\\cov}{\\mathrm{cov} }\n",
    "\\newcommand{\\HS}{\\mathcal{L}_{\\mathrm{HS}} }\n",
    "\\newcommand{\\Hess}{\\mathrm{Hess} }\n",
    "\\newcommand{\\trace}{\\mathrm{trace} }\n",
    "\\newcommand{\\LL}{\\mathcal{L} }\n",
    "\\newcommand{\\s}{\\mathcal{S} }\n",
    "\\newcommand{\\ee}{\\mathcal{E} }\n",
    "\\newcommand{\\ff}{\\mathcal{F} }\n",
    "\\newcommand{\\hh}{\\mathcal{H} }\n",
    "\\newcommand{\\bb}{\\mathcal{B} }\n",
    "\\newcommand{\\dd}{\\mathcal{D} }\n",
    "\\newcommand{\\g}{\\mathcal{G} }\n",
    "\\newcommand{\\half}{\\frac{1}{2} }\n",
    "\\newcommand{\\T}{\\mathcal{T} }\n",
    "\\newcommand{\\bit}{\\begin{itemize}}\n",
    "\\newcommand{\\eit}{\\end{itemize}}\n",
    "\\newcommand{\\beq}{\\begin{equation}}\n",
    "\\newcommand{\\eeq}{\\end{equation}}\n",
    "\\newcommand{\\tr}{\\mbox{tr}}\n",
    "$$\n"
   ]
  },
  {
   "cell_type": "markdown",
   "metadata": {},
   "source": [
    "## Agenda\n",
    "    \n",
    "- Discount or zero coupon bond\n",
    "- Coupon paying bond\n",
    "- Yield to maturity (YTM)\n",
    "- Term structure and yield cruve\n",
    "- Construction of yield curve\n",
    "- Interest rates\n",
    "    - Spot or zero rate\n",
    "    - LIBOR and forward LIBOR\n",
    "    - forward rate\n",
    "    - short rate\n",
    "    - swap rate\n",
    "- Forward price of a zero coupon bond (ZCB)\n",
    "- Forward Rate Agreement (FRA)\n",
    "- Interest rate (IR) swap"
   ]
  },
  {
   "cell_type": "markdown",
   "metadata": {},
   "source": [
    "## Zero coupon bond (ZCB)\n",
    "\n",
    "Summary from the [Wikipage](https://en.wikipedia.org/wiki/Zero-coupon_bond):\n",
    "\n",
    "- A zero-coupon bond (also discount bond or deep discount bond) is a bond where the face value is repaid at the time of maturity. Note that this definition assumes a positive time value of money. It does not make periodic interest payments, or have so-called coupons, hence the term zero-coupon bond. When the bond reaches maturity, its investor receives its par (or face) value. Examples of zero-coupon bonds include U.S. Treasury bills, U.S. savings bonds, long-term zero-coupon bonds, and any type of coupon bond that has been stripped of its coupons.\n",
    "\n",
    "- Some zero coupon bonds are inflation indexed, so the amount of money that will be paid to the bond holder is calculated to have a set amount of purchasing power rather than a set amount of money, but the majority of zero coupon bonds pay a set amount of money known as the face value of the bond.\n",
    "\n",
    "- Zero coupon bonds may be long or short term investments. Long-term zero coupon maturity dates typically start at ten to fifteen years. The bonds can be held until maturity or sold on secondary bond markets. Short-term zero coupon bonds generally have maturities of less than one year and are called bills. The U.S. Treasury bill market is the most active and liquid debt market in the world. "
   ]
  },
  {
   "cell_type": "markdown",
   "metadata": {},
   "source": [
    "## Coupon paying bond\n",
    "\n",
    "In constrast to ZCBs, an investor who has a coupon paying bond, or a regular bond, receives income from coupon payments, which are made semi-annually or annually. The investor also receives the principal or face value of the investment when the bond matures."
   ]
  },
  {
   "cell_type": "markdown",
   "metadata": {},
   "source": [
    "## Callable bonds\n",
    "\n",
    "Quote from the [Wikepage](https://en.wikipedia.org/wiki/Callable_bond):\n",
    "\n",
    "\n",
    "> - A **callable bond** (also called **redeemable bond**) is a type of bond (debt security) that allows the issuer of the bond to retain the privilege of redeeming the bond at some point before the bond reaches its date of maturity. In other words, on the call date(s), the issuer has the right, but not the obligation, to buy back the bonds from the bond holders at a defined call price. Technically speaking, the bonds are not really bought and held by the issuer but are instead cancelled immediately. \n",
    "> - The call price will usually exceed the par or issue price. In certain cases, mainly in the high-yield debt market, there can be a substantial call premium."
   ]
  },
  {
   "cell_type": "markdown",
   "metadata": {},
   "source": [
    "## Treasury bond, bill, and note\n",
    "\n",
    "From [this page](https://www.investopedia.com/ask/answers/033115/what-are-differences-between-treasury-bond-and-treasury-note-and-treasury-bill-tbill.asp) in Invetsopedia:\n",
    "\n",
    "The U.S. federal government offers three categories of fixed income securities to the buying public: \n",
    "- Treasury bonds (T-bonds) \n",
    "- Treasury notes (T-notes)\n",
    "- Treasury bills (T-bills) \n",
    "\n",
    "Each of these securities is issued with the full faith and credit of the U.S. government, and they are used as tools to fund its short-term and long-term operations.\n",
    "\n",
    "Treasury bonds, notes and bills all differ in the lengths of time they are issued and the manner in which each pays interest to investors."
   ]
  },
  {
   "cell_type": "markdown",
   "metadata": {},
   "source": [
    "## Treasury bonds\n",
    "\n",
    "From this [page of Investopedia](https://www.investopedia.com/ask/answers/033115/what-are-differences-between-treasury-bond-and-treasury-note-and-treasury-bill-tbill.asp):\n",
    "\n",
    "T-bonds have the longest maturities of all government-issued securities and are often referred to as *long bonds*. These issues are offered to investors with either a 20- or 30-year term. In return for investment, individuals who purchase T-bonds receive an interest payment (coupon) every six months per the terms of the bond issue. Because T-bonds have the longest time to maturity, their prices will fluctuate more than T-notes or T-bills. This long maturity also correlates to higher interest rates for investors.\n",
    "\n",
    "### Note\n",
    "\n",
    "- Treasury bonds are auctioned off in multiples of $100, and their price is determined at auction. \n",
    "- Because T-bonds are fixed rate securities, their yield to maturity, or how much the bond is expected to pay over its lifetime, impacts the price of the bond at auction. \n",
    "- If the yield to maturity is greater than the interest rate, the bond's price is less than the face value. \n",
    "- If the yield to maturity is less than the interest rate, the price will be more than face value. If the yield to maturity and the interest rate are equal, the price of the bond will be equal to its mature value."
   ]
  },
  {
   "cell_type": "markdown",
   "metadata": {},
   "source": [
    "## Treasury notes\n",
    "\n",
    "From this [page in Investopedia](https://www.investopedia.com/ask/answers/033115/what-are-differences-between-treasury-bond-and-treasury-note-and-treasury-bill-tbill.asp):\n",
    "\n",
    "T-notes are issued with shorter maturities than T-bonds, typically offered to investors with one-, five-, seven- or 10-year terms. Because the maturity date is shorter, interest rates are lower than those offered to T-bond investors, but semi-annual interest payments still occur.\n",
    "\n",
    "\n",
    "### Note\n",
    "- Prices on T-notes fluctuate more than T-bills, but less than T-bonds, and issues that carry the furthest maturity date fluctuate in price the most. \n",
    "- The 10-year T-note is the most widely tracked government bond, and it is used as a benchmark for banks and the Treasury market in calculating mortgage rates.\n",
    "- Treasury bonds and Treasury notes are similar in their auction practices and interest payment schedules. "
   ]
  },
  {
   "cell_type": "markdown",
   "metadata": {},
   "source": [
    "## Treasury bills\n",
    "\n",
    "From the [link](https://www.investopedia.com/ask/answers/033115/what-are-differences-between-treasury-bond-and-treasury-note-and-treasury-bill-tbill.asp):\n",
    "\n",
    "T-bills are issued with terms of 4, 13, 26 or 52 weeks. They offer investors the lowest yield of all government bond issues. Similar to zero-coupon bonds, T-bills are auctioned off to investors at a discount to par. The difference between par value ($100) and the discount price is what investors view as its interest payment."
   ]
  },
  {
   "cell_type": "markdown",
   "metadata": {},
   "source": [
    "## Notations\n",
    "\n",
    "- $M$: maturity\n",
    "- $\\tau := M - t$: time to maturity\n",
    "- $Z(t, M)$: price of ZCB at time $t$ maturing at $M$\n",
    "- $y(t, M)$: spot or zero rate, yield derived from ZCB\n",
    "\n",
    "$$\n",
    "Z(t, M) = e^{-y(t, M)(M - t)} \\quad \\Longleftrightarrow \\quad y(t, M) = - \\frac1{M - t}\\ln Z(t, M).\n",
    "$$\n",
    "\n",
    "- $L_t[t, M]$: LIBOR\n",
    "\n",
    "$$\n",
    "Z(t, M) = \\frac1{1 + L_t[t, M](M - t)} \\quad \\Longleftrightarrow \\quad L_t[t, M] = \\frac1{M - t} \\left(\\frac1{Z(t, M)} - 1\\right).\n",
    "$$\n",
    "\n",
    "- $Z(t, T, M)$: the $T$-forward price at time $t$ of ZCB maturing at $M$, for $t \\leq T \\leq M$\n",
    "\n",
    "$$\n",
    "Z(t, T, M) = \\frac{Z(t, M)}{Z(t, T)}\n",
    "$$\n",
    "\n",
    "- $F(t, T, M)$: forward rate at time $t$ for the period $T$ to $M$. \n",
    "\n",
    "$$\n",
    "Z(t, T, M) = e^{-F(t, T, M)(M - T)} \\quad \\Longleftrightarrow \\quad F(t, T, M) = - \\frac1{M - T}\\ln Z(t, T, M).\n",
    "$$\n",
    "\n",
    "- $L_t[T, M]$: forward LIBOR\n",
    "\n",
    "$$\n",
    "Z(t, T, M) = \\frac1{1 + L_t[T, M](M - T)} \\quad \\Longleftrightarrow \\quad L_t[T, M] = \\frac1{M - T} \\left(\\frac1{Z(t, T, M)} - 1\\right).\n",
    "$$\n",
    "\n",
    "Other related rates\n",
    "- $f(t, T)$: instanstaneous forward rate\n",
    "\n",
    "$$\n",
    "f(t, T) := \\lim_{M \\to T^-} F(t, T, M) = -\\left. \\frac{d}{dM}\\right|_{M=T} \\ln Z(t, M).\n",
    "$$\n",
    "\n",
    "- $r(t) = f(t,t)$: short rate"
   ]
  },
  {
   "cell_type": "markdown",
   "metadata": {},
   "source": [
    "## Relationships between the quantities\n",
    "\n",
    "\\begin{eqnarray*}\n",
    "&& Z(t, M) = \\Etof{e^{-\\int_t^M r(s) ds}} \\\\\n",
    "&& Z(t, M) = e^{-(M - t)y(t,M)} = e^{-\\int_t^M f(t, s)ds} \\quad \\leftrightsquigarrow \\quad f(t, M) = -\\frac{d}{dM}\\ln Z(t, M), \\quad \\\\\n",
    "&& y(t, M) = \\frac1{M - t}\\int_t^M f(t, s) ds \\\\\n",
    "&& Z(t, T, M) = \\frac{Z(t, M)}{Z(t, T)} = e^{-\\int_T^M f(t, s)ds}\n",
    "\\end{eqnarray*}"
   ]
  },
  {
   "cell_type": "markdown",
   "metadata": {},
   "source": [
    "## Yield to maturity (YTM)\n",
    "\n",
    "The yield to maturity (YTM) of a bond is the effective (usually continuous compounding) rate that represents the present value of the prespective cashflows up to maturity of the bond. Precisely, \n",
    "\n",
    "- the YTM at time $t$ of a ZCB $Z(t, M)$ maturing at time $M$ is defined as \n",
    "\n",
    "$$\n",
    "y(t, M) = \\frac1{M - t} \\ln Z(t, M).\n",
    "$$\n",
    "\n",
    "- the yield $y$ of coupon paying bond, with coupon payments $C_i$ at $t < t_1 < \\cdots < t_n = M$ and face value $F$ at maturity $M$, is defined implicitly by solving the following equation for $y$\n",
    "\n",
    "$$\n",
    "P(t, M) = \\sum_{i=1}^n C_i e^{-y(t_i - t)} + F e^{-y (M - t)}. \n",
    "$$\n",
    "\n",
    "   There is unfortunately no simple closed form expression for the yield of a coupon paying bond. "
   ]
  },
  {
   "cell_type": "markdown",
   "metadata": {},
   "source": [
    "Let $P(t, M)$ be the price of a coupon paying bond maturing at $M$, with face value $F$ and coupon payment $C_i$ at time $t_i$, for $t < t_1 < \\cdots < t_n = M$. Let $Z(t, t_i)$ be the prices of ZCBs maturing at $\\tau_i$, for $i = 1, \\cdots, n$.\n",
    "The prices of a coupon paying bond and ZCBs must satisfy\n",
    "\n",
    "$$\n",
    "P(t, M) = \\sum_{i=1}^n C_i Z(t, t_i) + F Z(t, M).\n",
    "$$\n",
    "\n",
    "### Note\n",
    "- A coupon paying bond is called *traded at par* if it is traded at the price of its face value. "
   ]
  },
  {
   "cell_type": "markdown",
   "metadata": {},
   "source": [
    "## Duration and convexity of a bond\n",
    "\n",
    "- The *duration* of a bond features the first order sensitivity of bond price with respect to the movement of yields.\n",
    "\n",
    "- The *convexity* of a bond features the first order sensitivity of bond price with respect to the movement of yields.\n",
    "\n",
    "Assume at the moment the yield of a bond priced at $P$ is $y$. Then the duration $D$ of the bond is defined by the normalized first order sensitivity of $B$ with respect to $y$ as\n",
    "\n",
    "$$\n",
    "D = -\\frac1{P} \\frac{dP}{dy}.\n",
    "$$\n",
    "\n",
    "By the same token, the convexity $C$ of the bond is defined by the normalized second order sensitivity of $B$ with respect to $y$ as\n",
    "\n",
    "$$\n",
    "C = \\frac1{P} \\frac{d^2P}{dy^2}.\n",
    "$$\n",
    "\n",
    "### Note\n",
    "- Thus, the change of bond price with respect to the change in yield is approximately \n",
    "\n",
    "$$\n",
    "P(y + h) \\approx P(y) - D \\, P \\, h + C \\, P \\, \\frac{h^2}2 \n",
    "$$\n",
    "\n",
    "- The duration and convexity of a ZCB can be calculated explicitly as $\\tau$ and $\\tau^2$, where $\\tau$ denotes the time to maturity of the bond. "
   ]
  },
  {
   "cell_type": "markdown",
   "metadata": {},
   "source": [
    "## Example\n",
    "\n",
    "Consider a semiannual coupon bond with coupon rate $6\\%$ and maturity 20 months. Assume that the face value of the bond is $\\$100$, and that interest is continous compounding.\n",
    "\n",
    "- 1. Compute the price of the bond if the yield curve $y$ is given by\n",
    "\n",
    "$$\n",
    "y(0, t) = 0.0525 + \\frac{\\ln(1 + 2 t)}{200}.\n",
    "$$\n",
    "\n",
    "- 2. Compute the price of the bond if the (instantaneous) forward rate $f$ is given by\n",
    "\n",
    "$$\n",
    "f(0, t) = 0.0525 + \\frac1{100 \\, (1 + e^{-t^2})}.\n",
    "$$\n",
    "\n",
    "- 3. Compute the price of the bond if the (instantaneous) forward rate $r$ is given by\n",
    "\n",
    "$$\n",
    "f(0, t) = 0.0525 + \\frac{\\ln(1 + 2 t)}{200} + \\frac t{100(1 + 2t)}.\n",
    "$$ "
   ]
  },
  {
   "cell_type": "code",
   "execution_count": 1,
   "metadata": {},
   "outputs": [
    {
     "data": {
      "text/html": [
       "<table>\n",
       "<caption>A data.frame: 4 × 1</caption>\n",
       "<thead>\n",
       "\t<tr><th scope=col>Z</th></tr>\n",
       "\t<tr><th scope=col>&lt;dbl&gt;</th></tr>\n",
       "</thead>\n",
       "<tbody>\n",
       "\t<tr><td>0.9910506</td></tr>\n",
       "\t<tr><td>0.9628821</td></tr>\n",
       "\t<tr><td>0.9340053</td></tr>\n",
       "\t<tr><td>0.9050913</td></tr>\n",
       "</tbody>\n",
       "</table>\n"
      ],
      "text/latex": [
       "A data.frame: 4 × 1\n",
       "\\begin{tabular}{l}\n",
       " Z\\\\\n",
       " <dbl>\\\\\n",
       "\\hline\n",
       "\t 0.9910506\\\\\n",
       "\t 0.9628821\\\\\n",
       "\t 0.9340053\\\\\n",
       "\t 0.9050913\\\\\n",
       "\\end{tabular}\n"
      ],
      "text/markdown": [
       "\n",
       "A data.frame: 4 × 1\n",
       "\n",
       "| Z &lt;dbl&gt; |\n",
       "|---|\n",
       "| 0.9910506 |\n",
       "| 0.9628821 |\n",
       "| 0.9340053 |\n",
       "| 0.9050913 |\n",
       "\n"
      ],
      "text/plain": [
       "  Z        \n",
       "1 0.9910506\n",
       "2 0.9628821\n",
       "3 0.9340053\n",
       "4 0.9050913"
      ]
     },
     "metadata": {},
     "output_type": "display_data"
    },
    {
     "name": "stdout",
     "output_type": "stream",
     "text": [
      "[1] 101.89\n"
     ]
    }
   ],
   "source": [
    "# yield curve\n",
    "y <- function(t) {0.0525 + log(1 + 2*t)/200}\n",
    "t <- c(2, 8, 14, 20)/12\n",
    "Payoffs <- c(3, 3, 3, 103)\n",
    "Z <- exp(-t*y(t))\n",
    "data.frame(Z)\n",
    "# B*Payoffs\n",
    "\n",
    "# bond price\n",
    "print(round(sum(Z*Payoffs), 2))"
   ]
  },
  {
   "cell_type": "code",
   "execution_count": 2,
   "metadata": {},
   "outputs": [],
   "source": [
    "# forward rates\n",
    "f <- function(t) {0.0525 + 1/100/(1 + exp(-t^2))}\n",
    "\n",
    "# yield\n",
    "y <- function(t) {1/t*integrate(f, lower=0, upper=t)$value}\n"
   ]
  },
  {
   "cell_type": "code",
   "execution_count": 3,
   "metadata": {},
   "outputs": [
    {
     "ename": "ERROR",
     "evalue": "Error in integrate(f, lower = 0, upper = t): length(upper) == 1 is not TRUE\n",
     "output_type": "error",
     "traceback": [
      "Error in integrate(f, lower = 0, upper = t): length(upper) == 1 is not TRUE\nTraceback:\n",
      "1. y(c(2/12, 28/12, 5))",
      "2. integrate(f, lower = 0, upper = t)   # at line 5 of file <text>",
      "3. stopifnot(length(lower) == 1, length(upper) == 1)"
     ]
    }
   ],
   "source": [
    "y(c(2/12,28/12,5))"
   ]
  },
  {
   "cell_type": "code",
   "execution_count": 5,
   "metadata": {},
   "outputs": [
    {
     "data": {
      "text/html": [
       "<style>\n",
       ".list-inline {list-style: none; margin:0; padding: 0}\n",
       ".list-inline>li {display: inline-block}\n",
       ".list-inline>li:not(:last-child)::after {content: \"\\00b7\"; padding: 0 .5ex}\n",
       "</style>\n",
       "<ol class=list-inline><li>0.0575231475102786</li><li>0.0578677898981141</li><li>0.0585669983934784</li></ol>\n"
      ],
      "text/latex": [
       "\\begin{enumerate*}\n",
       "\\item 0.0575231475102786\n",
       "\\item 0.0578677898981141\n",
       "\\item 0.0585669983934784\n",
       "\\end{enumerate*}\n"
      ],
      "text/markdown": [
       "1. 0.0575231475102786\n",
       "2. 0.0578677898981141\n",
       "3. 0.0585669983934784\n",
       "\n",
       "\n"
      ],
      "text/plain": [
       "[1] 0.05752315 0.05786779 0.05856700"
      ]
     },
     "metadata": {},
     "output_type": "display_data"
    }
   ],
   "source": [
    "# vectorize a function\n",
    "yV <- function(t) sapply(t, y)\n",
    "yV(c(2/12, 8/12,14/12))"
   ]
  },
  {
   "cell_type": "code",
   "execution_count": 6,
   "metadata": {},
   "outputs": [
    {
     "data": {
      "text/html": [
       "<table>\n",
       "<caption>A data.frame: 4 × 1</caption>\n",
       "<thead>\n",
       "\t<tr><th scope=col>Z</th></tr>\n",
       "\t<tr><th scope=col>&lt;dbl&gt;</th></tr>\n",
       "</thead>\n",
       "<tbody>\n",
       "\t<tr><td>0.9904586</td></tr>\n",
       "\t<tr><td>0.9621561</td></tr>\n",
       "\t<tr><td>0.9339539</td></tr>\n",
       "\t<tr><td>0.9057753</td></tr>\n",
       "</tbody>\n",
       "</table>\n"
      ],
      "text/latex": [
       "A data.frame: 4 × 1\n",
       "\\begin{tabular}{l}\n",
       " Z\\\\\n",
       " <dbl>\\\\\n",
       "\\hline\n",
       "\t 0.9904586\\\\\n",
       "\t 0.9621561\\\\\n",
       "\t 0.9339539\\\\\n",
       "\t 0.9057753\\\\\n",
       "\\end{tabular}\n"
      ],
      "text/markdown": [
       "\n",
       "A data.frame: 4 × 1\n",
       "\n",
       "| Z &lt;dbl&gt; |\n",
       "|---|\n",
       "| 0.9904586 |\n",
       "| 0.9621561 |\n",
       "| 0.9339539 |\n",
       "| 0.9057753 |\n",
       "\n"
      ],
      "text/plain": [
       "  Z        \n",
       "1 0.9904586\n",
       "2 0.9621561\n",
       "3 0.9339539\n",
       "4 0.9057753"
      ]
     },
     "metadata": {},
     "output_type": "display_data"
    },
    {
     "data": {
      "text/html": [
       "101.954564126317"
      ],
      "text/latex": [
       "101.954564126317"
      ],
      "text/markdown": [
       "101.954564126317"
      ],
      "text/plain": [
       "[1] 101.9546"
      ]
     },
     "metadata": {},
     "output_type": "display_data"
    }
   ],
   "source": [
    "# forward rates\n",
    "f <- function(t) {0.0525 + 1/100/(1 + exp(-t^2))}\n",
    "\n",
    "# yield\n",
    "y <- function(t) {1/t*integrate(f, lower=0, upper=t)$value}\n",
    "yV <- function(t) sapply(t, y) # vectorize the function y\n",
    "\n",
    "# ZCB prices\n",
    "t <- c(2, 8, 14, 20)/12\n",
    "Z <- exp(-t*yV(t))\n",
    "data.frame(Z)\n",
    "\n",
    "# bond price\n",
    "Payoffs <- c(3, 3, 3, 103)\n",
    "# Z*Payoffs\n",
    "sum(Z*Payoffs)"
   ]
  },
  {
   "cell_type": "code",
   "execution_count": 7,
   "metadata": {},
   "outputs": [
    {
     "data": {
      "text/html": [
       "<table>\n",
       "<caption>A data.frame: 4 × 1</caption>\n",
       "<thead>\n",
       "\t<tr><th scope=col>Z</th></tr>\n",
       "\t<tr><th scope=col>&lt;dbl&gt;</th></tr>\n",
       "</thead>\n",
       "<tbody>\n",
       "\t<tr><td>0.9910506</td></tr>\n",
       "\t<tr><td>0.9628821</td></tr>\n",
       "\t<tr><td>0.9340053</td></tr>\n",
       "\t<tr><td>0.9050913</td></tr>\n",
       "</tbody>\n",
       "</table>\n"
      ],
      "text/latex": [
       "A data.frame: 4 × 1\n",
       "\\begin{tabular}{l}\n",
       " Z\\\\\n",
       " <dbl>\\\\\n",
       "\\hline\n",
       "\t 0.9910506\\\\\n",
       "\t 0.9628821\\\\\n",
       "\t 0.9340053\\\\\n",
       "\t 0.9050913\\\\\n",
       "\\end{tabular}\n"
      ],
      "text/markdown": [
       "\n",
       "A data.frame: 4 × 1\n",
       "\n",
       "| Z &lt;dbl&gt; |\n",
       "|---|\n",
       "| 0.9910506 |\n",
       "| 0.9628821 |\n",
       "| 0.9340053 |\n",
       "| 0.9050913 |\n",
       "\n"
      ],
      "text/plain": [
       "  Z        \n",
       "1 0.9910506\n",
       "2 0.9628821\n",
       "3 0.9340053\n",
       "4 0.9050913"
      ]
     },
     "metadata": {},
     "output_type": "display_data"
    },
    {
     "data": {
      "text/html": [
       "101.888215881201"
      ],
      "text/latex": [
       "101.888215881201"
      ],
      "text/markdown": [
       "101.888215881201"
      ],
      "text/plain": [
       "[1] 101.8882"
      ]
     },
     "metadata": {},
     "output_type": "display_data"
    }
   ],
   "source": [
    "# forward rates\n",
    "f <- function(t) {0.0525 + log(1 + 2*t)/200 + t/100/(1 + 2*t)}\n",
    "\n",
    "# yield\n",
    "y <- function(t) {1/t*integrate(f, lower=0, upper=t)$value}\n",
    "yV <- function(t) sapply(t, y) # vectorize the function y\n",
    "\n",
    "# ZCB prices\n",
    "t <- c(2, 8, 14, 20)/12\n",
    "Z <- exp(-t*yV(t))\n",
    "data.frame(Z)\n",
    "\n",
    "# bond price\n",
    "Payoffs <- c(3, 3, 3, 103)\n",
    "# Z*Payoffs\n",
    "sum(Z*Payoffs)"
   ]
  },
  {
   "cell_type": "markdown",
   "metadata": {},
   "source": [
    "## Example\n",
    "\n",
    "Consider a semiannual coupon bond with face value 100, coupon rate $6\\%$ that matures in 20 months. If the yield of the bond is $6.5\\%$, compute the price, the duration and the convexity of the bond. "
   ]
  },
  {
   "cell_type": "code",
   "execution_count": 8,
   "metadata": {},
   "outputs": [
    {
     "data": {
      "text/html": [
       "<table>\n",
       "<caption>A data.frame: 1 × 3</caption>\n",
       "<thead>\n",
       "\t<tr><th scope=col>bondPrice</th><th scope=col>duration</th><th scope=col>convexity</th></tr>\n",
       "\t<tr><th scope=col>&lt;dbl&gt;</th><th scope=col>&lt;dbl&gt;</th><th scope=col>&lt;dbl&gt;</th></tr>\n",
       "</thead>\n",
       "<tbody>\n",
       "\t<tr><td>101.0462</td><td>1.580422</td><td>2.591686</td></tr>\n",
       "</tbody>\n",
       "</table>\n"
      ],
      "text/latex": [
       "A data.frame: 1 × 3\n",
       "\\begin{tabular}{lll}\n",
       " bondPrice & duration & convexity\\\\\n",
       " <dbl> & <dbl> & <dbl>\\\\\n",
       "\\hline\n",
       "\t 101.0462 & 1.580422 & 2.591686\\\\\n",
       "\\end{tabular}\n"
      ],
      "text/markdown": [
       "\n",
       "A data.frame: 1 × 3\n",
       "\n",
       "| bondPrice &lt;dbl&gt; | duration &lt;dbl&gt; | convexity &lt;dbl&gt; |\n",
       "|---|---|---|\n",
       "| 101.0462 | 1.580422 | 2.591686 |\n",
       "\n"
      ],
      "text/plain": [
       "  bondPrice duration convexity\n",
       "1 101.0462  1.580422 2.591686 "
      ]
     },
     "metadata": {},
     "output_type": "display_data"
    }
   ],
   "source": [
    "t <- c(2, 8, 14, 20)/12\n",
    "Payoffs <- c(3, 3, 3, 103)\n",
    "y <- 0.065\n",
    "\n",
    "# bond price\n",
    "discount <- exp(-t*y)\n",
    "bondPrice <- sum(discount*Payoffs)\n",
    "\n",
    "# duration\n",
    "duration <- sum(discount*Payoffs*t)/bondPrice\n",
    "\n",
    "# convexity\n",
    "convexity <- sum(discount*Payoffs*t^2)/bondPrice\n",
    "\n",
    "data.frame(bondPrice, duration, convexity)"
   ]
  },
  {
   "cell_type": "markdown",
   "metadata": {},
   "source": [
    "## A look at the yield curve"
   ]
  },
  {
   "cell_type": "code",
   "execution_count": null,
   "metadata": {},
   "outputs": [
    {
     "name": "stderr",
     "output_type": "stream",
     "text": [
      "Installing package into 'C:/Users/lzx_03/Documents/R/win-library/3.6'\n",
      "(as 'lib' is unspecified)\n",
      "\n"
     ]
    }
   ],
   "source": [
    "# install package YieldCurve if necessary\n",
    "install.packages('YieldCurve', repos='http://cran.us.r-project.org')"
   ]
  },
  {
   "cell_type": "code",
   "execution_count": 1,
   "metadata": {},
   "outputs": [
    {
     "name": "stderr",
     "output_type": "stream",
     "text": [
      "Warning message:\n",
      "\"package 'YieldCurve' was built under R version 3.6.3\"\n",
      "Loading required package: xts\n",
      "\n",
      "Loading required package: zoo\n",
      "\n",
      "\n",
      "Attaching package: 'zoo'\n",
      "\n",
      "\n",
      "The following objects are masked from 'package:base':\n",
      "\n",
      "    as.Date, as.Date.numeric\n",
      "\n",
      "\n",
      "Registered S3 method overwritten by 'xts':\n",
      "  method     from\n",
      "  as.zoo.xts zoo \n",
      "\n"
     ]
    }
   ],
   "source": [
    "# load required package YieldCurve\n",
    "library(YieldCurve)\n",
    "\n",
    "# rescale the plot\n",
    "options(repr.plot.width=5, repr.plot.height=5)"
   ]
  },
  {
   "cell_type": "code",
   "execution_count": 2,
   "metadata": {},
   "outputs": [],
   "source": [
    "# data contains 372 yield curves with in total 8 maturities 3m, 6m, 1yr, 2yrs, 3yrs, 5yrs, 7yrs, 10yrs\n",
    "# from 1981-12-31 to 2012-11-30\n",
    "data(FedYieldCurve)\n",
    "maturity.Fed <- c(3/12, 0.5, 1, 2, 3, 5, 7, 10)\n",
    "\n",
    "# load the data into a tmp variable\n",
    "tmp <- first(FedYieldCurve, '372 month')"
   ]
  },
  {
   "cell_type": "code",
   "execution_count": 3,
   "metadata": {},
   "outputs": [
    {
     "name": "stderr",
     "output_type": "stream",
     "text": [
      "Warning message:\n",
      "\"index class is Date, which does not support timezones.\n",
      "Expected 'UTC' timezone, but indexTZ is ''\"\n"
     ]
    },
    {
     "data": {
      "text/plain": [
       "           R_3M R_6M R_1Y R_2Y R_3Y R_5Y R_7Y R_10Y\n",
       "2007-09-30 4.00 4.16 4.10 3.97 4.01 4.20 4.33  4.53\n",
       "2007-10-31 3.35 3.58 3.50 3.34 3.35 3.67 3.87  4.15\n",
       "2007-11-30 3.07 3.34 3.26 3.12 3.13 3.49 3.74  4.10\n",
       "2007-12-31 2.82 2.84 2.71 2.48 2.51 2.98 3.31  3.74\n",
       "2008-01-31 2.17 2.10 2.05 1.97 2.19 2.78 3.21  3.74\n",
       "2008-02-29 1.28 1.51 1.54 1.62 1.80 2.48 2.93  3.51\n",
       "2008-03-31 1.31 1.58 1.74 2.05 2.23 2.84 3.19  3.68\n",
       "2008-04-30 1.76 1.86 2.06 2.45 2.69 3.15 3.46  3.88\n",
       "2008-05-31 1.89 2.19 2.42 2.77 3.08 3.49 3.73  4.10\n",
       "2008-06-30 1.66 1.98 2.28 2.57 2.87 3.30 3.60  4.01\n",
       "2008-07-31 1.75 1.97 2.18 2.42 2.70 3.14 3.46  3.89"
      ]
     },
     "metadata": {},
     "output_type": "display_data"
    },
    {
     "data": {
      "image/png": "[encoded data removed]",
      "text/plain": [
       "Plot with title \"Fed yield curve\""
      ]
     },
     "metadata": {
      "image/png": {
       "height": 300,
       "width": 300
      }
     },
     "output_type": "display_data"
    }
   ],
   "source": [
    "# plot 10 sample yields curves\n",
    "plot(maturity.Fed, tmp[301], main=\"Fed yield curve\", type=\"o\", xlab='Time to maturity', yla='Yield', ylim=c(3.5,5.5))\n",
    "for (i in 302:310){\n",
    "    lines(maturity.Fed, tmp[i], col=i-300, type='o')\n",
    "}\n",
    "\n",
    "#head(tmp, 10)\n",
    "tmp[310:320]\n",
    "#tail(tmp, 10)"
   ]
  },
  {
   "cell_type": "code",
   "execution_count": 4,
   "metadata": {},
   "outputs": [
    {
     "name": "stderr",
     "output_type": "stream",
     "text": [
      "Warning message:\n",
      "\"index class is Date, which does not support timezones.\n",
      "Expected 'UTC' timezone, but indexTZ is ''\"\n"
     ]
    },
    {
     "data": {
      "text/plain": [
       "           R_3M R_6M R_1Y R_2Y R_3Y R_5Y R_7Y R_10Y\n",
       "2012-02-29 0.08 0.14 0.19 0.34 0.51 1.02 1.56  2.17\n",
       "2012-03-31 0.08 0.14 0.18 0.29 0.43 0.89 1.43  2.05\n",
       "2012-04-30 0.09 0.15 0.19 0.29 0.39 0.76 1.21  1.80\n",
       "2012-05-31 0.09 0.15 0.19 0.29 0.39 0.71 1.08  1.62\n",
       "2012-06-30 0.10 0.15 0.19 0.25 0.33 0.62 0.98  1.53\n",
       "2012-07-31 0.10 0.14 0.18 0.27 0.37 0.71 1.14  1.68\n",
       "2012-08-31 0.11 0.14 0.18 0.26 0.34 0.67 1.12  1.72\n",
       "2012-09-30 0.10 0.15 0.18 0.28 0.37 0.71 1.15  1.75\n",
       "2012-10-31 0.09 0.14 0.18 0.27 0.36 0.67 1.08  1.65\n",
       "2012-11-30 0.07 0.12 0.16 0.26 0.35 0.70 1.13  1.72"
      ]
     },
     "metadata": {},
     "output_type": "display_data"
    },
    {
     "data": {
      "image/png": "[encoded data removed]",
      "text/plain": [
       "Plot with title \"Fed yield curve\""
      ]
     },
     "metadata": {
      "image/png": {
       "height": 300,
       "width": 300
      }
     },
     "output_type": "display_data"
    }
   ],
   "source": [
    "# plot the most recent 10 yield curves\n",
    "plot(maturity.Fed, tmp[363], main=\"Fed yield curve\", type=\"o\", xlab='Time to maturity', yla='Yield')\n",
    "for (i in 364:372){\n",
    "    lines(maturity.Fed, tmp[i], col=i, type='o')\n",
    "}\n",
    "\n",
    "tmp[363:372]"
   ]
  },
  {
   "cell_type": "markdown",
   "metadata": {},
   "source": [
    "## European Central Bank (ECB) yield curve"
   ]
  },
  {
   "cell_type": "code",
   "execution_count": 5,
   "metadata": {},
   "outputs": [
    {
     "data": {
      "image/png": "[encoded data removed]",
      "text/plain": [
       "Plot with title \"European Central Bank yield curve obeserved at 2009-07-23\""
      ]
     },
     "metadata": {
      "image/png": {
       "height": 300,
       "width": 300
      }
     },
     "output_type": "display_data"
    }
   ],
   "source": [
    "data(ECBYieldCurve)\n",
    "rate.ECB <- last(ECBYieldCurve, '2 week')\n",
    "\n",
    "mat.ECB <- tau <- c(3/12,6/12,1:30)\n",
    "par(mfrow=c(2,3))\n",
    "for( i in c(1, 2, 3, 653, 654, 655) ){\n",
    "    plot(mat.ECB, ECBYieldCurve[i], type=\"o\", xlab=\"Maturities structure in years\", ylab=\"Interest rates values\")\n",
    "    title(main=paste(\"European Central Bank yield curve obeserved at\", time(ECBYieldCurve[i], sep=\" \") ))\n",
    "    grid()\n",
    "}"
   ]
  },
  {
   "cell_type": "markdown",
   "metadata": {},
   "source": [
    "## Yield curve construction\n",
    "\n",
    "Two well-known parametric models for yield curve construction, i.e., interpolating-exptrapolating the yields, are \n",
    "\n",
    "- Nelson-Siegel model\n",
    "- Svensson model"
   ]
  },
  {
   "cell_type": "markdown",
   "metadata": {},
   "source": [
    "## Nelson-Siegel model\n",
    "\n",
    "Let $\\tau$ denote the time to maturity. The Nelson-Siegel model assumes that the <font color=blue> instantaneous forward rate </font> $f$ is of the form\n",
    "\n",
    "$$\n",
    "f(0,\\tau) = \\beta_0 + \\beta_1 e^{-\\lambda\\tau} + \\beta_2 \\lambda \\tau e^{-\\lambda\\tau}.\n",
    "$$\n",
    "\n",
    "Since the yield to maturity $y$ can be obtained from the instantaneous forward rate by \n",
    "\n",
    "$$\n",
    "y(0,\\tau) = \\frac1\\tau \\int_0^\\tau f(0, s)ds,\n",
    "$$\n",
    "\n",
    "we have\n",
    "\n",
    "$$\n",
    "y(0, \\tau) = \\beta_0 + \\beta_1 \\frac{1 - e^{-\\lambda\\tau}}{\\lambda\\tau} + \\beta_2 \\left\\{\\frac{1 - e^{-\\lambda\\tau}}{\\lambda \\tau} - e^{-\\lambda\\tau} \\right\\}\n",
    "$$\n",
    "\n",
    "for yield to maturity (or spot rate)."
   ]
  },
  {
   "cell_type": "code",
   "execution_count": null,
   "metadata": {},
   "outputs": [],
   "source": [
    "# Nelson-Siegel model\n",
    "\n",
    "# parameters\n",
    "beta0 <- 5.593571 \n",
    "beta1 <- -1.4703551 \n",
    "beta2 <- -2.2991512 \n",
    "lambda <- 0.3118638\n",
    "\n",
    "y_NS <- function(beta0, beta1, beta2, lambda){\n",
    "    function(t) {beta0 + beta1*(1 - exp(-lambda*t))/(lambda*t) + beta2*((1 - exp(-lambda*t))/lambda/t - exp(-lambda*t))}\n",
    "}\n",
    "\n",
    "tmp_func <- function(x) {y_NS(beta0, beta1, beta2, lambda)(x)}\n",
    "#tmpV <- function(x) sapply(x, tmp)\n",
    "\n",
    "curve(tmp_func, from=0, to=30, col='blue', ylab='Yield', xlab='Time to maturity')"
   ]
  },
  {
   "cell_type": "markdown",
   "metadata": {},
   "source": [
    "The `R` package `YieldCurve` implements the Nelson-Siegel and Svensson models for us"
   ]
  },
  {
   "cell_type": "code",
   "execution_count": null,
   "metadata": {},
   "outputs": [],
   "source": [
    "# fit the 10 monthly yield curves from 2006-12-31 to 2017-09-30 to the Nelson-Siegel model\n",
    "rate.Fed <- tmp[301:310]\n",
    "maturity.Fed <- c(3/12, 0.5, 1, 2, 3, 5, 7, 10)\n",
    "NSParameters <- Nelson.Siegel(rate=rate.Fed, maturity=maturity.Fed)\n",
    "\n",
    "# plot\n",
    "par(mfrow=c(2,3))\n",
    "for (i in 1:6){\n",
    "    plot(maturity.Fed, rate.Fed[i], main=\"Nelson-Siegel fit\", type=\"o\", xlab='Time to maturity')\n",
    "    y <- NSrates(NSParameters[i], maturity.Fed)\n",
    "    lines(maturity.Fed, y, col='red')\n",
    "    legend(\"topright\", legend=c(\"observed yield curve\",\"fitted yield curve\"), col=c(1,2), lty=1)\n",
    "}\n",
    "\n",
    "NSParameters"
   ]
  },
  {
   "cell_type": "code",
   "execution_count": null,
   "metadata": {},
   "outputs": [],
   "source": [
    "# closer look at the 5th (2007-04-30) fitted yieled curve \n",
    "y <- NSrates(NSParameters[5], maturity.Fed)\n",
    "\n",
    "# plot\n",
    "plot(maturity.Fed, rate.Fed[5], main=\"Fitting Nelson-Siegel yield curve\", type=\"o\")\n",
    "lines(maturity.Fed, y, col=2)\n",
    "legend(\"topright\", legend=c(\"observed yield curve\", \"fitted yield curve\"), col=c(1,2), lty=1)"
   ]
  },
  {
   "cell_type": "markdown",
   "metadata": {},
   "source": [
    "## Svensson\n",
    "\n",
    "The Svensson model assumes that the instantaneous forward rate $f$ is of the form\n",
    "\n",
    "$$\n",
    "f(0,\\tau) = \\beta_0 + \\beta_1 e^{-\\frac \\tau{\\lambda_1}} + \\beta_2 \\frac \\tau{\\lambda_1} e^{-\\frac \\tau{\\lambda_1}} + \\beta_3 \\frac \\tau{\\lambda_2} e^{-\\frac \\tau{\\lambda_2}}\n",
    "$$\n",
    "\n",
    "Likewise, by averaging over the forward rates, the yield to maturity (or the spot rate) $y$ is given by \n",
    "\n",
    "$$\n",
    "y(0,\\tau) = \\frac1\\tau \\int_0^\\tau f(0,s) ds = \\beta_0 + \\beta_1 \\frac{1 - e^{-\\theta_1\\tau}}{\\theta_1\\tau} + \\beta_2 \\left\\{\\frac{1 - e^{-\\theta_1 \\tau}}{\\theta_1 \\tau} - e^{-\\theta_1\\tau} \\right\\} + \\beta_3 \\left\\{\\frac{1 - e^{-\\theta_2 \\tau}}{\\theta_2 \\tau} - e^{-\\theta_2\\tau} \\right\\}\n",
    "$$\n",
    "\n",
    "where $\\theta_i = \\frac1{\\lambda_i}$ for $i=1,2$."
   ]
  },
  {
   "cell_type": "code",
   "execution_count": 12,
   "metadata": {},
   "outputs": [
    {
     "data": {
      "image/png": "[encoded data removed]",
      "text/plain": [
       "plot without title"
      ]
     },
     "metadata": {
      "image/png": {
       "height": 300,
       "width": 300
      }
     },
     "output_type": "display_data"
    }
   ],
   "source": [
    "# Svensson model\n",
    "\n",
    "# parameters\n",
    "beta0 <- 3.395144 \n",
    "beta1 <- -0.1770898 \n",
    "beta2 <- 1.409126 \n",
    "beta3 <- 2.226189 \n",
    "tau1 <- 0.6970413 \n",
    "tau2 <- 16.45029\n",
    "\n",
    "y_Sv <- function(beta0, beta1, beta2, beta3, theta1, theta2){\n",
    "    function(t) {\n",
    "        beta0 + beta1*(1 - exp(-theta1*t))/(theta1*t) + beta2*((1 - exp(-theta1*t))/theta1/t - exp(-theta1*t)) + beta3*((1 - exp(-theta2*t))/theta2/t - exp(-theta2*t)) \n",
    "    } \n",
    "}\n",
    "\n",
    "# plot the term structure\n",
    "tmp <- function(x) {y_Sv(beta0, beta1, beta2, beta3, 1/tau1, 1/tau2)(x)}\n",
    "curve(tmp, from=0, to=30, col='blue', n=101, ylab='Yield', xlab='Time to maturity')"
   ]
  },
  {
   "cell_type": "code",
   "execution_count": 7,
   "metadata": {},
   "outputs": [
    {
     "data": {
      "image/png": "[encoded data removed]",
      "text/plain": [
       "Plot with title \"Fitting Svensson yield curve\""
      ]
     },
     "metadata": {
      "image/png": {
       "height": 300,
       "width": 300
      }
     },
     "output_type": "display_data"
    }
   ],
   "source": [
    "# European Central Bank yield fitted to the Svensson model\n",
    "\n",
    "data(ECBYieldCurve)\n",
    "maturity.ECB <- c(0.25,0.5, seq(1, 30, by=1))\n",
    "A <- Svensson(ECBYieldCurve[1:10], maturity.ECB)\n",
    "Svensson.rate <- Srates(A, maturity.ECB, \"Spot\")\n",
    "\n",
    "# plot\n",
    "par(mfrow=(c(2,3)))\n",
    "for (i in 1:6){\n",
    "    plot(maturity.ECB, Svensson.rate[i], main=\"Fitting Svensson yield curve\", ylab='Yield', xlab='Time to maturity', type=\"l\", col=3)\n",
    "    lines(maturity.ECB, ECBYieldCurve[i],col=2)\n",
    "    legend(\"topleft\", legend=c(\"fitted yield curve\", \"observed yield curve\"), col=c(3,2), lty=1)\n",
    "    grid()\n",
    "}"
   ]
  },
  {
   "cell_type": "code",
   "execution_count": 8,
   "metadata": {},
   "outputs": [
    {
     "name": "stderr",
     "output_type": "stream",
     "text": [
      "Warning message:\n",
      "\"index class is Date, which does not support timezones.\n",
      "Expected 'UTC' timezone, but indexTZ is ''\"\n"
     ]
    },
    {
     "data": {
      "text/plain": [
       "             beta_0     beta_1   beta_2   beta_3      tau1     tau2\n",
       "2006-12-28 3.385202 -0.1854050 1.406634 2.171313 0.6970413 16.45029\n",
       "2007-01-01 3.355703 -0.1313352 1.366727 2.215595 0.6970413 16.45029\n",
       "2007-01-02 3.377423 -0.1429292 1.296864 2.110482 0.6970413 16.45029\n",
       "2007-01-03 3.376727 -0.1442179 1.326641 2.160294 0.6970413 16.45029\n",
       "2007-01-04 3.395144 -0.1770898 1.409126 2.226189 0.6970413 16.45029\n",
       "2007-01-07 3.381984 -0.1506970 1.380075 2.271965 0.6970413 16.45029\n",
       "2007-01-08 3.376677 -0.1305500 1.380944 2.352087 0.6970413 16.45029\n",
       "2007-01-09 3.395420 -0.1436711 1.406205 2.359818 0.6970413 16.45029\n",
       "2007-01-10 3.364390 -0.0928876 1.315719 2.515464 0.6970413 16.45029\n",
       "2007-01-11 3.416986 -0.1523288 1.306223 2.483463 0.6970413 16.45029"
      ]
     },
     "metadata": {},
     "output_type": "display_data"
    }
   ],
   "source": [
    "# fitted parameters in Svensson model \n",
    "A"
   ]
  },
  {
   "cell_type": "code",
   "execution_count": null,
   "metadata": {},
   "outputs": [],
   "source": [
    "# closer look at the 5th fitted yield curve\n",
    "plot(maturity.ECB, Svensson.rate[5,], main=\"Fitting Svensson yield curve\", ylab='Yield', xlab=c(\"Time to maturity\"), type=\"l\", col=3)\n",
    "lines(maturity.ECB, ECBYieldCurve[5,],col=2)\n",
    "legend(\"topleft\", legend=c(\"fitted yield curve\", \"observed yield curve\"), col=c(3,2), lty=1)\n",
    "grid()"
   ]
  },
  {
   "cell_type": "markdown",
   "metadata": {},
   "source": [
    "## Interest rates\n",
    "\n",
    "- spot rate or yield\n",
    "- LIBOR and forward LIBOR\n",
    "- instantaneous forward rate\n",
    "- short rate\n",
    "- swap rate"
   ]
  },
  {
   "cell_type": "markdown",
   "metadata": {},
   "source": [
    "## London InterBank Offer Rate (LIBOR)\n",
    "\n",
    "According to [this page](https://www.investopedia.com/terms/l/libor.asp) in Investopedia, \n",
    "\n",
    "- The London Interbank Offered Rate (LIBOR) is a benchmark interest rate at which major global banks lend to one another in the international interbank market for short-term loans. LIBOR serves as a globally accepted key benchmark interest rate that indicates borrowing costs between banks. The rate is calculated and published each day by the Intercontinental Exchange (ICE).\n",
    "- LIBOR is also the basis for consumer loans in countries around the world, so it impacts consumers just as much as it does financial institutions. The interest rates on various credit products such as credit cards, car loans, and adjustable rate mortgages (ARM) fluctuate based on the interbank rate. This change in rate helps determine the ease of borrowing between banks and consumers."
   ]
  },
  {
   "cell_type": "markdown",
   "metadata": {},
   "source": [
    "## Secured Overnight Financing Rate (SOFR)\n",
    "\n",
    "According to [this page](https://www.investopedia.com/secured-overnight-financing-rate-sofr-4683954) in Investopedia, \n",
    "\n",
    "- The secured overnight financing rate, or SOFR, is an influential interest rate that banks use to price U.S. dollar-denominated derivatives and loans. \n",
    "- The daily SOFR is based on transactions in the Treasury repurchase market, where investors offer banks overnight loans backed by their bond assets. \n",
    "- The New York Federal Reserve began publishing the rate in April 2018 as part of an effort to replace LIBOR, a long-standing benchmark rate used around the world.\n",
    "- Since its inception in the mid-1980s, the London interbank offered rate (LIBOR) has been the go-to interest rate to which investors and banks peg their credit agreements. Comprising five currencies, it’s determined by calculating the average interest rate at which major banks around the world borrow from one another.\n",
    "- However, after the financial crisis of 2008, regulators grew wary of overreliance on that particular benchmark. For one, LIBOR is based largely on estimates from the global banks who are surveyed and not necessarily on actual transactions.\n",
    "- Unlike LIBOR, there’s extensive trading in the Treasury repo market—roughly 1,500 times that of interbank loans as of 2018—theoretically making it a more accurate indicator of borrowing costs. In addition, it’s based on data from observable transactions rather than on estimated borrowing rates, as is sometimes the case with LIBOR.\n",
    "\n",
    "See also [the article](https://www.newyorkfed.org/arrc/sofr-transition) from Fed concerning the transition from LIBOR to SOFR."
   ]
  },
  {
   "cell_type": "markdown",
   "metadata": {},
   "source": [
    "## Products directly on interest rates \n",
    "\n",
    "- Eurodollar futures: Futures on 3-month LIBOR\n",
    "- FRA: is an agreement between counterparties that gurantees the rate borrowing a nominal sum over a certain time, starting at a certain time in the future. \n",
    "- Interest rate swap: \n",
    "- caps and floors\n",
    "\n",
    "Derivatives on interest rates include\n",
    "\n",
    "- Option on FRA\n",
    "- Option on swap, aka, swaption \n",
    "\n",
    "### Note\n",
    "For many interest derivatives, chances are the \"underlying\" is the whole term structure (yield curve), which makes the modeling of the underlyings, alongside with the associated volatilities, more involved due to the high dimensionality.  "
   ]
  },
  {
   "cell_type": "markdown",
   "metadata": {},
   "source": [
    "## Forward rate agreement (FRA) \n",
    "\n",
    "A *forward rate agreement (FRA)* is a constract at time $t < T < M$ for a loan between $T$ and $M$. The constract gives the holder a loan at time $T$ with fixed simple interest for the period $M - T$, to be paid at time $M$. The agreed upon fixed rate is called the *forward rate* for the time interval $[T, M]$. FRA is used to lock in the rate for an upcoming loan in the future. "
   ]
  },
  {
   "cell_type": "markdown",
   "metadata": {},
   "source": [
    "## Value of an FRA\n",
    "The value of an FRA with strike (simple) rate $K$ and maturity $M$ is given, by applying the no arbitrage principle, as \n",
    "\n",
    "$$\n",
    "V_K(t, T) = Z(t, T) - \\{1 + K(M - T)\\}Z(t, M),\n",
    "$$\n",
    "\n",
    "which can be regarded as the difference between the prices of a floating rate coupon bond and a fixed rate coupon bond.  \n",
    "\n",
    "If the strike rate $K$ is rendered continuous compounding, the value of an FRA becomes\n",
    "\n",
    "$$\n",
    "V_K(t, T) = Z(t, T) - e^{K(M - T)}Z(t, M).\n",
    "$$\n"
   ]
  },
  {
   "cell_type": "markdown",
   "metadata": {},
   "source": [
    "## Forward rates\n",
    "\n",
    "The (simple) forward rate $F^s(t, T, M)$ is determined by the fair rate $K$ such that the FRA has zero value at its inception. In other words, $F^s$ is the solution to the following equation for $K$\n",
    "\n",
    "$$\n",
    "V_K(t, T) = Z(t, T) - \\{1 + K(M - T)\\}Z(t, M) = 0.\n",
    "$$\n",
    "\n",
    "Thus, $F^S$ is given by the formula\n",
    "\n",
    "\\begin{eqnarray*}\n",
    "F^s(t, T, M) &:=& \\frac1{M - T} \\left\\{ \\frac{Z(t, T)}{Z(t, M)} - 1\\right\\}\n",
    "\\end{eqnarray*}\n",
    "\n",
    "which is exactly the same as the forward LIBOR $L_t[T, M]$.\n",
    "\n",
    "Likewise, the (continuous compounding) forward rate $F = F(t, T, M)$ is given by the formula\n",
    "\n",
    "\\begin{eqnarray*}\n",
    "F(t, T, M) &=& \\frac1{M - T} \\ln \\frac{Z(t, T)}{Z(t, M)}.\n",
    "\\end{eqnarray*}\n",
    "\n",
    "\n"
   ]
  },
  {
   "cell_type": "markdown",
   "metadata": {},
   "source": [
    "## Example \n",
    "\n",
    "Assume currently the ZCB bonds maturing in 6 months and 18 months are traded respectively at 98.75 and 94.18.\n",
    "Consider the case that, in 6 months, we will be taking a loan of $10,000 for a year. In order to lock in the rate, we enter an FRA. Determine the forward rate for the FRA and demonstrate that by entering an FRA we are guaranteed to lock in the rate at the forward rate. \n",
    "\n",
    "### <font color=blue>Solution </font>\n",
    "\n",
    "- The forward rate $F$ in this case is given by \n",
    "\n",
    "$$\n",
    "F = -\\ln \\frac{Z(0, 1.5)}{Z(0.5)} \\approx 4.74\\%.\n",
    "$$\n",
    "\n",
    "- There is no payment at the inception of the FRA. Assume that 6 months later the 1-year (random) yield is $y$. The payoff due at the maturity of the FRA is $\\$10,000 \\left( 1 - e^{4.74\\% - y} \\right)$. 6 months later, we loan 10,000 at the rate $y$ and at the same time deposit/loan the amount $\\$10,000 \\left( 1 - e^{4.74\\% - y} \\right)$ from the payoff of FRA at rate $y$. 12 months later, we payoff the 10,000 loan with interest of $\\$10,000 e^{y}$ and cash back/pay back the payoff from FRA with interest as $\\$10,000 \\left( 1 - e^{4.74\\% - y} \\right) e^{y}$. In summary, we load 10,000 at 6-month and pay back the load at 18-month by $\\$10,000 e^{4.74\\%}$, which is equivalent to having continuous compounding rate 4.74%."
   ]
  },
  {
   "cell_type": "code",
   "execution_count": null,
   "metadata": {},
   "outputs": [],
   "source": [
    "-log(94.18/98.75)*100\n",
    "(1 - 94.18/98.75)*100"
   ]
  },
  {
   "cell_type": "markdown",
   "metadata": {},
   "source": [
    "## Forward rate\n",
    "\n",
    "The forward rate $F(t, T, M)$ must satisfies\n",
    "$$\n",
    "e^{-(M - T)F(t, T, M)} Z(t, T) = Z(t, M) \\quad \\Longleftrightarrow \\quad\n",
    "F(t, T, M) = -\\frac1{M - T} \\ln \\frac{Z(t, M)}{Z(t, T)}.\n",
    "$$\n",
    "\n",
    "The instantaneous forward rate is defined by the limit as $T \\to M^-$ as \n",
    "\n",
    "$$\n",
    "f(t, M) = \\lim_{T \\to M^-} F(t, T, M) = - \\frac{d}{dM} \\ln Z(t, M). \n",
    "$$\n",
    "\n",
    "### Note\n",
    "The following relationships among the forward rates and yield hold.\n",
    "- $y(t, M) = F(t, t, M)$\n",
    "- $Z(t, M) = e^{-\\int_t^M f(t, s)ds}$\n",
    "- $F(t, T, M) = \\frac1{M - T}\\int_T^M f(t, s)ds$\n",
    "- $y(t, M) = \\frac1{M - t}\\int_t^M f(t, s)ds \\quad \\Longleftrightarrow \\quad f(t, M) = y(t, M) + (M - t) \\p_M y(t, M)$\n",
    "\n",
    "### Note \n",
    "- If $t$ is the current time, then all the quantities above are known/deterministic at time $t$, assuming the knowledge of full yield curve or equivalently the prices of ZCBs at all maturities. However, the quantities become random for any $s > t$. \n",
    "- Interest rate models that model the evoluation of forward rates are called *forward rate models*. "
   ]
  },
  {
   "cell_type": "markdown",
   "metadata": {},
   "source": [
    "## Short rate\n",
    "\n",
    "Short rate $r(t)$ is defined by $r(t):= \\lim_{h \\to 0^+} f(t, t+h) = f(t, t)$. Note that we have\n",
    "- $Z(t, M) = \\Etof{e^{-\\int_t^M r(s)ds}}$, where the expectation is under risk neutral probability\n",
    "- $f(t, M) = -\\frac{d}{dM} \\ln \\Etof{e^{-\\int_t^M r(s)ds}} = \\frac1{Z(t, M)}\\Etof{r(M)e^{-\\int_t^M r(s)ds}} = \\E_t^F[r(M)]$, where the expectation in the last equality is under the equivalent martingale measure using $Z(t, M)$ as the numeraire. In this sense, instantaneous forward rate $f(t, T)$ is the (conditional) expectation of short rate at $T$ under equivalent martingale measure using the ZCB $Z(t, T)$ as numeraire. \n",
    "\n",
    "### Note\n",
    "- Likewise, the short rate is random if $s > t$.\n",
    "- Interest rate models that model the evoluation of short rate are called *short rate models*.  "
   ]
  },
  {
   "cell_type": "markdown",
   "metadata": {},
   "source": [
    "## Interest rate swap\n",
    "\n",
    "From the [Wikipage](https://en.wikipedia.org/wiki/Interest_rate_swap):\n",
    "\n",
    "- In finance, an interest rate swap (IRS) is an interest rate derivative (IRD). It involves exchange of interest rates between two parties. In particular, it is a linear IRD and one of the most liquid, benchmark products. It has associations with forward rate agreements (FRAs) and with zero coupon swaps (ZCSs).\n",
    "\n",
    "- An interest rate swap's (IRS's) effective description is a derivative contract, agreed between two counterparties, which specifies the nature of an exchange of payments benchmarked against an interest rate index. \n",
    "\n",
    "- The most common IRS is a *fixed* for *floating* swap, whereby one party will make payments to the other based on an initially agreed fixed rate of interest, to receive back payments based on a floating interest rate index. \n",
    "\n",
    "- Each of these series of payments is termed a 'leg', so a typical IRS has both a *fixed leg* and a *floating leg*. The floating index is commonly an interbank offered rate (IBOR) of specific tenor in the appropriate currency of the IRS, for example LIBOR in USD, GBP, EURIBOR in EUR or STIBOR in SEK.\n",
    "\n",
    "- To completely determine any IRS a number of parameters must be specified for each leg; the notional principal amount (or varying notional schedule), the start and end dates and date scheduling, the fixed rate, the chosen floating interest rate index tenor, and day count conventions for interest calculations.\n"
   ]
  },
  {
   "cell_type": "markdown",
   "metadata": {},
   "source": [
    "## Value of a swap contract\n",
    "\n",
    "Let $t < T = T_0 < T_1 < \\cdots < T_n = M$, where $T_0$ denotes the inception of the swap contract and the $T_i$'s the swap dates.\n",
    "\n",
    "The value $V_K(t, T, M)$ of a (forward start) interest swap with fixed (simple) rate $K$ is given, by applying the no arbitrage principle, as \n",
    "\n",
    "$$\n",
    "V_K(t, T, M) = Z(t, T) - \\left\\{\\sum_{i=1}^n K \\Delta T_i Z(t, T_i) + Z(t, T_n) \\right\\},  \n",
    "$$\n",
    "\n",
    "where $\\Delta T_i = T_i - T_{i-1}$ for $i = 1, \\cdots, n$. \n",
    "\n",
    "Like in the case of an FRA, the value of a swap can be regarded as the difference between the prices of a floating rate coupon bond and a fixed rate coupon bond."
   ]
  },
  {
   "cell_type": "markdown",
   "metadata": {},
   "source": [
    "## Swap rate\n",
    "\n",
    "Swap rate is the agreed upon rate in an interest swap that incurs no initial payment at the inception of the swap. The fixed leg pays with fixed simple rate $s$ whereas the floating leg pays with floating simple (forward) rates, the payments are netted. The (forward) swap rate $s$ is usually quoted as a simple rate and is calculated according to the following formula\n",
    "\n",
    "$$\n",
    "s(t, T, M) = \\frac{Z(t, T) - Z(t, M)}{\\sum_{i=1}^n Z(t, T_i) \\Delta T_i}.\n",
    "$$\n",
    "\n",
    "where the $T_i$'s are the settlement dates, $\\Delta T_i := T_i - T_{i-1}$, $T_0 = T$, and $T_n = M$. The denominator is also referred to as *PV01* or the *swap numeraire*. Such a swap is termed as a $T$ by $M$ or a $T$ into $M - T$ forward start swap. \n",
    "\n",
    "Alternatively, one can reconcile the swap rate as a weighted average of the simple forward rates $F^s$ as \n",
    "\n",
    "$$\n",
    "s(t, T, M) = \\sum_{i=1}^n w_i F^s(t, T_{i-1}, T_i),\n",
    "$$\n",
    "\n",
    "where $w_i = \\frac{Z(t, T_i) \\Delta T_i}{\\sum_j Z(t, T_j)\\Delta T_j}$."
   ]
  },
  {
   "cell_type": "markdown",
   "metadata": {},
   "source": [
    "## Example\n",
    "\n",
    "Assume currently the yield curve $y$ is given by \n",
    "\n",
    "$$\n",
    "y(0, t) = 0.0525 + \\frac{\\ln(1 + 2 t)}{200}.\n",
    "$$\n",
    "\n",
    "1. Determine the prices of the ZCBs $Z(0, T_k)$, where $T_k = \\frac14 + \\frac k2$ for $k = 0, \\cdots, 6$.\n",
    "2. Determine the simple forward rates $F^s(0, T_{k-1}, T_k)$, for $k = 1, \\cdots, 6$.\n",
    "3. Determine the swap rate $s$ for the semiannual interest swap for 3 years, starting in 3 months.     "
   ]
  },
  {
   "cell_type": "code",
   "execution_count": 16,
   "metadata": {},
   "outputs": [
    {
     "data": {
      "text/html": [
       "<table>\n",
       "<caption>A data.frame: 7 × 1</caption>\n",
       "<thead>\n",
       "\t<tr><th scope=col>Z</th></tr>\n",
       "\t<tr><th scope=col>&lt;dbl&gt;</th></tr>\n",
       "</thead>\n",
       "<tbody>\n",
       "\t<tr><td>0.9864607</td></tr>\n",
       "\t<tr><td>0.9580924</td></tr>\n",
       "\t<tr><td>0.9291782</td></tr>\n",
       "\t<tr><td>0.9002924</td></tr>\n",
       "\t<tr><td>0.8717057</td></tr>\n",
       "\t<tr><td>0.8435701</td></tr>\n",
       "\t<tr><td>0.8159786</td></tr>\n",
       "</tbody>\n",
       "</table>\n"
      ],
      "text/latex": [
       "A data.frame: 7 × 1\n",
       "\\begin{tabular}{l}\n",
       " Z\\\\\n",
       " <dbl>\\\\\n",
       "\\hline\n",
       "\t 0.9864607\\\\\n",
       "\t 0.9580924\\\\\n",
       "\t 0.9291782\\\\\n",
       "\t 0.9002924\\\\\n",
       "\t 0.8717057\\\\\n",
       "\t 0.8435701\\\\\n",
       "\t 0.8159786\\\\\n",
       "\\end{tabular}\n"
      ],
      "text/markdown": [
       "\n",
       "A data.frame: 7 × 1\n",
       "\n",
       "| Z &lt;dbl&gt; |\n",
       "|---|\n",
       "| 0.9864607 |\n",
       "| 0.9580924 |\n",
       "| 0.9291782 |\n",
       "| 0.9002924 |\n",
       "| 0.8717057 |\n",
       "| 0.8435701 |\n",
       "| 0.8159786 |\n",
       "\n"
      ],
      "text/plain": [
       "  Z        \n",
       "1 0.9864607\n",
       "2 0.9580924\n",
       "3 0.9291782\n",
       "4 0.9002924\n",
       "5 0.8717057\n",
       "6 0.8435701\n",
       "7 0.8159786"
      ]
     },
     "metadata": {},
     "output_type": "display_data"
    },
    {
     "data": {
      "text/html": [
       "<table>\n",
       "<caption>A data.frame: 6 × 1</caption>\n",
       "<thead>\n",
       "\t<tr><th scope=col>forwardRates</th></tr>\n",
       "\t<tr><th scope=col>&lt;dbl&gt;</th></tr>\n",
       "</thead>\n",
       "<tbody>\n",
       "\t<tr><td>0.05921829</td></tr>\n",
       "\t<tr><td>0.06223606</td></tr>\n",
       "\t<tr><td>0.06416975</td></tr>\n",
       "\t<tr><td>0.06558797</td></tr>\n",
       "\t<tr><td>0.06670602</td></tr>\n",
       "\t<tr><td>0.06762804</td></tr>\n",
       "</tbody>\n",
       "</table>\n"
      ],
      "text/latex": [
       "A data.frame: 6 × 1\n",
       "\\begin{tabular}{l}\n",
       " forwardRates\\\\\n",
       " <dbl>\\\\\n",
       "\\hline\n",
       "\t 0.05921829\\\\\n",
       "\t 0.06223606\\\\\n",
       "\t 0.06416975\\\\\n",
       "\t 0.06558797\\\\\n",
       "\t 0.06670602\\\\\n",
       "\t 0.06762804\\\\\n",
       "\\end{tabular}\n"
      ],
      "text/markdown": [
       "\n",
       "A data.frame: 6 × 1\n",
       "\n",
       "| forwardRates &lt;dbl&gt; |\n",
       "|---|\n",
       "| 0.05921829 |\n",
       "| 0.06223606 |\n",
       "| 0.06416975 |\n",
       "| 0.06558797 |\n",
       "| 0.06670602 |\n",
       "| 0.06762804 |\n",
       "\n"
      ],
      "text/plain": [
       "  forwardRates\n",
       "1 0.05921829  \n",
       "2 0.06223606  \n",
       "3 0.06416975  \n",
       "4 0.06558797  \n",
       "5 0.06670602  \n",
       "6 0.06762804  "
      ]
     },
     "metadata": {},
     "output_type": "display_data"
    },
    {
     "data": {
      "text/html": [
       "0.0641052591244544"
      ],
      "text/latex": [
       "0.0641052591244544"
      ],
      "text/markdown": [
       "0.0641052591244544"
      ],
      "text/plain": [
       "[1] 0.06410526"
      ]
     },
     "metadata": {},
     "output_type": "display_data"
    },
    {
     "data": {
      "text/html": [
       "0.0641052591244545"
      ],
      "text/latex": [
       "0.0641052591244545"
      ],
      "text/markdown": [
       "0.0641052591244545"
      ],
      "text/plain": [
       "[1] 0.06410526"
      ]
     },
     "metadata": {},
     "output_type": "display_data"
    }
   ],
   "source": [
    "# yield curve\n",
    "y <- function(t) {0.0525 + log(1 + 2*t)/200}\n",
    "\n",
    "# bond prices\n",
    "n <- 6\n",
    "k <- seq(0, n)\n",
    "t <- 1/4\n",
    "Ts <- t + k/2\n",
    "Z <- exp(-Ts*y(Ts))\n",
    "data.frame(Z)\n",
    "\n",
    "# simple forward rates\n",
    "dTs <- diff(Ts)\n",
    "F <- (exp(-diff(log(Z))) - 1)/dTs\n",
    "data.frame(forwardRates = F) \n",
    "\n",
    "# swap rate\n",
    "w <- Z[-1]*dTs/sum(Z[-1]*dTs)\n",
    "s <- sum(w*F)\n",
    "s\n",
    "\n",
    "# or equivalently\n",
    "(Z[1] - Z[n+1])/sum(Z[-1]*dTs)"
   ]
  },
  {
   "cell_type": "code",
   "execution_count": 14,
   "metadata": {},
   "outputs": [
    {
     "data": {
      "text/html": [
       "<style>\n",
       ".list-inline {list-style: none; margin:0; padding: 0}\n",
       ".list-inline>li {display: inline-block}\n",
       ".list-inline>li:not(:last-child)::after {content: \"\\00b7\"; padding: 0 .5ex}\n",
       "</style>\n",
       "<ol class=list-inline><li>0.986460661269896</li><li>0.95809236596701</li><li>0.929178172914231</li><li>0.900292402081577</li><li>0.871705696514413</li><li>0.843570095285561</li><li>0.815978580227459</li></ol>\n"
      ],
      "text/latex": [
       "\\begin{enumerate*}\n",
       "\\item 0.986460661269896\n",
       "\\item 0.95809236596701\n",
       "\\item 0.929178172914231\n",
       "\\item 0.900292402081577\n",
       "\\item 0.871705696514413\n",
       "\\item 0.843570095285561\n",
       "\\item 0.815978580227459\n",
       "\\end{enumerate*}\n"
      ],
      "text/markdown": [
       "1. 0.986460661269896\n",
       "2. 0.95809236596701\n",
       "3. 0.929178172914231\n",
       "4. 0.900292402081577\n",
       "5. 0.871705696514413\n",
       "6. 0.843570095285561\n",
       "7. 0.815978580227459\n",
       "\n",
       "\n"
      ],
      "text/plain": [
       "[1] 0.9864607 0.9580924 0.9291782 0.9002924 0.8717057 0.8435701 0.8159786"
      ]
     },
     "metadata": {},
     "output_type": "display_data"
    }
   ],
   "source": [
    "Z"
   ]
  },
  {
   "cell_type": "code",
   "execution_count": 15,
   "metadata": {},
   "outputs": [
    {
     "data": {
      "text/html": [
       "<style>\n",
       ".list-inline {list-style: none; margin:0; padding: 0}\n",
       ".list-inline>li {display: inline-block}\n",
       ".list-inline>li:not(:last-child)::after {content: \"\\00b7\"; padding: 0 .5ex}\n",
       "</style>\n",
       "<ol class=list-inline><li>0.95809236596701</li><li>0.929178172914231</li><li>0.900292402081577</li><li>0.871705696514413</li><li>0.843570095285561</li><li>0.815978580227459</li></ol>\n"
      ],
      "text/latex": [
       "\\begin{enumerate*}\n",
       "\\item 0.95809236596701\n",
       "\\item 0.929178172914231\n",
       "\\item 0.900292402081577\n",
       "\\item 0.871705696514413\n",
       "\\item 0.843570095285561\n",
       "\\item 0.815978580227459\n",
       "\\end{enumerate*}\n"
      ],
      "text/markdown": [
       "1. 0.95809236596701\n",
       "2. 0.929178172914231\n",
       "3. 0.900292402081577\n",
       "4. 0.871705696514413\n",
       "5. 0.843570095285561\n",
       "6. 0.815978580227459\n",
       "\n",
       "\n"
      ],
      "text/plain": [
       "[1] 0.9580924 0.9291782 0.9002924 0.8717057 0.8435701 0.8159786"
      ]
     },
     "metadata": {},
     "output_type": "display_data"
    }
   ],
   "source": [
    "Z[-1]"
   ]
  },
  {
   "cell_type": "code",
   "execution_count": null,
   "metadata": {},
   "outputs": [],
   "source": []
  }
 ],
 "metadata": {
  "celltoolbar": "Slideshow",
  "kernelspec": {
   "display_name": "R",
   "language": "R",
   "name": "ir"
  },
  "language_info": {
   "codemirror_mode": "r",
   "file_extension": ".r",
   "mimetype": "text/x-r-source",
   "name": "R",
   "pygments_lexer": "r",
   "version": "3.6.1"
  }
 },
 "nbformat": 4,
 "nbformat_minor": 1
}
