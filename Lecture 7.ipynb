{
 "cells": [
  {
   "cell_type": "markdown",
   "metadata": {
    "slideshow": {
     "slide_type": "slide"
    }
   },
   "source": [
    "# Topics in Quantitative Finance, Summer 2020 \n",
    "\n",
    "## Lecture 7: Optimal order execution\n",
    "\n",
    "### Tai-Ho Wang (王 太 和)   \n",
    "    \n",
    "<h2><img src=\"BCstacked_blk.jpg\" align = \"center\" height=50 width=190></h2>\n",
    "\n",
    "$$\n",
    "\\newcommand{\\bea}{\\begin{eqnarray}}\n",
    "\\newcommand{\\eea}{\\end{eqnarray}}\n",
    "\\newcommand{\\supp}{\\mathrm{supp}}\n",
    "\\newcommand{\\F}{\\mathcal{F} }\n",
    "\\newcommand{\\cF}{\\mathcal{F} }\n",
    "\\newcommand{\\cG}{\\mathcal{G} }\n",
    "\\newcommand{\\E}{\\mathbb{E} }\n",
    "\\newcommand{\\Eof}[1]{\\mathbb{E}\\left[ #1 \\right]}\n",
    "\\def\\Cov{{ \\mbox{Cov} }}\n",
    "\\def\\Var{{ \\mbox{Var} }}\n",
    "\\newcommand{\\1}{\\mathbf{1} }\n",
    "\\newcommand{\\p}{\\partial}\n",
    "\\newcommand{\\PP}{\\mathbb{P} }\n",
    "\\newcommand{\\Pof}[1]{\\mathbb{P}\\left[ #1 \\right]}\n",
    "\\newcommand{\\QQ}{\\mathbb{Q} }\n",
    "\\newcommand{\\R}{\\mathbb{R} }\n",
    "\\newcommand{\\DD}{\\mathbb{D} }\n",
    "\\newcommand{\\HH}{\\mathbb{H} }\n",
    "\\newcommand{\\spn}{\\mathrm{span} }\n",
    "\\newcommand{\\cov}{\\mathrm{cov} }\n",
    "\\newcommand{\\HS}{\\mathcal{L}_{\\mathrm{HS}} }\n",
    "\\newcommand{\\Hess}{\\mathrm{Hess} }\n",
    "\\newcommand{\\trace}{\\mathrm{trace} }\n",
    "\\newcommand{\\LL}{\\mathcal{L} }\n",
    "\\newcommand{\\s}{\\mathcal{S} }\n",
    "\\newcommand{\\ee}{\\mathcal{E} }\n",
    "\\newcommand{\\ff}{\\mathcal{F} }\n",
    "\\newcommand{\\hh}{\\mathcal{H} }\n",
    "\\newcommand{\\bb}{\\mathcal{B} }\n",
    "\\newcommand{\\dd}{\\mathcal{D} }\n",
    "\\newcommand{\\g}{\\mathcal{G} }\n",
    "\\newcommand{\\half}{\\frac{1}{2} }\n",
    "\\newcommand{\\T}{\\mathcal{T} }\n",
    "\\newcommand{\\bit}{\\begin{itemize}}\n",
    "\\newcommand{\\eit}{\\end{itemize}}\n",
    "\\newcommand{\\beq}{\\begin{equation}}\n",
    "\\newcommand{\\eeq}{\\end{equation}}\n",
    "\\newcommand{\\tr}{\\mbox{tr}}\n",
    "\\newcommand{\\underbar}{\\underline}\n",
    "$$"
   ]
  },
  {
   "cell_type": "markdown",
   "metadata": {
    "slideshow": {
     "slide_type": "slide"
    }
   },
   "source": [
    "## Agenda\n",
    "\n",
    "- Market impact of meta orders\n",
    "- Empirical market impact estimates\n",
    "- No price manipulation and allowable models\n",
    "- The Euler-Lagrange equation\n",
    "- Review of the Hamilton-Jacobi-Bellman equation\n",
    "- The Almgren-Chriss optimal liquidation strategy\n",
    "- Transient impact models\n",
    "- Closed-form examples of optimal strategies\n"
   ]
  },
  {
   "cell_type": "markdown",
   "metadata": {},
   "source": [
    "### Overview of execution algorithm design\n",
    "\n",
    "Typically, an execution algorithm has three layers:\n",
    "\n",
    "-   The macrotrader\n",
    "    -   This highest level layer decides how to slice the order: when\n",
    "        the algorithm should trade, in what size and for roughly how\n",
    "        long.\n",
    "\n",
    "-   The microtrader\n",
    "    -   Given a slice of the order to trade (a child order), this level\n",
    "        decides whether to place market or limit orders and at what\n",
    "        price level(s).\n",
    "\n",
    "-   The smart order router\n",
    "    -   Given a limit or market order, which venue should this order be\n",
    "        sent to?\n",
    "\n",
    "In this lecture, we focus on the highest level of the algorithm: How to slice the order."
   ]
  },
  {
   "cell_type": "markdown",
   "metadata": {
    "slideshow": {
     "slide_type": "slide"
    }
   },
   "source": [
    "### Common algorithms\n",
    "\n",
    "-   VWAP “Volume weighted average price”\n",
    "    -   Trades at constant rate in volume time\n",
    "    -   Variants of VWAP are still the most popular algos.\n",
    "\n",
    "\n",
    "-   POV “Percentage of volume”\n",
    "    -   Another variant of VWAP    \n",
    "    -   Trades at a certain participant rate of market activity\n",
    "\n",
    "\n",
    "-   TWAP “Time weighted average price”\n",
    "    -   Trades at constant rate in wall clock time\n",
    "\n",
    "\n",
    "-   IS “Implementation shortfall”\n",
    "    -   Trades faster at the beginning and more slowly at the end\n",
    "    -   The idea is to balance the risk of a worse price (which is\n",
    "        proportional to quantity remaining) against the benefit of\n",
    "        better execution from being more patient.\n",
    "\n"
   ]
  },
  {
   "cell_type": "markdown",
   "metadata": {
    "slideshow": {
     "slide_type": "slide"
    }
   },
   "source": [
    "### Terminology\n",
    "\n",
    "-   By <span>*metaorder*</span>, we mean an order that is sufficiently\n",
    "    large that it cannot be filled immediately without eating into the\n",
    "    order book.\n",
    "    -   Nowadays, this means just about any order.\n",
    "    -   Such orders need to be split.\n",
    "\n",
    "\n",
    "-   We refer to each component of a metaorder as a <span>*child\n",
    "    order*</span>.\n",
    "\n",
    "\n",
    "-   By the <span>*metaorder impact profile*</span> (or just\n",
    "    <span>*impact profile*</span>), we mean the average path of the\n",
    "    stock price during and after execution of a metaorder.\n",
    "\n",
    "\n",
    "-   <span>*Completion*</span> refers to the timestamp of the last child\n",
    "    order of a metaorder.\n",
    "\n"
   ]
  },
  {
   "cell_type": "markdown",
   "metadata": {
    "slideshow": {
     "slide_type": "slide"
    }
   },
   "source": [
    "### Schematic of the meta buy order impact profile\n",
    "\n",
    "<h2><img src=\"http://mfe.baruch.cuny.edu/wp-content/uploads/2015/04/ShapiroPlot.png\" align = \"center\" width=500></h2>\n",
    "Figure 1: The metaorder impact profile"
   ]
  },
  {
   "cell_type": "markdown",
   "metadata": {
    "slideshow": {
     "slide_type": "slide"
    }
   },
   "source": [
    "### The impact profile\n",
    "\n",
    "- When a buy metaorder of length $T$ is sent, its immediate effect is to move the price upwards (to $S_T$ say).\n",
    "- After completion, the price reverts to some price $S_{\\infty}$ (which may be the starting price $S_0$).\n",
    "- Market impact then has two components: transient and permanent.\n",
    "- Knowledge of the metaorder impact profile is key to the derivation of optimal execution strategies.\n",
    "\n"
   ]
  },
  {
   "cell_type": "markdown",
   "metadata": {
    "slideshow": {
     "slide_type": "slide"
    }
   },
   "source": [
    "### The square-root formula for market impact\n",
    "\n",
    "-   For many years, traders have used the simple sigma-root-liquidity\n",
    "    model described for example by Grinold and Kahn in 1994.\n",
    "\n",
    "\n",
    "-   Software incorporating this model includes:\n",
    "    -   Salomon Brothers, StockFacts Pro since around 1991\n",
    "    -   Barra, Market Impact Model since around 1998\n",
    "    -   Bloomberg, TCA function since 2005\n",
    "\n",
    "\n",
    "-   The model is always of the rough form\n",
    "    \n",
    "    $$\\Delta P = \\text{Spread cost} +\\alpha\\,\\sigma\\,\\sqrt{\\frac Q V}$$\n",
    "    \n",
    "    where $\\sigma$ is daily dollar volatility, $V$ is daily volume, $Q$ is the\n",
    "    number of shares to be traded and $\\alpha$ is a constant pre-factor\n",
    "    of order one.\n",
    "\n"
   ]
  },
  {
   "cell_type": "markdown",
   "metadata": {
    "slideshow": {
     "slide_type": "slide"
    }
   },
   "source": [
    "### Empirical question\n",
    "\n",
    "Traders and trading software have been using the square-root formula\n",
    "to provide a pre-trade estimate of market impact for a long time. \n",
    "Is the square-root formula empirically verified?\n",
    "\n"
   ]
  },
  {
   "cell_type": "markdown",
   "metadata": {
    "slideshow": {
     "slide_type": "slide"
    }
   },
   "source": [
    "### Impact of proprietary metaorders (from Tóth et al.)\n",
    "\n",
    "<a name=\"pic3\"></a>\n",
    "<h2><img src=\"http://mfe.baruch.cuny.edu/wp-content/uploads/2015/04/TothFigure1.png\" align = \"center\" width=600></h2>\n",
    "Figure 3: Log-log plot of the volatility adjusted price impact $\\Delta P/\\sigma$ vs the ratio $Q/V$"
   ]
  },
  {
   "cell_type": "markdown",
   "metadata": {
    "slideshow": {
     "slide_type": "slide"
    }
   },
   "source": [
    "### Notes on [Figure 3](#pic3)\n",
    "\n",
    "-   In [Figure 3](#pic3) which is taken from [Tóth et al.]<sup id=\"cite_ref-Toth\" class=\"reference\"><a href=\"#cite_note-Toth\"><span>[</span>12<span>]</span></a></sup>, we see the impact of\n",
    "    metaorders for CFM$^1$ proprietary trades on futures markets, in the\n",
    "    period June 2007 to December 2010.\n",
    "\n",
    "    -   Impact is measured as the average execution shortfall of a\n",
    "        meta-order of size $Q$.\n",
    "\n",
    "    -   The sample studied contained nearly 500,000 trades.\n",
    "\n",
    "\n",
    "-   We see that the square-root market impact formula is verified\n",
    "    empirically for meta-orders with a range of sizes spanning two to\n",
    "    three orders of magnitude!\n",
    "\n",
    "-------------------\n",
    "$^1$Capital Fund Management (CFM) is a large Paris-based hedge fund."
   ]
  },
  {
   "cell_type": "markdown",
   "metadata": {
    "slideshow": {
     "slide_type": "slide"
    }
   },
   "source": [
    "### An explanation for square-root impact of meta orders\n",
    "\n",
    "-   [Tóth et al.]<sup id=\"cite_ref-Toth\" class=\"reference\"><a href=\"#cite_note-Toth\"><span>[</span>12<span>]</span></a></sup> present a potential explanation of the square-root market\n",
    "    impact formula.\n",
    "\n",
    "\n",
    "-   The visible order book represents a supply and demand profile that\n",
    "    is only a small fraction of the <span>*latent*</span> supply and\n",
    "    demand.\n",
    "\n",
    "\n",
    "-   If latent supply and demand were linear around the mid-quote, this\n",
    "    could explain the square-root law.\n",
    "\n",
    "\n",
    "-   That is, if $\\rho(u)$ is the latent demand profile, the change\n",
    "    $\\Delta P$ in the price of the underlying due to an order of size\n",
    "    $Q$ should satisfy \n",
    "    \n",
    "    $$\\int_0^{\\Delta P}\\,\\rho(u)\\,du \\sim Q.$$ \n",
    "    \n",
    "    If\n",
    "    $\\rho(u) \\sim u$ then we have $\\Delta P^2 \\sim Q$ which is the\n",
    "    square-root law.\n",
    "\n"
   ]
  },
  {
   "cell_type": "markdown",
   "metadata": {
    "slideshow": {
     "slide_type": "slide"
    }
   },
   "source": [
    "### Path of the stock price during execution (from Moro et al.)\n",
    "<h2><img src=\"http://mfe.baruch.cuny.edu/wp-content/uploads/2015/04/Figure5.png\" align = \"center\" width=400></h2>"
   ]
  },
  {
   "cell_type": "markdown",
   "metadata": {
    "slideshow": {
     "slide_type": "slide"
    }
   },
   "source": [
    "### Empirically observed stock price path\n",
    "\n",
    "From the preceding figures, we see that\n",
    "\n",
    "-   There is reversion of the stock price after completion of the order.\n",
    "\n",
    "-   Some component of the market impact of the meta order appears to be\n",
    "    permanent.\n",
    "\n",
    "-   The path of the price prior to completion looks like a power law.\n",
    "\n",
    "    -   From [Moro et al.]<sup id=\"cite_ref-Moro\" class=\"reference\"><a href=\"#cite_note-Moro\"><span>[</span>9<span>]</span></a></sup>\n",
    "\n",
    "        \\begin{eqnarray*}\n",
    "        m_t-m_0 &\\approx&  (4.28 \\pm 0.21) \\,\\left(\\frac{t}{T}\\right)^{0.71 \\pm 0.03 }\\text{ (BME) } \\\\\n",
    "        m_t-m_0 &\\approx&  (2.13 \\pm 0.05) \\,\\left(\\frac{t}{T}\\right)^{0.62 \\pm 0.02}\\text{ (LSE) } \\end{eqnarray*}\n",
    "\n",
    "        where $T$ is the duration of the meta order.\n",
    "\n"
   ]
  },
  {
   "cell_type": "markdown",
   "metadata": {
    "slideshow": {
     "slide_type": "slide"
    }
   },
   "source": [
    "### Average price dynamics during meta order execution\n",
    "\n",
    "- We now turn to modeling the dynamics of the stock price during meta order execution.\n",
    "\n",
    "\n",
    "- It turns out (see [Gatheral]<sup id=\"cite_ref-Gatheral\" class=\"reference\"><a href=\"#cite_note-Gatheral\">[6]</a></sup>) that some choices of stock price dynamics may admit price manipulation.\n",
    "    - For example, square root price impact with exponential decay admits price manipulation.\n",
    "\n",
    "\n",
    "- In such cases, a round-trip trade can generate cash on average.\n",
    "    - You would want to repeat such a trade over and over.\n",
    "    - There would be no optimal strategy.\n",
    "\n"
   ]
  },
  {
   "cell_type": "markdown",
   "metadata": {
    "slideshow": {
     "slide_type": "slide"
    }
   },
   "source": [
    "### Price impact and slippage\n",
    "\n",
    "- The cost of trading can be decomposed into two components:\n",
    "    - The impact of our trading on the market price (the mid-price for example).\n",
    "        - We refer to this effect as *price impact*.\n",
    "\n",
    "    - Frictions such as effective bid-ask spread that affect only our execution price.\n",
    "        - We refer to this effect as *slippage*. \n",
    "\n",
    "\n",
    "- In what follows, we will neglect slippage.\n",
    "    - The inequality relationships we derive will all be weakened in practice to the extent that slippage becomes important.\n",
    "\n"
   ]
  },
  {
   "cell_type": "markdown",
   "metadata": {
    "slideshow": {
     "slide_type": "slide"
    }
   },
   "source": [
    "### The principle of No Price Manipulation\n",
    "\n",
    "A trading strategy $\\Pi=\\{x_t\\}$ is a *round-trip trade* if\n",
    "\n",
    "$$\\int_0^T\\,{\\dot x}_t\\,dt = x_T - x_0 = 0$$\n",
    "\n",
    "We define a *price manipulation* to be a round-trip trade $\\Pi$ whose\n",
    "expected cost $C[\\Pi]$ is negative.\n",
    "\n",
    "#### <font color=\"red\"> The principle of no price manipulation \n",
    "\n",
    "Price manipulation is not possible.</font>\n",
    "\n",
    "\n",
    "#### <font color=blue>Corollary</font>\n",
    "<font color=blue> Pump and dump schemes cannot make money on average. </font>"
   ]
  },
  {
   "cell_type": "markdown",
   "metadata": {
    "slideshow": {
     "slide_type": "slide"
    }
   },
   "source": [
    "### Pump and Dump Schemes\n",
    "\n",
    "(From http://www.sec.gov/answers/pumpdump.htm)\n",
    "\n",
    "#### Definition\n",
    "“Pump and dump” schemes, also known as “hype and dump manipulation”,\n",
    "involve the touting of a company’s stock (typically microcap companies)\n",
    "through false and misleading statements to the marketplace. After\n",
    "pumping the stock, fraudsters make huge profits by selling their cheap\n",
    "stock into the market.\n",
    "\n"
   ]
  },
  {
   "cell_type": "markdown",
   "metadata": {},
   "source": [
    "### Statement of the problem on optimal execution\n",
    "\n",
    "-   Given a model for the evolution of the stock price, we would\n",
    "    like to find an optimal strategy for trading stock, the strategy\n",
    "    that minimizes some cost function over all permissible strategies.\n",
    "    \n",
    "    - We will specialize to the case of stock liquidation where the initial position $x_0=X$ and the final position $x_T=0$.\n",
    "\n",
    "\n",
    "-   A *deterministic* strategy is one determined in advance of trading.\n",
    "\n",
    "-   A *dynamic* or *adapted* strategy is one that depends on the\n",
    "    state of the market during execution of the order, *i.e.* on the\n",
    "    stock price.\n",
    "\n",
    "-   It will turn out that in many models, a statically optimal strategy is also dynamically optimal."
   ]
  },
  {
   "cell_type": "markdown",
   "metadata": {},
   "source": [
    "### Variational problem \n",
    "\n",
    "Suppose that the strategy $x_t$ minimizes the cost functional\n",
    "\n",
    "$$C [x,\\dot x]=\\int_0^T\\,L(t,x_t,\\dot x_t)\\,dt$$ \n",
    "\n",
    "with boundary conditions $x_0=X$, $x_T=0$ (assume we are liquidating $X$ shares). \n",
    "\n",
    "Let $\\varphi$ be a perturbation with $\\varphi(0)=\\varphi(T)=0$.\n",
    "The first order criterion for optimal strategy (if there exists one) is\n",
    "\n",
    "$$\\left.\\frac{d}{d\\epsilon}\\right|_{\\epsilon=0}C[x+\\epsilon\\,\\varphi,\\dot x + \\epsilon\\,\\dot \\varphi]=0.$$"
   ]
  },
  {
   "cell_type": "markdown",
   "metadata": {},
   "source": [
    "### The Euler-Lagrange equation\n",
    "\n",
    "Computing this derivative explicitly (suppressing explicit dependence on\n",
    "$t$),\n",
    "\n",
    "\\begin{eqnarray*}\n",
    "\\left.\\frac{d}{d\\epsilon}\\right|_{\\epsilon=0}C &=& \\int_0^T\\,\\left\\{\\frac{\\partial L}{\\partial x}\\,\\varphi+\\frac{\\partial L}{\\partial\\dot x}\\,\\dot \\varphi\\right\\}\\,dt \\\\\n",
    "&=& \\int_0^T\\,\\left\\{\\frac{\\partial L}{\\partial x}\\,\\varphi - \\int_0^T \\frac{d}{dt}\\frac{\\partial L}{\\partial\\dot x}\\, \\varphi\\right\\}\\,dt + \\left.\\frac{\\partial L}{\\partial\\dot x}\\,\\varphi\\right|_{t=0}^T  \\quad (\\mbox{by applying integration by partys}) \\\\\n",
    "&=& \\int_0^T\\,\\left\\{\\frac{\\partial L}{\\partial x}-\\frac{\\partial}{\\partial t}\\frac{\\partial L}{\\partial\\dot x}\\right\\}\\,\\varphi\\,dt \\quad (\\mbox{since } \\varphi(0) = \\varphi(T) = 0)\n",
    "\\end{eqnarray*}\n",
    "\n",
    "Since this must hold for any perturbation $\\varphi$ with\n",
    "$\\varphi(0)=\\varphi(T)=0$, we deduce\n",
    "\n",
    "\n",
    "#### <font color=\"blue\">The Euler-Lagrange equation\n",
    "$$\\frac{\\partial}{\\partial t}\\,\\left(\\frac{\\partial L}{\\partial {\\dot x} }\\right)-\\frac{\\partial L}{\\partial {x} }=0$$\n"
   ]
  },
  {
   "cell_type": "markdown",
   "metadata": {},
   "source": [
    "### Stochastic control problem\n",
    "\n",
    "A stochastic control problem is a control problem which aims to minimize certain expected costs among all admissible controls. <br>\n",
    "Specifically, consider\n",
    "\n",
    "$$\n",
    "  \\min_{v\\in\\mathcal G[0,T]} \\E\\left[g(X^{(v)}_T) + \\int_0^T h(s,X^{(v)}_s,v_s) ds \\right]\n",
    "$$\n",
    "\n",
    "where\n",
    "\n",
    "* $g$ is referred to as the *terminal cost* and $h$ is the *running cost*\n",
    "\n",
    "\n",
    "* the state variable $X^{(v)}_t$ is driven by the controlled SDE\n",
    "\n",
    "    $$\n",
    "      dX^{(v)}_t = \\mu( t,X^{(v)}_t, v_t) dt + \\sigma(t,X^{(v)}_t, v_t) dW_t.\n",
    "    $$\n",
    "    \n",
    "\n",
    "* $\\mathcal G[0,T]$ is the collection of admissible controls in the time interval $[0,T]$ "
   ]
  },
  {
   "cell_type": "markdown",
   "metadata": {},
   "source": [
    "### Bellman’s principle of optimality\n",
    "\n",
    "“An optimal policy has the property that whatever the initial state and\n",
    "initial decision are, the remaining decisions must constitute an optimal\n",
    "policy with regard to the state resulting from the first decision.”\n",
    "\n",
    "(See Bellman, 1957, Chap. III.3.)"
   ]
  },
  {
   "cell_type": "markdown",
   "metadata": {},
   "source": [
    "### Value function \n",
    "\n",
    "* For a given admissible control $v\\in\\mathcal G[t,T]$, define the expected objective functional $J^{(v)}$ as\n",
    "    \n",
    "    $$\n",
    "      J^{(v)}(t,x) = \\E\\left[\\left. g(X^{(v)}_T) + \\int_t^T h(s,X^{(v)}_s,v_s) ds \\right| X_t = x \\right].\n",
    "    $$\n",
    "\n",
    "\n",
    "* The value function $J(t,x)$ for a stochastic control problem is defined as\n",
    "\n",
    "    $$\n",
    "      J(t,x) = \\min_{v\\in\\mathcal G[t,T]} J^{(v)}(t,x).\n",
    "    $$\n",
    "\n",
    "\n",
    "* The value function $J$ at $(t,x)$ is the optimal value of the control problem conditioned on the process starting at $(t,x)$ and applying the optimal control thereafter."
   ]
  },
  {
   "cell_type": "markdown",
   "metadata": {},
   "source": [
    "### Bellman's principle again\n",
    "\n",
    "The Bellman's principle can be rephrased in terms of value function as follow. For any $0 < \\epsilon < T -t$,\n",
    "\n",
    "$$\n",
    "J(t,x) = \\min_{v\\in\\cG[t,t+\\epsilon]} \\E\\left[\\left. \\int_t^{t+\\epsilon} h(s,X^{(v)}_s,v_s) ds + J(t+\\epsilon,X^{(v)}_{t+\\epsilon}) \\right| \\cF_t \\right].\n",
    "$$"
   ]
  },
  {
   "cell_type": "markdown",
   "metadata": {},
   "source": [
    "### The Hamilton-Jacobi-Bellman (HJB) equation\n",
    "\n",
    "The value function $J$ satisfies the terminal value problem\n",
    "\n",
    "$$\n",
    "\\p_t J(t,x) + \\min_{v\\in\\cG[t]} \\{\\mathcal L^{(v)} J(t,x) + h(t,x,v) \\} = 0, \\mbox{ for } t < T\n",
    "$$\n",
    "\n",
    "with terminal condition\n",
    "\n",
    "$$\n",
    "  J(T,x) = g(x),\n",
    "$$\n",
    "\n",
    "where $\\mathcal L^{(v)} := \\frac{\\sigma^2}2 \\p_x^2 + \\mu \\p_x$ is the associated infinitesimal generator of the controlled process \n",
    "\n",
    "$$\n",
    "dX^{(v)}_t = \\mu( t,X^{(v)}_t, v_t) dt + \\sigma(t,X^{(v)}_t, v_t) dW_t.\n",
    "$$\n",
    "\n",
    "#### Note\n",
    "\n",
    "* The HJB equation is bascially an infinitesimal version of the Bellman's principle. \n",
    "\n",
    "* The optimal policy (control) is given implicitly in terms of the value function $J$."
   ]
  },
  {
   "cell_type": "markdown",
   "metadata": {},
   "source": [
    "### Almgren and Chriss\n",
    "\n",
    "-   The seminal paper of [Almgren and Chriss]<sup id=\"cite_ref-AlmgrenChriss\" class=\"reference\"><a href=\"#cite_note-AlmgrenChriss\"><span>[</span>2<span>]</span></a></sup> treats the execution of a meta\n",
    "    order as a tradeoff between risk and execution cost.\n",
    "\n",
    "\n",
    "-   According to their formulation:\n",
    "\n",
    "    -   The faster an order is executed, the higher the execution cost\n",
    "\n",
    "    -   The faster an order is executed, the lower the risk (which is\n",
    "        increasing in position size).\n",
    "\n",
    "\n",
    "-   Note that this is inconsistent with the empirical success of the\n",
    "    square-root formula in describing the cost of meta orders.\n"
   ]
  },
  {
   "cell_type": "markdown",
   "metadata": {},
   "source": [
    "### Almgren and Chriss\n",
    "\n",
    "For simplicity, we consider liquidation of an existing position $X$.\n",
    "Denote the position at time $t$ by $x_t$ with $x_0=X$ and $x_T=0$.\n",
    "\n",
    "[Almgren and Chriss]<sup id=\"cite_ref-AlmgrenChriss\" class=\"reference\"><a href=\"#cite_note-AlmgrenChriss\"><span>[</span>2<span>]</span></a></sup> model market impact and slippage as follows. The stock\n",
    "price $S_t$ evolves as \n",
    "\n",
    "$$dS_t=\\gamma\\,dx_t+\\sigma\\,dZ_t,$$\n",
    "\n",
    "where $Z_t$ is a standard Brownian motion. \n",
    "\n",
    "The price $\\tilde S_t$ at which transactions occur is given by\n",
    "\n",
    "$$\\tilde S_t = S_t - \\eta\\,v_t$$\n",
    "\n",
    "where $v_t:=-{\\dot x}_t$ is the rate of\n",
    "trading.\n"
   ]
  },
  {
   "cell_type": "markdown",
   "metadata": {},
   "source": [
    "### Price path of a VWAP in the Almgren and Chriss model\n",
    "\n",
    "<h2><img src=\"http://mfe.baruch.cuny.edu/wp-content/uploads/2015/04/AlmgrenChriss.png\" align = \"center\" width=500></h2>\n",
    "Figure 1: The Almgren and Chriss price path is plotted in orange."
   ]
  },
  {
   "cell_type": "markdown",
   "metadata": {},
   "source": [
    "### Consistency with empirical observation\n",
    "\n",
    "-   This price path is inconsistent with empirical observation:\n",
    "    -   The average price path during execution is linear.\n",
    "    -   There is no price reversion after completion of the order."
   ]
  },
  {
   "cell_type": "markdown",
   "metadata": {},
   "source": [
    "### P&L and cost of trading of a trading strategy\n",
    "\n",
    "Let $x_t$ be a trading strategy. The corresponding P&L (up to time $t$), denoted by $\\Pi_t(x)$, is identified as \n",
    "\n",
    "$$\n",
    "\\Pi_t(x) := x_t (S_t - S_0) + \\int_0^t (S_0 - \\tilde S_\\tau) d x_\\tau.\n",
    "$$\n",
    "\n",
    "- The first term represents the (fair) value of stock shares that are yet to be transacted.\n",
    "\n",
    "- The second term corresponds to the monetary value collected from the shares that have been transacted up to time t.\n",
    "\n",
    "- Obviously, should there be no trade in the time interval $[0,t]$, i.e., $x_s = X$ for all $s \\in [0,t]$, the P&L reads $\\Pi_t(x) = X (S_t - S_0)$; reflecting the P&L from the price movement of the stock.\n",
    "\n",
    "#### <font color=blue>Implementation shortfall as cost of trading </font>\n",
    "\n",
    "Negative P&L is also referred to as the *implementation shortfall*, which will be used as the cost of trading, denoted by $C$ hereafter."
   ]
  },
  {
   "cell_type": "markdown",
   "metadata": {},
   "source": [
    "### P&L in Almgren-Chriss model\n",
    "\n",
    "Note that, at the end of execution period $T$, the P&L reads\n",
    "$$\n",
    "  \\Pi_T(x) = x_T (S_T - S_0) + \\int_0^T (S_0 - \\tilde S_u) d x_u,\n",
    "$$\n",
    "should there be $x_T$ shares yet to be transacted. Hence, in Almgren-Chriss model \n",
    "\n",
    "\\begin{eqnarray*}\n",
    "\\Pi_T(x) &=& x_T (S_T - S_0) + \\int_0^T (S_0 - \\tilde S_u) d x_u \\\\\n",
    "&=& \\int_0^T [- \\gamma (x_u - X) - \\sigma Z_u + \\eta v_u] d x_u \\quad (\\mbox{note that } x_T = 0) \\\\\n",
    "&=& -\\frac\\gamma2 X^2 + \\sigma \\int_0^T x_u d Z_u - \\eta \\int_0^T v_u^2 du \\quad (\\mbox{Integration by parts}).\n",
    "\\end{eqnarray*}\n",
    "Therefore, the expected cost corresponding to the trading strategy $x$ is given by  \n",
    "\\begin{eqnarray*}\n",
    "&& \\E\\left[C_T(x)\\right] = \\E\\left[-\\Pi_T(x)\\right] = \\frac\\gamma2 X^2 + \\eta \\int_0^T \\Eof{v_u^2} du.\n",
    "\\end{eqnarray*}"
   ]
  },
  {
   "cell_type": "markdown",
   "metadata": {},
   "source": [
    "### Expected cost of VWAP in the Almgren and Chriss model\n",
    "\n",
    "For a VWAP, $v_t = \\frac XT$ where $X$ is the total trade size and $T$ is the\n",
    "duration of the order.\n",
    "\n",
    "\\begin{eqnarray*}\n",
    "\\E[C_T(x)] &=& \\E\\left[\\frac\\gamma2 X^2 - \\sigma \\int_0^T x_u d Z_u + \\eta \\int_0^T \\left(\\frac XT\\right)^2 du \\right] \\\\\n",
    "&=& \\frac\\gamma2 X^2 + \\eta \\frac{X^2}T \\\\\n",
    "&=& \\left(\\frac\\gamma2 + \\frac\\eta{T}\\right)X^2.\n",
    "\\end{eqnarray*}\n",
    "\n",
    "The cost per share $\\hat C$ of executing an order using VWAP is therefore\n",
    "\n",
    "$$\\hat{C}=\\left(\\frac\\gamma2 + \\frac\\eta{T}\\right)X$$\n",
    "\n",
    "which is linear in the trade\n",
    "size $X$ and inversely proportional to the duration of the order.\n"
   ]
  },
  {
   "cell_type": "markdown",
   "metadata": {},
   "source": [
    "### The optimal strategy of a risk neutral trader\n",
    "\n",
    "For a risk neutral trader whose objective is to minimize the cost of trading, the optimal control problem reads \n",
    "\n",
    "\\begin{eqnarray*}\n",
    "&& \\min_{v} \\E\\left[C_T(x)\\right] \\\\\n",
    "&=& \\min_{v} \\left\\{\\frac\\gamma2 X^2 + \\eta \\int_0^T \\Eof{v_u^2} du \\right\\} \\\\\n",
    "&=& \\frac\\gamma2 X^2 + \\eta \\min_v \\int_0^T \\Eof{v_u^2} du,\n",
    "\\end{eqnarray*}\n",
    "\n",
    "where the state variable $x_t$ is driven by $dx_t = -v_t dt$ with the constraints $x_0 = X$ and $x_T = 0$.   \n",
    "Note that, since $S_t$ is not involved in the last expression, we end up with a deterministic control problem which can be solved by the solution to its assocated HJB equation or, due to the simplicity of the dynamics of $x_t$, further reduced to a variational problem. "
   ]
  },
  {
   "cell_type": "markdown",
   "metadata": {},
   "source": [
    "### Variational problem \n",
    "\n",
    "$$\\min_v \\int_0^T\\,v_t^2\\,dt$$\n",
    "\n",
    "with $v_t=-\\dot x_t$ and $x_0 = X$, $x_T = 0$. \n",
    "\n",
    "The Euler-Lagrange equation is then\n",
    "\n",
    "$$\\partial_t v_t=-\\partial_t^2 x_t=0$$\n",
    "\n",
    "with boundary conditions\n",
    "$x_0=X$ and $x_T=0$ and the solution is obviously\n",
    "\n",
    "$$v_t=\\frac{X}{T};\\, x_t=X\\,\\left(1-\\frac{t}{T}\\right)$$"
   ]
  },
  {
   "cell_type": "markdown",
   "metadata": {},
   "source": [
    "### Adding a risk term\n",
    "\n",
    "[Almgren and Chriss]<sup id=\"cite_ref-AlmgrenChriss\" class=\"reference\"><a href=\"#cite_note-AlmgrenChriss\"><span>[</span>2<span>]</span></a></sup> add a risk term that penalizes the approximate variance\n",
    "of the trading cost. They claim \n",
    "\n",
    "$$ \\mbox{Var} \\left[\\int_0^T\\,x_t\\,dS_t\\right] \\approx \\sigma^2\\,\\int_0^T\\,x_t^2\\,dt. $$\n",
    "\n",
    "In fact, by It&ocirc;'s isomety, it is an equality if $x_t$ is deterministic. \n",
    "\n",
    "The expected risk-adjusted cost is then given by (temporarily ignore the path independent term $\\frac\\gamma2 X^2$)\n",
    "\n",
    "$$\\eta\\,\\int_0^T\\,{\\dot x}_t^2\\,dt - \\lambda\\,\\sigma^2\\,\\int_0^T\\,x_t^2\\,dt$$\n",
    "\n",
    "for some price of risk $\\lambda$.\n",
    "\n",
    "-   <span>Note the analogies to physics and portfolio theory.</span>\n",
    "\n",
    "    -   <span>The first term looks like kinetic energy and the second\n",
    "        term like potential energy.</span>\n",
    "\n",
    "    -   <span>The expression looks like the objective in mean-variance\n",
    "        portfolio optimization.</span>"
   ]
  },
  {
   "cell_type": "markdown",
   "metadata": {},
   "source": [
    "The Euler-Lagrange equation becomes \n",
    "\n",
    "$$\\ddot x- \\kappa^2\\,x=0$$ \n",
    "\n",
    "with\n",
    "\n",
    "$$\\kappa^2=\\frac{\\lambda\\,\\sigma^2}{\\eta}.$$ \n",
    "\n",
    "The solution is a linear\n",
    "combination of terms of the form $e^{\\pm \\kappa t}$ that satisfies the\n",
    "boundary conditions $x_0=X$, $x_T=0$. The solution is then\n",
    "\n",
    "<font color=\"red\">\n",
    "<span>Almgren-Chriss optimal strategy</span>\n",
    "\n",
    "<a name=\"eq:optimalAC\"></a>(2)\n",
    "$$x(t)=X\\,\\frac{\\sinh \\kappa (T-t)}{\\sinh \\kappa T}$$\n",
    "\n",
    "\n",
    "\n",
    "<font color=\"black\">\n",
    "Once again, this statically optimal solution is dynamically optimal.\n",
    "\n",
    "- Almgren-Chriss strategy gives an example of Implementation Shortfall type: trade fast at the beginning and more slowly towards the end. "
   ]
  },
  {
   "cell_type": "markdown",
   "metadata": {},
   "source": [
    "### What happens if we change the risk term?\n",
    "\n",
    "Suppose we penalize average VaR instead of variance. This choice of risk\n",
    "term has the particular benefit of being linear in the position size.\n",
    "The expected risk-adjusted cost is then given by\n",
    "\n",
    "$$C = \\eta\\,\\int_0^T\\,{\\dot x}_t^2\\,dt + \\lambda\\,\\sigma\\,\\int_0^T\\,x_t\\,dt$$\n",
    "\n",
    "for some price of risk $\\lambda$.\n",
    "\n",
    "The Euler-Lagrange equation becomes \n",
    "\n",
    "$$\\ddot x- A=0$$\n",
    "\n",
    "with\n",
    "\n",
    "$$A=\\frac{\\lambda\\,\\sigma}{2\\,\\eta}$$"
   ]
  },
  {
   "cell_type": "markdown",
   "metadata": {},
   "source": [
    "The solution is a quadratic of the form $A\\,t^2/2+B \\,t + C$ that\n",
    "satisfies the boundary conditions $x_0=X$, $x_T=0$. The solution is then\n",
    "\n",
    "<a name=\"eq:VaRgeneral\"></a>(5)\n",
    "$$x(t)=\\left(X-\\frac{A \\, T}{2}\\,t\\right)\\,\\left(1-\\frac{t}{T}\\right)$$\n",
    "\n",
    "In contrast to the previous case where the cost function is monotonic\n",
    "decreasing in the trading rate and the optimal choice of liquidation\n",
    "time is $\\infty$, in this case, we can compute an optimal liquidation\n",
    "time.\n",
    "\n",
    "When $T$ is optimal, we have\n",
    "$$\\frac{\\partial C}{\\partial T}\\propto {\\dot x}_T^2 + A\\,x_T=0$$ from\n",
    "which we deduce that $\\dot x_T=0$."
   ]
  },
  {
   "cell_type": "markdown",
   "metadata": {},
   "source": [
    "Substituting into [(5)](#eq:VaRgeneral) and solving for the optimal time\n",
    "$T^\\star$ gives \n",
    "\n",
    "$$T^\\star=\\sqrt{\\frac{2\\,X}{A}}.$$\n",
    "\n",
    "With this optimal choice $T=T^\\star$, the optimal strategy becomes\n",
    "\n",
    "\\begin{eqnarray*}\n",
    "x(t)&=&X\\,\\left(1-\\frac{t}{T}\\right)^2\\\\\n",
    "u(t)&=&-\\dot x(t)=2\\,X\\,\\left(1-\\frac{t}{T}\\right)\\end{eqnarray*}\n",
    "\n",
    "Again, the static strategy is dynamically optimal, independent of the\n",
    "stock price."
   ]
  },
  {
   "cell_type": "markdown",
   "metadata": {},
   "source": [
    "### The Almgren 2005 model\n",
    "\n",
    "In the (2005) model of [Almgren]<sup id=\"cite_ref-Almgren\" class=\"reference\"><a href=\"#cite_note-Almgren\"><span>[</span>1<span>]</span></a></sup>, the stock price $S_t$ evolves as\n",
    "\n",
    "$$dS_t=\\gamma\\,d x_t+\\sigma\\,dZ_t$$\n",
    "\n",
    "and the price $\\tilde S_t$ at which\n",
    "we transact is given by \n",
    "\n",
    "$$\\tilde S_t = S_t - \\eta\\,v_t^\\delta$$\n",
    "\n",
    "where\n",
    "$v_t:=-{\\dot x}_t$ is the rate of trading."
   ]
  },
  {
   "cell_type": "markdown",
   "metadata": {},
   "source": [
    "The expected cost of trading is then given by\n",
    "\n",
    "\\begin{eqnarray*}\n",
    "\\mathcal{C} &=&\\mathbb{E} \\left[\\int_0^T\\,\\tilde S_t\\,v_t\\,dt\\right]\\\\\n",
    "&=&\\int_0^T\\,(\\gamma\\,x_t+\\eta\\,v_t^\\delta)\\,v_t\\,dt\\\\\n",
    "&=&\\frac \\gamma 2\\,(x_T^2-x_0^2)+\\eta\\,\\int_0^T\\,v_t^{1+\\delta}\\,dt\\end{eqnarray*}\n",
    "\n",
    "where wlog, we have set $S_0=0$.\n",
    "\n",
    "We see that the first term corresponding to permanent impact is\n",
    "independent of the trading strategy, as it should be. The second term is\n",
    "convex in the trading rate so the minimum cost strategy is again VWAP."
   ]
  },
  {
   "cell_type": "markdown",
   "metadata": {},
   "source": [
    "### Applications of the Almgren-Chriss framework\n",
    "\n",
    "-   Although the Almgren and Chriss price process is not particularly\n",
    "    realistic, it leads to a tractable framework for solving a number of\n",
    "    interesting practical problems.\n",
    "\n",
    "-   Applications include:\n",
    "\n",
    "    -   Portfolio liquidation\n",
    "\n",
    "    -   Optimal liquidation with a dark pool (<span>*e.g.*</span>\n",
    "        [Kratz and Schöneborn]<sup id=\"cite_ref-KratzSchoeneborn\" class=\"reference\"><a href=\"#cite_note-KratzSchoeneborn\"><span>[</span>7<span>]</span></a></sup>)\n",
    "\n",
    "    -   Optimal delta-hedging of options under transactions costs\n",
    "        (<span>*e.g.*</span> [Li and Almgren]<sup id=\"cite_ref-LiAlmgren\" class=\"reference\"><a href=\"#cite_note-LiAlmgren\"><span>[</span>8<span>]</span></a></sup>)\n",
    "\n",
    "    -   Optimal liquidation in the presence of a trading signal\n",
    "        (<span>*e.g.*</span> [Almgren(2012)]<sup id=\"cite_ref-AlmgrenSignal\" class=\"reference\"><a href=\"#cite_note-AlmgrenSignal\"><span>[</span>3<span>]</span></a></sup>)\n",
    "        "
   ]
  },
  {
   "cell_type": "markdown",
   "metadata": {},
   "source": [
    "### Summary on the Almgren-Chriss model\n",
    "\n",
    "-   The Almgren-Chriss price process is in practice the most\n",
    "    widely-used.\n",
    "\n",
    "-   It forms the basis for many of the algorithms and most of the\n",
    "    thinking in algorithmic execution.\n",
    "\n",
    "    -   despite the fact that it is unrealistic: market impact decays\n",
    "        instantaneously and it is completely incompatible with the\n",
    "        square-root law.\n",
    "\n",
    "-   Because of the analytical tractability of the Almgren-Chriss\n",
    "    framework, there are closed-form or quasi-closed-form solutions for\n",
    "    many problems of practical interest."
   ]
  },
  {
   "cell_type": "markdown",
   "metadata": {},
   "source": [
    "### Transient impact model\n",
    "\n",
    "The price process assumed in transient impact model is\n",
    "\n",
    "$$S_t = S_0 + \\int_0^t\\,h(v_s)\\,G(t-s)\\,ds+M_t, \\quad \\mbox{ where } M_t \\mbox{ is a zero mean martingale/noise.}$$\n",
    "\n",
    "\n",
    "- $h(v_s)$ is referred to as the *instantaneous market impact function*, which represents the impact of trading at time $s$, and $G(t-s)$ is a decay factor. Note that $h(v) > 0$ if $v > 0$; whereas $h(v) < 0$ if $v < 0$. \n",
    "\n",
    "\n",
    "- The cumulative impact of (others’) trading is implicitly in $S_0$ and the noise term.\n",
    "\n",
    "\n",
    "- The model is a generalization of processes due to Almgren, Bouchaud, and Obizhaeva and Wang."
   ]
  },
  {
   "cell_type": "markdown",
   "metadata": {},
   "source": [
    "### P&L and cost of trading in transient impact model\n",
    "\n",
    "Note that, at the end of execution period $T$, the P&L reads\n",
    "$$\n",
    "  \\Pi_T(x) = x_T (S_T - S_0) + \\int_0^T (S_0 - \\tilde S_u) d x_u,\n",
    "$$\n",
    "should there be $x_T$ shares yet to be transacted. Hence, in transient impact model (note that $\\tilde S_t = S_t$)\n",
    "\n",
    "\\begin{eqnarray*}\n",
    "\\Pi_T(x) &=& x_T (S_T - S_0) + \\int_0^T (S_0 - \\tilde S_u) d x_u \\\\\n",
    "&=& - \\int_0^T \\int_0^t h(v_u)G(t-u) du d x_t - \\int_0^T M_t d x_t \\quad (\\mbox{since } x_T = 0) \\\\\n",
    "&=& - \\int_0^T \\int_0^t h(v_u)G(t-u) du d x_t - (M_T x_T - M_0 x_0) + \\int_0^T x_t d M_t \\quad (\\mbox{Integration by parts}) \\\\\n",
    "&=& - \\int_0^T \\int_0^t h(v_u)G(t-u) du d x_t + \\int_0^T x_t d M_t \\quad (\\mbox{since } x_T = 0 \\mbox{ and } M_0 = 0).\n",
    "\\end{eqnarray*}\n",
    "Therefore, the expected cost corresponding to the trading strategy $x$ is given by  \n",
    "\\begin{eqnarray*}\n",
    "&& \\E\\left[C_T(x)\\right] = \\E\\left[-\\Pi_T(x)\\right] = \\Eof{\\int_0^T \\int_0^t h(v_u)G(t-u) du d x_t}.\n",
    "\\end{eqnarray*}"
   ]
  },
  {
   "cell_type": "markdown",
   "metadata": {},
   "source": [
    "### The optimal strategy of a risk neutral trader\n",
    "\n",
    "For a risk neutral trader whose objective is to minimize the cost of trading, the optimal control problem reads \n",
    "\n",
    "\\begin{eqnarray*}\n",
    "&& \\min_{v} \\E\\left[C_T(x)\\right] = \\min_v \\int_0^T \\int_0^t h(v_u)G(t-u) du d x_t,\n",
    "\\end{eqnarray*}\n",
    "\n",
    "where the state variable $x_t$ is driven by $dx_t = -v_t dt$ with the constraints $x_0 = X$ and $x_T = 0$. \n",
    "It is equivalent to a variational problem.\n",
    "\n",
    "\\begin{eqnarray*}\n",
    "&& \\min_{v} \\E\\left[C_T(x)\\right] = \\min_v \\left\\{-\\int_0^T \\int_0^t h(v_u)G(t-u) du v_t dt\\right\\},\n",
    "\\end{eqnarray*}\n",
    "\n",
    "subject to the constraint $\\int_0^T v_t dt = X$."
   ]
  },
  {
   "cell_type": "markdown",
   "metadata": {},
   "source": [
    "### Lagrange multiplier  \n",
    "\n",
    "To derive the Euler-Lagrange equation, consider the Lagrangian\n",
    "\n",
    "\\begin{eqnarray*}\n",
    "  && L(v,\\lambda) = \\int_0^T\\int_0^t v_t G(t-s) h(v_s) ds dt - \\lambda \\left( \\int_0^T v_t dt - X \\right) \\\\\n",
    "  &=& \\int_0^T \\left[ \\int_0^t G(t-s) h(v_s) ds - \\lambda \\right] v_t dt + \\lambda X,\n",
    "\\end{eqnarray*}\n",
    "\n",
    "where $\\lambda$ is the Lagrange multiplier. "
   ]
  },
  {
   "cell_type": "markdown",
   "metadata": {},
   "source": [
    "### Euler-Lagrange equation\n",
    "\n",
    "Let $\\varphi$ be a perturbation. Consider the first order criterion for the Lagrangian $L$:\n",
    "\n",
    "\\begin{eqnarray*}\n",
    "  0 &=& \\left.\\frac{d}{d\\epsilon}\\right|_{\\epsilon=0} L( v_t + \\epsilon \\varphi_t,\\lambda) \\\\\n",
    "  &=& \\left.\\frac{d}{d\\epsilon}\\right|_{\\epsilon=0} \\int_0^T \\left[ \\int_0^t G(t-s) h(v_s + \\epsilon \\varphi_s) ds - \\lambda \\right] (v_t + \\epsilon \\varphi_t ) dt  \\\\\n",
    "  &=& \\int_0^T \\left[ \\int_0^t G(t-s) h'(v_s) \\varphi_s ds \\right] v_t dt\n",
    "   + \\int_0^T \\left[ \\int_0^t G(t-s) h(v_s) ds - \\lambda \\right] \\varphi_t dt  \\\\\n",
    "  &=& \\int_0^T \\int_0^t G(t-s) h'(v_s) \\varphi_s v_t ds dt + \\int_0^T \\left[ \\int_0^t G(t-s) h(v_s) ds - \\lambda \\right] \\varphi_t dt  \\\\\n",
    "%  &=& \\int_0^T \\int_s^T G(t-s) h'(v_s) \\varphi_s v_t dt ds + \\int_0^T \\left[ \\int_0^t G(t-s) h(v_s) ds + \\lambda \\right] \\varphi_t dt  \\\\\n",
    "  &=& \\int_0^T \\left[ \\int_t^T G(s-t) h'(v_t) v_s ds + \\int_0^t G(t-s) h(v_s) ds - \\lambda \\right] \\varphi_t dt.\n",
    "\\end{eqnarray*}\n",
    "\n",
    "Since $\\varphi_t$ is arbitrary (because the first order criterion must hold for any perturbation), we must have\n",
    "\n",
    "<a name=\"eq:intEL-TH\"></a>(2)\n",
    "<font color=blue>\n",
    "$$\n",
    "  \\int_t^T G(s-t) h'(v_t) v_s ds + \\int_0^t G(t-s) h(v_s) ds = \\lambda \n",
    "$$\n",
    "</font>\n",
    "<br>\n",
    "for all $0 \\leq t \\leq T$. This a generalized Fredholm integral equation of the first kind. The Lagrange multiplier $\\lambda$ is determined by the constraint $\\int_0^T v_t dt = X$."
   ]
  },
  {
   "cell_type": "markdown",
   "metadata": {},
   "source": [
    "### Obizhaeva and Wang 2005\n",
    "\n",
    "The model in [Obizhaeva and Wang]<sup id=\"cite_ref-ObizhaevaWang\" class=\"reference\"><a href=\"#cite_note-ObizhaevaWang\"><span>[</span>7<span>]</span></a></sup> is given by\n",
    "\n",
    "<a name=\"eq:OWprocess\"></a>(1)\n",
    "$$S_t = S_0 - \\eta\\,\\int_0^t\\,v_s\\,e^{-\\rho\\,(t-s)}\\,ds + \\int_0^t\\,\\sigma\\,dZ_s$$\n",
    "\n",
    "with $v_t=-\\dot x_t$.\n",
    "\n",
    "- Market impact decays exponentially, *i.e.*, $G(\\tau) = e^{-\\rho\\tau}$ \n",
    "\n",
    "- Instantaneous market impact is linear in the rate of trading, $h(v) = -\\eta v$.\n",
    "\n",
    "\n",
    "The expected cost of trading becomes:\n",
    "$$\\mathcal{C} =\\eta\\,\\int_0^T\\int_0^t\\,{v}_s\\,e^{-\\rho\\,(t-s)}\\,ds\\, v_tdt$$"
   ]
  },
  {
   "cell_type": "markdown",
   "metadata": {},
   "source": [
    "### The Obizhaeva and Wang average price path\n",
    "<h2><img src=\"http://mfe.baruch.cuny.edu/wp-content/uploads/2015/04/ObizhaevaWang.png\" align = \"center\" width=500></h2>\n",
    "Figure 1: The Obizhaeva Wang average price path: higher $\\rho$ in pink; lower $\\rho$ in brown."
   ]
  },
  {
   "cell_type": "markdown",
   "metadata": {},
   "source": [
    "The Euler-Lagrange equation [(2)](#eq:intEL-TH) in this case reads:\n",
    "\n",
    "<a name=\"eq:intEL\"></a>(2')\n",
    "$$\n",
    "- \\eta \\int_t^T\\,v_s\\,e^{-\\rho\\,(s-t)}\\,ds - \\eta \\int_0^t\\,v_s\\,e^{-\\rho\\,(t-s)}\\,ds  = \\lambda.\n",
    "$$\n",
    "\n",
    "[(2')](#eq:intEL) may be rewritten as\n",
    "\n",
    "$$\\int_0^T\\,v_s\\,e^{-\\rho\\,|t-s|}\\,ds=-\\frac\\lambda\\eta$$\n",
    "\n",
    "which is a Fredholm integral equation of the first kind."
   ]
  },
  {
   "cell_type": "markdown",
   "metadata": {},
   "source": [
    "### Optimality and price manipulation\n",
    "\n",
    "-   <span>For all of the models considered so far, there was an optimal\n",
    "    strategy.</span>\n",
    "\n",
    "\n",
    "-   <span>The optimal strategy always involved trades of the same sign.\n",
    "    So no sells in a buy program, no buys in a sell program.</span>\n",
    "\n",
    "\n",
    "-   <span>Recall that [Gatheral]<sup id=\"cite_ref-Gatheral\" class=\"reference\"><a href=\"#cite_note-Gatheral\"><span>[</span>4<span>]</span></a></sup> showed that we can write down models for\n",
    "    which price manipulation is possible.</span>\n",
    "\n",
    "    -   <span>For example, square root price impact with exponential\n",
    "        decay admits price manipulation.</span>\n",
    "\n",
    "\n",
    "-   <span>In such cases, a round-trip trade can generate cash on\n",
    "    average.</span>\n",
    "\n",
    "    -   <span>You would want to repeat such a trade over and\n",
    "        over.</span>\n",
    "\n",
    "    -   <span>There would be no optimal strategy.</span>"
   ]
  },
  {
   "cell_type": "markdown",
   "metadata": {},
   "source": [
    "### Linear transient market impact\n",
    "\n",
    "In this case, the impact function is linear, i.e., $h(v) = \\eta v$. When the admissible\n",
    "strategy $x$ is used, the price $S_t$ is given by\n",
    "\n",
    "<a name=\"eq:ModelEquation\"></a>(5)\n",
    "$$S_t = S_0 + \\eta \\int_0^t {G}(t-s)\\,dx_s + \\mbox{ martingale},$$\n",
    "\n",
    "and the expected cost of liquidation is given by\n",
    "\n",
    "<a name=\"eq:quadraticform\"></a>(6)\n",
    "$$\\mathcal{C} (x):=\\frac{\\eta}{2}\\,\\int_0^T\\int_0^T {G}(|t-s|)\\,dx_s\\,dx_t.$$\n"
   ]
  },
  {
   "cell_type": "markdown",
   "metadata": {},
   "source": [
    "### Condition for no price manipulation\n",
    "\n",
    "#### <font color=\"blue\">Definition (Huberman and Stanzl)\n",
    "<font color=\"blue\">\n",
    "\n",
    "A *round\n",
    "trip* is an admissible strategy with $x_0=x_T$. A *price manipulation\n",
    "strategy* is a round trip with strictly negative expected costs.</span>\n",
    "\n",
    "#### <font color=\"red\">Theorem (Bochner)\n",
    "<font color=\"red\"><span>$\\mathcal{C} (x)\\ge0$ for all admissible\n",
    "strategies $x$ if and only if ${G}(|\\cdot|)$ can be represented as the\n",
    "Fourier transform of a positive finite Borel measure $\\mu$ on\n",
    "$\\mathbb{R} $, i.e., $${G}(|\\tau|)=\\int e^{i \\,z\\,\\tau}\\,\\mu(dz).$$</span>"
   ]
  },
  {
   "cell_type": "markdown",
   "metadata": {},
   "source": [
    "### First order condition\n",
    "\n",
    "For linear market impact, the Euler-Lagrange equation [(2)](#eq:intEL-TH) reduces to \n",
    "\n",
    "$$\\int_0^T {G}(|t-s|)\\,dx_s =\\lambda\\qquad\\text{for all $t\\in[0,T] $.}$$\n",
    "\n",
    "Moreover, we have\n",
    "\n",
    "#### <font color=\"red\">Theorem\n",
    "<font color=\"red\">\n",
    "Suppose that ${G}$ is positive definite. Then $x^*$\n",
    "minimizes $\\mathcal{C} (\\cdot)$ if and only if there is a constant\n",
    "$\\lambda$ such that $x^*$ solves the generalized Fredholm integral\n",
    "equation\n",
    "\n",
    "<a name=\"eq:Fredholm\"></a>(7)\n",
    "$$\\int_0^T {G}(|t-s|)\\,dx^*_s =\\lambda\\qquad\\text{for all $t\\in[0,T] $.}$$\n",
    "\n",
    "In this case, $\\mathcal{C} (x^*)=\\frac{1}{2}\\,\\lambda \\,X$. In\n",
    "particular, $\\lambda$ must be nonzero as soon as ${G}$ is strictly\n",
    "positive definite and $X\\neq0$."
   ]
  },
  {
   "cell_type": "markdown",
   "metadata": {},
   "source": [
    "### Example I: Linear market impact with exponential decay\n",
    "\n",
    "$G(\\tau)=e^{-\\rho\\,\\tau}$ and the optimal strategy $u(s)$ solves\n",
    "\n",
    "$$\\int_0^T\\,u(s)e^{-\\rho\\,|t-s|}\\,ds=\\text{const.}$$\n",
    "\n",
    "The solution is \n",
    "\n",
    "$$u(t)=A\\,\\left\\{\\delta(t)+\\rho+\\delta(T-t)\\right\\}$$\n",
    "\n",
    "The normalizing\n",
    "factor $A$ is given by\n",
    "\n",
    "$$\\int_0^T\\,u(t)\\,dt=X=A\\, \\left(2+\\rho\\,T\\right)$$\n",
    "\n",
    "The optimal strategy\n",
    "consists of block trades at $t=0$ and $t=T$ and continuous trading at\n",
    "the constant rate $\\rho$ between these two times."
   ]
  },
  {
   "cell_type": "markdown",
   "metadata": {},
   "source": [
    "### Schematic of optimal strategy\n",
    "\n",
    "The optimal strategy with $\\rho=0.1$ and $T=1$\n",
    "<h2><img src=\"http://mfe.baruch.cuny.edu/wp-content/uploads/2015/04/Algo2010Exponential.png\" align = \"center\" width=500></h2>"
   ]
  },
  {
   "cell_type": "markdown",
   "metadata": {},
   "source": [
    "### Example II: Linear market impact with power-law decay\n",
    "\n",
    "$G(\\tau)=\\tau^{-\\gamma}$ and the optimal strategy $u(s)$ solves\n",
    "\n",
    "$$\\int_0^T\\,\\frac{u(s)}{|t-s|^\\gamma}\\,ds=\\text{const.}$$\n",
    "\n",
    "The solution\n",
    "is \n",
    "\n",
    "$$u(s)=\\frac{A}{\\left[s\\,(T-s)\\right]^{(1-\\gamma)/2}}$$\n",
    "\n",
    "The\n",
    "normalizing factor $A$ is given by\n",
    "\n",
    "$$\\int_0^T\\,u(t)\\,dt=X=A\\, \\sqrt{\\pi }\\,\\left(\\frac{T}{2}\\right)^\\gamma \\,\\frac{ \\Gamma \\left(\n",
    "\\frac{1+\\gamma}{2}\\right)}{\\Gamma \\left(1+\\frac{\\gamma }{2}\\right)}$$\n",
    "\n",
    "The optimal strategy is absolutely continuous with no block trades.\n",
    "However, it is singular at $t=0$ and $t=T$."
   ]
  },
  {
   "cell_type": "markdown",
   "metadata": {},
   "source": [
    "### Schematic of optimal strategy\n",
    "\n",
    "The red line is a plot of the optimal strategy with $T=1$ and\n",
    "$\\gamma=1/2$.\n",
    "<h2><img src=\"http://mfe.baruch.cuny.edu/wp-content/uploads/2015/04/Algo2010PowerLaw.png\" align = \"center\" width=500></h2>"
   ]
  },
  {
   "cell_type": "markdown",
   "metadata": {},
   "source": [
    "### When is the optimal strategy bucket-shaped?\n",
    "\n",
    "-   For which nonincreasing convex decay kernels $G$ does the optimal\n",
    "    execution strategy have singular components only at $t=0$ and $t=T$\n",
    "    with absolutely continuous trading on the interval $(0,T)$?\n",
    "\n",
    "    -   This question is answered in Corollary 1 of [Alfonsi and Schied]<sup id=\"cite_ref-AlfonsiSchied\" class=\"reference\"><a href=\"#cite_note-AlfonsiSchied\"><span>[</span>1<span>]</span></a></sup>.\n",
    "\n",
    "<font color=\"red\">\n",
    "#### Corollary\n",
    "Suppose that $G$ is completely monotone with\n",
    "$G''(0+):=\\lim_{t \\downarrow 0} G''(t) < \\infty$. Then the capacitary\n",
    "measure $\\mu^\\star$ has two Dirac components at $t=0$ and $t=T$ and has\n",
    "a continuous Lebesgue density on $(0,T)$."
   ]
  },
  {
   "cell_type": "markdown",
   "metadata": {},
   "source": [
    "### Completely monotone functions\n",
    "\n",
    "#### <font color=\"blue\"> Definition\n",
    "$G$ is completely monotone if $G$ belongs to $C^\\infty((0,\\infty))$ and\n",
    "$(-1)^nG^{(n)}$ is nonnegative in $(0,\\infty)$ for $n \\in \\mathbb N$.\n",
    "</font>\n",
    "\n",
    "#### <font color=red> Theorem (Hausdorff–Bernstein–Widder)\n",
    "G is completely monotone if and only it is\n",
    "the Laplace transform of a Borel probability measure $\\lambda$ on\n",
    "$\\mathbb{R}+$:\n",
    "\n",
    "$$G(t) = \\int \\,e^{-\\rho\\,t}\\,\\lambda(d\\rho), \\quad t \\geq 0.$$\n"
   ]
  },
  {
   "cell_type": "markdown",
   "metadata": {},
   "source": [
    "### Summary \n",
    "\n",
    "-   <span>The optimal trading strategy depends on the model.</span>\n",
    "\n",
    "    -   <span>For Almgren-Chriss style models, if the price of risk is\n",
    "        zero, the minimal cost strategy is VWAP.</span>\n",
    "\n",
    "    -   <span>In Obizhaeva-Wang style models, the minimal cost strategy is\n",
    "        to trade a block at inception, a block at completion and at a\n",
    "        constant rate in between.</span>"
   ]
  },
  {
   "cell_type": "markdown",
   "metadata": {
    "slideshow": {
     "slide_type": "slide"
    }
   },
   "source": [
    "### References\n",
    "\n",
    "<br />\n",
    "\n",
    "<div class=\"reflist\" style=\"list-style-type: decimal;\">\n",
    "\n",
    "<ol>\n",
    "\n",
    "  <li id=\"cite_note-Almgren\"><span class=\"mw-cite-backlink\"><b><a href=\"#cite_ref-Almgren\">^</a></b></span>Robert Almgren, Chee Thum, Emmanuel Hauptmann, and Hong Li, Equity\n",
    "market impact, <span>*Risk*</span> July 2005, 57–62.\n",
    "  </li>\n",
    "\n",
    "  <li id=\"cite_note-Bershova\"><span class=\"mw-cite-backlink\"><b><a href=\"#cite_ref-Bershova\">^</a></b></span>Nataliya Bershova and Dmitry Rakhlin, The Non-Linear Market Impact of\n",
    "Large Trades: Evidence from Buy-Side Order Flow, <span>*Quantitative\n",
    "Finance*</span> <span>**13**</span>(11) 1759–1778 (2013).\n",
    "  </li>\n",
    "  \n",
    "  <li id=\"cite_note-BMP\"><span class=\"mw-cite-backlink\"><b><a href=\"#cite_ref-BMP\">^</a></b></span>Jean-Philippe Bouchaud, Marc Mézard and Marc Potters, Statistical\n",
    "properties of stock order books: empirical results and models,\n",
    "<span>*Quantitative Finance*</span> <span>**2**</span>(4) 251–256\n",
    "(2002).\n",
    "  </li>\n",
    "  \n",
    "  <li id=\"cite_note-Donier\"><span class=\"mw-cite-backlink\"><b><a href=\"#cite_ref-Donier\">^</a></b></span>Jonathan Donier, Market Impact with Autocorrelated Order Flow under\n",
    "Perfect Competition, <span>*SSRN*</span> available at\n",
    "<http://ssrn.com/abstract=2191660> (2012).\n",
    "  </li>\n",
    "  \n",
    "  <li id=\"cite_note-FGLW\"><span class=\"mw-cite-backlink\"><b><a href=\"#cite_ref-FGLW\">^</a></b></span>J Doyne Farmer, Austin Gerig, Fabrizio Lillo, and Henri Waelbroeck, How\n",
    "efficiency shapes market impact, available at <span>*Quantitative\n",
    "Finance*</span> <span>**13**</span>(11) 1743–1758 (2013).\n",
    "  </li>\n",
    "  \n",
    "  <li id=\"cite_note-Gatheral\"><span class=\"mw-cite-backlink\"><b><a href=\"#cite_ref-Gatheral\">^</a></b></span>Jim Gatheral, No-dynamic-arbitrage and market impact,\n",
    "<span>*Quantitative Finance*</span> <span>**10**</span>(7) 749–759\n",
    "(2010).\n",
    "  </li>\n",
    "\n",
    "  <li id=\"cite_note-GSS\"><span class=\"mw-cite-backlink\"><b><a href=\"#cite_ref-GSS\">^</a></b></span>Jim Gatheral, Alexander Schied, and Alla Slynko, Exponential resilience\n",
    "and decay of market impact, in <span>*Econophysics of Order-driven\n",
    "Markets*</span>, Springer, 225–236, (2011).\n",
    "  </li>\n",
    "  \n",
    "  <li id=\"cite_note-LilloMikeFarmer\"><span class=\"mw-cite-backlink\"><b><a href=\"#cite_ref-LilloMikeFarmer\">^</a></b></span>Fabrizio Lillo, Szabolcs Mike, and J Doyne Farmer, Theory for long\n",
    "memory in supply and demand, <span>*Phys. Rev. E*</span>\n",
    "<span>**71**</span>(6) 66122 (2005).\n",
    "  </li>\n",
    "  \n",
    "  <li id=\"cite_note-Moro\"><span class=\"mw-cite-backlink\"><b><a href=\"#cite_ref-Moro\">^</a></b></span>Esteban Moro, Javier Vicente, Luis G Moyano, Austin Gerig, J. Doyne\n",
    "Farmer, Gabriella Vaglica, Fabrizio Lillo, and Rosario N Mantegna,\n",
    "Market impact and trading profile of meta orders in stock markets,\n",
    "<span>*Physical Review E*</span> <span>**80**</span>(6) 066102 (2009).\n",
    "  </li>\n",
    "  \n",
    "  <li id=\"cite_note-ObizhaevaWang\"><span class=\"mw-cite-backlink\"><b><a href=\"#cite_ref-ObizhaevaWang\">^</a></b></span>Anna Obizhaeva and Jiang Wang, Optimal trading strategy and\n",
    "supply/demand dynamics <span>*Journal of Financial Markets*</span>\n",
    "<span>**16**</span>(1) 1–32 (2013).\n",
    "  </li>\n",
    "  \n",
    "  <li id=\"cite_note-SFGK\"><span class=\"mw-cite-backlink\"><b><a href=\"#cite_ref-SFGK\">^</a></b></span>E Smith, JD Farmer, L Gillemot, and S Krishnamurthy, Statistical theory\n",
    "of the continuous double auction, <span>*Quantitative Finance*</span>\n",
    "<span>**3**</span>(6) 481–514 (2003).\n",
    "  </li>\n",
    "  \n",
    "  <li id=\"cite_note-Toth\"><span class=\"mw-cite-backlink\"><b><a href=\"#cite_ref-Toth\">^</a></b></span>Bence Tóth, Yves Lempérière, Cyril Deremble, Joachim de Lataillade,\n",
    "Julien Kockelkoren, and Jean-Philippe Bouchaud, Anomalous price impact\n",
    "and the critical nature of liquidity in financial markets,\n",
    "<span>*Physical Review X*</span> 021006, 1-11(2011).\n",
    "  </li>\n",
    "  \n",
    "  <li id=\"cite_note-WaelbroeckGomes\"><span class=\"mw-cite-backlink\"><b><a href=\"#cite_ref-WaelbroeckGomes\">^</a></b></span>Henri Waelbroeck and Carla Gomes, Is Market Impact a Measure of the\n",
    "Information Value of Trades? Market Response to Liquidity vs. Informed\n",
    "Trades, <span>*SSRN*</span> available at\n",
    "<http://ssrn.com/abstract=2291720> (2013).\n",
    "  </li>\n",
    "\n",
    "  \n",
    "</ol>"
   ]
  }
 ],
 "metadata": {
  "celltoolbar": "Slideshow",
  "kernelspec": {
   "display_name": "R",
   "language": "R",
   "name": "ir"
  },
  "language_info": {
   "codemirror_mode": "r",
   "file_extension": ".r",
   "mimetype": "text/x-r-source",
   "name": "R",
   "pygments_lexer": "r",
   "version": "3.5.1"
  }
 },
 "nbformat": 4,
 "nbformat_minor": 1
}
