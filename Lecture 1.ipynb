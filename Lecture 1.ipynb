{
 "cells": [
  {
   "cell_type": "markdown",
   "metadata": {
    "slideshow": {
     "slide_type": "slide"
    }
   },
   "source": [
    "\n",
    "# Topics in Quantitative Finance, Summer 2020\n",
    "\n",
    "## Lecture 1: Financial engineering in a nutshell\n",
    "\n",
    "### Tai-Ho Wang (王 太 和)\n",
    "    \n",
    "<h2><img src=\"BCstacked_blk.jpg\" align = \"center\" height=50 width=190></h2>\n",
    "\n",
    "$$\n",
    "\\newcommand{\\bea}{\\begin{eqnarray}}\n",
    "\\newcommand{\\eea}{\\end{eqnarray}}\n",
    "\\newcommand{\\supp}{\\mathrm{supp}}\n",
    "\\newcommand{\\F}{\\mathcal{F} }\n",
    "\\newcommand{\\cF}{\\mathcal{F} }\n",
    "\\newcommand{\\E}{\\mathbb{E} }\n",
    "\\newcommand{\\Eof}[1]{\\mathbb{E}\\left[ #1 \\right]}\n",
    "\\newcommand{\\Etof}[1]{\\mathbb{E}_t\\left[ #1 \\right]}\n",
    "\\def\\Cov{{ \\mbox{Cov} }}\n",
    "\\def\\Var{{ \\mbox{Var} }}\n",
    "\\newcommand{\\1}{\\mathbf{1} }\n",
    "\\newcommand{\\p}{\\partial}\n",
    "\\newcommand{\\PP}{\\mathbb{P} }\n",
    "\\newcommand{\\Pof}[1]{\\mathbb{P}\\left[ #1 \\right]}\n",
    "\\newcommand{\\QQ}{\\mathbb{Q} }\n",
    "\\newcommand{\\R}{\\mathbb{R} }\n",
    "\\newcommand{\\DD}{\\mathbb{D} }\n",
    "\\newcommand{\\HH}{\\mathbb{H} }\n",
    "\\newcommand{\\spn}{\\mathrm{span} }\n",
    "\\newcommand{\\cov}{\\mathrm{cov} }\n",
    "\\newcommand{\\HS}{\\mathcal{L}_{\\mathrm{HS}} }\n",
    "\\newcommand{\\Hess}{\\mathrm{Hess} }\n",
    "\\newcommand{\\trace}{\\mathrm{trace} }\n",
    "\\newcommand{\\LL}{\\mathcal{L} }\n",
    "\\newcommand{\\s}{\\mathcal{S} }\n",
    "\\newcommand{\\ee}{\\mathcal{E} }\n",
    "\\newcommand{\\ff}{\\mathcal{F} }\n",
    "\\newcommand{\\hh}{\\mathcal{H} }\n",
    "\\newcommand{\\bb}{\\mathcal{B} }\n",
    "\\newcommand{\\dd}{\\mathcal{D} }\n",
    "\\newcommand{\\g}{\\mathcal{G} }\n",
    "\\newcommand{\\half}{\\frac{1}{2} }\n",
    "\\newcommand{\\T}{\\mathcal{T} }\n",
    "\\newcommand{\\bit}{\\begin{itemize}}\n",
    "\\newcommand{\\eit}{\\end{itemize}}\n",
    "\\newcommand{\\beq}{\\begin{equation}}\n",
    "\\newcommand{\\eeq}{\\end{equation}}\n",
    "\\newcommand{\\tr}{\\mbox{tr}}\n",
    "$$\n"
   ]
  },
  {
   "cell_type": "markdown",
   "metadata": {
    "slideshow": {
     "slide_type": "slide"
    }
   },
   "source": [
    "## Coordinates\n",
    "\n",
    "* Email: tai-ho.wang@baruch.cuny.edu\n",
    "* Webpage: [mfe.baruch.cuny.edu/tai-ho.wang](https://mfe.baruch.cuny.edu/tai-ho.wang)"
   ]
  },
  {
   "cell_type": "markdown",
   "metadata": {
    "slideshow": {
     "slide_type": "slide"
    }
   },
   "source": [
    "## Aims of this course\n",
    "\n",
    "\n",
    "* To be familiar with the financial products and the modeling of their prices\n",
    "\n",
    "* To be familiar with well-known pricing models.\n",
    "\n",
    "* To be familiar with the principle of no arbitrage and its applications\n",
    "\n",
    "* To grasp theories of probability and statistics underpinning the models\n",
    "\n",
    "* To gain experiences in programming in R"
   ]
  },
  {
   "cell_type": "markdown",
   "metadata": {
    "slideshow": {
     "slide_type": "slide"
    }
   },
   "source": [
    "## Agenda\n",
    "\n",
    "- Financial market and financial product\n",
    "- What is financial engineering?\n",
    "- $\\mathbb{P}$ quant v.s. $\\mathbb{Q}$ quant\n",
    "- Theory of pricing\n",
    "    - Law of one price\n",
    "    - Monotonicity\n",
    "    - Linearity\n",
    "- Principle of no arbitrage\n",
    "- Brief introduction to programming in R"
   ]
  },
  {
   "cell_type": "markdown",
   "metadata": {},
   "source": [
    "## Online resources\n",
    "\n",
    "- [Investopedia](https://www.investopedia.com/)\n",
    "- [Wikipedia](https://www.wikipedia.org/)\n",
    "- [Quantopian](https://www.quantopian.com/)\n",
    "- [Advanced Risk and Portfolio Management](https://www.arpm.co/)"
   ]
  },
  {
   "cell_type": "markdown",
   "metadata": {},
   "source": [
    "## Financial market\n",
    "\n",
    "Quotes from [Investopedia](https://www.investopedia.com):\n",
    "\n",
    "*A financial market is a broad term describing any marketplace where buyers and sellers participate in the trade of assets such as equities, bonds, currencies and derivatives. Financial markets are typically defined by having transparent pricing, basic regulations on trading, costs and fees, and market forces determining the prices of securities that trade.*\n",
    "\n",
    "Types of financial markets and their roles\n",
    "- Captial market\n",
    "    - bond market\n",
    "    - equity market\n",
    "- Derivative market\n",
    "- Forex (foreign exchange) and interbank market\n",
    "- Primary vs secondary market\n",
    "    - A primary market issues new securities on an exchange.\n",
    "    - The secondary market is where investors purchase securities or assets from other investors, rather than from issuing companies themselves.\n",
    "- OTC (over-the-counter) market\n",
    "- Third and fourth market\n",
    "\n",
    "For more details, visit\n",
    "[Types of Financial Markets and their roles](https://www.investopedia.com/walkthrough/corporate-finance/1/financial-markets.aspx) at [Investopedia](https://www.investopedia.com).\n",
    "\n",
    "We will only cover the equity and fixed income markets. \n"
   ]
  },
  {
   "cell_type": "markdown",
   "metadata": {},
   "source": [
    "## Financial products\n",
    "\n",
    "- Primary or underlying\n",
    "    - Equity \n",
    "    - Fixed income\n",
    "    - Commodity\n",
    "    - Credit\n",
    "\n",
    "- Secondary or derivatives\n",
    "    - Forward and futures\n",
    "    - Options\n",
    "    - Swaps "
   ]
  },
  {
   "cell_type": "markdown",
   "metadata": {},
   "source": [
    "## What is financial engineering?\n",
    "\n",
    "According to [this article](https://www.iaqf.org/financial-engineering) in the website of Internation Association for Quantitative Finance (IAQF) (used to be named as IAFE), financial engineering is \n",
    "\n",
    "- the application of mathematical methods to the solution of problems in finance\n",
    "- also known as financial mathematics, mathematical finance, and computational finance\n",
    "\n",
    "Therefore, \n",
    "- Financial engineering draws on tools from applied mathematics, computer science, statistics, and economic theory.\n",
    "- Investment banks, commercial banks, hedge funds, insurance companies, corporate treasuries, and regulatory agencies employ financial engineers.\n",
    "- These businesses apply the methods of financial engineering to problems such as new product development, derivative securities valuation, portfolio structuring, risk management, and scenario simulation.\n",
    "\n"
   ]
  },
  {
   "cell_type": "markdown",
   "metadata": {
    "slideshow": {
     "slide_type": "slide"
    }
   },
   "source": [
    "## What is financial engineering for?\n",
    "\n",
    "- Derivative pricing\n",
    "- Portfolio construction\n",
    "- Risk management\n",
    "- Quantitative trading\n",
    "- Market making\n",
    "- Order implementation\n",
    "\n",
    "We shall mostly focus on the pricing of derivatives based on the principle of no arbitrage. \n",
    "\n",
    "As pricing is concerned, in finanical engineering we usually consider the following types of problems:\n",
    "- direct problem: under a given model for the underlying, calculate the prices of its derivatives\n",
    "- inverse problem: for a given set of prices of liquidly derivatives, determine the parameters or even a model that generates the observed market prices. "
   ]
  },
  {
   "cell_type": "markdown",
   "metadata": {},
   "source": [
    "## What skills are required to be a financial engineer?\n",
    "\n",
    "Quantitative finance is an interdisciplinary field, it requires hard skills in \n",
    "- Math: calculus, linear algebra, probability, stochastic process, differential equation, optimization, etc \n",
    "- Finance: derivative pricing theory, modern portfolio theory, market microstructure models\n",
    "- Statistics: regression and classification, factor analysis, time series analysis\n",
    "- Programming: R, Python, C++, Matlab, etc\n",
    "\n",
    "Nowadays also requires \n",
    "- machine learnining techniques\n",
    "- sentiment analysis"
   ]
  },
  {
   "cell_type": "markdown",
   "metadata": {},
   "source": [
    "## Quantitative analyst - Quant\n",
    "\n",
    "Excerpt from [Quants: The Rocket Scientists of Wall Street](https://www.investopedia.com/articles/financialcareers/08/quants-quantitative-analyst.asp) in Investopedia, \n",
    "\n",
    ">As financial securities become increasingly complex, demand has grown steadily for people who not only understand the complex mathematical models that price these securities, but who are able to enhance them to generate profits and reduce risk. These individuals are known as quantitative analysts, or simply \"quants.\"\n",
    "\n",
    "Quantitative analysts\n",
    "- design and implement complex models that allow financial firms to price and trade securities\n",
    "- front desk quants work directly with traders, providing them with pricing or trading tools \n",
    "- back office quants validate the models, conduct research and create new strategies\n",
    "- positions are found almost exclusively in major financial centers with trading operations"
   ]
  },
  {
   "cell_type": "markdown",
   "metadata": {},
   "source": [
    "## $\\mathbb{P}$ quant v.s. $\\mathbb{Q}$ quant\n",
    "\n",
    "Quants are briefly categorized as $\\mathbb{P}$ quants and $\\mathbb{Q}$ quants.\n",
    "\n",
    "- $\\mathbb{P}$ refers to the physical measure under which the financial assets presumably evolves. \n",
    "- $\\mathbb{Q}$ refers to the risk neutral measure for pricing under the principle of no arbitrage.  \n",
    "\n",
    "\n",
    "The mentality behind $\\mathbb P$ quant and the buy side is \n",
    "\n",
    "- Regard the market as a whole, process historical data then forecast price movements \n",
    "- Construct portfolio or investment strategy based on performance measures \n",
    "- Decide the horizon of holding the portfolio\n",
    "- Risk management\n",
    "\n",
    "The mentality behind $\\mathbb Q$ quant and the sell side is \n",
    "\n",
    "- Construct model that could possibly explain the market \n",
    "- Cablibrate parameters of model to market data\n",
    "- Apply the calibrated model to price new derivatives\n",
    "- Hedging \n",
    "\n",
    "### Note\n",
    "- In this course, we shall cover topics on both sides, though not evenly.\n",
    "- Please refer to [this link](https://www.arpm.co/lab/about-quantitative-finance.html#x4-130001) in [ARPM.co](https://www.arpm.co/) for more details on the interplay between $\\mathbb P$ quants and $\\mathbb Q$ quants."
   ]
  },
  {
   "cell_type": "markdown",
   "metadata": {},
   "source": [
    "## Theory of asset pricing\n",
    "\n",
    "Heuristically, pricing is a rule or a map that assigns a (unique, current) value to each (random) payoff/cashflow which can only be realized at the future investment horizon. The collection/universe of all the payoffs at the investment horizon is assumed to be equipped with a vector space structure. In other words, we would be able to add or subtract a payoff from another, and also be able to scale up or down by any (real, positive or negative) scalar. Thus, we can regard pricing as a function or a functional $\\Pi$ from the space of (random) payoffs to real numbers: \n",
    "\n",
    "$$\n",
    "\\Pi : \\mathcal P \\to \\R,\n",
    "$$\n",
    "\n",
    "where $\\mathcal P$ is space of payoffs at investment horizon. \n",
    "\n",
    "A pricing functional $\\Pi$ presumably bears the following axioms\n",
    "\n",
    "- Law of one price \n",
    "- Monotonicity\n",
    "- Linearity\n",
    "\n",
    "By esssentially the Riesz representation theorem, a pricing function/functional, should it exist, can be charactrized by the expectation of a (random) payoff weighted by a stochastic discount factor. \n",
    "\n",
    "The price of any asset in the universe is given by the an expectation of discounted payoff discounted by a stochastic discount factor. \n",
    "\n",
    "### Note\n",
    "In this course we shall explore the modeling of the pricing functional. "
   ]
  },
  {
   "cell_type": "markdown",
   "metadata": {},
   "source": [
    "## Law of one price\n",
    "\n",
    "Two payoffs with equal values in all scenarios must have the same price. \n",
    "\n",
    "\n",
    "\n",
    "## Monotonicity\n",
    "\n",
    "If the payoff $X$ dominates the payoff $Y$, i.e., $X > Y$ in any scenario, then the price of $X$ must be higher than that of $Y$. \n",
    "\n",
    "## Linearity\n",
    "\n",
    "The price of linear combination of the payoffs $X$ and $Y$ is the same linear combination of the price of $X$ and $Y$. That is, \n",
    "\n",
    "$$\n",
    "\\Pi(\\alpha X + \\beta Y) = \\alpha \\Pi(X) + \\beta \\Pi(Y)\n",
    "$$"
   ]
  },
  {
   "cell_type": "markdown",
   "metadata": {},
   "source": [
    "If the pricing function/functional satisfies the axioms, it can be represented as a discounted expectation. Precisely, for a given payoff $X$, its price is given by\n",
    "\n",
    "$$\n",
    "\\Pi(X) = \\Eof{D X}\n",
    "$$\n",
    "\n",
    "where $D$ is a (positive) random variable called {\\it stochastic discount factor}.\n",
    "\n",
    "### Note\n",
    "The $\\Eof{D}$ is the price of zero coupon bond since, the payoff of zero coupon bond of face value 1 is $X \\equiv 1$. \n",
    "\n",
    "\n",
    "\n"
   ]
  },
  {
   "cell_type": "markdown",
   "metadata": {},
   "source": [
    "## Principle of no arbitrage\n",
    "\n",
    "### Arbitrage opportunity\n",
    "Intuitively, an *arbitrage opportunity* is a trade or a trading strategy that have positive payoff at the investment horizon with zero cost currently. In other words, we are able to aquire a financial position, be statically or dynamically, without being required to pay initially for entering the position.  \n",
    "\n",
    "Any viable financial model should not permit arbitrage opportunity.\n",
    "\n",
    "In reality, arbitrage opportunity does exist. However, it disappears very quicklyeven much quicker now due to the advent of technology, since once it is exploited, sophiscated market participants will quickly take the advantage of it, then the market reacts to it so as to reach a new status without arbitrage opportunity. \n",
    "\n",
    "Principle of no arbitrage is the core behind the theory of derivative pricing. "
   ]
  },
  {
   "cell_type": "markdown",
   "metadata": {},
   "source": [
    "## Fundamental theorem of asset pricing\n",
    "\n",
    "Explanations from [Wikipedia](https://en.wikipedia.org/wiki/Fundamental_theorem_of_asset_pricing).\n",
    "\n",
    "\"*The fundamental theorems of asset pricing (also: of arbitrage, of finance) provide necessary and sufficient conditions for a market to be arbitrage free and for a market to be complete.*\"\n",
    "\n",
    "To be more specific, \n",
    "\n",
    "*In a discrete (i.e. finite state) market, the following hold:*\n",
    "\n",
    "### The First Fundamental Theorem of Asset Pricing \n",
    "A discrete market, on a discrete probability space $(\\Omega, \\cF, \\PP)$, is arbitrage-free if and only if there exists at least one risk neutral probability measure that is equivalent to the original probability measure, $\\PP$.\n",
    "\n",
    "### The Second Fundamental Theorem of Asset Pricing \n",
    "An arbitrage-free market $(S, B)$ consisting of a collection of stocks $S$ and a risk-free bond $B$ is complete if and only if there exists a unique risk-neutral measure that is equivalent to $\\PP$ and has numeraire $B$.\n",
    "\n",
    "#### Note \n",
    "We shall illustrate these concepts by using the binomial model."
   ]
  },
  {
   "cell_type": "markdown",
   "metadata": {},
   "source": [
    "## Brief introduction to programming in R\n",
    "\n",
    "Online resources for programming in R\n",
    "- [R documentation](https://www.rdocumentation.org)\n",
    "- [Nice R code](https://nicercode.github.io/)"
   ]
  },
  {
   "cell_type": "markdown",
   "metadata": {},
   "source": [
    "# Head 1\n",
    "## Head 2\n",
    "### Head 3\n",
    "#### Head 4\n",
    "\n",
    "Test $\\int \\frac{1}{x} dx$ LaTex\n",
    "\n",
    "$$ \\int \\frac{1}{x} dx $$\n",
    "\n"
   ]
  },
  {
   "cell_type": "markdown",
   "metadata": {},
   "source": [
    "# Head 1\n",
    "## Head 2\n",
    "### Head 3\n",
    "#### Head 4\n",
    "\n",
    "Test \n",
    "\n",
    "$\\int \\frac{1}{x} dx$\n",
    "\n",
    "$$ \\int \\frac{1}{x} dx $$"
   ]
  },
  {
   "cell_type": "markdown",
   "metadata": {},
   "source": [
    "This is a test for integral $\\int \\log x dx$\n",
    "\n",
    "$$\n",
    "\\int_0^\\infty \\frac{\\sin(x)}x dx\n",
    "$$\n"
   ]
  },
  {
   "cell_type": "code",
   "execution_count": 1,
   "metadata": {},
   "outputs": [
    {
     "data": {
      "text/html": [
       "6"
      ],
      "text/latex": [
       "6"
      ],
      "text/markdown": [
       "6"
      ],
      "text/plain": [
       "[1] 6"
      ]
     },
     "metadata": {},
     "output_type": "display_data"
    }
   ],
   "source": [
    "x=6\n",
    "x"
   ]
  },
  {
   "cell_type": "code",
   "execution_count": 2,
   "metadata": {},
   "outputs": [
    {
     "data": {
      "text/html": [
       "<style>\n",
       ".list-inline {list-style: none; margin:0; padding: 0}\n",
       ".list-inline>li {display: inline-block}\n",
       ".list-inline>li:not(:last-child)::after {content: \"\\00b7\"; padding: 0 .5ex}\n",
       "</style>\n",
       "<ol class=list-inline><li>3.5</li><li>5</li><li>2</li><li>8</li><li>4.2</li></ol>\n"
      ],
      "text/latex": [
       "\\begin{enumerate*}\n",
       "\\item 3.5\n",
       "\\item 5\n",
       "\\item 2\n",
       "\\item 8\n",
       "\\item 4.2\n",
       "\\end{enumerate*}\n"
      ],
      "text/markdown": [
       "1. 3.5\n",
       "2. 5\n",
       "3. 2\n",
       "4. 8\n",
       "5. 4.2\n",
       "\n",
       "\n"
      ],
      "text/plain": [
       "[1] 3.5 5.0 2.0 8.0 4.2"
      ]
     },
     "metadata": {},
     "output_type": "display_data"
    },
    {
     "data": {
      "text/html": [
       "<table>\n",
       "<caption>A data.frame: 5 × 1</caption>\n",
       "<thead>\n",
       "\t<tr><th scope=col>ex</th></tr>\n",
       "\t<tr><th scope=col>&lt;dbl&gt;</th></tr>\n",
       "</thead>\n",
       "<tbody>\n",
       "\t<tr><td>3.5</td></tr>\n",
       "\t<tr><td>5.0</td></tr>\n",
       "\t<tr><td>2.0</td></tr>\n",
       "\t<tr><td>8.0</td></tr>\n",
       "\t<tr><td>4.2</td></tr>\n",
       "</tbody>\n",
       "</table>\n"
      ],
      "text/latex": [
       "A data.frame: 5 × 1\n",
       "\\begin{tabular}{l}\n",
       " ex\\\\\n",
       " <dbl>\\\\\n",
       "\\hline\n",
       "\t 3.5\\\\\n",
       "\t 5.0\\\\\n",
       "\t 2.0\\\\\n",
       "\t 8.0\\\\\n",
       "\t 4.2\\\\\n",
       "\\end{tabular}\n"
      ],
      "text/markdown": [
       "\n",
       "A data.frame: 5 × 1\n",
       "\n",
       "| ex &lt;dbl&gt; |\n",
       "|---|\n",
       "| 3.5 |\n",
       "| 5.0 |\n",
       "| 2.0 |\n",
       "| 8.0 |\n",
       "| 4.2 |\n",
       "\n"
      ],
      "text/plain": [
       "  ex \n",
       "1 3.5\n",
       "2 5.0\n",
       "3 2.0\n",
       "4 8.0\n",
       "5 4.2"
      ]
     },
     "metadata": {},
     "output_type": "display_data"
    },
    {
     "data": {
      "text/html": [
       "<style>\n",
       ".list-inline {list-style: none; margin:0; padding: 0}\n",
       ".list-inline>li {display: inline-block}\n",
       ".list-inline>li:not(:last-child)::after {content: \"\\00b7\"; padding: 0 .5ex}\n",
       "</style>\n",
       "<ol class=list-inline><li>3.5</li><li>5</li><li>2</li><li>8</li><li>4.2</li></ol>\n"
      ],
      "text/latex": [
       "\\begin{enumerate*}\n",
       "\\item 3.5\n",
       "\\item 5\n",
       "\\item 2\n",
       "\\item 8\n",
       "\\item 4.2\n",
       "\\end{enumerate*}\n"
      ],
      "text/markdown": [
       "1. 3.5\n",
       "2. 5\n",
       "3. 2\n",
       "4. 8\n",
       "5. 4.2\n",
       "\n",
       "\n"
      ],
      "text/plain": [
       "[1] 3.5 5.0 2.0 8.0 4.2"
      ]
     },
     "metadata": {},
     "output_type": "display_data"
    },
    {
     "data": {
      "text/html": [
       "<table>\n",
       "<caption>A data.frame: 5 × 1</caption>\n",
       "<tbody>\n",
       "\t<tr><td>3.5</td></tr>\n",
       "\t<tr><td>5.0</td></tr>\n",
       "\t<tr><td>2.0</td></tr>\n",
       "\t<tr><td>8.0</td></tr>\n",
       "\t<tr><td>4.2</td></tr>\n",
       "</tbody>\n",
       "</table>\n"
      ],
      "text/latex": [
       "A data.frame: 5 × 1\n",
       "\\begin{tabular}{l}\n",
       "\t 3.5\\\\\n",
       "\t 5.0\\\\\n",
       "\t 2.0\\\\\n",
       "\t 8.0\\\\\n",
       "\t 4.2\\\\\n",
       "\\end{tabular}\n"
      ],
      "text/markdown": [
       "\n",
       "A data.frame: 5 × 1\n",
       "\n",
       "| 3.5 |\n",
       "| 5.0 |\n",
       "| 2.0 |\n",
       "| 8.0 |\n",
       "| 4.2 |\n",
       "\n"
      ],
      "text/plain": [
       "  [,1]\n",
       "1 3.5 \n",
       "2 5.0 \n",
       "3 2.0 \n",
       "4 8.0 \n",
       "5 4.2 "
      ]
     },
     "metadata": {},
     "output_type": "display_data"
    },
    {
     "data": {
      "text/html": [
       "<table>\n",
       "<caption>A data.frame: 5 × 2</caption>\n",
       "<thead>\n",
       "\t<tr><th scope=col>ex</th><th scope=col>ex2</th></tr>\n",
       "\t<tr><th scope=col>&lt;dbl&gt;</th><th scope=col>&lt;dbl&gt;</th></tr>\n",
       "</thead>\n",
       "<tbody>\n",
       "\t<tr><td>3.5</td><td>5</td></tr>\n",
       "\t<tr><td>5.0</td><td>4</td></tr>\n",
       "\t<tr><td>2.0</td><td>3</td></tr>\n",
       "\t<tr><td>8.0</td><td>2</td></tr>\n",
       "\t<tr><td>4.2</td><td>1</td></tr>\n",
       "</tbody>\n",
       "</table>\n"
      ],
      "text/latex": [
       "A data.frame: 5 × 2\n",
       "\\begin{tabular}{ll}\n",
       " ex & ex2\\\\\n",
       " <dbl> & <dbl>\\\\\n",
       "\\hline\n",
       "\t 3.5 & 5\\\\\n",
       "\t 5.0 & 4\\\\\n",
       "\t 2.0 & 3\\\\\n",
       "\t 8.0 & 2\\\\\n",
       "\t 4.2 & 1\\\\\n",
       "\\end{tabular}\n"
      ],
      "text/markdown": [
       "\n",
       "A data.frame: 5 × 2\n",
       "\n",
       "| ex &lt;dbl&gt; | ex2 &lt;dbl&gt; |\n",
       "|---|---|\n",
       "| 3.5 | 5 |\n",
       "| 5.0 | 4 |\n",
       "| 2.0 | 3 |\n",
       "| 8.0 | 2 |\n",
       "| 4.2 | 1 |\n",
       "\n"
      ],
      "text/plain": [
       "  ex  ex2\n",
       "1 3.5 5  \n",
       "2 5.0 4  \n",
       "3 2.0 3  \n",
       "4 8.0 2  \n",
       "5 4.2 1  "
      ]
     },
     "metadata": {},
     "output_type": "display_data"
    },
    {
     "data": {
      "text/html": [
       "<table>\n",
       "<caption>A data.frame: 5 × 2</caption>\n",
       "<tbody>\n",
       "\t<tr><td>3.5</td><td>5</td></tr>\n",
       "\t<tr><td>5.0</td><td>4</td></tr>\n",
       "\t<tr><td>2.0</td><td>3</td></tr>\n",
       "\t<tr><td>8.0</td><td>2</td></tr>\n",
       "\t<tr><td>4.2</td><td>1</td></tr>\n",
       "</tbody>\n",
       "</table>\n"
      ],
      "text/latex": [
       "A data.frame: 5 × 2\n",
       "\\begin{tabular}{ll}\n",
       "\t 3.5 & 5\\\\\n",
       "\t 5.0 & 4\\\\\n",
       "\t 2.0 & 3\\\\\n",
       "\t 8.0 & 2\\\\\n",
       "\t 4.2 & 1\\\\\n",
       "\\end{tabular}\n"
      ],
      "text/markdown": [
       "\n",
       "A data.frame: 5 × 2\n",
       "\n",
       "| 3.5 | 5 |\n",
       "| 5.0 | 4 |\n",
       "| 2.0 | 3 |\n",
       "| 8.0 | 2 |\n",
       "| 4.2 | 1 |\n",
       "\n"
      ],
      "text/plain": [
       "  [,1] [,2]\n",
       "1 3.5  5   \n",
       "2 5.0  4   \n",
       "3 2.0  3   \n",
       "4 8.0  2   \n",
       "5 4.2  1   "
      ]
     },
     "metadata": {},
     "output_type": "display_data"
    }
   ],
   "source": [
    "# create a list in R\n",
    "stock_list <- c(3.5, 5, 2, 8, 4.2)\n",
    "stock_list\n",
    "\n",
    "# present data as a data.frame\n",
    "test <- data.frame(ex=stock_list)\n",
    "test\n",
    "test$ex\n",
    "unname(test)\n",
    "test$ex2 <- c(5, 4, 3, 2, 1)\n",
    "test\n",
    "unname(test)"
   ]
  },
  {
   "cell_type": "code",
   "execution_count": 3,
   "metadata": {},
   "outputs": [
    {
     "data": {
      "text/html": [
       "<style>\n",
       ".list-inline {list-style: none; margin:0; padding: 0}\n",
       ".list-inline>li {display: inline-block}\n",
       ".list-inline>li:not(:last-child)::after {content: \"\\00b7\"; padding: 0 .5ex}\n",
       "</style>\n",
       "<ol class=list-inline><li>'3'</li><li>'2'</li><li>'this is a string'</li><li>'90'</li></ol>\n"
      ],
      "text/latex": [
       "\\begin{enumerate*}\n",
       "\\item '3'\n",
       "\\item '2'\n",
       "\\item 'this is a string'\n",
       "\\item '90'\n",
       "\\end{enumerate*}\n"
      ],
      "text/markdown": [
       "1. '3'\n",
       "2. '2'\n",
       "3. 'this is a string'\n",
       "4. '90'\n",
       "\n",
       "\n"
      ],
      "text/plain": [
       "[1] \"3\"                \"2\"                \"this is a string\" \"90\"              "
      ]
     },
     "metadata": {},
     "output_type": "display_data"
    },
    {
     "data": {
      "text/html": [
       "<style>\n",
       ".list-inline {list-style: none; margin:0; padding: 0}\n",
       ".list-inline>li {display: inline-block}\n",
       ".list-inline>li:not(:last-child)::after {content: \"\\00b7\"; padding: 0 .5ex}\n",
       "</style>\n",
       "<ol class=list-inline><li>'90'</li><li>'3'</li><li>'2'</li><li>'this is a string'</li></ol>\n"
      ],
      "text/latex": [
       "\\begin{enumerate*}\n",
       "\\item '90'\n",
       "\\item '3'\n",
       "\\item '2'\n",
       "\\item 'this is a string'\n",
       "\\end{enumerate*}\n"
      ],
      "text/markdown": [
       "1. '90'\n",
       "2. '3'\n",
       "3. '2'\n",
       "4. 'this is a string'\n",
       "\n",
       "\n"
      ],
      "text/plain": [
       "[1] \"90\"               \"3\"                \"2\"                \"this is a string\""
      ]
     },
     "metadata": {},
     "output_type": "display_data"
    },
    {
     "data": {
      "text/html": [
       "<style>\n",
       ".list-inline {list-style: none; margin:0; padding: 0}\n",
       ".list-inline>li {display: inline-block}\n",
       ".list-inline>li:not(:last-child)::after {content: \"\\00b7\"; padding: 0 .5ex}\n",
       "</style>\n",
       "<ol class=list-inline><li>'bye'</li><li>'3'</li><li>'2'</li><li>'this is a string'</li><li>'hello'</li></ol>\n"
      ],
      "text/latex": [
       "\\begin{enumerate*}\n",
       "\\item 'bye'\n",
       "\\item '3'\n",
       "\\item '2'\n",
       "\\item 'this is a string'\n",
       "\\item 'hello'\n",
       "\\end{enumerate*}\n"
      ],
      "text/markdown": [
       "1. 'bye'\n",
       "2. '3'\n",
       "3. '2'\n",
       "4. 'this is a string'\n",
       "5. 'hello'\n",
       "\n",
       "\n"
      ],
      "text/plain": [
       "[1] \"bye\"              \"3\"                \"2\"                \"this is a string\"\n",
       "[5] \"hello\"           "
      ]
     },
     "metadata": {},
     "output_type": "display_data"
    }
   ],
   "source": [
    "taiho <- c(3, 2, 'this is a string')\n",
    "c(taiho, 90)\n",
    "c(90, taiho)\n",
    "c('bye', taiho, 'hello')"
   ]
  },
  {
   "cell_type": "code",
   "execution_count": 4,
   "metadata": {},
   "outputs": [
    {
     "data": {
      "text/html": [
       "<table>\n",
       "<caption>A matrix: 3 × 3 of type dbl</caption>\n",
       "<tbody>\n",
       "\t<tr><td>1</td><td>0</td><td>0</td></tr>\n",
       "\t<tr><td>0</td><td>1</td><td>0</td></tr>\n",
       "\t<tr><td>0</td><td>0</td><td>1</td></tr>\n",
       "</tbody>\n",
       "</table>\n"
      ],
      "text/latex": [
       "A matrix: 3 × 3 of type dbl\n",
       "\\begin{tabular}{lll}\n",
       "\t 1 & 0 & 0\\\\\n",
       "\t 0 & 1 & 0\\\\\n",
       "\t 0 & 0 & 1\\\\\n",
       "\\end{tabular}\n"
      ],
      "text/markdown": [
       "\n",
       "A matrix: 3 × 3 of type dbl\n",
       "\n",
       "| 1 | 0 | 0 |\n",
       "| 0 | 1 | 0 |\n",
       "| 0 | 0 | 1 |\n",
       "\n"
      ],
      "text/plain": [
       "     [,1] [,2] [,3]\n",
       "[1,] 1    0    0   \n",
       "[2,] 0    1    0   \n",
       "[3,] 0    0    1   "
      ]
     },
     "metadata": {},
     "output_type": "display_data"
    },
    {
     "data": {
      "text/html": [
       "<table>\n",
       "<caption>A matrix: 3 × 3 of type dbl</caption>\n",
       "<tbody>\n",
       "\t<tr><td>2</td><td>0</td><td>0</td></tr>\n",
       "\t<tr><td>0</td><td>2</td><td>0</td></tr>\n",
       "\t<tr><td>0</td><td>0</td><td>2</td></tr>\n",
       "</tbody>\n",
       "</table>\n"
      ],
      "text/latex": [
       "A matrix: 3 × 3 of type dbl\n",
       "\\begin{tabular}{lll}\n",
       "\t 2 & 0 & 0\\\\\n",
       "\t 0 & 2 & 0\\\\\n",
       "\t 0 & 0 & 2\\\\\n",
       "\\end{tabular}\n"
      ],
      "text/markdown": [
       "\n",
       "A matrix: 3 × 3 of type dbl\n",
       "\n",
       "| 2 | 0 | 0 |\n",
       "| 0 | 2 | 0 |\n",
       "| 0 | 0 | 2 |\n",
       "\n"
      ],
      "text/plain": [
       "     [,1] [,2] [,3]\n",
       "[1,] 2    0    0   \n",
       "[2,] 0    2    0   \n",
       "[3,] 0    0    2   "
      ]
     },
     "metadata": {},
     "output_type": "display_data"
    },
    {
     "data": {
      "text/html": [
       "<table>\n",
       "<caption>A matrix: 3 × 3 of type dbl</caption>\n",
       "<tbody>\n",
       "\t<tr><td>3</td><td>1</td><td>1</td></tr>\n",
       "\t<tr><td>1</td><td>3</td><td>1</td></tr>\n",
       "\t<tr><td>1</td><td>1</td><td>3</td></tr>\n",
       "</tbody>\n",
       "</table>\n"
      ],
      "text/latex": [
       "A matrix: 3 × 3 of type dbl\n",
       "\\begin{tabular}{lll}\n",
       "\t 3 & 1 & 1\\\\\n",
       "\t 1 & 3 & 1\\\\\n",
       "\t 1 & 1 & 3\\\\\n",
       "\\end{tabular}\n"
      ],
      "text/markdown": [
       "\n",
       "A matrix: 3 × 3 of type dbl\n",
       "\n",
       "| 3 | 1 | 1 |\n",
       "| 1 | 3 | 1 |\n",
       "| 1 | 1 | 3 |\n",
       "\n"
      ],
      "text/plain": [
       "     [,1] [,2] [,3]\n",
       "[1,] 3    1    1   \n",
       "[2,] 1    3    1   \n",
       "[3,] 1    1    3   "
      ]
     },
     "metadata": {},
     "output_type": "display_data"
    },
    {
     "data": {
      "text/html": [
       "<style>\n",
       ".list-inline {list-style: none; margin:0; padding: 0}\n",
       ".list-inline>li {display: inline-block}\n",
       ".list-inline>li:not(:last-child)::after {content: \"\\00b7\"; padding: 0 .5ex}\n",
       "</style>\n",
       "<ol class=list-inline><li>1</li><li>2</li><li>3</li><li>4</li><li>5</li><li>6</li><li>7</li><li>8</li><li>9</li><li>10</li><li>11</li><li>12</li><li>13</li><li>14</li><li>15</li><li>16</li><li>17</li><li>18</li><li>19</li><li>20</li><li>21</li><li>22</li><li>23</li><li>24</li><li>25</li><li>26</li><li>27</li><li>28</li><li>29</li><li>30</li><li>31</li><li>32</li><li>33</li><li>34</li><li>35</li><li>36</li><li>37</li><li>38</li><li>39</li><li>40</li><li>41</li><li>42</li><li>43</li><li>44</li><li>45</li><li>46</li><li>47</li><li>48</li><li>49</li><li>50</li><li>51</li><li>52</li><li>53</li><li>54</li><li>55</li><li>56</li><li>57</li><li>58</li><li>59</li><li>60</li><li>61</li><li>62</li><li>63</li><li>64</li><li>65</li><li>66</li><li>67</li><li>68</li><li>69</li><li>70</li><li>71</li><li>72</li><li>73</li><li>74</li><li>75</li><li>76</li><li>77</li><li>78</li><li>79</li><li>80</li><li>81</li><li>82</li><li>83</li><li>84</li><li>85</li><li>86</li><li>87</li><li>88</li><li>89</li><li>90</li><li>91</li><li>92</li><li>93</li><li>94</li><li>95</li><li>96</li><li>97</li><li>98</li><li>99</li></ol>\n"
      ],
      "text/latex": [
       "\\begin{enumerate*}\n",
       "\\item 1\n",
       "\\item 2\n",
       "\\item 3\n",
       "\\item 4\n",
       "\\item 5\n",
       "\\item 6\n",
       "\\item 7\n",
       "\\item 8\n",
       "\\item 9\n",
       "\\item 10\n",
       "\\item 11\n",
       "\\item 12\n",
       "\\item 13\n",
       "\\item 14\n",
       "\\item 15\n",
       "\\item 16\n",
       "\\item 17\n",
       "\\item 18\n",
       "\\item 19\n",
       "\\item 20\n",
       "\\item 21\n",
       "\\item 22\n",
       "\\item 23\n",
       "\\item 24\n",
       "\\item 25\n",
       "\\item 26\n",
       "\\item 27\n",
       "\\item 28\n",
       "\\item 29\n",
       "\\item 30\n",
       "\\item 31\n",
       "\\item 32\n",
       "\\item 33\n",
       "\\item 34\n",
       "\\item 35\n",
       "\\item 36\n",
       "\\item 37\n",
       "\\item 38\n",
       "\\item 39\n",
       "\\item 40\n",
       "\\item 41\n",
       "\\item 42\n",
       "\\item 43\n",
       "\\item 44\n",
       "\\item 45\n",
       "\\item 46\n",
       "\\item 47\n",
       "\\item 48\n",
       "\\item 49\n",
       "\\item 50\n",
       "\\item 51\n",
       "\\item 52\n",
       "\\item 53\n",
       "\\item 54\n",
       "\\item 55\n",
       "\\item 56\n",
       "\\item 57\n",
       "\\item 58\n",
       "\\item 59\n",
       "\\item 60\n",
       "\\item 61\n",
       "\\item 62\n",
       "\\item 63\n",
       "\\item 64\n",
       "\\item 65\n",
       "\\item 66\n",
       "\\item 67\n",
       "\\item 68\n",
       "\\item 69\n",
       "\\item 70\n",
       "\\item 71\n",
       "\\item 72\n",
       "\\item 73\n",
       "\\item 74\n",
       "\\item 75\n",
       "\\item 76\n",
       "\\item 77\n",
       "\\item 78\n",
       "\\item 79\n",
       "\\item 80\n",
       "\\item 81\n",
       "\\item 82\n",
       "\\item 83\n",
       "\\item 84\n",
       "\\item 85\n",
       "\\item 86\n",
       "\\item 87\n",
       "\\item 88\n",
       "\\item 89\n",
       "\\item 90\n",
       "\\item 91\n",
       "\\item 92\n",
       "\\item 93\n",
       "\\item 94\n",
       "\\item 95\n",
       "\\item 96\n",
       "\\item 97\n",
       "\\item 98\n",
       "\\item 99\n",
       "\\end{enumerate*}\n"
      ],
      "text/markdown": [
       "1. 1\n",
       "2. 2\n",
       "3. 3\n",
       "4. 4\n",
       "5. 5\n",
       "6. 6\n",
       "7. 7\n",
       "8. 8\n",
       "9. 9\n",
       "10. 10\n",
       "11. 11\n",
       "12. 12\n",
       "13. 13\n",
       "14. 14\n",
       "15. 15\n",
       "16. 16\n",
       "17. 17\n",
       "18. 18\n",
       "19. 19\n",
       "20. 20\n",
       "21. 21\n",
       "22. 22\n",
       "23. 23\n",
       "24. 24\n",
       "25. 25\n",
       "26. 26\n",
       "27. 27\n",
       "28. 28\n",
       "29. 29\n",
       "30. 30\n",
       "31. 31\n",
       "32. 32\n",
       "33. 33\n",
       "34. 34\n",
       "35. 35\n",
       "36. 36\n",
       "37. 37\n",
       "38. 38\n",
       "39. 39\n",
       "40. 40\n",
       "41. 41\n",
       "42. 42\n",
       "43. 43\n",
       "44. 44\n",
       "45. 45\n",
       "46. 46\n",
       "47. 47\n",
       "48. 48\n",
       "49. 49\n",
       "50. 50\n",
       "51. 51\n",
       "52. 52\n",
       "53. 53\n",
       "54. 54\n",
       "55. 55\n",
       "56. 56\n",
       "57. 57\n",
       "58. 58\n",
       "59. 59\n",
       "60. 60\n",
       "61. 61\n",
       "62. 62\n",
       "63. 63\n",
       "64. 64\n",
       "65. 65\n",
       "66. 66\n",
       "67. 67\n",
       "68. 68\n",
       "69. 69\n",
       "70. 70\n",
       "71. 71\n",
       "72. 72\n",
       "73. 73\n",
       "74. 74\n",
       "75. 75\n",
       "76. 76\n",
       "77. 77\n",
       "78. 78\n",
       "79. 79\n",
       "80. 80\n",
       "81. 81\n",
       "82. 82\n",
       "83. 83\n",
       "84. 84\n",
       "85. 85\n",
       "86. 86\n",
       "87. 87\n",
       "88. 88\n",
       "89. 89\n",
       "90. 90\n",
       "91. 91\n",
       "92. 92\n",
       "93. 93\n",
       "94. 94\n",
       "95. 95\n",
       "96. 96\n",
       "97. 97\n",
       "98. 98\n",
       "99. 99\n",
       "\n",
       "\n"
      ],
      "text/plain": [
       " [1]  1  2  3  4  5  6  7  8  9 10 11 12 13 14 15 16 17 18 19 20 21 22 23 24 25\n",
       "[26] 26 27 28 29 30 31 32 33 34 35 36 37 38 39 40 41 42 43 44 45 46 47 48 49 50\n",
       "[51] 51 52 53 54 55 56 57 58 59 60 61 62 63 64 65 66 67 68 69 70 71 72 73 74 75\n",
       "[76] 76 77 78 79 80 81 82 83 84 85 86 87 88 89 90 91 92 93 94 95 96 97 98 99"
      ]
     },
     "metadata": {},
     "output_type": "display_data"
    },
    {
     "data": {
      "text/html": [
       "<table>\n",
       "<caption>A matrix: 4 × 4 of type dbl</caption>\n",
       "<tbody>\n",
       "\t<tr><td>1</td><td>0</td><td>0</td><td>0</td></tr>\n",
       "\t<tr><td>0</td><td>1</td><td>0</td><td>0</td></tr>\n",
       "\t<tr><td>0</td><td>0</td><td>1</td><td>0</td></tr>\n",
       "\t<tr><td>0</td><td>0</td><td>0</td><td>1</td></tr>\n",
       "</tbody>\n",
       "</table>\n"
      ],
      "text/latex": [
       "A matrix: 4 × 4 of type dbl\n",
       "\\begin{tabular}{llll}\n",
       "\t 1 & 0 & 0 & 0\\\\\n",
       "\t 0 & 1 & 0 & 0\\\\\n",
       "\t 0 & 0 & 1 & 0\\\\\n",
       "\t 0 & 0 & 0 & 1\\\\\n",
       "\\end{tabular}\n"
      ],
      "text/markdown": [
       "\n",
       "A matrix: 4 × 4 of type dbl\n",
       "\n",
       "| 1 | 0 | 0 | 0 |\n",
       "| 0 | 1 | 0 | 0 |\n",
       "| 0 | 0 | 1 | 0 |\n",
       "| 0 | 0 | 0 | 1 |\n",
       "\n"
      ],
      "text/plain": [
       "     [,1] [,2] [,3] [,4]\n",
       "[1,] 1    0    0    0   \n",
       "[2,] 0    1    0    0   \n",
       "[3,] 0    0    1    0   \n",
       "[4,] 0    0    0    1   "
      ]
     },
     "metadata": {},
     "output_type": "display_data"
    },
    {
     "data": {
      "text/html": [
       "<table>\n",
       "<caption>A matrix: 3 × 3 of type dbl</caption>\n",
       "<tbody>\n",
       "\t<tr><td>3</td><td>1</td><td>1</td></tr>\n",
       "\t<tr><td>1</td><td>3</td><td>1</td></tr>\n",
       "\t<tr><td>1</td><td>1</td><td>3</td></tr>\n",
       "</tbody>\n",
       "</table>\n"
      ],
      "text/latex": [
       "A matrix: 3 × 3 of type dbl\n",
       "\\begin{tabular}{lll}\n",
       "\t 3 & 1 & 1\\\\\n",
       "\t 1 & 3 & 1\\\\\n",
       "\t 1 & 1 & 3\\\\\n",
       "\\end{tabular}\n"
      ],
      "text/markdown": [
       "\n",
       "A matrix: 3 × 3 of type dbl\n",
       "\n",
       "| 3 | 1 | 1 |\n",
       "| 1 | 3 | 1 |\n",
       "| 1 | 1 | 3 |\n",
       "\n"
      ],
      "text/plain": [
       "     [,1] [,2] [,3]\n",
       "[1,] 3    1    1   \n",
       "[2,] 1    3    1   \n",
       "[3,] 1    1    3   "
      ]
     },
     "metadata": {},
     "output_type": "display_data"
    },
    {
     "data": {
      "text/html": [
       "<style>\n",
       ".list-inline {list-style: none; margin:0; padding: 0}\n",
       ".list-inline>li {display: inline-block}\n",
       ".list-inline>li:not(:last-child)::after {content: \"\\00b7\"; padding: 0 .5ex}\n",
       "</style>\n",
       "<ol class=list-inline><li>1</li><li>2</li><li>3</li></ol>\n"
      ],
      "text/latex": [
       "\\begin{enumerate*}\n",
       "\\item 1\n",
       "\\item 2\n",
       "\\item 3\n",
       "\\end{enumerate*}\n"
      ],
      "text/markdown": [
       "1. 1\n",
       "2. 2\n",
       "3. 3\n",
       "\n",
       "\n"
      ],
      "text/plain": [
       "[1] 1 2 3"
      ]
     },
     "metadata": {},
     "output_type": "display_data"
    }
   ],
   "source": [
    "# matrix multiplication\n",
    "A <- diag(4) # this gives an 4 by 4 identity matrix\n",
    "diag(3)\n",
    "2*diag(3)\n",
    "2*diag(3) + 1\n",
    "1:99\n",
    "B <- 2*diag(3) + 1\n",
    "c <- 1:3\n",
    "A \n",
    "B\n",
    "c"
   ]
  },
  {
   "cell_type": "code",
   "execution_count": 5,
   "metadata": {},
   "outputs": [
    {
     "data": {
      "text/html": [
       "<table>\n",
       "<caption>A matrix: 3 × 3 of type dbl</caption>\n",
       "<tbody>\n",
       "\t<tr><td>3</td><td>0</td><td>0</td></tr>\n",
       "\t<tr><td>0</td><td>3</td><td>0</td></tr>\n",
       "\t<tr><td>0</td><td>0</td><td>3</td></tr>\n",
       "</tbody>\n",
       "</table>\n"
      ],
      "text/latex": [
       "A matrix: 3 × 3 of type dbl\n",
       "\\begin{tabular}{lll}\n",
       "\t 3 & 0 & 0\\\\\n",
       "\t 0 & 3 & 0\\\\\n",
       "\t 0 & 0 & 3\\\\\n",
       "\\end{tabular}\n"
      ],
      "text/markdown": [
       "\n",
       "A matrix: 3 × 3 of type dbl\n",
       "\n",
       "| 3 | 0 | 0 |\n",
       "| 0 | 3 | 0 |\n",
       "| 0 | 0 | 3 |\n",
       "\n"
      ],
      "text/plain": [
       "     [,1] [,2] [,3]\n",
       "[1,] 3    0    0   \n",
       "[2,] 0    3    0   \n",
       "[3,] 0    0    3   "
      ]
     },
     "metadata": {},
     "output_type": "display_data"
    },
    {
     "data": {
      "text/html": [
       "<table>\n",
       "<caption>A matrix: 3 × 3 of type dbl</caption>\n",
       "<tbody>\n",
       "\t<tr><td>3</td><td>1</td><td>1</td></tr>\n",
       "\t<tr><td>1</td><td>3</td><td>1</td></tr>\n",
       "\t<tr><td>1</td><td>1</td><td>3</td></tr>\n",
       "</tbody>\n",
       "</table>\n"
      ],
      "text/latex": [
       "A matrix: 3 × 3 of type dbl\n",
       "\\begin{tabular}{lll}\n",
       "\t 3 & 1 & 1\\\\\n",
       "\t 1 & 3 & 1\\\\\n",
       "\t 1 & 1 & 3\\\\\n",
       "\\end{tabular}\n"
      ],
      "text/markdown": [
       "\n",
       "A matrix: 3 × 3 of type dbl\n",
       "\n",
       "| 3 | 1 | 1 |\n",
       "| 1 | 3 | 1 |\n",
       "| 1 | 1 | 3 |\n",
       "\n"
      ],
      "text/plain": [
       "     [,1] [,2] [,3]\n",
       "[1,] 3    1    1   \n",
       "[2,] 1    3    1   \n",
       "[3,] 1    1    3   "
      ]
     },
     "metadata": {},
     "output_type": "display_data"
    }
   ],
   "source": [
    "A <- diag(3)\n",
    "A*B\n",
    "A %*% B"
   ]
  },
  {
   "cell_type": "code",
   "execution_count": 7,
   "metadata": {},
   "outputs": [
    {
     "data": {
      "text/html": [
       "<table>\n",
       "<caption>A matrix: 3 × 3 of type dbl</caption>\n",
       "<tbody>\n",
       "\t<tr><td>1</td><td>0</td><td>0</td></tr>\n",
       "\t<tr><td>0</td><td>1</td><td>0</td></tr>\n",
       "\t<tr><td>0</td><td>0</td><td>1</td></tr>\n",
       "</tbody>\n",
       "</table>\n"
      ],
      "text/latex": [
       "A matrix: 3 × 3 of type dbl\n",
       "\\begin{tabular}{lll}\n",
       "\t 1 & 0 & 0\\\\\n",
       "\t 0 & 1 & 0\\\\\n",
       "\t 0 & 0 & 1\\\\\n",
       "\\end{tabular}\n"
      ],
      "text/markdown": [
       "\n",
       "A matrix: 3 × 3 of type dbl\n",
       "\n",
       "| 1 | 0 | 0 |\n",
       "| 0 | 1 | 0 |\n",
       "| 0 | 0 | 1 |\n",
       "\n"
      ],
      "text/plain": [
       "     [,1] [,2] [,3]\n",
       "[1,] 1    0    0   \n",
       "[2,] 0    1    0   \n",
       "[3,] 0    0    1   "
      ]
     },
     "metadata": {},
     "output_type": "display_data"
    }
   ],
   "source": [
    "A"
   ]
  },
  {
   "cell_type": "code",
   "execution_count": 17,
   "metadata": {},
   "outputs": [
    {
     "data": {
      "text/html": [
       "<table>\n",
       "<tbody>\n",
       "\t<tr><td>3</td><td>1</td><td>1</td></tr>\n",
       "\t<tr><td>2</td><td>6</td><td>2</td></tr>\n",
       "\t<tr><td>3</td><td>3</td><td>9</td></tr>\n",
       "</tbody>\n",
       "</table>\n"
      ],
      "text/latex": [
       "\\begin{tabular}{lll}\n",
       "\t 3 & 1 & 1\\\\\n",
       "\t 2 & 6 & 2\\\\\n",
       "\t 3 & 3 & 9\\\\\n",
       "\\end{tabular}\n"
      ],
      "text/markdown": [
       "1. 3\n",
       "2. 2\n",
       "3. 3\n",
       "4. 1\n",
       "5. 6\n",
       "6. 3\n",
       "7. 1\n",
       "8. 2\n",
       "9. 9\n",
       "\n",
       "\n"
      ],
      "text/plain": [
       "     [,1] [,2] [,3]\n",
       "[1,]    3    1    1\n",
       "[2,]    2    6    2\n",
       "[3,]    3    3    9"
      ]
     },
     "execution_count": 17,
     "metadata": {},
     "output_type": "execute_result"
    },
    {
     "data": {
      "text/html": [
       "<table>\n",
       "<tbody>\n",
       "\t<tr><td>8</td></tr>\n",
       "\t<tr><td>10</td></tr>\n",
       "\t<tr><td>12</td></tr>\n",
       "</tbody>\n",
       "</table>\n"
      ],
      "text/latex": [
       "\\begin{tabular}{l}\n",
       "\t 8\\\\\n",
       "\t 10\\\\\n",
       "\t 12\\\\\n",
       "\\end{tabular}\n"
      ],
      "text/markdown": [
       "1. 8\n",
       "2. 10\n",
       "3. 12\n",
       "\n",
       "\n"
      ],
      "text/plain": [
       "     [,1]\n",
       "[1,]    8\n",
       "[2,]   10\n",
       "[3,]   12"
      ]
     },
     "execution_count": 17,
     "metadata": {},
     "output_type": "execute_result"
    },
    {
     "data": {
      "text/html": [
       "<table>\n",
       "<tbody>\n",
       "\t<tr><td>NA</td><td>NA</td><td>NA</td></tr>\n",
       "\t<tr><td>NA</td><td>NA</td><td>NA</td></tr>\n",
       "</tbody>\n",
       "</table>\n"
      ],
      "text/latex": [
       "\\begin{tabular}{lll}\n",
       "\t NA & NA & NA\\\\\n",
       "\t NA & NA & NA\\\\\n",
       "\\end{tabular}\n"
      ],
      "text/markdown": [
       "1. NA\n",
       "2. NA\n",
       "3. NA\n",
       "4. NA\n",
       "5. NA\n",
       "6. NA\n",
       "\n",
       "\n"
      ],
      "text/plain": [
       "     [,1] [,2] [,3]\n",
       "[1,]   NA   NA   NA\n",
       "[2,]   NA   NA   NA"
      ]
     },
     "execution_count": 17,
     "metadata": {},
     "output_type": "execute_result"
    },
    {
     "data": {
      "text/html": [
       "<table>\n",
       "<tbody>\n",
       "\t<tr><td> 1</td><td>NA</td><td>NA</td></tr>\n",
       "\t<tr><td> 2</td><td>NA</td><td>NA</td></tr>\n",
       "</tbody>\n",
       "</table>\n"
      ],
      "text/latex": [
       "\\begin{tabular}{lll}\n",
       "\t  1 & NA & NA\\\\\n",
       "\t  2 & NA & NA\\\\\n",
       "\\end{tabular}\n"
      ],
      "text/markdown": [
       "1. 1\n",
       "2. 2\n",
       "3. NA\n",
       "4. NA\n",
       "5. NA\n",
       "6. NA\n",
       "\n",
       "\n"
      ],
      "text/plain": [
       "     [,1] [,2] [,3]\n",
       "[1,]    1   NA   NA\n",
       "[2,]    2   NA   NA"
      ]
     },
     "execution_count": 17,
     "metadata": {},
     "output_type": "execute_result"
    },
    {
     "data": {
      "text/html": [
       "<table>\n",
       "<tbody>\n",
       "\t<tr><td>1.0</td><td>0.4</td><td> NA</td></tr>\n",
       "\t<tr><td> 2</td><td> 2</td><td>NA</td></tr>\n",
       "</tbody>\n",
       "</table>\n"
      ],
      "text/latex": [
       "\\begin{tabular}{lll}\n",
       "\t 1.0 & 0.4 &  NA\\\\\n",
       "\t  2 &  2 & NA\\\\\n",
       "\\end{tabular}\n"
      ],
      "text/markdown": [
       "1. 1\n",
       "2. 2\n",
       "3. 0.4\n",
       "4. 2\n",
       "5. NA\n",
       "6. NA\n",
       "\n",
       "\n"
      ],
      "text/plain": [
       "     [,1] [,2] [,3]\n",
       "[1,]    1  0.4   NA\n",
       "[2,]    2  2.0   NA"
      ]
     },
     "execution_count": 17,
     "metadata": {},
     "output_type": "execute_result"
    },
    {
     "data": {
      "text/html": [
       "<table>\n",
       "<tbody>\n",
       "\t<tr><td>1  </td><td>0.4</td><td>a  </td></tr>\n",
       "\t<tr><td>2</td><td>2</td><td>n</td></tr>\n",
       "</tbody>\n",
       "</table>\n"
      ],
      "text/latex": [
       "\\begin{tabular}{lll}\n",
       "\t 1   & 0.4 & a  \\\\\n",
       "\t 2 & 2 & n\\\\\n",
       "\\end{tabular}\n"
      ],
      "text/markdown": [
       "1. \"1\"\n",
       "2. \"2\"\n",
       "3. \"0.4\"\n",
       "4. \"2\"\n",
       "5. \"a\"\n",
       "6. \"n\"\n",
       "\n",
       "\n"
      ],
      "text/plain": [
       "     [,1] [,2]  [,3]\n",
       "[1,] \"1\"  \"0.4\" \"a\" \n",
       "[2,] \"2\"  \"2\"   \"n\" "
      ]
     },
     "execution_count": 17,
     "metadata": {},
     "output_type": "execute_result"
    }
   ],
   "source": [
    "B*c\n",
    "B %*% c\n",
    "# create a matrix of placeholders \n",
    "x <- matrix(nrow=2, ncol=3)\n",
    "x\n",
    "x[,1] <- 1:2\n",
    "x\n",
    "x[,2] <- c(0.4, 2)\n",
    "x\n",
    "x[,3] <- c('a', 'n')\n",
    "x"
   ]
  },
  {
   "cell_type": "markdown",
   "metadata": {},
   "source": [
    "norm --> normal distribution\n",
    "exp --> exponential distribution\n",
    "t --> t distribution\n",
    "chi --> chi square\n",
    "\n",
    "p --> cdf\n",
    "d --> pdf\n",
    "r --> random numbers\n",
    "q --> quantile function "
   ]
  },
  {
   "cell_type": "code",
   "execution_count": 25,
   "metadata": {},
   "outputs": [
    {
     "data": {
      "text/html": [
       "<ol class=list-inline>\n",
       "\t<li>1.27757054826749</li>\n",
       "\t<li>-0.46889714697927</li>\n",
       "\t<li>0.0710541016948987</li>\n",
       "\t<li>-0.266038449752264</li>\n",
       "\t<li>1.84525719527636</li>\n",
       "\t<li>-0.839449657452848</li>\n",
       "\t<li>-0.0774480586361737</li>\n",
       "\t<li>-2.61770552626739</li>\n",
       "\t<li>0.887884025816091</li>\n",
       "\t<li>-0.707491446297652</li>\n",
       "</ol>\n"
      ],
      "text/latex": [
       "\\begin{enumerate*}\n",
       "\\item 1.27757054826749\n",
       "\\item -0.46889714697927\n",
       "\\item 0.0710541016948987\n",
       "\\item -0.266038449752264\n",
       "\\item 1.84525719527636\n",
       "\\item -0.839449657452848\n",
       "\\item -0.0774480586361737\n",
       "\\item -2.61770552626739\n",
       "\\item 0.887884025816091\n",
       "\\item -0.707491446297652\n",
       "\\end{enumerate*}\n"
      ],
      "text/markdown": [
       "1. 1.27757054826749\n",
       "2. -0.46889714697927\n",
       "3. 0.0710541016948987\n",
       "4. -0.266038449752264\n",
       "5. 1.84525719527636\n",
       "6. -0.839449657452848\n",
       "7. -0.0774480586361737\n",
       "8. -2.61770552626739\n",
       "9. 0.887884025816091\n",
       "10. -0.707491446297652\n",
       "\n",
       "\n"
      ],
      "text/plain": [
       " [1]  1.27757055 -0.46889715  0.07105410 -0.26603845  1.84525720 -0.83944966\n",
       " [7] -0.07744806 -2.61770553  0.88788403 -0.70749145"
      ]
     },
     "execution_count": 25,
     "metadata": {},
     "output_type": "execute_result"
    },
    {
     "data": {
      "text/html": [
       "<table>\n",
       "<tbody>\n",
       "\t<tr><td> 1.27757055</td><td> 0.07105410</td><td> 1.84525720</td><td>-0.07744806</td><td> 0.88788403</td></tr>\n",
       "\t<tr><td>-0.4688971</td><td>-0.2660384</td><td>-0.8394497</td><td>-2.6177055</td><td>-0.7074914</td></tr>\n",
       "</tbody>\n",
       "</table>\n"
      ],
      "text/latex": [
       "\\begin{tabular}{lllll}\n",
       "\t  1.27757055 &  0.07105410 &  1.84525720 & -0.07744806 &  0.88788403\\\\\n",
       "\t -0.4688971 & -0.2660384 & -0.8394497 & -2.6177055 & -0.7074914\\\\\n",
       "\\end{tabular}\n"
      ],
      "text/markdown": [
       "1. 1.27757054826749\n",
       "2. -0.46889714697927\n",
       "3. 0.0710541016948987\n",
       "4. -0.266038449752264\n",
       "5. 1.84525719527636\n",
       "6. -0.839449657452848\n",
       "7. -0.0774480586361737\n",
       "8. -2.61770552626739\n",
       "9. 0.887884025816091\n",
       "10. -0.707491446297652\n",
       "\n",
       "\n"
      ],
      "text/plain": [
       "           [,1]       [,2]       [,3]        [,4]       [,5]\n",
       "[1,]  1.2775705  0.0710541  1.8452572 -0.07744806  0.8878840\n",
       "[2,] -0.4688971 -0.2660384 -0.8394497 -2.61770553 -0.7074914"
      ]
     },
     "execution_count": 25,
     "metadata": {},
     "output_type": "execute_result"
    }
   ],
   "source": [
    "# restructure in to a matrix\n",
    "# set.seed(9)\n",
    "xx <- rnorm(10)\n",
    "xx \n",
    "matrix(xx, nrow = 2)"
   ]
  },
  {
   "cell_type": "code",
   "execution_count": 27,
   "metadata": {},
   "outputs": [
    {
     "data": {
      "text/html": [
       "<ol class=list-inline>\n",
       "\t<li>1.97215349238194</li>\n",
       "\t<li>-0.223392704894068</li>\n",
       "\t<li>-0.362732363000036</li>\n",
       "\t<li>0.42144885528722</li>\n",
       "\t<li>1.75465077942192</li>\n",
       "\t<li>-0.254596374065592</li>\n",
       "\t<li>0.202707489700106</li>\n",
       "\t<li>-1.03862876988448</li>\n",
       "\t<li>-0.850162509861383</li>\n",
       "\t<li>0.0414314288474978</li>\n",
       "\t<li>-0.287071782318813</li>\n",
       "\t<li>0.247496771173947</li>\n",
       "\t<li>1.70776513929903</li>\n",
       "\t<li>0.86398897881926</li>\n",
       "\t<li>0.297389566158993</li>\n",
       "\t<li>-1.19256410703148</li>\n",
       "\t<li>1.33898007475384</li>\n",
       "\t<li>-0.0367010259317287</li>\n",
       "\t<li>-1.19709188008636</li>\n",
       "\t<li>3.77354713660573</li>\n",
       "</ol>\n"
      ],
      "text/latex": [
       "\\begin{enumerate*}\n",
       "\\item 1.97215349238194\n",
       "\\item -0.223392704894068\n",
       "\\item -0.362732363000036\n",
       "\\item 0.42144885528722\n",
       "\\item 1.75465077942192\n",
       "\\item -0.254596374065592\n",
       "\\item 0.202707489700106\n",
       "\\item -1.03862876988448\n",
       "\\item -0.850162509861383\n",
       "\\item 0.0414314288474978\n",
       "\\item -0.287071782318813\n",
       "\\item 0.247496771173947\n",
       "\\item 1.70776513929903\n",
       "\\item 0.86398897881926\n",
       "\\item 0.297389566158993\n",
       "\\item -1.19256410703148\n",
       "\\item 1.33898007475384\n",
       "\\item -0.0367010259317287\n",
       "\\item -1.19709188008636\n",
       "\\item 3.77354713660573\n",
       "\\end{enumerate*}\n"
      ],
      "text/markdown": [
       "1. 1.97215349238194\n",
       "2. -0.223392704894068\n",
       "3. -0.362732363000036\n",
       "4. 0.42144885528722\n",
       "5. 1.75465077942192\n",
       "6. -0.254596374065592\n",
       "7. 0.202707489700106\n",
       "8. -1.03862876988448\n",
       "9. -0.850162509861383\n",
       "10. 0.0414314288474978\n",
       "11. -0.287071782318813\n",
       "12. 0.247496771173947\n",
       "13. 1.70776513929903\n",
       "14. 0.86398897881926\n",
       "15. 0.297389566158993\n",
       "16. -1.19256410703148\n",
       "17. 1.33898007475384\n",
       "18. -0.0367010259317287\n",
       "19. -1.19709188008636\n",
       "20. 3.77354713660573\n",
       "\n",
       "\n"
      ],
      "text/plain": [
       " [1]  1.97215349 -0.22339270 -0.36273236  0.42144886  1.75465078 -0.25459637\n",
       " [7]  0.20270749 -1.03862877 -0.85016251  0.04143143 -0.28707178  0.24749677\n",
       "[13]  1.70776514  0.86398898  0.29738957 -1.19256411  1.33898007 -0.03670103\n",
       "[19] -1.19709188  3.77354714"
      ]
     },
     "execution_count": 27,
     "metadata": {},
     "output_type": "execute_result"
    }
   ],
   "source": [
    "rt(20, df=3)"
   ]
  },
  {
   "cell_type": "code",
   "execution_count": 28,
   "metadata": {},
   "outputs": [
    {
     "data": {
      "text/html": [
       "<ol class=list-inline>\n",
       "\t<li>-0.411298672972448</li>\n",
       "\t<li>-0.0639468081696976</li>\n",
       "\t<li>-1.11516173989077</li>\n",
       "\t<li>1.66383163610383</li>\n",
       "\t<li>-0.597882646463569</li>\n",
       "\t<li>-0.411298672972448</li>\n",
       "\t<li>-0.0639468081696976</li>\n",
       "\t<li>-1.11516173989077</li>\n",
       "\t<li>1.66383163610383</li>\n",
       "\t<li>-0.597882646463569</li>\n",
       "\t<li>-0.411298672972448</li>\n",
       "\t<li>-0.0639468081696976</li>\n",
       "\t<li>-1.11516173989077</li>\n",
       "\t<li>1.66383163610383</li>\n",
       "\t<li>-0.597882646463569</li>\n",
       "</ol>\n"
      ],
      "text/latex": [
       "\\begin{enumerate*}\n",
       "\\item -0.411298672972448\n",
       "\\item -0.0639468081696976\n",
       "\\item -1.11516173989077\n",
       "\\item 1.66383163610383\n",
       "\\item -0.597882646463569\n",
       "\\item -0.411298672972448\n",
       "\\item -0.0639468081696976\n",
       "\\item -1.11516173989077\n",
       "\\item 1.66383163610383\n",
       "\\item -0.597882646463569\n",
       "\\item -0.411298672972448\n",
       "\\item -0.0639468081696976\n",
       "\\item -1.11516173989077\n",
       "\\item 1.66383163610383\n",
       "\\item -0.597882646463569\n",
       "\\end{enumerate*}\n"
      ],
      "text/markdown": [
       "1. -0.411298672972448\n",
       "2. -0.0639468081696976\n",
       "3. -1.11516173989077\n",
       "4. 1.66383163610383\n",
       "5. -0.597882646463569\n",
       "6. -0.411298672972448\n",
       "7. -0.0639468081696976\n",
       "8. -1.11516173989077\n",
       "9. 1.66383163610383\n",
       "10. -0.597882646463569\n",
       "11. -0.411298672972448\n",
       "12. -0.0639468081696976\n",
       "13. -1.11516173989077\n",
       "14. 1.66383163610383\n",
       "15. -0.597882646463569\n",
       "\n",
       "\n"
      ],
      "text/plain": [
       " [1] -0.41129867 -0.06394681 -1.11516174  1.66383164 -0.59788265 -0.41129867\n",
       " [7] -0.06394681 -1.11516174  1.66383164 -0.59788265 -0.41129867 -0.06394681\n",
       "[13] -1.11516174  1.66383164 -0.59788265"
      ]
     },
     "execution_count": 28,
     "metadata": {},
     "output_type": "execute_result"
    }
   ],
   "source": [
    "rep(rnorm(5), 3)"
   ]
  },
  {
   "cell_type": "code",
   "execution_count": 29,
   "metadata": {},
   "outputs": [
    {
     "data": {
      "text/html": [
       "<table>\n",
       "<tbody>\n",
       "\t<tr><td> 0.04958167</td><td> 0.06864004</td><td> 0.22303246</td><td>-0.90292363</td><td> 1.74490632</td><td>-0.38750436</td><td>-0.85718818</td><td> 1.30545037</td><td> 0.49966871</td><td> 0.20580926</td></tr>\n",
       "\t<tr><td>-0.06927852</td><td>-0.20333268</td><td>-0.26676468</td><td>-1.82313081</td><td> 1.11558459</td><td> 0.45870209</td><td>-1.39904198</td><td>-1.04145084</td><td>-0.46654000</td><td> 1.04005403</td></tr>\n",
       "\t<tr><td> 2.2042779</td><td>-0.1427796</td><td> 0.4158586</td><td> 0.9347283</td><td>-0.8055499</td><td> 1.4567708</td><td>-2.0815113</td><td>-0.2411034</td><td>-0.7999266</td><td> 0.4752771</td></tr>\n",
       "\t<tr><td>-0.04394596</td><td> 0.67908260</td><td>-0.60014006</td><td> 0.24003298</td><td> 0.50084207</td><td> 1.14705179</td><td> 2.14941230</td><td> 0.78318234</td><td> 1.51297829</td><td>-0.74198746</td></tr>\n",
       "\t<tr><td>-0.8853373</td><td>-0.6892239</td><td> 2.2304390</td><td> 0.8418079</td><td> 0.2928487</td><td> 0.5034303</td><td>-0.4335609</td><td>-0.2690726</td><td>-1.3954440</td><td>-1.6816948</td></tr>\n",
       "\t<tr><td>-0.4654244</td><td> 1.0245900</td><td> 0.6371440</td><td> 0.9683301</td><td> 0.1331178</td><td>-0.5459518</td><td>-0.9261268</td><td> 0.4975124</td><td>-1.9116474</td><td> 1.0912161</td></tr>\n",
       "</tbody>\n",
       "</table>\n"
      ],
      "text/latex": [
       "\\begin{tabular}{llllllllll}\n",
       "\t  0.04958167 &  0.06864004 &  0.22303246 & -0.90292363 &  1.74490632 & -0.38750436 & -0.85718818 &  1.30545037 &  0.49966871 &  0.20580926\\\\\n",
       "\t -0.06927852 & -0.20333268 & -0.26676468 & -1.82313081 &  1.11558459 &  0.45870209 & -1.39904198 & -1.04145084 & -0.46654000 &  1.04005403\\\\\n",
       "\t  2.2042779 & -0.1427796 &  0.4158586 &  0.9347283 & -0.8055499 &  1.4567708 & -2.0815113 & -0.2411034 & -0.7999266 &  0.4752771\\\\\n",
       "\t -0.04394596 &  0.67908260 & -0.60014006 &  0.24003298 &  0.50084207 &  1.14705179 &  2.14941230 &  0.78318234 &  1.51297829 & -0.74198746\\\\\n",
       "\t -0.8853373 & -0.6892239 &  2.2304390 &  0.8418079 &  0.2928487 &  0.5034303 & -0.4335609 & -0.2690726 & -1.3954440 & -1.6816948\\\\\n",
       "\t -0.4654244 &  1.0245900 &  0.6371440 &  0.9683301 &  0.1331178 & -0.5459518 & -0.9261268 &  0.4975124 & -1.9116474 &  1.0912161\\\\\n",
       "\\end{tabular}\n"
      ],
      "text/markdown": [
       "1. 0.0495816663051343\n",
       "2. -0.0692785180640704\n",
       "3. 2.20427791392049\n",
       "4. -0.043945957456519\n",
       "5. -0.885337277066617\n",
       "6. -0.465424393550368\n",
       "7. 0.068640042987732\n",
       "8. -0.203332683117988\n",
       "9. -0.142779563037207\n",
       "10. 0.679082596011358\n",
       "11. -0.689223868050191\n",
       "12. 1.024589960853\n",
       "13. 0.223032460913651\n",
       "14. -0.266764684480168\n",
       "15. 0.415858577580332\n",
       "16. -0.600140059184037\n",
       "17. 2.23043895696753\n",
       "18. 0.637144015733813\n",
       "19. -0.902923628908915\n",
       "20. -1.82313081028263\n",
       "21. 0.934728295620399\n",
       "22. 0.240032978413685\n",
       "23. 0.841807859290451\n",
       "24. 0.96833008148856\n",
       "25. 1.74490632039983\n",
       "26. 1.11558458822199\n",
       "27. -0.80554994180738\n",
       "28. 0.500842067238993\n",
       "29. 0.292848703010651\n",
       "30. 0.133117777809884\n",
       "31. -0.387504356350654\n",
       "32. 0.458702090008965\n",
       "33. 1.45677079274434\n",
       "34. 1.14705179032114\n",
       "35. 0.50343029089772\n",
       "36. -0.545951757458733\n",
       "37. -0.857188178343603\n",
       "38. -1.39904198308336\n",
       "39. -2.08151129674539\n",
       "40. 2.14941230357823\n",
       "41. -0.433560881891024\n",
       "42. -0.926126779310432\n",
       "43. 1.30545036988821\n",
       "44. -1.04145084245719\n",
       "45. -0.241103441016183\n",
       "46. 0.783182335514328\n",
       "47. -0.269072582438\n",
       "48. 0.4975124106857\n",
       "49. 0.499668711635884\n",
       "50. -0.466539997340956\n",
       "51. -0.799926586191368\n",
       "52. 1.5129782898606\n",
       "53. -1.39544395522525\n",
       "54. -1.91164739213898\n",
       "55. 0.205809263962153\n",
       "56. 1.04005402670756\n",
       "57. 0.475277107137711\n",
       "58. -0.741987457073982\n",
       "59. -1.68169482070439\n",
       "60. 1.09121613956712\n",
       "\n",
       "\n"
      ],
      "text/plain": [
       "            [,1]        [,2]       [,3]       [,4]       [,5]       [,6]\n",
       "[1,]  0.04958167  0.06864004  0.2230325 -0.9029236  1.7449063 -0.3875044\n",
       "[2,] -0.06927852 -0.20333268 -0.2667647 -1.8231308  1.1155846  0.4587021\n",
       "[3,]  2.20427791 -0.14277956  0.4158586  0.9347283 -0.8055499  1.4567708\n",
       "[4,] -0.04394596  0.67908260 -0.6001401  0.2400330  0.5008421  1.1470518\n",
       "[5,] -0.88533728 -0.68922387  2.2304390  0.8418079  0.2928487  0.5034303\n",
       "[6,] -0.46542439  1.02458996  0.6371440  0.9683301  0.1331178 -0.5459518\n",
       "           [,7]       [,8]       [,9]      [,10]\n",
       "[1,] -0.8571882  1.3054504  0.4996687  0.2058093\n",
       "[2,] -1.3990420 -1.0414508 -0.4665400  1.0400540\n",
       "[3,] -2.0815113 -0.2411034 -0.7999266  0.4752771\n",
       "[4,]  2.1494123  0.7831823  1.5129783 -0.7419875\n",
       "[5,] -0.4335609 -0.2690726 -1.3954440 -1.6816948\n",
       "[6,] -0.9261268  0.4975124 -1.9116474  1.0912161"
      ]
     },
     "execution_count": 29,
     "metadata": {},
     "output_type": "execute_result"
    }
   ],
   "source": [
    "replicate(10, rnorm(6))"
   ]
  },
  {
   "cell_type": "code",
   "execution_count": 32,
   "metadata": {},
   "outputs": [
    {
     "data": {
      "text/html": [
       "-0.110456478644367"
      ],
      "text/latex": [
       "-0.110456478644367"
      ],
      "text/markdown": [
       "-0.110456478644367"
      ],
      "text/plain": [
       "[1] -0.1104565"
      ]
     },
     "execution_count": 32,
     "metadata": {},
     "output_type": "execute_result"
    },
    {
     "data": {
      "text/html": [
       "<ol class=list-inline>\n",
       "\t<li>7.02921529497155</li>\n",
       "\t<li>2.46761223066509</li>\n",
       "\t<li>2.12000729027019</li>\n",
       "\t<li>1.29844085590446</li>\n",
       "\t<li>0.922293954208015</li>\n",
       "</ol>\n"
      ],
      "text/latex": [
       "\\begin{enumerate*}\n",
       "\\item 7.02921529497155\n",
       "\\item 2.46761223066509\n",
       "\\item 2.12000729027019\n",
       "\\item 1.29844085590446\n",
       "\\item 0.922293954208015\n",
       "\\end{enumerate*}\n"
      ],
      "text/markdown": [
       "1. 7.02921529497155\n",
       "2. 2.46761223066509\n",
       "3. 2.12000729027019\n",
       "4. 1.29844085590446\n",
       "5. 0.922293954208015\n",
       "\n",
       "\n"
      ],
      "text/plain": [
       "[1] 7.029215 2.467612 2.120007 1.298441 0.922294"
      ]
     },
     "execution_count": 32,
     "metadata": {},
     "output_type": "execute_result"
    },
    {
     "data": {
      "text/html": [
       "<ol class=list-inline>\n",
       "\t<li>0.754838552955526</li>\n",
       "\t<li>5.29034061665741</li>\n",
       "\t<li>1.6597432268291</li>\n",
       "\t<li>1.35332884191615</li>\n",
       "\t<li>2.03382165965573</li>\n",
       "\t<li>1.97734793355042</li>\n",
       "\t<li>1.2268655827989</li>\n",
       "\t<li>1.37754916674588</li>\n",
       "\t<li>0.612106898625412</li>\n",
       "\t<li>8.86860792616867</li>\n",
       "</ol>\n"
      ],
      "text/latex": [
       "\\begin{enumerate*}\n",
       "\\item 0.754838552955526\n",
       "\\item 5.29034061665741\n",
       "\\item 1.6597432268291\n",
       "\\item 1.35332884191615\n",
       "\\item 2.03382165965573\n",
       "\\item 1.97734793355042\n",
       "\\item 1.2268655827989\n",
       "\\item 1.37754916674588\n",
       "\\item 0.612106898625412\n",
       "\\item 8.86860792616867\n",
       "\\end{enumerate*}\n"
      ],
      "text/markdown": [
       "1. 0.754838552955526\n",
       "2. 5.29034061665741\n",
       "3. 1.6597432268291\n",
       "4. 1.35332884191615\n",
       "5. 2.03382165965573\n",
       "6. 1.97734793355042\n",
       "7. 1.2268655827989\n",
       "8. 1.37754916674588\n",
       "9. 0.612106898625412\n",
       "10. 8.86860792616867\n",
       "\n",
       "\n"
      ],
      "text/plain": [
       " [1] 0.7548386 5.2903406 1.6597432 1.3533288 2.0338217 1.9773479 1.2268656\n",
       " [8] 1.3775492 0.6121069 8.8686079"
      ]
     },
     "execution_count": 32,
     "metadata": {},
     "output_type": "execute_result"
    },
    {
     "data": {
      "text/html": [
       "<ol class=list-inline>\n",
       "\t<li>-0.35551097892771</li>\n",
       "\t<li>0.689387736044481</li>\n",
       "\t<li>-0.109627071893797</li>\n",
       "\t<li>-0.598071851264164</li>\n",
       "\t<li>-0.178460227180643</li>\n",
       "</ol>\n"
      ],
      "text/latex": [
       "\\begin{enumerate*}\n",
       "\\item -0.35551097892771\n",
       "\\item 0.689387736044481\n",
       "\\item -0.109627071893797\n",
       "\\item -0.598071851264164\n",
       "\\item -0.178460227180643\n",
       "\\end{enumerate*}\n"
      ],
      "text/markdown": [
       "1. -0.35551097892771\n",
       "2. 0.689387736044481\n",
       "3. -0.109627071893797\n",
       "4. -0.598071851264164\n",
       "5. -0.178460227180643\n",
       "\n",
       "\n"
      ],
      "text/plain": [
       "[1] -0.3555110  0.6893877 -0.1096271 -0.5980719 -0.1784602"
      ]
     },
     "execution_count": 32,
     "metadata": {},
     "output_type": "execute_result"
    },
    {
     "data": {
      "text/html": [
       "<ol class=list-inline>\n",
       "\t<li>-0.41777082805474</li>\n",
       "\t<li>2.94000775371187</li>\n",
       "\t<li>0.263570063355158</li>\n",
       "\t<li>-0.0694322435010714</li>\n",
       "\t<li>0.00590131577300836</li>\n",
       "\t<li>-1.64723616721448</li>\n",
       "\t<li>-0.0265258553391177</li>\n",
       "\t<li>-0.344823847362649</li>\n",
       "\t<li>0.16921961698756</li>\n",
       "\t<li>-1.97747459479921</li>\n",
       "</ol>\n"
      ],
      "text/latex": [
       "\\begin{enumerate*}\n",
       "\\item -0.41777082805474\n",
       "\\item 2.94000775371187\n",
       "\\item 0.263570063355158\n",
       "\\item -0.0694322435010714\n",
       "\\item 0.00590131577300836\n",
       "\\item -1.64723616721448\n",
       "\\item -0.0265258553391177\n",
       "\\item -0.344823847362649\n",
       "\\item 0.16921961698756\n",
       "\\item -1.97747459479921\n",
       "\\end{enumerate*}\n"
      ],
      "text/markdown": [
       "1. -0.41777082805474\n",
       "2. 2.94000775371187\n",
       "3. 0.263570063355158\n",
       "4. -0.0694322435010714\n",
       "5. 0.00590131577300836\n",
       "6. -1.64723616721448\n",
       "7. -0.0265258553391177\n",
       "8. -0.344823847362649\n",
       "9. 0.16921961698756\n",
       "10. -1.97747459479921\n",
       "\n",
       "\n"
      ],
      "text/plain": [
       " [1] -0.417770828  2.940007754  0.263570063 -0.069432244  0.005901316\n",
       " [6] -1.647236167 -0.026525855 -0.344823847  0.169219617 -1.977474595"
      ]
     },
     "execution_count": 32,
     "metadata": {},
     "output_type": "execute_result"
    }
   ],
   "source": [
    "# randomly create a matrix \n",
    "set.seed(0)\n",
    "A <- replicate(5, rt(10, df=1))\n",
    "#A\n",
    "\n",
    "# for finding means columnwise and rowwise, \n",
    "# we use the functions colMeans and rowMeans respectively\n",
    "colMeans(A)\n",
    "rowMeans(A)\n",
    "\n",
    "# note that mean(A) returns the mean of all entries in A\n",
    "mean(A)\n",
    "\n",
    "# However, for standard deviations, we use \"apply\"\n",
    "# apply a function to a matrix columnwise\n",
    "apply(A, 2, sd)\n",
    "\n",
    "# apply a function to a matrix columnwise\n",
    "apply(A, 1, sd)\n",
    "\n",
    "# of course, we can also use \"apply\" for columnwise and rowwise means\n",
    "apply(A, 2, mean) # same as colMeans\n",
    "apply(A, 1, mean) # same as rowMeans"
   ]
  },
  {
   "cell_type": "code",
   "execution_count": 35,
   "metadata": {
    "collapsed": true
   },
   "outputs": [],
   "source": [
    "# rescale the plot\n",
    "options(repr.plot.width=4, repr.plot.height=4)"
   ]
  },
  {
   "cell_type": "code",
   "execution_count": 41,
   "metadata": {},
   "outputs": [
    {
     "data": {
      "application/pdf": "[encoded data removed]",
      "image/jpeg": "[encoded data removed]",
      "image/png": "[encoded data removed]",
      "image/svg+xml": [
       "<?xml version=\"1.0\" encoding=\"UTF-8\"?>\n",
       "<svg xmlns=\"http://www.w3.org/2000/svg\" xmlns:xlink=\"http://www.w3.org/1999/xlink\" width=\"288pt\" height=\"288pt\" viewBox=\"0 0 288 288\" version=\"1.1\">\n",
       "<defs>\n",
       "<g>\n",
       "<symbol overflow=\"visible\" id=\"glyph0-0\">\n",
       "<path style=\"stroke:none;\" d=\"M 0.5 -4.234375 C 0.496094 -5.246094 0.601563 -6.0625 0.8125 -6.6875 C 1.019531 -7.304688 1.328125 -7.785156 1.742188 -8.121094 C 2.148438 -8.457031 2.667969 -8.625 3.296875 -8.625 C 3.757813 -8.625 4.164063 -8.53125 4.511719 -8.347656 C 4.855469 -8.160156 5.140625 -7.890625 5.371094 -7.542969 C 5.59375 -7.191406 5.773438 -6.765625 5.90625 -6.265625 C 6.035156 -5.761719 6.097656 -5.085938 6.101563 -4.234375 C 6.097656 -3.226563 5.996094 -2.414063 5.789063 -1.796875 C 5.578125 -1.175781 5.265625 -0.695313 4.859375 -0.359375 C 4.445313 -0.0195313 3.925781 0.144531 3.296875 0.148438 C 2.464844 0.144531 1.816406 -0.148438 1.347656 -0.742188 C 0.78125 -1.457031 0.496094 -2.621094 0.5 -4.234375 Z M 1.582031 -4.234375 C 1.582031 -2.824219 1.746094 -1.886719 2.074219 -1.417969 C 2.402344 -0.949219 2.808594 -0.714844 3.296875 -0.71875 C 3.777344 -0.714844 4.183594 -0.949219 4.519531 -1.421875 C 4.847656 -1.886719 5.015625 -2.824219 5.015625 -4.234375 C 5.015625 -5.648438 4.847656 -6.589844 4.519531 -7.054688 C 4.183594 -7.515625 3.773438 -7.746094 3.289063 -7.75 C 2.800781 -7.746094 2.414063 -7.542969 2.125 -7.136719 C 1.761719 -6.613281 1.582031 -5.644531 1.582031 -4.234375 Z M 1.582031 -4.234375 \"/>\n",
       "</symbol>\n",
       "<symbol overflow=\"visible\" id=\"glyph0-1\">\n",
       "<path style=\"stroke:none;\" d=\"M 4.46875 0 L 3.414063 0 L 3.414063 -6.71875 C 3.160156 -6.476563 2.828125 -6.234375 2.414063 -5.996094 C 2 -5.75 1.628906 -5.570313 1.304688 -5.449219 L 1.304688 -6.46875 C 1.894531 -6.742188 2.410156 -7.078125 2.851563 -7.476563 C 3.292969 -7.871094 3.605469 -8.253906 3.789063 -8.625 L 4.46875 -8.625 Z M 4.46875 0 \"/>\n",
       "</symbol>\n",
       "<symbol overflow=\"visible\" id=\"glyph0-2\">\n",
       "<path style=\"stroke:none;\" d=\"M 6.039063 -1.015625 L 6.039063 0 L 0.363281 0 C 0.355469 -0.253906 0.394531 -0.496094 0.484375 -0.734375 C 0.628906 -1.117188 0.859375 -1.5 1.179688 -1.875 C 1.492188 -2.25 1.953125 -2.683594 2.5625 -3.175781 C 3.492188 -3.941406 4.125 -4.546875 4.453125 -4.992188 C 4.78125 -5.4375 4.945313 -5.859375 4.945313 -6.265625 C 4.945313 -6.679688 4.792969 -7.03125 4.496094 -7.320313 C 4.191406 -7.601563 3.804688 -7.746094 3.328125 -7.75 C 2.820313 -7.746094 2.414063 -7.59375 2.109375 -7.292969 C 1.804688 -6.984375 1.648438 -6.5625 1.648438 -6.03125 L 0.5625 -6.140625 C 0.632813 -6.945313 0.910156 -7.558594 1.398438 -7.988281 C 1.878906 -8.410156 2.53125 -8.625 3.351563 -8.625 C 4.171875 -8.625 4.824219 -8.394531 5.308594 -7.9375 C 5.789063 -7.480469 6.027344 -6.914063 6.03125 -6.242188 C 6.027344 -5.894531 5.957031 -5.558594 5.820313 -5.226563 C 5.675781 -4.890625 5.441406 -4.539063 5.117188 -4.175781 C 4.789063 -3.804688 4.25 -3.300781 3.492188 -2.664063 C 2.859375 -2.128906 2.453125 -1.769531 2.273438 -1.582031 C 2.09375 -1.394531 1.945313 -1.203125 1.828125 -1.015625 Z M 6.039063 -1.015625 \"/>\n",
       "</symbol>\n",
       "<symbol overflow=\"visible\" id=\"glyph0-3\">\n",
       "<path style=\"stroke:none;\" d=\"M 0.503906 -2.265625 L 1.558594 -2.40625 C 1.679688 -1.808594 1.882813 -1.378906 2.175781 -1.113281 C 2.464844 -0.847656 2.820313 -0.714844 3.242188 -0.71875 C 3.734375 -0.714844 4.152344 -0.886719 4.496094 -1.234375 C 4.832031 -1.574219 5.003906 -2 5.007813 -2.515625 C 5.003906 -2.996094 4.847656 -3.394531 4.535156 -3.710938 C 4.21875 -4.023438 3.816406 -4.183594 3.328125 -4.183594 C 3.128906 -4.183594 2.878906 -4.144531 2.585938 -4.066406 L 2.703125 -4.992188 C 2.765625 -4.984375 2.824219 -4.980469 2.871094 -4.980469 C 3.320313 -4.980469 3.722656 -5.097656 4.085938 -5.332031 C 4.441406 -5.566406 4.621094 -5.925781 4.625 -6.414063 C 4.621094 -6.800781 4.492188 -7.121094 4.230469 -7.375 C 3.964844 -7.628906 3.625 -7.757813 3.21875 -7.757813 C 2.804688 -7.757813 2.464844 -7.628906 2.191406 -7.371094 C 1.917969 -7.113281 1.742188 -6.726563 1.664063 -6.210938 L 0.609375 -6.398438 C 0.738281 -7.105469 1.03125 -7.652344 1.488281 -8.042969 C 1.941406 -8.429688 2.507813 -8.625 3.195313 -8.625 C 3.660156 -8.625 4.09375 -8.523438 4.488281 -8.324219 C 4.878906 -8.121094 5.179688 -7.847656 5.390625 -7.5 C 5.601563 -7.148438 5.707031 -6.777344 5.707031 -6.390625 C 5.707031 -6.019531 5.605469 -5.683594 5.40625 -5.378906 C 5.207031 -5.074219 4.914063 -4.832031 4.523438 -4.652344 C 5.03125 -4.535156 5.425781 -4.289063 5.707031 -3.921875 C 5.988281 -3.546875 6.128906 -3.085938 6.128906 -2.539063 C 6.128906 -1.785156 5.855469 -1.148438 5.308594 -0.628906 C 4.761719 -0.105469 4.070313 0.152344 3.234375 0.152344 C 2.476563 0.152344 1.847656 -0.0703125 1.355469 -0.519531 C 0.855469 -0.96875 0.574219 -1.550781 0.503906 -2.265625 Z M 0.503906 -2.265625 \"/>\n",
       "</symbol>\n",
       "<symbol overflow=\"visible\" id=\"glyph0-4\">\n",
       "<path style=\"stroke:none;\" d=\"M 3.878906 0 L 3.878906 -2.054688 L 0.152344 -2.054688 L 0.152344 -3.023438 L 4.070313 -8.589844 L 4.933594 -8.589844 L 4.933594 -3.023438 L 6.09375 -3.023438 L 6.09375 -2.054688 L 4.933594 -2.054688 L 4.933594 0 Z M 3.878906 -3.023438 L 3.878906 -6.898438 L 1.1875 -3.023438 Z M 3.878906 -3.023438 \"/>\n",
       "</symbol>\n",
       "<symbol overflow=\"visible\" id=\"glyph0-5\">\n",
       "<path style=\"stroke:none;\" d=\"M 0.5 -2.25 L 1.605469 -2.34375 C 1.683594 -1.804688 1.871094 -1.398438 2.175781 -1.125 C 2.472656 -0.851563 2.835938 -0.714844 3.257813 -0.71875 C 3.765625 -0.714844 4.195313 -0.90625 4.546875 -1.292969 C 4.898438 -1.671875 5.074219 -2.179688 5.074219 -2.820313 C 5.074219 -3.414063 4.902344 -3.890625 4.566406 -4.242188 C 4.226563 -4.589844 3.785156 -4.761719 3.242188 -4.765625 C 2.898438 -4.761719 2.59375 -4.683594 2.320313 -4.53125 C 2.046875 -4.375 1.832031 -4.175781 1.675781 -3.929688 L 0.6875 -4.0625 L 1.515625 -8.472656 L 5.789063 -8.472656 L 5.789063 -7.464844 L 2.359375 -7.464844 L 1.898438 -5.15625 C 2.414063 -5.515625 2.953125 -5.695313 3.523438 -5.695313 C 4.269531 -5.695313 4.902344 -5.433594 5.421875 -4.914063 C 5.933594 -4.394531 6.191406 -3.726563 6.195313 -2.914063 C 6.191406 -2.132813 5.964844 -1.460938 5.515625 -0.898438 C 4.960938 -0.199219 4.210938 0.144531 3.257813 0.148438 C 2.476563 0.144531 1.835938 -0.0703125 1.34375 -0.507813 C 0.84375 -0.941406 0.5625 -1.523438 0.5 -2.25 Z M 0.5 -2.25 \"/>\n",
       "</symbol>\n",
       "<symbol overflow=\"visible\" id=\"glyph0-6\">\n",
       "<path style=\"stroke:none;\" d=\"M 5.96875 -6.484375 L 4.921875 -6.40625 C 4.828125 -6.8125 4.695313 -7.113281 4.523438 -7.304688 C 4.234375 -7.605469 3.882813 -7.757813 3.46875 -7.757813 C 3.132813 -7.757813 2.835938 -7.664063 2.585938 -7.476563 C 2.25 -7.234375 1.988281 -6.878906 1.796875 -6.414063 C 1.605469 -5.949219 1.507813 -5.289063 1.5 -4.429688 C 1.753906 -4.8125 2.0625 -5.097656 2.433594 -5.289063 C 2.796875 -5.472656 3.183594 -5.566406 3.585938 -5.570313 C 4.289063 -5.566406 4.886719 -5.308594 5.382813 -4.792969 C 5.875 -4.277344 6.121094 -3.609375 6.125 -2.789063 C 6.121094 -2.25 6.003906 -1.746094 5.773438 -1.285156 C 5.539063 -0.820313 5.222656 -0.46875 4.816406 -0.222656 C 4.410156 0.0234375 3.949219 0.144531 3.433594 0.148438 C 2.554688 0.144531 1.835938 -0.175781 1.285156 -0.820313 C 0.726563 -1.46875 0.449219 -2.535156 0.453125 -4.019531 C 0.449219 -5.675781 0.757813 -6.882813 1.371094 -7.640625 C 1.902344 -8.296875 2.621094 -8.625 3.53125 -8.625 C 4.207031 -8.625 4.761719 -8.433594 5.195313 -8.054688 C 5.625 -7.675781 5.882813 -7.152344 5.96875 -6.484375 Z M 1.664063 -2.78125 C 1.664063 -2.417969 1.738281 -2.070313 1.894531 -1.738281 C 2.042969 -1.40625 2.261719 -1.152344 2.542969 -0.980469 C 2.820313 -0.800781 3.109375 -0.714844 3.414063 -0.71875 C 3.859375 -0.714844 4.242188 -0.894531 4.566406 -1.257813 C 4.882813 -1.613281 5.042969 -2.101563 5.046875 -2.726563 C 5.042969 -3.316406 4.886719 -3.785156 4.570313 -4.128906 C 4.25 -4.46875 3.851563 -4.640625 3.375 -4.640625 C 2.898438 -4.640625 2.492188 -4.46875 2.160156 -4.128906 C 1.828125 -3.785156 1.664063 -3.335938 1.664063 -2.78125 Z M 1.664063 -2.78125 \"/>\n",
       "</symbol>\n",
       "<symbol overflow=\"visible\" id=\"glyph0-7\">\n",
       "<path style=\"stroke:none;\" d=\"M 0.382813 -2.578125 L 0.382813 -3.640625 L 3.621094 -3.640625 L 3.621094 -2.578125 Z M 0.382813 -2.578125 \"/>\n",
       "</symbol>\n",
       "<symbol overflow=\"visible\" id=\"glyph0-8\">\n",
       "<path style=\"stroke:none;\" d=\"M 1.089844 0 L 1.089844 -1.203125 L 2.289063 -1.203125 L 2.289063 0 Z M 1.089844 0 \"/>\n",
       "</symbol>\n",
       "<symbol overflow=\"visible\" id=\"glyph1-0\">\n",
       "<path style=\"stroke:none;\" d=\"M 2.511719 0 L 0.0507813 -10.308594 L 2.179688 -10.308594 L 3.734375 -3.226563 L 5.617188 -10.308594 L 8.09375 -10.308594 L 9.898438 -3.109375 L 11.480469 -10.308594 L 13.578125 -10.308594 L 11.074219 0 L 8.867188 0 L 6.8125 -7.707031 L 4.765625 0 Z M 2.511719 0 \"/>\n",
       "</symbol>\n",
       "<symbol overflow=\"visible\" id=\"glyph1-1\">\n",
       "<path style=\"stroke:none;\" d=\"M 3.003906 -10.308594 L 3.003906 -6.519531 C 3.636719 -7.261719 4.398438 -7.632813 5.289063 -7.636719 C 5.738281 -7.632813 6.148438 -7.550781 6.515625 -7.382813 C 6.882813 -7.210938 7.15625 -6.992188 7.34375 -6.734375 C 7.523438 -6.46875 7.652344 -6.179688 7.722656 -5.863281 C 7.789063 -5.542969 7.820313 -5.046875 7.824219 -4.378906 L 7.824219 0 L 5.851563 0 L 5.851563 -3.945313 C 5.847656 -4.722656 5.808594 -5.21875 5.738281 -5.433594 C 5.660156 -5.640625 5.527344 -5.808594 5.339844 -5.9375 C 5.144531 -6.058594 4.90625 -6.121094 4.625 -6.125 C 4.292969 -6.121094 4 -6.042969 3.746094 -5.882813 C 3.484375 -5.722656 3.296875 -5.480469 3.179688 -5.164063 C 3.058594 -4.839844 3 -4.367188 3.003906 -3.742188 L 3.003906 0 L 1.027344 0 L 1.027344 -10.308594 Z M 3.003906 -10.308594 \"/>\n",
       "</symbol>\n",
       "<symbol overflow=\"visible\" id=\"glyph1-2\">\n",
       "<path style=\"stroke:none;\" d=\"M 2.511719 -5.1875 L 0.71875 -5.511719 C 0.917969 -6.230469 1.265625 -6.765625 1.757813 -7.113281 C 2.25 -7.460938 2.980469 -7.632813 3.953125 -7.636719 C 4.832031 -7.632813 5.488281 -7.53125 5.917969 -7.324219 C 6.347656 -7.113281 6.648438 -6.847656 6.828125 -6.527344 C 7 -6.207031 7.089844 -5.617188 7.09375 -4.761719 L 7.074219 -2.453125 C 7.070313 -1.792969 7.101563 -1.308594 7.167969 -1 C 7.226563 -0.6875 7.347656 -0.355469 7.523438 0 L 5.570313 0 C 5.515625 -0.128906 5.453125 -0.320313 5.378906 -0.582031 C 5.34375 -0.695313 5.320313 -0.773438 5.308594 -0.816406 C 4.96875 -0.484375 4.605469 -0.238281 4.222656 -0.078125 C 3.835938 0.0859375 3.425781 0.164063 2.996094 0.167969 C 2.222656 0.164063 1.617188 -0.0429688 1.175781 -0.457031 C 0.730469 -0.871094 0.507813 -1.398438 0.511719 -2.039063 C 0.507813 -2.460938 0.609375 -2.835938 0.8125 -3.167969 C 1.011719 -3.496094 1.292969 -3.75 1.660156 -3.925781 C 2.019531 -4.101563 2.546875 -4.253906 3.234375 -4.386719 C 4.15625 -4.558594 4.792969 -4.71875 5.152344 -4.871094 L 5.152344 -5.070313 C 5.148438 -5.445313 5.054688 -5.71875 4.871094 -5.882813 C 4.679688 -6.042969 4.328125 -6.121094 3.8125 -6.125 C 3.457031 -6.121094 3.183594 -6.054688 2.988281 -5.917969 C 2.789063 -5.777344 2.628906 -5.53125 2.511719 -5.1875 Z M 5.152344 -3.585938 C 4.894531 -3.5 4.496094 -3.398438 3.949219 -3.285156 C 3.402344 -3.164063 3.042969 -3.046875 2.875 -2.9375 C 2.613281 -2.75 2.484375 -2.519531 2.488281 -2.242188 C 2.484375 -1.964844 2.585938 -1.726563 2.796875 -1.523438 C 3 -1.320313 3.265625 -1.21875 3.585938 -1.222656 C 3.941406 -1.21875 4.28125 -1.335938 4.605469 -1.574219 C 4.84375 -1.75 5 -1.96875 5.078125 -2.230469 C 5.125 -2.394531 5.148438 -2.714844 5.152344 -3.191406 Z M 5.152344 -3.585938 \"/>\n",
       "</symbol>\n",
       "<symbol overflow=\"visible\" id=\"glyph1-3\">\n",
       "<path style=\"stroke:none;\" d=\"M 4.457031 -7.46875 L 4.457031 -5.890625 L 3.109375 -5.890625 L 3.109375 -2.882813 C 3.105469 -2.273438 3.117188 -1.917969 3.144531 -1.816406 C 3.167969 -1.714844 3.226563 -1.628906 3.320313 -1.566406 C 3.410156 -1.496094 3.523438 -1.464844 3.65625 -1.46875 C 3.835938 -1.464844 4.097656 -1.527344 4.449219 -1.660156 L 4.621094 -0.125 C 4.15625 0.0703125 3.636719 0.164063 3.058594 0.167969 C 2.699219 0.164063 2.375 0.105469 2.09375 -0.0117188 C 1.804688 -0.128906 1.597656 -0.28125 1.464844 -0.472656 C 1.332031 -0.660156 1.238281 -0.917969 1.1875 -1.246094 C 1.144531 -1.472656 1.125 -1.9375 1.125 -2.636719 L 1.125 -5.890625 L 0.21875 -5.890625 L 0.21875 -7.46875 L 1.125 -7.46875 L 1.125 -8.949219 L 3.109375 -10.105469 L 3.109375 -7.46875 Z M 4.457031 -7.46875 \"/>\n",
       "</symbol>\n",
       "<symbol overflow=\"visible\" id=\"glyph1-4\">\n",
       "<path style=\"stroke:none;\" d=\"M 5.359375 -2.375 L 7.328125 -2.046875 C 7.070313 -1.320313 6.667969 -0.773438 6.125 -0.398438 C 5.578125 -0.0234375 4.898438 0.164063 4.078125 0.167969 C 2.777344 0.164063 1.816406 -0.257813 1.195313 -1.105469 C 0.703125 -1.78125 0.457031 -2.636719 0.457031 -3.675781 C 0.457031 -4.910156 0.777344 -5.882813 1.425781 -6.585938 C 2.070313 -7.285156 2.890625 -7.632813 3.882813 -7.636719 C 4.988281 -7.632813 5.863281 -7.265625 6.507813 -6.535156 C 7.148438 -5.796875 7.457031 -4.675781 7.433594 -3.164063 L 2.480469 -3.164063 C 2.492188 -2.578125 2.652344 -2.121094 2.960938 -1.796875 C 3.261719 -1.46875 3.640625 -1.304688 4.097656 -1.308594 C 4.402344 -1.304688 4.664063 -1.390625 4.878906 -1.558594 C 5.085938 -1.726563 5.246094 -1.996094 5.359375 -2.375 Z M 5.46875 -4.375 C 5.453125 -4.941406 5.308594 -5.375 5.027344 -5.675781 C 4.746094 -5.972656 4.402344 -6.121094 4 -6.125 C 3.566406 -6.121094 3.210938 -5.964844 2.933594 -5.652344 C 2.648438 -5.335938 2.507813 -4.910156 2.515625 -4.375 Z M 5.46875 -4.375 \"/>\n",
       "</symbol>\n",
       "<symbol overflow=\"visible\" id=\"glyph1-5\">\n",
       "<path style=\"stroke:none;\" d=\"M 3.085938 0 L 0.078125 -7.46875 L 2.152344 -7.46875 L 3.558594 -3.65625 L 3.964844 -2.382813 C 4.070313 -2.703125 4.136719 -2.917969 4.167969 -3.023438 C 4.230469 -3.234375 4.300781 -3.445313 4.378906 -3.65625 L 5.800781 -7.46875 L 7.832031 -7.46875 L 4.867188 0 Z M 3.085938 0 \"/>\n",
       "</symbol>\n",
       "<symbol overflow=\"visible\" id=\"glyph1-6\">\n",
       "<path style=\"stroke:none;\" d=\"M 2.925781 0 L 0.949219 0 L 0.949219 -7.46875 L 2.785156 -7.46875 L 2.785156 -6.40625 C 3.09375 -6.902344 3.375 -7.234375 3.628906 -7.394531 C 3.878906 -7.554688 4.164063 -7.632813 4.484375 -7.636719 C 4.929688 -7.632813 5.363281 -7.507813 5.785156 -7.261719 L 5.175781 -5.539063 C 4.839844 -5.75 4.53125 -5.859375 4.246094 -5.863281 C 3.96875 -5.859375 3.734375 -5.78125 3.542969 -5.632813 C 3.347656 -5.476563 3.195313 -5.203125 3.089844 -4.808594 C 2.976563 -4.40625 2.921875 -3.570313 2.925781 -2.304688 Z M 2.925781 0 \"/>\n",
       "</symbol>\n",
       "<symbol overflow=\"visible\" id=\"glyph1-7\">\n",
       "<path style=\"stroke:none;\" d=\"\"/>\n",
       "</symbol>\n",
       "<symbol overflow=\"visible\" id=\"glyph1-8\">\n",
       "<path style=\"stroke:none;\" d=\"M 3.367188 0 L 3.367188 -8.5625 L 0.308594 -8.5625 L 0.308594 -10.308594 L 8.5 -10.308594 L 8.5 -8.5625 L 5.449219 -8.5625 L 5.449219 0 Z M 3.367188 0 \"/>\n",
       "</symbol>\n",
       "<symbol overflow=\"visible\" id=\"glyph1-9\">\n",
       "<path style=\"stroke:none;\" d=\"M 1.035156 -8.480469 L 1.035156 -10.308594 L 3.007813 -10.308594 L 3.007813 -8.480469 Z M 1.035156 0 L 1.035156 -7.46875 L 3.007813 -7.46875 L 3.007813 0 Z M 1.035156 0 \"/>\n",
       "</symbol>\n",
       "<symbol overflow=\"visible\" id=\"glyph1-10\">\n",
       "<path style=\"stroke:none;\" d=\"M 1.035156 0 L 1.035156 -10.308594 L 3.007813 -10.308594 L 3.007813 0 Z M 1.035156 0 \"/>\n",
       "</symbol>\n",
       "<symbol overflow=\"visible\" id=\"glyph2-0\">\n",
       "<path style=\"stroke:none;\" d=\"M 2.003906 -5.523438 L 2.003906 -2.953125 L 3.664063 -4.492188 C 4.085938 -4.894531 4.429688 -5.167969 4.695313 -5.308594 C 4.953125 -5.449219 5.1875 -5.519531 5.398438 -5.523438 C 5.613281 -5.519531 5.789063 -5.460938 5.925781 -5.34375 C 6.058594 -5.226563 6.128906 -5.089844 6.128906 -4.933594 C 6.128906 -4.777344 6.078125 -4.652344 5.980469 -4.5625 C 5.882813 -4.464844 5.753906 -4.417969 5.59375 -4.421875 C 5.480469 -4.417969 5.363281 -4.453125 5.238281 -4.53125 C 5.011719 -4.648438 4.859375 -4.710938 4.789063 -4.710938 C 4.578125 -4.710938 4.296875 -4.542969 3.945313 -4.207031 L 2.960938 -3.28125 L 4.710938 -1.324219 C 5.03125 -0.964844 5.269531 -0.714844 5.433594 -0.582031 C 5.59375 -0.445313 5.753906 -0.351563 5.90625 -0.296875 C 6.007813 -0.261719 6.214844 -0.234375 6.527344 -0.21875 L 6.527344 0 L 3.679688 0 L 3.679688 -0.21875 C 3.796875 -0.226563 3.878906 -0.253906 3.925781 -0.292969 C 3.984375 -0.355469 4.011719 -0.421875 4.015625 -0.492188 C 4.011719 -0.609375 3.914063 -0.777344 3.71875 -1 L 2.003906 -2.953125 L 2.003906 0 L 1.023438 0 L 1.023438 -3.96875 C 1.019531 -4.246094 0.996094 -4.429688 0.953125 -4.515625 C 0.867188 -4.660156 0.753906 -4.734375 0.609375 -4.734375 C 0.507813 -4.734375 0.371094 -4.707031 0.199219 -4.652344 L 0.125 -4.863281 L 1.765625 -5.523438 Z M 2.003906 -5.523438 \"/>\n",
       "</symbol>\n",
       "<symbol overflow=\"visible\" id=\"glyph3-0\">\n",
       "<path style=\"stroke:none;\" d=\"M -4.484375 -6.996094 L -4.484375 -4.371094 C -4.152344 -4.960938 -3.789063 -5.40625 -3.394531 -5.714844 C -2.992188 -6.015625 -2.53125 -6.167969 -2.007813 -6.171875 C -1.40625 -6.167969 -0.890625 -5.925781 -0.464844 -5.445313 C -0.0351563 -4.957031 0.175781 -4.308594 0.179688 -3.5 C 0.175781 -2.640625 -0.113281 -1.921875 -0.691406 -1.335938 C -1.269531 -0.75 -1.972656 -0.457031 -2.800781 -0.457031 C -3.296875 -0.457031 -3.746094 -0.578125 -4.148438 -0.824219 C -4.546875 -1.070313 -4.847656 -1.382813 -5.058594 -1.761719 C -5.261719 -2.136719 -5.367188 -2.714844 -5.367188 -3.492188 L -5.367188 -6.996094 Z M -4.484375 -3.929688 C -4.484375 -3.765625 -4.488281 -3.640625 -4.488281 -3.554688 C -4.488281 -2.855469 -4.332031 -2.335938 -4.019531 -2 C -3.707031 -1.65625 -3.265625 -1.488281 -2.695313 -1.492188 C -1.949219 -1.488281 -1.347656 -1.691406 -0.898438 -2.097656 C -0.441406 -2.5 -0.214844 -2.976563 -0.21875 -3.527344 C -0.214844 -3.988281 -0.378906 -4.367188 -0.710938 -4.664063 C -1.039063 -4.960938 -1.515625 -5.109375 -2.140625 -5.109375 C -3.03125 -5.109375 -3.8125 -4.714844 -4.484375 -3.929688 Z M -4.484375 -3.929688 \"/>\n",
       "</symbol>\n",
       "</g>\n",
       "<clipPath id=\"clip1\">\n",
       "  <path d=\"M 59.039063 59.039063 L 258.757813 59.039063 L 258.757813 215.558594 L 59.039063 215.558594 Z M 59.039063 59.039063 \"/>\n",
       "</clipPath>\n",
       "<clipPath id=\"clip2\">\n",
       "  <path d=\"M 59.039063 59.039063 L 258.757813 59.039063 L 258.757813 215.558594 L 59.039063 215.558594 Z M 59.039063 59.039063 \"/>\n",
       "</clipPath>\n",
       "</defs>\n",
       "<g id=\"surface66\">\n",
       "<rect x=\"0\" y=\"0\" width=\"288\" height=\"288\" style=\"fill:rgb(100%,100%,100%);fill-opacity:1;stroke:none;\"/>\n",
       "<g clip-path=\"url(#clip1)\" clip-rule=\"nonzero\">\n",
       "<path style=\"fill:none;stroke-width:0.75;stroke-linecap:round;stroke-linejoin:round;stroke:rgb(0%,0%,100%);stroke-opacity:1;stroke-miterlimit:10;\" d=\"M 66.398438 136.800781 L 68.238281 132.277344 L 70.078125 127.777344 L 71.921875 123.308594 L 73.761719 118.894531 L 75.601563 114.550781 L 77.441406 110.296875 L 79.28125 106.144531 L 81.121094 102.113281 L 82.960938 98.21875 L 84.800781 94.480469 L 86.640625 90.90625 L 88.480469 87.511719 L 90.320313 84.3125 L 92.160156 81.324219 L 94 78.550781 L 95.839844 76.007813 L 97.679688 73.707031 L 99.519531 71.652344 L 101.359375 69.855469 L 103.199219 68.324219 L 105.039063 67.0625 L 106.878906 66.074219 L 108.71875 65.367188 L 110.558594 64.941406 L 112.398438 64.800781 L 114.238281 64.941406 L 116.078125 65.367188 L 117.921875 66.074219 L 119.761719 67.0625 L 121.601563 68.324219 L 123.441406 69.855469 L 125.28125 71.652344 L 127.121094 73.707031 L 128.960938 76.007813 L 130.800781 78.550781 L 132.640625 81.324219 L 134.480469 84.3125 L 136.320313 87.511719 L 138.160156 90.90625 L 140 94.480469 L 141.839844 98.21875 L 143.679688 102.113281 L 145.519531 106.144531 L 147.359375 110.296875 L 149.199219 114.550781 L 151.039063 118.894531 L 152.878906 123.308594 L 154.71875 127.777344 L 156.558594 132.277344 L 158.398438 136.800781 L 160.238281 141.320313 L 162.078125 145.824219 L 163.921875 150.292969 L 165.761719 154.707031 L 167.601563 159.050781 L 169.441406 163.304688 L 171.28125 167.457031 L 173.121094 171.484375 L 174.960938 175.378906 L 176.800781 179.121094 L 178.640625 182.695313 L 180.480469 186.085938 L 182.320313 189.285156 L 184.160156 192.277344 L 186 195.050781 L 187.839844 197.589844 L 189.679688 199.894531 L 191.519531 201.949219 L 193.359375 203.742188 L 195.199219 205.277344 L 197.039063 206.539063 L 198.878906 207.523438 L 200.71875 208.230469 L 202.558594 208.65625 L 204.398438 208.800781 L 206.238281 208.65625 L 208.078125 208.230469 L 209.921875 207.523438 L 211.761719 206.539063 L 213.601563 205.277344 L 215.441406 203.742188 L 217.28125 201.949219 L 219.121094 199.894531 L 220.960938 197.589844 L 222.800781 195.050781 L 224.640625 192.277344 L 226.480469 189.285156 L 228.320313 186.085938 L 230.160156 182.695313 L 232 179.121094 L 233.839844 175.378906 L 235.679688 171.484375 L 237.519531 167.457031 L 239.359375 163.304688 L 241.199219 159.050781 L 243.039063 154.707031 L 244.878906 150.292969 L 246.71875 145.824219 L 248.558594 141.320313 L 250.398438 136.800781 \"/>\n",
       "</g>\n",
       "<path style=\"fill:none;stroke-width:0.75;stroke-linecap:round;stroke-linejoin:round;stroke:rgb(0%,0%,0%);stroke-opacity:1;stroke-miterlimit:10;\" d=\"M 66.398438 214.558594 L 242.105469 214.558594 \"/>\n",
       "<path style=\"fill:none;stroke-width:0.75;stroke-linecap:round;stroke-linejoin:round;stroke:rgb(0%,0%,0%);stroke-opacity:1;stroke-miterlimit:10;\" d=\"M 66.398438 214.558594 L 66.398438 221.761719 \"/>\n",
       "<path style=\"fill:none;stroke-width:0.75;stroke-linecap:round;stroke-linejoin:round;stroke:rgb(0%,0%,0%);stroke-opacity:1;stroke-miterlimit:10;\" d=\"M 95.683594 214.558594 L 95.683594 221.761719 \"/>\n",
       "<path style=\"fill:none;stroke-width:0.75;stroke-linecap:round;stroke-linejoin:round;stroke:rgb(0%,0%,0%);stroke-opacity:1;stroke-miterlimit:10;\" d=\"M 124.96875 214.558594 L 124.96875 221.761719 \"/>\n",
       "<path style=\"fill:none;stroke-width:0.75;stroke-linecap:round;stroke-linejoin:round;stroke:rgb(0%,0%,0%);stroke-opacity:1;stroke-miterlimit:10;\" d=\"M 154.253906 214.558594 L 154.253906 221.761719 \"/>\n",
       "<path style=\"fill:none;stroke-width:0.75;stroke-linecap:round;stroke-linejoin:round;stroke:rgb(0%,0%,0%);stroke-opacity:1;stroke-miterlimit:10;\" d=\"M 183.539063 214.558594 L 183.539063 221.761719 \"/>\n",
       "<path style=\"fill:none;stroke-width:0.75;stroke-linecap:round;stroke-linejoin:round;stroke:rgb(0%,0%,0%);stroke-opacity:1;stroke-miterlimit:10;\" d=\"M 212.824219 214.558594 L 212.824219 221.761719 \"/>\n",
       "<path style=\"fill:none;stroke-width:0.75;stroke-linecap:round;stroke-linejoin:round;stroke:rgb(0%,0%,0%);stroke-opacity:1;stroke-miterlimit:10;\" d=\"M 242.105469 214.558594 L 242.105469 221.761719 \"/>\n",
       "<g style=\"fill:rgb(0%,0%,0%);fill-opacity:1;\">\n",
       "  <use xlink:href=\"#glyph0-0\" x=\"63.0625\" y=\"240.480469\"/>\n",
       "</g>\n",
       "<g style=\"fill:rgb(0%,0%,0%);fill-opacity:1;\">\n",
       "  <use xlink:href=\"#glyph0-1\" x=\"92.347656\" y=\"240.480469\"/>\n",
       "</g>\n",
       "<g style=\"fill:rgb(0%,0%,0%);fill-opacity:1;\">\n",
       "  <use xlink:href=\"#glyph0-2\" x=\"121.632813\" y=\"240.480469\"/>\n",
       "</g>\n",
       "<g style=\"fill:rgb(0%,0%,0%);fill-opacity:1;\">\n",
       "  <use xlink:href=\"#glyph0-3\" x=\"150.917969\" y=\"240.480469\"/>\n",
       "</g>\n",
       "<g style=\"fill:rgb(0%,0%,0%);fill-opacity:1;\">\n",
       "  <use xlink:href=\"#glyph0-4\" x=\"180.203125\" y=\"240.480469\"/>\n",
       "</g>\n",
       "<g style=\"fill:rgb(0%,0%,0%);fill-opacity:1;\">\n",
       "  <use xlink:href=\"#glyph0-5\" x=\"209.488281\" y=\"240.480469\"/>\n",
       "</g>\n",
       "<g style=\"fill:rgb(0%,0%,0%);fill-opacity:1;\">\n",
       "  <use xlink:href=\"#glyph0-6\" x=\"238.769531\" y=\"240.480469\"/>\n",
       "</g>\n",
       "<path style=\"fill:none;stroke-width:0.75;stroke-linecap:round;stroke-linejoin:round;stroke:rgb(0%,0%,0%);stroke-opacity:1;stroke-miterlimit:10;\" d=\"M 59.039063 208.800781 L 59.039063 64.800781 \"/>\n",
       "<path style=\"fill:none;stroke-width:0.75;stroke-linecap:round;stroke-linejoin:round;stroke:rgb(0%,0%,0%);stroke-opacity:1;stroke-miterlimit:10;\" d=\"M 59.039063 208.800781 L 51.839844 208.800781 \"/>\n",
       "<path style=\"fill:none;stroke-width:0.75;stroke-linecap:round;stroke-linejoin:round;stroke:rgb(0%,0%,0%);stroke-opacity:1;stroke-miterlimit:10;\" d=\"M 59.039063 172.800781 L 51.839844 172.800781 \"/>\n",
       "<path style=\"fill:none;stroke-width:0.75;stroke-linecap:round;stroke-linejoin:round;stroke:rgb(0%,0%,0%);stroke-opacity:1;stroke-miterlimit:10;\" d=\"M 59.039063 136.800781 L 51.839844 136.800781 \"/>\n",
       "<path style=\"fill:none;stroke-width:0.75;stroke-linecap:round;stroke-linejoin:round;stroke:rgb(0%,0%,0%);stroke-opacity:1;stroke-miterlimit:10;\" d=\"M 59.039063 100.800781 L 51.839844 100.800781 \"/>\n",
       "<path style=\"fill:none;stroke-width:0.75;stroke-linecap:round;stroke-linejoin:round;stroke:rgb(0%,0%,0%);stroke-opacity:1;stroke-miterlimit:10;\" d=\"M 59.039063 64.800781 L 51.839844 64.800781 \"/>\n",
       "<g style=\"fill:rgb(0%,0%,0%);fill-opacity:1;\">\n",
       "  <use xlink:href=\"#glyph0-7\" x=\"23.960938\" y=\"213.09375\"/>\n",
       "  <use xlink:href=\"#glyph0-1\" x=\"27.957031\" y=\"213.09375\"/>\n",
       "  <use xlink:href=\"#glyph0-8\" x=\"34.630859\" y=\"213.09375\"/>\n",
       "  <use xlink:href=\"#glyph0-0\" x=\"37.964844\" y=\"213.09375\"/>\n",
       "</g>\n",
       "<g style=\"fill:rgb(0%,0%,0%);fill-opacity:1;\">\n",
       "  <use xlink:href=\"#glyph0-7\" x=\"23.960938\" y=\"177.09375\"/>\n",
       "  <use xlink:href=\"#glyph0-0\" x=\"27.957031\" y=\"177.09375\"/>\n",
       "  <use xlink:href=\"#glyph0-8\" x=\"34.630859\" y=\"177.09375\"/>\n",
       "  <use xlink:href=\"#glyph0-5\" x=\"37.964844\" y=\"177.09375\"/>\n",
       "</g>\n",
       "<g style=\"fill:rgb(0%,0%,0%);fill-opacity:1;\">\n",
       "  <use xlink:href=\"#glyph0-0\" x=\"27.960938\" y=\"141.09375\"/>\n",
       "  <use xlink:href=\"#glyph0-8\" x=\"34.634766\" y=\"141.09375\"/>\n",
       "  <use xlink:href=\"#glyph0-0\" x=\"37.96875\" y=\"141.09375\"/>\n",
       "</g>\n",
       "<g style=\"fill:rgb(0%,0%,0%);fill-opacity:1;\">\n",
       "  <use xlink:href=\"#glyph0-0\" x=\"27.960938\" y=\"105.09375\"/>\n",
       "  <use xlink:href=\"#glyph0-8\" x=\"34.634766\" y=\"105.09375\"/>\n",
       "  <use xlink:href=\"#glyph0-5\" x=\"37.96875\" y=\"105.09375\"/>\n",
       "</g>\n",
       "<g style=\"fill:rgb(0%,0%,0%);fill-opacity:1;\">\n",
       "  <use xlink:href=\"#glyph0-1\" x=\"27.960938\" y=\"69.09375\"/>\n",
       "  <use xlink:href=\"#glyph0-8\" x=\"34.634766\" y=\"69.09375\"/>\n",
       "  <use xlink:href=\"#glyph0-0\" x=\"37.96875\" y=\"69.09375\"/>\n",
       "</g>\n",
       "<path style=\"fill:none;stroke-width:0.75;stroke-linecap:round;stroke-linejoin:round;stroke:rgb(0%,0%,0%);stroke-opacity:1;stroke-miterlimit:10;\" d=\"M 59.039063 214.558594 L 257.761719 214.558594 L 257.761719 59.039063 L 59.039063 59.039063 L 59.039063 214.558594 \"/>\n",
       "<g style=\"fill:rgb(0%,0%,0%);fill-opacity:1;\">\n",
       "  <use xlink:href=\"#glyph1-0\" x=\"96.386719\" y=\"34.675781\"/>\n",
       "  <use xlink:href=\"#glyph1-1\" x=\"109.978125\" y=\"34.675781\"/>\n",
       "  <use xlink:href=\"#glyph1-2\" x=\"118.774219\" y=\"34.675781\"/>\n",
       "  <use xlink:href=\"#glyph1-3\" x=\"126.782813\" y=\"34.675781\"/>\n",
       "  <use xlink:href=\"#glyph1-4\" x=\"131.578125\" y=\"34.675781\"/>\n",
       "  <use xlink:href=\"#glyph1-5\" x=\"139.586719\" y=\"34.675781\"/>\n",
       "  <use xlink:href=\"#glyph1-4\" x=\"147.595312\" y=\"34.675781\"/>\n",
       "  <use xlink:href=\"#glyph1-6\" x=\"155.603906\" y=\"34.675781\"/>\n",
       "  <use xlink:href=\"#glyph1-7\" x=\"161.207812\" y=\"34.675781\"/>\n",
       "  <use xlink:href=\"#glyph1-3\" x=\"165.208594\" y=\"34.675781\"/>\n",
       "  <use xlink:href=\"#glyph1-1\" x=\"170.003906\" y=\"34.675781\"/>\n",
       "  <use xlink:href=\"#glyph1-4\" x=\"178.8\" y=\"34.675781\"/>\n",
       "  <use xlink:href=\"#glyph1-7\" x=\"186.808594\" y=\"34.675781\"/>\n",
       "  <use xlink:href=\"#glyph1-8\" x=\"190.809375\" y=\"34.675781\"/>\n",
       "  <use xlink:href=\"#glyph1-9\" x=\"199.605469\" y=\"34.675781\"/>\n",
       "  <use xlink:href=\"#glyph1-3\" x=\"203.60625\" y=\"34.675781\"/>\n",
       "  <use xlink:href=\"#glyph1-10\" x=\"208.401562\" y=\"34.675781\"/>\n",
       "  <use xlink:href=\"#glyph1-4\" x=\"212.402344\" y=\"34.675781\"/>\n",
       "</g>\n",
       "<g style=\"fill:rgb(0%,0%,0%);fill-opacity:1;\">\n",
       "  <use xlink:href=\"#glyph2-0\" x=\"154.800781\" y=\"269.28125\"/>\n",
       "</g>\n",
       "<g style=\"fill:rgb(0%,0%,0%);fill-opacity:1;\">\n",
       "  <use xlink:href=\"#glyph3-0\" x=\"12.960938\" y=\"140.402344\"/>\n",
       "</g>\n",
       "<g clip-path=\"url(#clip2)\" clip-rule=\"nonzero\">\n",
       "<path style=\"fill:none;stroke-width:2.25;stroke-linecap:round;stroke-linejoin:round;stroke:rgb(100%,0%,0%);stroke-opacity:1;stroke-dasharray:9,9;stroke-miterlimit:10;\" d=\"M 66.398438 172.800781 L 68.238281 168.8125 L 70.078125 164.699219 L 71.921875 160.476563 L 73.761719 156.164063 L 75.601563 151.769531 L 77.441406 147.316406 L 79.28125 142.824219 L 81.121094 138.308594 L 82.960938 133.785156 L 84.800781 129.273438 L 86.640625 124.792969 L 88.480469 120.359375 L 90.320313 115.988281 L 92.160156 111.703125 L 94 107.515625 L 95.839844 103.441406 L 97.679688 99.503906 L 99.519531 95.707031 L 101.359375 92.078125 L 103.199219 88.621094 L 105.039063 85.359375 L 106.878906 82.296875 L 108.71875 79.449219 L 110.558594 76.828125 L 112.398438 74.445313 L 114.238281 72.308594 L 116.078125 70.425781 L 117.921875 68.804688 L 119.761719 67.453125 L 121.601563 66.375 L 123.441406 65.574219 L 125.28125 65.050781 L 127.121094 64.816406 L 128.960938 64.863281 L 130.800781 65.195313 L 132.640625 65.808594 L 134.480469 66.703125 L 136.320313 67.871094 L 138.160156 69.316406 L 140 71.023438 L 141.839844 72.992188 L 143.679688 75.214844 L 145.519531 77.675781 L 147.359375 80.375 L 149.199219 83.292969 L 151.039063 86.425781 L 152.878906 89.753906 L 154.71875 93.269531 L 156.558594 96.957031 L 158.398438 100.800781 L 160.238281 104.785156 L 162.078125 108.898438 L 163.921875 113.121094 L 165.761719 117.4375 L 167.601563 121.832031 L 169.441406 126.28125 L 171.28125 130.773438 L 173.121094 135.292969 L 174.960938 139.816406 L 176.800781 144.324219 L 178.640625 148.808594 L 180.480469 153.242188 L 182.320313 157.609375 L 184.160156 161.898438 L 186 166.085938 L 187.839844 170.15625 L 189.679688 174.097656 L 191.519531 177.890625 L 193.359375 181.523438 L 195.199219 184.976563 L 197.039063 188.242188 L 198.878906 191.304688 L 200.71875 194.148438 L 202.558594 196.769531 L 204.398438 199.152344 L 206.238281 201.292969 L 208.078125 203.175781 L 209.921875 204.796875 L 211.761719 206.148438 L 213.601563 207.226563 L 215.441406 208.027344 L 217.28125 208.546875 L 219.121094 208.785156 L 220.960938 208.738281 L 222.800781 208.40625 L 224.640625 207.792969 L 226.480469 206.898438 L 228.320313 205.726563 L 230.160156 204.285156 L 232 202.574219 L 233.839844 200.605469 L 235.679688 198.386719 L 237.519531 195.921875 L 239.359375 193.226563 L 241.199219 190.304688 L 243.039063 187.175781 L 244.878906 183.847656 L 246.71875 180.332031 L 248.558594 176.644531 L 250.398438 172.800781 \"/>\n",
       "<path style=\"fill:none;stroke-width:0.75;stroke-linecap:round;stroke-linejoin:round;stroke:rgb(0%,0%,0%);stroke-opacity:1;stroke-dasharray:0.75,2.25;stroke-miterlimit:10;\" d=\"M 66.398438 187.710938 L 68.238281 184.414063 L 70.078125 180.929688 L 71.921875 177.269531 L 73.761719 173.449219 L 75.601563 169.488281 L 77.441406 165.394531 L 79.28125 161.1875 L 81.121094 156.886719 L 82.960938 152.507813 L 84.800781 148.0625 L 86.640625 143.574219 L 88.480469 139.0625 L 90.320313 134.539063 L 92.160156 130.023438 L 94 125.535156 L 95.839844 121.09375 L 97.679688 116.710938 L 99.519531 112.410156 L 101.359375 108.207031 L 103.199219 104.113281 L 105.039063 100.148438 L 106.878906 96.328125 L 108.71875 92.671875 L 110.558594 89.183594 L 112.398438 85.886719 L 114.238281 82.792969 L 116.078125 79.910156 L 117.921875 77.25 L 119.761719 74.828125 L 121.601563 72.648438 L 123.441406 70.722656 L 125.28125 69.054688 L 127.121094 67.660156 L 128.960938 66.535156 L 130.800781 65.6875 L 132.640625 65.121094 L 134.480469 64.835938 L 136.320313 64.835938 L 138.160156 65.121094 L 140 65.6875 L 141.839844 66.535156 L 143.679688 67.660156 L 145.519531 69.054688 L 147.359375 70.722656 L 149.199219 72.648438 L 151.039063 74.828125 L 152.878906 77.25 L 154.71875 79.910156 L 156.558594 82.792969 L 158.398438 85.886719 L 160.238281 89.183594 L 162.078125 92.671875 L 163.921875 96.328125 L 165.761719 100.148438 L 167.601563 104.113281 L 169.441406 108.207031 L 171.28125 112.410156 L 173.121094 116.710938 L 174.960938 121.09375 L 176.800781 125.535156 L 178.640625 130.023438 L 180.480469 134.539063 L 182.320313 139.0625 L 184.160156 143.574219 L 186 148.0625 L 187.839844 152.507813 L 189.679688 156.886719 L 191.519531 161.1875 L 193.359375 165.394531 L 195.199219 169.488281 L 197.039063 173.449219 L 198.878906 177.269531 L 200.71875 180.929688 L 202.558594 184.414063 L 204.398438 187.710938 L 206.238281 190.808594 L 208.078125 193.691406 L 209.921875 196.351563 L 211.761719 198.773438 L 213.601563 200.953125 L 215.441406 202.878906 L 217.28125 204.542969 L 219.121094 205.941406 L 220.960938 207.066406 L 222.800781 207.914063 L 224.640625 208.480469 L 226.480469 208.765625 L 228.320313 208.765625 L 230.160156 208.480469 L 232 207.914063 L 233.839844 207.066406 L 235.679688 205.941406 L 237.519531 204.542969 L 239.359375 202.878906 L 241.199219 200.953125 L 243.039063 198.773438 L 244.878906 196.351563 L 246.71875 193.691406 L 248.558594 190.808594 L 250.398438 187.710938 \"/>\n",
       "</g>\n",
       "</g>\n",
       "</svg>\n"
      ],
      "text/plain": [
       "Plot with title \"Whatever the Title\""
      ]
     },
     "metadata": {
      "image/svg+xml": {
       "isolated": true
      }
     },
     "output_type": "display_data"
    }
   ],
   "source": [
    "# plot graph of a function\n",
    "f <- function(x) {sin(x)}\n",
    "g <- function(x) {sin(x - pi/6)}\n",
    "h <- function(x) {sin(x - pi/4)}\n",
    "curve(f, from=0, to=2*pi, col='blue', las=1, main='Whatever the Title', \n",
    "      xlab=expression(kappa), ylab=expression(sigma))\n",
    "curve(g, from=0, to=2*pi, col='red', lty=2, lwd=3, add=TRUE)\n",
    "curve(h, from=0, to=2*pi, lty=3, lwd=1, add=TRUE)"
   ]
  },
  {
   "cell_type": "code",
   "execution_count": 55,
   "metadata": {},
   "outputs": [
    {
     "data": {
      "application/pdf": "[encoded data removed]",
      "image/jpeg": "[encoded data removed]",
      "image/png": "[encoded data removed]",
      "image/svg+xml": [
       "<?xml version=\"1.0\" encoding=\"UTF-8\"?>\n",
       "<svg xmlns=\"http://www.w3.org/2000/svg\" xmlns:xlink=\"http://www.w3.org/1999/xlink\" width=\"288pt\" height=\"288pt\" viewBox=\"0 0 288 288\" version=\"1.1\">\n",
       "<defs>\n",
       "<g>\n",
       "<symbol overflow=\"visible\" id=\"glyph0-0\">\n",
       "<path style=\"stroke:none;\" d=\"M 1.054688 0 L 1.054688 -10.308594 L 3.136719 -10.308594 L 3.136719 -6.25 L 7.214844 -6.25 L 7.214844 -10.308594 L 9.296875 -10.308594 L 9.296875 0 L 7.214844 0 L 7.214844 -4.507813 L 3.136719 -4.507813 L 3.136719 0 Z M 1.054688 0 \"/>\n",
       "</symbol>\n",
       "<symbol overflow=\"visible\" id=\"glyph0-1\">\n",
       "<path style=\"stroke:none;\" d=\"M 1.035156 -8.480469 L 1.035156 -10.308594 L 3.007813 -10.308594 L 3.007813 -8.480469 Z M 1.035156 0 L 1.035156 -7.46875 L 3.007813 -7.46875 L 3.007813 0 Z M 1.035156 0 \"/>\n",
       "</symbol>\n",
       "<symbol overflow=\"visible\" id=\"glyph0-2\">\n",
       "<path style=\"stroke:none;\" d=\"M 0.335938 -2.128906 L 2.320313 -2.433594 C 2.402344 -2.042969 2.570313 -1.75 2.832031 -1.554688 C 3.085938 -1.351563 3.449219 -1.253906 3.917969 -1.257813 C 4.425781 -1.253906 4.808594 -1.347656 5.070313 -1.539063 C 5.238281 -1.667969 5.324219 -1.84375 5.328125 -2.066406 C 5.324219 -2.214844 5.277344 -2.339844 5.1875 -2.441406 C 5.085938 -2.53125 4.867188 -2.617188 4.527344 -2.699219 C 2.929688 -3.046875 1.917969 -3.367188 1.496094 -3.664063 C 0.902344 -4.0625 0.609375 -4.625 0.613281 -5.34375 C 0.609375 -5.988281 0.863281 -6.53125 1.378906 -6.972656 C 1.886719 -7.414063 2.679688 -7.632813 3.753906 -7.636719 C 4.773438 -7.632813 5.53125 -7.46875 6.03125 -7.136719 C 6.523438 -6.800781 6.867188 -6.308594 7.058594 -5.660156 L 5.195313 -5.316406 C 5.113281 -5.601563 4.960938 -5.824219 4.742188 -5.980469 C 4.515625 -6.132813 4.199219 -6.210938 3.789063 -6.214844 C 3.265625 -6.210938 2.894531 -6.136719 2.671875 -5.996094 C 2.519531 -5.890625 2.441406 -5.757813 2.445313 -5.597656 C 2.441406 -5.453125 2.507813 -5.335938 2.644531 -5.238281 C 2.816406 -5.105469 3.433594 -4.917969 4.488281 -4.683594 C 5.539063 -4.441406 6.273438 -4.148438 6.695313 -3.804688 C 7.105469 -3.449219 7.3125 -2.960938 7.3125 -2.335938 C 7.3125 -1.648438 7.023438 -1.058594 6.453125 -0.570313 C 5.878906 -0.078125 5.035156 0.164063 3.917969 0.167969 C 2.898438 0.164063 2.09375 -0.0390625 1.5 -0.449219 C 0.90625 -0.859375 0.515625 -1.417969 0.335938 -2.128906 Z M 0.335938 -2.128906 \"/>\n",
       "</symbol>\n",
       "<symbol overflow=\"visible\" id=\"glyph0-3\">\n",
       "<path style=\"stroke:none;\" d=\"M 4.457031 -7.46875 L 4.457031 -5.890625 L 3.109375 -5.890625 L 3.109375 -2.882813 C 3.105469 -2.273438 3.117188 -1.917969 3.144531 -1.816406 C 3.167969 -1.714844 3.226563 -1.628906 3.320313 -1.566406 C 3.410156 -1.496094 3.523438 -1.464844 3.65625 -1.46875 C 3.835938 -1.464844 4.097656 -1.527344 4.449219 -1.660156 L 4.621094 -0.125 C 4.15625 0.0703125 3.636719 0.164063 3.058594 0.167969 C 2.699219 0.164063 2.375 0.105469 2.09375 -0.0117188 C 1.804688 -0.128906 1.597656 -0.28125 1.464844 -0.472656 C 1.332031 -0.660156 1.238281 -0.917969 1.1875 -1.246094 C 1.144531 -1.472656 1.125 -1.9375 1.125 -2.636719 L 1.125 -5.890625 L 0.21875 -5.890625 L 0.21875 -7.46875 L 1.125 -7.46875 L 1.125 -8.949219 L 3.109375 -10.105469 L 3.109375 -7.46875 Z M 4.457031 -7.46875 \"/>\n",
       "</symbol>\n",
       "<symbol overflow=\"visible\" id=\"glyph0-4\">\n",
       "<path style=\"stroke:none;\" d=\"M 0.578125 -3.839844 C 0.574219 -4.492188 0.734375 -5.128906 1.0625 -5.742188 C 1.382813 -6.355469 1.839844 -6.824219 2.433594 -7.148438 C 3.023438 -7.472656 3.6875 -7.632813 4.421875 -7.636719 C 5.550781 -7.632813 6.476563 -7.265625 7.199219 -6.535156 C 7.917969 -5.796875 8.277344 -4.871094 8.28125 -3.753906 C 8.277344 -2.621094 7.914063 -1.683594 7.1875 -0.945313 C 6.457031 -0.203125 5.539063 0.164063 4.4375 0.167969 C 3.75 0.164063 3.097656 0.0117188 2.476563 -0.292969 C 1.855469 -0.601563 1.382813 -1.054688 1.0625 -1.652344 C 0.734375 -2.25 0.574219 -2.976563 0.578125 -3.839844 Z M 2.601563 -3.734375 C 2.601563 -2.988281 2.777344 -2.421875 3.128906 -2.03125 C 3.480469 -1.636719 3.914063 -1.441406 4.429688 -1.441406 C 4.945313 -1.441406 5.375 -1.636719 5.726563 -2.03125 C 6.070313 -2.421875 6.246094 -2.992188 6.25 -3.746094 C 6.246094 -4.472656 6.070313 -5.035156 5.726563 -5.433594 C 5.375 -5.824219 4.945313 -6.023438 4.429688 -6.027344 C 3.914063 -6.023438 3.480469 -5.824219 3.128906 -5.433594 C 2.777344 -5.035156 2.601563 -4.46875 2.601563 -3.734375 Z M 2.601563 -3.734375 \"/>\n",
       "</symbol>\n",
       "<symbol overflow=\"visible\" id=\"glyph0-5\">\n",
       "<path style=\"stroke:none;\" d=\"M 0.851563 0.492188 L 3.109375 0.765625 C 3.144531 1.027344 3.230469 1.207031 3.367188 1.308594 C 3.550781 1.445313 3.847656 1.515625 4.253906 1.519531 C 4.769531 1.515625 5.15625 1.4375 5.414063 1.285156 C 5.585938 1.179688 5.714844 1.015625 5.808594 0.789063 C 5.863281 0.621094 5.894531 0.320313 5.898438 -0.121094 L 5.898438 -1.210938 C 5.304688 -0.402344 4.558594 0 3.664063 0 C 2.65625 0 1.863281 -0.421875 1.28125 -1.273438 C 0.816406 -1.9375 0.585938 -2.773438 0.589844 -3.777344 C 0.585938 -5.023438 0.886719 -5.980469 1.492188 -6.644531 C 2.09375 -7.304688 2.84375 -7.632813 3.742188 -7.636719 C 4.660156 -7.632813 5.421875 -7.226563 6.027344 -6.417969 L 6.027344 -7.46875 L 7.875 -7.46875 L 7.875 -0.765625 C 7.875 0.113281 7.800781 0.769531 7.65625 1.207031 C 7.507813 1.644531 7.304688 1.984375 7.042969 2.234375 C 6.78125 2.480469 6.429688 2.675781 5.992188 2.820313 C 5.550781 2.957031 4.996094 3.027344 4.332031 3.03125 C 3.0625 3.027344 2.164063 2.8125 1.636719 2.378906 C 1.105469 1.945313 0.84375 1.394531 0.84375 0.730469 C 0.84375 0.664063 0.84375 0.585938 0.851563 0.492188 Z M 2.617188 -3.886719 C 2.613281 -3.089844 2.765625 -2.511719 3.074219 -2.148438 C 3.378906 -1.777344 3.757813 -1.59375 4.210938 -1.597656 C 4.691406 -1.59375 5.097656 -1.78125 5.433594 -2.160156 C 5.761719 -2.535156 5.929688 -3.09375 5.933594 -3.839844 C 5.929688 -4.609375 5.769531 -5.183594 5.453125 -5.5625 C 5.132813 -5.933594 4.730469 -6.121094 4.246094 -6.125 C 3.769531 -6.121094 3.378906 -5.9375 3.074219 -5.570313 C 2.765625 -5.199219 2.613281 -4.636719 2.617188 -3.886719 Z M 2.617188 -3.886719 \"/>\n",
       "</symbol>\n",
       "<symbol overflow=\"visible\" id=\"glyph0-6\">\n",
       "<path style=\"stroke:none;\" d=\"M 2.925781 0 L 0.949219 0 L 0.949219 -7.46875 L 2.785156 -7.46875 L 2.785156 -6.40625 C 3.09375 -6.902344 3.375 -7.234375 3.628906 -7.394531 C 3.878906 -7.554688 4.164063 -7.632813 4.484375 -7.636719 C 4.929688 -7.632813 5.363281 -7.507813 5.785156 -7.261719 L 5.175781 -5.539063 C 4.839844 -5.75 4.53125 -5.859375 4.246094 -5.863281 C 3.96875 -5.859375 3.734375 -5.78125 3.542969 -5.632813 C 3.347656 -5.476563 3.195313 -5.203125 3.089844 -4.808594 C 2.976563 -4.40625 2.921875 -3.570313 2.925781 -2.304688 Z M 2.925781 0 \"/>\n",
       "</symbol>\n",
       "<symbol overflow=\"visible\" id=\"glyph0-7\">\n",
       "<path style=\"stroke:none;\" d=\"M 2.511719 -5.1875 L 0.71875 -5.511719 C 0.917969 -6.230469 1.265625 -6.765625 1.757813 -7.113281 C 2.25 -7.460938 2.980469 -7.632813 3.953125 -7.636719 C 4.832031 -7.632813 5.488281 -7.53125 5.917969 -7.324219 C 6.347656 -7.113281 6.648438 -6.847656 6.828125 -6.527344 C 7 -6.207031 7.089844 -5.617188 7.09375 -4.761719 L 7.074219 -2.453125 C 7.070313 -1.792969 7.101563 -1.308594 7.167969 -1 C 7.226563 -0.6875 7.347656 -0.355469 7.523438 0 L 5.570313 0 C 5.515625 -0.128906 5.453125 -0.320313 5.378906 -0.582031 C 5.34375 -0.695313 5.320313 -0.773438 5.308594 -0.816406 C 4.96875 -0.484375 4.605469 -0.238281 4.222656 -0.078125 C 3.835938 0.0859375 3.425781 0.164063 2.996094 0.167969 C 2.222656 0.164063 1.617188 -0.0429688 1.175781 -0.457031 C 0.730469 -0.871094 0.507813 -1.398438 0.511719 -2.039063 C 0.507813 -2.460938 0.609375 -2.835938 0.8125 -3.167969 C 1.011719 -3.496094 1.292969 -3.75 1.660156 -3.925781 C 2.019531 -4.101563 2.546875 -4.253906 3.234375 -4.386719 C 4.15625 -4.558594 4.792969 -4.71875 5.152344 -4.871094 L 5.152344 -5.070313 C 5.148438 -5.445313 5.054688 -5.71875 4.871094 -5.882813 C 4.679688 -6.042969 4.328125 -6.121094 3.8125 -6.125 C 3.457031 -6.121094 3.183594 -6.054688 2.988281 -5.917969 C 2.789063 -5.777344 2.628906 -5.53125 2.511719 -5.1875 Z M 5.152344 -3.585938 C 4.894531 -3.5 4.496094 -3.398438 3.949219 -3.285156 C 3.402344 -3.164063 3.042969 -3.046875 2.875 -2.9375 C 2.613281 -2.75 2.484375 -2.519531 2.488281 -2.242188 C 2.484375 -1.964844 2.585938 -1.726563 2.796875 -1.523438 C 3 -1.320313 3.265625 -1.21875 3.585938 -1.222656 C 3.941406 -1.21875 4.28125 -1.335938 4.605469 -1.574219 C 4.84375 -1.75 5 -1.96875 5.078125 -2.230469 C 5.125 -2.394531 5.148438 -2.714844 5.152344 -3.191406 Z M 5.152344 -3.585938 \"/>\n",
       "</symbol>\n",
       "<symbol overflow=\"visible\" id=\"glyph0-8\">\n",
       "<path style=\"stroke:none;\" d=\"M 0.886719 -7.46875 L 2.707031 -7.46875 L 2.707031 -6.449219 C 3.355469 -7.238281 4.128906 -7.632813 5.035156 -7.636719 C 5.507813 -7.632813 5.921875 -7.535156 6.277344 -7.339844 C 6.625 -7.140625 6.914063 -6.84375 7.144531 -6.449219 C 7.46875 -6.84375 7.824219 -7.140625 8.203125 -7.339844 C 8.582031 -7.535156 8.988281 -7.632813 9.421875 -7.636719 C 9.96875 -7.632813 10.429688 -7.523438 10.8125 -7.300781 C 11.1875 -7.078125 11.472656 -6.75 11.664063 -6.320313 C 11.796875 -6 11.863281 -5.484375 11.867188 -4.773438 L 11.867188 0 L 9.894531 0 L 9.894531 -4.269531 C 9.890625 -5.007813 9.820313 -5.484375 9.6875 -5.703125 C 9.5 -5.980469 9.21875 -6.121094 8.84375 -6.125 C 8.5625 -6.121094 8.304688 -6.039063 8.0625 -5.871094 C 7.820313 -5.699219 7.644531 -5.449219 7.535156 -5.128906 C 7.425781 -4.800781 7.371094 -4.289063 7.375 -3.585938 L 7.375 0 L 5.398438 0 L 5.398438 -4.09375 C 5.394531 -4.816406 5.359375 -5.285156 5.292969 -5.5 C 5.21875 -5.707031 5.109375 -5.863281 4.964844 -5.96875 C 4.816406 -6.070313 4.617188 -6.121094 4.367188 -6.125 C 4.058594 -6.121094 3.785156 -6.039063 3.542969 -5.878906 C 3.296875 -5.710938 3.121094 -5.476563 3.019531 -5.167969 C 2.910156 -4.855469 2.859375 -4.339844 2.863281 -3.628906 L 2.863281 0 L 0.886719 0 Z M 0.886719 -7.46875 \"/>\n",
       "</symbol>\n",
       "<symbol overflow=\"visible\" id=\"glyph0-9\">\n",
       "<path style=\"stroke:none;\" d=\"\"/>\n",
       "</symbol>\n",
       "<symbol overflow=\"visible\" id=\"glyph0-10\">\n",
       "<path style=\"stroke:none;\" d=\"M 0.167969 -7.46875 L 1.265625 -7.46875 L 1.265625 -8.03125 C 1.265625 -8.65625 1.332031 -9.125 1.464844 -9.433594 C 1.597656 -9.742188 1.84375 -9.992188 2.203125 -10.191406 C 2.5625 -10.382813 3.015625 -10.480469 3.566406 -10.484375 C 4.125 -10.480469 4.675781 -10.398438 5.21875 -10.230469 L 4.949219 -8.851563 C 4.632813 -8.925781 4.332031 -8.964844 4.042969 -8.964844 C 3.753906 -8.964844 3.546875 -8.894531 3.425781 -8.761719 C 3.300781 -8.625 3.238281 -8.371094 3.242188 -7.996094 L 3.242188 -7.46875 L 4.71875 -7.46875 L 4.71875 -5.914063 L 3.242188 -5.914063 L 3.242188 0 L 1.265625 0 L 1.265625 -5.914063 L 0.167969 -5.914063 Z M 0.167969 -7.46875 \"/>\n",
       "</symbol>\n",
       "<symbol overflow=\"visible\" id=\"glyph0-11\">\n",
       "<path style=\"stroke:none;\" d=\"M 0.976563 -7.46875 L 2.820313 -7.46875 L 2.820313 -6.371094 C 3.054688 -6.742188 3.378906 -7.046875 3.789063 -7.285156 C 4.195313 -7.515625 4.648438 -7.632813 5.148438 -7.636719 C 6.011719 -7.632813 6.746094 -7.292969 7.355469 -6.617188 C 7.957031 -5.933594 8.261719 -4.988281 8.261719 -3.777344 C 8.261719 -2.527344 7.957031 -1.558594 7.347656 -0.867188 C 6.738281 -0.179688 6 0.164063 5.132813 0.167969 C 4.71875 0.164063 4.34375 0.0859375 4.011719 -0.078125 C 3.671875 -0.238281 3.320313 -0.519531 2.953125 -0.921875 L 2.953125 2.839844 L 0.976563 2.839844 Z M 2.933594 -3.859375 C 2.929688 -3.019531 3.09375 -2.398438 3.429688 -2 C 3.757813 -1.59375 4.164063 -1.394531 4.648438 -1.398438 C 5.101563 -1.394531 5.484375 -1.578125 5.792969 -1.949219 C 6.09375 -2.316406 6.246094 -2.921875 6.25 -3.761719 C 6.246094 -4.542969 6.089844 -5.121094 5.777344 -5.503906 C 5.464844 -5.878906 5.074219 -6.070313 4.613281 -6.074219 C 4.125 -6.070313 3.726563 -5.882813 3.410156 -5.515625 C 3.089844 -5.140625 2.929688 -4.589844 2.933594 -3.859375 Z M 2.933594 -3.859375 \"/>\n",
       "</symbol>\n",
       "<symbol overflow=\"visible\" id=\"glyph0-12\">\n",
       "<path style=\"stroke:none;\" d=\"M 1.035156 0 L 1.035156 -10.308594 L 3.007813 -10.308594 L 3.007813 0 Z M 1.035156 0 \"/>\n",
       "</symbol>\n",
       "<symbol overflow=\"visible\" id=\"glyph0-13\">\n",
       "<path style=\"stroke:none;\" d=\"M 5.359375 -2.375 L 7.328125 -2.046875 C 7.070313 -1.320313 6.667969 -0.773438 6.125 -0.398438 C 5.578125 -0.0234375 4.898438 0.164063 4.078125 0.167969 C 2.777344 0.164063 1.816406 -0.257813 1.195313 -1.105469 C 0.703125 -1.78125 0.457031 -2.636719 0.457031 -3.675781 C 0.457031 -4.910156 0.777344 -5.882813 1.425781 -6.585938 C 2.070313 -7.285156 2.890625 -7.632813 3.882813 -7.636719 C 4.988281 -7.632813 5.863281 -7.265625 6.507813 -6.535156 C 7.148438 -5.796875 7.457031 -4.675781 7.433594 -3.164063 L 2.480469 -3.164063 C 2.492188 -2.578125 2.652344 -2.121094 2.960938 -1.796875 C 3.261719 -1.46875 3.640625 -1.304688 4.097656 -1.308594 C 4.402344 -1.304688 4.664063 -1.390625 4.878906 -1.558594 C 5.085938 -1.726563 5.246094 -1.996094 5.359375 -2.375 Z M 5.46875 -4.375 C 5.453125 -4.941406 5.308594 -5.375 5.027344 -5.675781 C 4.746094 -5.972656 4.402344 -6.121094 4 -6.125 C 3.566406 -6.121094 3.210938 -5.964844 2.933594 -5.652344 C 2.648438 -5.335938 2.507813 -4.910156 2.515625 -4.375 Z M 5.46875 -4.375 \"/>\n",
       "</symbol>\n",
       "<symbol overflow=\"visible\" id=\"glyph1-0\">\n",
       "<path style=\"stroke:none;\" d=\"M 0.367188 -1.859375 L 1.414063 -2.023438 C 1.46875 -1.601563 1.632813 -1.28125 1.902344 -1.058594 C 2.167969 -0.835938 2.542969 -0.726563 3.023438 -0.726563 C 3.507813 -0.726563 3.867188 -0.824219 4.101563 -1.023438 C 4.335938 -1.21875 4.453125 -1.449219 4.453125 -1.71875 C 4.453125 -1.953125 4.347656 -2.140625 4.140625 -2.28125 C 3.996094 -2.371094 3.636719 -2.492188 3.0625 -2.636719 C 2.289063 -2.832031 1.753906 -3 1.457031 -3.144531 C 1.15625 -3.285156 0.929688 -3.480469 0.777344 -3.734375 C 0.621094 -3.984375 0.542969 -4.265625 0.546875 -4.570313 C 0.542969 -4.84375 0.605469 -5.097656 0.734375 -5.339844 C 0.859375 -5.574219 1.035156 -5.773438 1.253906 -5.929688 C 1.417969 -6.046875 1.640625 -6.148438 1.925781 -6.234375 C 2.207031 -6.320313 2.511719 -6.363281 2.835938 -6.363281 C 3.324219 -6.363281 3.75 -6.292969 4.121094 -6.152344 C 4.488281 -6.011719 4.761719 -5.820313 4.9375 -5.578125 C 5.113281 -5.335938 5.234375 -5.015625 5.304688 -4.617188 L 4.273438 -4.476563 C 4.222656 -4.796875 4.085938 -5.046875 3.863281 -5.226563 C 3.636719 -5.40625 3.320313 -5.496094 2.914063 -5.496094 C 2.425781 -5.496094 2.082031 -5.414063 1.875 -5.253906 C 1.664063 -5.09375 1.558594 -4.90625 1.5625 -4.695313 C 1.558594 -4.554688 1.601563 -4.433594 1.695313 -4.324219 C 1.773438 -4.210938 1.910156 -4.117188 2.097656 -4.042969 C 2.203125 -4.003906 2.511719 -3.914063 3.03125 -3.773438 C 3.773438 -3.574219 4.292969 -3.410156 4.589844 -3.285156 C 4.878906 -3.15625 5.113281 -2.972656 5.285156 -2.730469 C 5.453125 -2.488281 5.535156 -2.1875 5.539063 -1.828125 C 5.535156 -1.476563 5.433594 -1.144531 5.230469 -0.832031 C 5.023438 -0.519531 4.726563 -0.277344 4.339844 -0.113281 C 3.953125 0.0585938 3.515625 0.140625 3.03125 0.140625 C 2.21875 0.140625 1.601563 -0.0273438 1.179688 -0.363281 C 0.753906 -0.699219 0.484375 -1.195313 0.367188 -1.859375 Z M 0.367188 -1.859375 \"/>\n",
       "</symbol>\n",
       "<symbol overflow=\"visible\" id=\"glyph1-1\">\n",
       "<path style=\"stroke:none;\" d=\"M 4.851563 -0.765625 C 4.460938 -0.433594 4.082031 -0.199219 3.722656 -0.0625 C 3.355469 0.0742188 2.96875 0.140625 2.5625 0.140625 C 1.875 0.140625 1.351563 -0.0234375 0.984375 -0.359375 C 0.617188 -0.6875 0.433594 -1.117188 0.433594 -1.640625 C 0.433594 -1.945313 0.5 -2.222656 0.640625 -2.472656 C 0.777344 -2.722656 0.960938 -2.925781 1.1875 -3.082031 C 1.410156 -3.234375 1.664063 -3.347656 1.945313 -3.429688 C 2.152344 -3.476563 2.464844 -3.53125 2.882813 -3.585938 C 3.734375 -3.6875 4.359375 -3.808594 4.765625 -3.949219 C 4.765625 -4.089844 4.769531 -4.179688 4.769531 -4.226563 C 4.769531 -4.648438 4.667969 -4.953125 4.46875 -5.132813 C 4.199219 -5.371094 3.800781 -5.488281 3.269531 -5.492188 C 2.769531 -5.488281 2.402344 -5.402344 2.167969 -5.230469 C 1.933594 -5.054688 1.757813 -4.746094 1.648438 -4.304688 L 0.617188 -4.445313 C 0.707031 -4.886719 0.863281 -5.242188 1.078125 -5.515625 C 1.289063 -5.78125 1.597656 -5.992188 2.007813 -6.140625 C 2.410156 -6.289063 2.882813 -6.363281 3.421875 -6.363281 C 3.953125 -6.363281 4.382813 -6.300781 4.714844 -6.175781 C 5.046875 -6.050781 5.292969 -5.890625 5.449219 -5.703125 C 5.605469 -5.511719 5.714844 -5.273438 5.777344 -4.984375 C 5.808594 -4.804688 5.824219 -4.480469 5.828125 -4.015625 L 5.828125 -2.609375 C 5.824219 -1.625 5.847656 -1.003906 5.894531 -0.746094 C 5.941406 -0.484375 6.03125 -0.238281 6.164063 0 L 5.0625 0 C 4.953125 -0.21875 4.882813 -0.472656 4.851563 -0.765625 Z M 4.765625 -3.125 C 4.375 -2.964844 3.800781 -2.832031 3.039063 -2.726563 C 2.605469 -2.660156 2.300781 -2.589844 2.121094 -2.515625 C 1.941406 -2.433594 1.800781 -2.320313 1.703125 -2.171875 C 1.605469 -2.019531 1.558594 -1.851563 1.558594 -1.671875 C 1.558594 -1.386719 1.664063 -1.152344 1.875 -0.96875 C 2.085938 -0.777344 2.398438 -0.683594 2.8125 -0.6875 C 3.21875 -0.683594 3.578125 -0.773438 3.894531 -0.953125 C 4.210938 -1.128906 4.445313 -1.371094 4.59375 -1.679688 C 4.707031 -1.917969 4.761719 -2.269531 4.765625 -2.734375 Z M 4.765625 -3.125 \"/>\n",
       "</symbol>\n",
       "<symbol overflow=\"visible\" id=\"glyph1-2\">\n",
       "<path style=\"stroke:none;\" d=\"M 0.789063 0 L 0.789063 -6.222656 L 1.734375 -6.222656 L 1.734375 -5.351563 C 1.929688 -5.648438 2.1875 -5.894531 2.511719 -6.082031 C 2.835938 -6.269531 3.207031 -6.363281 3.621094 -6.363281 C 4.082031 -6.363281 4.457031 -6.265625 4.753906 -6.074219 C 5.042969 -5.882813 5.253906 -5.617188 5.378906 -5.273438 C 5.871094 -6 6.511719 -6.363281 7.300781 -6.363281 C 7.917969 -6.363281 8.390625 -6.191406 8.722656 -5.847656 C 9.054688 -5.503906 9.222656 -4.976563 9.222656 -4.273438 L 9.222656 0 L 8.171875 0 L 8.171875 -3.921875 C 8.167969 -4.339844 8.132813 -4.644531 8.070313 -4.832031 C 8 -5.015625 7.878906 -5.164063 7.699219 -5.277344 C 7.519531 -5.390625 7.308594 -5.449219 7.066406 -5.449219 C 6.628906 -5.449219 6.265625 -5.300781 5.976563 -5.011719 C 5.6875 -4.71875 5.542969 -4.253906 5.542969 -3.617188 L 5.542969 0 L 4.488281 0 L 4.488281 -4.042969 C 4.488281 -4.511719 4.402344 -4.863281 4.230469 -5.097656 C 4.058594 -5.332031 3.777344 -5.449219 3.386719 -5.449219 C 3.089844 -5.449219 2.8125 -5.371094 2.5625 -5.214844 C 2.308594 -5.058594 2.128906 -4.828125 2.015625 -4.527344 C 1.898438 -4.226563 1.839844 -3.792969 1.84375 -3.226563 L 1.84375 0 Z M 0.789063 0 \"/>\n",
       "</symbol>\n",
       "<symbol overflow=\"visible\" id=\"glyph1-3\">\n",
       "<path style=\"stroke:none;\" d=\"M 0.789063 2.382813 L 0.789063 -6.222656 L 1.75 -6.222656 L 1.75 -5.414063 C 1.976563 -5.730469 2.234375 -5.964844 2.519531 -6.125 C 2.800781 -6.28125 3.144531 -6.363281 3.554688 -6.363281 C 4.082031 -6.363281 4.550781 -6.226563 4.960938 -5.953125 C 5.363281 -5.679688 5.671875 -5.292969 5.882813 -4.792969 C 6.089844 -4.292969 6.191406 -3.746094 6.195313 -3.15625 C 6.191406 -2.519531 6.078125 -1.945313 5.851563 -1.4375 C 5.621094 -0.921875 5.289063 -0.53125 4.855469 -0.265625 C 4.417969 0.0078125 3.960938 0.140625 3.480469 0.140625 C 3.128906 0.140625 2.8125 0.0664063 2.535156 -0.0820313 C 2.253906 -0.230469 2.023438 -0.417969 1.84375 -0.644531 L 1.84375 2.382813 Z M 1.746094 -3.078125 C 1.746094 -2.273438 1.90625 -1.683594 2.230469 -1.300781 C 2.554688 -0.917969 2.949219 -0.726563 3.410156 -0.726563 C 3.878906 -0.726563 4.277344 -0.921875 4.613281 -1.320313 C 4.945313 -1.710938 5.113281 -2.328125 5.117188 -3.164063 C 5.113281 -3.953125 4.949219 -4.546875 4.625 -4.945313 C 4.296875 -5.339844 3.910156 -5.535156 3.457031 -5.539063 C 3.003906 -5.535156 2.605469 -5.324219 2.261719 -4.90625 C 1.917969 -4.484375 1.746094 -3.875 1.746094 -3.078125 Z M 1.746094 -3.078125 \"/>\n",
       "</symbol>\n",
       "<symbol overflow=\"visible\" id=\"glyph1-4\">\n",
       "<path style=\"stroke:none;\" d=\"M 0.765625 0 L 0.765625 -8.589844 L 1.820313 -8.589844 L 1.820313 0 Z M 0.765625 0 \"/>\n",
       "</symbol>\n",
       "<symbol overflow=\"visible\" id=\"glyph1-5\">\n",
       "<path style=\"stroke:none;\" d=\"M 5.050781 -2.003906 L 6.140625 -1.867188 C 5.96875 -1.230469 5.648438 -0.738281 5.183594 -0.386719 C 4.71875 -0.0351563 4.125 0.140625 3.40625 0.140625 C 2.492188 0.140625 1.769531 -0.136719 1.238281 -0.699219 C 0.699219 -1.253906 0.433594 -2.042969 0.4375 -3.058594 C 0.433594 -4.105469 0.703125 -4.917969 1.246094 -5.496094 C 1.78125 -6.074219 2.480469 -6.363281 3.34375 -6.363281 C 4.175781 -6.363281 4.855469 -6.078125 5.382813 -5.511719 C 5.910156 -4.945313 6.175781 -4.148438 6.175781 -3.125 C 6.175781 -3.058594 6.171875 -2.964844 6.171875 -2.84375 L 1.53125 -2.84375 C 1.5625 -2.15625 1.757813 -1.632813 2.109375 -1.269531 C 2.457031 -0.90625 2.890625 -0.726563 3.410156 -0.726563 C 3.796875 -0.726563 4.125 -0.828125 4.402344 -1.03125 C 4.671875 -1.234375 4.890625 -1.558594 5.050781 -2.003906 Z M 1.585938 -3.710938 L 5.0625 -3.710938 C 5.015625 -4.226563 4.882813 -4.621094 4.664063 -4.886719 C 4.328125 -5.292969 3.890625 -5.496094 3.359375 -5.496094 C 2.871094 -5.496094 2.464844 -5.332031 2.136719 -5.007813 C 1.804688 -4.683594 1.621094 -4.25 1.585938 -3.710938 Z M 1.585938 -3.710938 \"/>\n",
       "</symbol>\n",
       "<symbol overflow=\"visible\" id=\"glyph1-6\">\n",
       "<path style=\"stroke:none;\" d=\"M 0.382813 -2.578125 L 0.382813 -3.640625 L 3.621094 -3.640625 L 3.621094 -2.578125 Z M 0.382813 -2.578125 \"/>\n",
       "</symbol>\n",
       "<symbol overflow=\"visible\" id=\"glyph1-7\">\n",
       "<path style=\"stroke:none;\" d=\"M 3.878906 0 L 3.878906 -2.054688 L 0.152344 -2.054688 L 0.152344 -3.023438 L 4.070313 -8.589844 L 4.933594 -8.589844 L 4.933594 -3.023438 L 6.09375 -3.023438 L 6.09375 -2.054688 L 4.933594 -2.054688 L 4.933594 0 Z M 3.878906 -3.023438 L 3.878906 -6.898438 L 1.1875 -3.023438 Z M 3.878906 -3.023438 \"/>\n",
       "</symbol>\n",
       "<symbol overflow=\"visible\" id=\"glyph1-8\">\n",
       "<path style=\"stroke:none;\" d=\"M 6.039063 -1.015625 L 6.039063 0 L 0.363281 0 C 0.355469 -0.253906 0.394531 -0.496094 0.484375 -0.734375 C 0.628906 -1.117188 0.859375 -1.5 1.179688 -1.875 C 1.492188 -2.25 1.953125 -2.683594 2.5625 -3.175781 C 3.492188 -3.941406 4.125 -4.546875 4.453125 -4.992188 C 4.78125 -5.4375 4.945313 -5.859375 4.945313 -6.265625 C 4.945313 -6.679688 4.792969 -7.03125 4.496094 -7.320313 C 4.191406 -7.601563 3.804688 -7.746094 3.328125 -7.75 C 2.820313 -7.746094 2.414063 -7.59375 2.109375 -7.292969 C 1.804688 -6.984375 1.648438 -6.5625 1.648438 -6.03125 L 0.5625 -6.140625 C 0.632813 -6.945313 0.910156 -7.558594 1.398438 -7.988281 C 1.878906 -8.410156 2.53125 -8.625 3.351563 -8.625 C 4.171875 -8.625 4.824219 -8.394531 5.308594 -7.9375 C 5.789063 -7.480469 6.027344 -6.914063 6.03125 -6.242188 C 6.027344 -5.894531 5.957031 -5.558594 5.820313 -5.226563 C 5.675781 -4.890625 5.441406 -4.539063 5.117188 -4.175781 C 4.789063 -3.804688 4.25 -3.300781 3.492188 -2.664063 C 2.859375 -2.128906 2.453125 -1.769531 2.273438 -1.582031 C 2.09375 -1.394531 1.945313 -1.203125 1.828125 -1.015625 Z M 6.039063 -1.015625 \"/>\n",
       "</symbol>\n",
       "<symbol overflow=\"visible\" id=\"glyph1-9\">\n",
       "<path style=\"stroke:none;\" d=\"M 0.5 -4.234375 C 0.496094 -5.246094 0.601563 -6.0625 0.8125 -6.6875 C 1.019531 -7.304688 1.328125 -7.785156 1.742188 -8.121094 C 2.148438 -8.457031 2.667969 -8.625 3.296875 -8.625 C 3.757813 -8.625 4.164063 -8.53125 4.511719 -8.347656 C 4.855469 -8.160156 5.140625 -7.890625 5.371094 -7.542969 C 5.59375 -7.191406 5.773438 -6.765625 5.90625 -6.265625 C 6.035156 -5.761719 6.097656 -5.085938 6.101563 -4.234375 C 6.097656 -3.226563 5.996094 -2.414063 5.789063 -1.796875 C 5.578125 -1.175781 5.265625 -0.695313 4.859375 -0.359375 C 4.445313 -0.0195313 3.925781 0.144531 3.296875 0.148438 C 2.464844 0.144531 1.816406 -0.148438 1.347656 -0.742188 C 0.78125 -1.457031 0.496094 -2.621094 0.5 -4.234375 Z M 1.582031 -4.234375 C 1.582031 -2.824219 1.746094 -1.886719 2.074219 -1.417969 C 2.402344 -0.949219 2.808594 -0.714844 3.296875 -0.71875 C 3.777344 -0.714844 4.183594 -0.949219 4.519531 -1.421875 C 4.847656 -1.886719 5.015625 -2.824219 5.015625 -4.234375 C 5.015625 -5.648438 4.847656 -6.589844 4.519531 -7.054688 C 4.183594 -7.515625 3.773438 -7.746094 3.289063 -7.75 C 2.800781 -7.746094 2.414063 -7.542969 2.125 -7.136719 C 1.761719 -6.613281 1.582031 -5.644531 1.582031 -4.234375 Z M 1.582031 -4.234375 \"/>\n",
       "</symbol>\n",
       "<symbol overflow=\"visible\" id=\"glyph2-0\">\n",
       "<path style=\"stroke:none;\" d=\"M 0 -0.925781 L -8.589844 -0.925781 L -8.589844 -3.882813 C -8.589844 -4.550781 -8.546875 -5.0625 -8.46875 -5.414063 C -8.351563 -5.90625 -8.148438 -6.324219 -7.851563 -6.671875 C -7.46875 -7.121094 -6.976563 -7.460938 -6.382813 -7.6875 C -5.785156 -7.914063 -5.105469 -8.027344 -4.34375 -8.027344 C -3.6875 -8.027344 -3.109375 -7.949219 -2.605469 -7.796875 C -2.101563 -7.644531 -1.683594 -7.449219 -1.355469 -7.210938 C -1.019531 -6.972656 -0.761719 -6.710938 -0.574219 -6.429688 C -0.386719 -6.144531 -0.242188 -5.804688 -0.144531 -5.40625 C -0.046875 -5.003906 0 -4.542969 0 -4.023438 Z M -1.015625 -2.0625 L -1.015625 -3.898438 C -1.011719 -4.460938 -1.066406 -4.90625 -1.171875 -5.226563 C -1.273438 -5.546875 -1.421875 -5.804688 -1.617188 -6 C -1.886719 -6.269531 -2.246094 -6.476563 -2.703125 -6.628906 C -3.15625 -6.777344 -3.710938 -6.855469 -4.359375 -6.855469 C -5.257813 -6.855469 -5.945313 -6.707031 -6.429688 -6.410156 C -6.910156 -6.113281 -7.234375 -5.753906 -7.398438 -5.335938 C -7.515625 -5.03125 -7.574219 -4.542969 -7.578125 -3.867188 L -7.578125 -2.0625 Z M -1.015625 -2.0625 \"/>\n",
       "</symbol>\n",
       "<symbol overflow=\"visible\" id=\"glyph2-1\">\n",
       "<path style=\"stroke:none;\" d=\"M -2.003906 -5.050781 L -1.867188 -6.140625 C -1.230469 -5.96875 -0.738281 -5.648438 -0.386719 -5.183594 C -0.0351563 -4.71875 0.140625 -4.125 0.140625 -3.40625 C 0.140625 -2.492188 -0.136719 -1.769531 -0.699219 -1.238281 C -1.253906 -0.699219 -2.042969 -0.433594 -3.058594 -0.4375 C -4.105469 -0.433594 -4.917969 -0.703125 -5.496094 -1.246094 C -6.074219 -1.78125 -6.363281 -2.480469 -6.363281 -3.34375 C -6.363281 -4.175781 -6.078125 -4.855469 -5.511719 -5.382813 C -4.945313 -5.910156 -4.148438 -6.175781 -3.125 -6.175781 C -3.058594 -6.175781 -2.964844 -6.171875 -2.84375 -6.171875 L -2.84375 -1.53125 C -2.15625 -1.5625 -1.632813 -1.757813 -1.269531 -2.109375 C -0.90625 -2.457031 -0.726563 -2.890625 -0.726563 -3.410156 C -0.726563 -3.796875 -0.828125 -4.125 -1.03125 -4.402344 C -1.234375 -4.671875 -1.558594 -4.890625 -2.003906 -5.050781 Z M -3.710938 -1.585938 L -3.710938 -5.0625 C -4.226563 -5.015625 -4.621094 -4.882813 -4.886719 -4.664063 C -5.292969 -4.328125 -5.496094 -3.890625 -5.496094 -3.359375 C -5.496094 -2.871094 -5.332031 -2.464844 -5.007813 -2.136719 C -4.683594 -1.804688 -4.25 -1.621094 -3.710938 -1.585938 Z M -3.710938 -1.585938 \"/>\n",
       "</symbol>\n",
       "<symbol overflow=\"visible\" id=\"glyph2-2\">\n",
       "<path style=\"stroke:none;\" d=\"M 0 -0.789063 L -6.222656 -0.789063 L -6.222656 -1.742188 L -5.335938 -1.742188 C -6.019531 -2.195313 -6.363281 -2.855469 -6.363281 -3.71875 C -6.363281 -4.089844 -6.292969 -4.433594 -6.160156 -4.753906 C -6.023438 -5.066406 -5.847656 -5.304688 -5.632813 -5.460938 C -5.410156 -5.617188 -5.152344 -5.726563 -4.851563 -5.789063 C -4.65625 -5.828125 -4.3125 -5.847656 -3.828125 -5.847656 L 0 -5.847656 L 0 -4.792969 L -3.785156 -4.792969 C -4.214844 -4.792969 -4.535156 -4.75 -4.75 -4.667969 C -4.960938 -4.585938 -5.128906 -4.441406 -5.257813 -4.234375 C -5.382813 -4.023438 -5.449219 -3.777344 -5.449219 -3.5 C -5.449219 -3.046875 -5.304688 -2.660156 -5.019531 -2.332031 C -4.734375 -2.003906 -4.195313 -1.839844 -3.398438 -1.84375 L 0 -1.84375 Z M 0 -0.789063 \"/>\n",
       "</symbol>\n",
       "<symbol overflow=\"visible\" id=\"glyph2-3\">\n",
       "<path style=\"stroke:none;\" d=\"M -1.859375 -0.367188 L -2.023438 -1.414063 C -1.601563 -1.46875 -1.28125 -1.632813 -1.058594 -1.902344 C -0.835938 -2.167969 -0.726563 -2.542969 -0.726563 -3.023438 C -0.726563 -3.507813 -0.824219 -3.867188 -1.023438 -4.101563 C -1.21875 -4.335938 -1.449219 -4.453125 -1.71875 -4.453125 C -1.953125 -4.453125 -2.140625 -4.347656 -2.28125 -4.140625 C -2.371094 -3.996094 -2.492188 -3.636719 -2.636719 -3.0625 C -2.832031 -2.289063 -3 -1.753906 -3.144531 -1.457031 C -3.285156 -1.15625 -3.480469 -0.929688 -3.734375 -0.777344 C -3.984375 -0.621094 -4.265625 -0.542969 -4.570313 -0.546875 C -4.84375 -0.542969 -5.097656 -0.605469 -5.339844 -0.734375 C -5.574219 -0.859375 -5.773438 -1.035156 -5.929688 -1.253906 C -6.046875 -1.417969 -6.148438 -1.640625 -6.234375 -1.925781 C -6.320313 -2.207031 -6.363281 -2.511719 -6.363281 -2.835938 C -6.363281 -3.324219 -6.292969 -3.75 -6.152344 -4.121094 C -6.011719 -4.488281 -5.820313 -4.761719 -5.578125 -4.9375 C -5.335938 -5.113281 -5.015625 -5.234375 -4.617188 -5.304688 L -4.476563 -4.273438 C -4.796875 -4.222656 -5.046875 -4.085938 -5.226563 -3.863281 C -5.40625 -3.636719 -5.496094 -3.320313 -5.496094 -2.914063 C -5.496094 -2.425781 -5.414063 -2.082031 -5.253906 -1.875 C -5.09375 -1.664063 -4.90625 -1.558594 -4.695313 -1.5625 C -4.554688 -1.558594 -4.433594 -1.601563 -4.324219 -1.695313 C -4.210938 -1.773438 -4.117188 -1.910156 -4.042969 -2.097656 C -4.003906 -2.203125 -3.914063 -2.511719 -3.773438 -3.03125 C -3.574219 -3.773438 -3.410156 -4.292969 -3.285156 -4.589844 C -3.15625 -4.878906 -2.972656 -5.113281 -2.730469 -5.285156 C -2.488281 -5.453125 -2.1875 -5.535156 -1.828125 -5.539063 C -1.476563 -5.535156 -1.144531 -5.433594 -0.832031 -5.230469 C -0.519531 -5.023438 -0.277344 -4.726563 -0.113281 -4.339844 C 0.0585938 -3.953125 0.140625 -3.515625 0.140625 -3.03125 C 0.140625 -2.21875 -0.0273438 -1.601563 -0.363281 -1.179688 C -0.699219 -0.753906 -1.195313 -0.484375 -1.859375 -0.367188 Z M -1.859375 -0.367188 \"/>\n",
       "</symbol>\n",
       "<symbol overflow=\"visible\" id=\"glyph2-4\">\n",
       "<path style=\"stroke:none;\" d=\"M -7.375 -0.796875 L -8.589844 -0.796875 L -8.589844 -1.851563 L -7.375 -1.851563 Z M 0 -0.796875 L -6.222656 -0.796875 L -6.222656 -1.851563 L 0 -1.851563 Z M 0 -0.796875 \"/>\n",
       "</symbol>\n",
       "<symbol overflow=\"visible\" id=\"glyph2-5\">\n",
       "<path style=\"stroke:none;\" d=\"M -0.945313 -3.09375 L -0.0117188 -3.246094 C 0.0507813 -2.949219 0.0820313 -2.683594 0.0820313 -2.449219 C 0.0820313 -2.066406 0.0234375 -1.769531 -0.0976563 -1.558594 C -0.21875 -1.347656 -0.378906 -1.199219 -0.578125 -1.113281 C -0.773438 -1.027344 -1.1875 -0.984375 -1.820313 -0.984375 L -5.402344 -0.984375 L -5.402344 -0.210938 L -6.222656 -0.210938 L -6.222656 -0.984375 L -7.765625 -0.984375 L -8.398438 -2.03125 L -6.222656 -2.03125 L -6.222656 -3.09375 L -5.402344 -3.09375 L -5.402344 -2.03125 L -1.765625 -2.03125 C -1.460938 -2.027344 -1.269531 -2.046875 -1.183594 -2.085938 C -1.097656 -2.125 -1.027344 -2.183594 -0.976563 -2.269531 C -0.925781 -2.351563 -0.902344 -2.472656 -0.902344 -2.632813 C -0.902344 -2.742188 -0.914063 -2.898438 -0.945313 -3.09375 Z M -0.945313 -3.09375 \"/>\n",
       "</symbol>\n",
       "<symbol overflow=\"visible\" id=\"glyph2-6\">\n",
       "<path style=\"stroke:none;\" d=\"M 2.398438 -0.742188 L 1.40625 -0.625 C 1.46875 -0.855469 1.5 -1.058594 1.5 -1.230469 C 1.5 -1.464844 1.460938 -1.652344 1.382813 -1.792969 C 1.304688 -1.933594 1.195313 -2.046875 1.054688 -2.140625 C 0.949219 -2.203125 0.6875 -2.3125 0.269531 -2.460938 C 0.207031 -2.480469 0.121094 -2.511719 0.0117188 -2.554688 L -6.222656 -0.195313 L -6.222656 -1.328125 L -2.617188 -2.625 C -2.160156 -2.789063 -1.679688 -2.9375 -1.179688 -3.078125 C -1.660156 -3.195313 -2.132813 -3.339844 -2.59375 -3.507813 L -6.222656 -4.839844 L -6.222656 -5.894531 L 0.105469 -3.527344 C 0.789063 -3.273438 1.257813 -3.074219 1.515625 -2.9375 C 1.863281 -2.746094 2.117188 -2.53125 2.28125 -2.292969 C 2.4375 -2.046875 2.519531 -1.757813 2.523438 -1.421875 C 2.519531 -1.214844 2.476563 -0.988281 2.398438 -0.742188 Z M 2.398438 -0.742188 \"/>\n",
       "</symbol>\n",
       "<symbol overflow=\"visible\" id=\"glyph2-7\">\n",
       "<path style=\"stroke:none;\" d=\"M -4.234375 -0.5 C -5.246094 -0.496094 -6.0625 -0.601563 -6.6875 -0.8125 C -7.304688 -1.019531 -7.785156 -1.328125 -8.121094 -1.742188 C -8.457031 -2.148438 -8.625 -2.667969 -8.625 -3.296875 C -8.625 -3.757813 -8.53125 -4.164063 -8.347656 -4.511719 C -8.160156 -4.855469 -7.890625 -5.140625 -7.542969 -5.371094 C -7.191406 -5.59375 -6.765625 -5.773438 -6.265625 -5.90625 C -5.761719 -6.035156 -5.085938 -6.097656 -4.234375 -6.101563 C -3.226563 -6.097656 -2.414063 -5.996094 -1.796875 -5.789063 C -1.175781 -5.578125 -0.695313 -5.265625 -0.359375 -4.859375 C -0.0195313 -4.445313 0.144531 -3.925781 0.148438 -3.296875 C 0.144531 -2.464844 -0.148438 -1.816406 -0.742188 -1.347656 C -1.457031 -0.78125 -2.621094 -0.496094 -4.234375 -0.5 Z M -4.234375 -1.582031 C -2.824219 -1.582031 -1.886719 -1.746094 -1.417969 -2.074219 C -0.949219 -2.402344 -0.714844 -2.808594 -0.71875 -3.296875 C -0.714844 -3.777344 -0.949219 -4.183594 -1.421875 -4.519531 C -1.886719 -4.847656 -2.824219 -5.015625 -4.234375 -5.015625 C -5.648438 -5.015625 -6.589844 -4.847656 -7.054688 -4.519531 C -7.515625 -4.183594 -7.746094 -3.773438 -7.75 -3.289063 C -7.746094 -2.800781 -7.542969 -2.414063 -7.136719 -2.125 C -6.613281 -1.761719 -5.644531 -1.582031 -4.234375 -1.582031 Z M -4.234375 -1.582031 \"/>\n",
       "</symbol>\n",
       "<symbol overflow=\"visible\" id=\"glyph2-8\">\n",
       "<path style=\"stroke:none;\" d=\"M 0 -1.089844 L -1.203125 -1.089844 L -1.203125 -2.289063 L 0 -2.289063 Z M 0 -1.089844 \"/>\n",
       "</symbol>\n",
       "<symbol overflow=\"visible\" id=\"glyph2-9\">\n",
       "<path style=\"stroke:none;\" d=\"M 0 -4.46875 L 0 -3.414063 L -6.71875 -3.414063 C -6.476563 -3.160156 -6.234375 -2.828125 -5.996094 -2.414063 C -5.75 -2 -5.570313 -1.628906 -5.449219 -1.304688 L -6.46875 -1.304688 C -6.742188 -1.894531 -7.078125 -2.410156 -7.476563 -2.851563 C -7.871094 -3.292969 -8.253906 -3.605469 -8.625 -3.789063 L -8.625 -4.46875 Z M 0 -4.46875 \"/>\n",
       "</symbol>\n",
       "<symbol overflow=\"visible\" id=\"glyph2-10\">\n",
       "<path style=\"stroke:none;\" d=\"M -1.015625 -6.039063 L 0 -6.039063 L 0 -0.363281 C -0.253906 -0.355469 -0.496094 -0.394531 -0.734375 -0.484375 C -1.117188 -0.628906 -1.5 -0.859375 -1.875 -1.179688 C -2.25 -1.492188 -2.683594 -1.953125 -3.175781 -2.5625 C -3.941406 -3.492188 -4.546875 -4.125 -4.992188 -4.453125 C -5.4375 -4.78125 -5.859375 -4.945313 -6.265625 -4.945313 C -6.679688 -4.945313 -7.03125 -4.792969 -7.320313 -4.496094 C -7.601563 -4.191406 -7.746094 -3.804688 -7.75 -3.328125 C -7.746094 -2.820313 -7.59375 -2.414063 -7.292969 -2.109375 C -6.984375 -1.804688 -6.5625 -1.648438 -6.03125 -1.648438 L -6.140625 -0.5625 C -6.945313 -0.632813 -7.558594 -0.910156 -7.988281 -1.398438 C -8.410156 -1.878906 -8.625 -2.53125 -8.625 -3.351563 C -8.625 -4.171875 -8.394531 -4.824219 -7.9375 -5.308594 C -7.480469 -5.789063 -6.914063 -6.027344 -6.242188 -6.03125 C -5.894531 -6.027344 -5.558594 -5.957031 -5.226563 -5.820313 C -4.890625 -5.675781 -4.539063 -5.441406 -4.175781 -5.117188 C -3.804688 -4.789063 -3.300781 -4.25 -2.664063 -3.492188 C -2.128906 -2.859375 -1.769531 -2.453125 -1.582031 -2.273438 C -1.394531 -2.09375 -1.203125 -1.945313 -1.015625 -1.828125 Z M -1.015625 -6.039063 \"/>\n",
       "</symbol>\n",
       "<symbol overflow=\"visible\" id=\"glyph2-11\">\n",
       "<path style=\"stroke:none;\" d=\"M -2.265625 -0.503906 L -2.40625 -1.558594 C -1.808594 -1.679688 -1.378906 -1.882813 -1.113281 -2.175781 C -0.847656 -2.464844 -0.714844 -2.820313 -0.71875 -3.242188 C -0.714844 -3.734375 -0.886719 -4.152344 -1.234375 -4.496094 C -1.574219 -4.832031 -2 -5.003906 -2.515625 -5.007813 C -2.996094 -5.003906 -3.394531 -4.847656 -3.710938 -4.535156 C -4.023438 -4.21875 -4.183594 -3.816406 -4.183594 -3.328125 C -4.183594 -3.128906 -4.144531 -2.878906 -4.066406 -2.585938 L -4.992188 -2.703125 C -4.984375 -2.765625 -4.980469 -2.824219 -4.980469 -2.871094 C -4.980469 -3.320313 -5.097656 -3.722656 -5.332031 -4.085938 C -5.566406 -4.441406 -5.925781 -4.621094 -6.414063 -4.625 C -6.800781 -4.621094 -7.121094 -4.492188 -7.375 -4.230469 C -7.628906 -3.964844 -7.757813 -3.625 -7.757813 -3.21875 C -7.757813 -2.804688 -7.628906 -2.464844 -7.371094 -2.191406 C -7.113281 -1.917969 -6.726563 -1.742188 -6.210938 -1.664063 L -6.398438 -0.609375 C -7.105469 -0.738281 -7.652344 -1.03125 -8.042969 -1.488281 C -8.429688 -1.941406 -8.625 -2.507813 -8.625 -3.195313 C -8.625 -3.660156 -8.523438 -4.09375 -8.324219 -4.488281 C -8.121094 -4.878906 -7.847656 -5.179688 -7.5 -5.390625 C -7.148438 -5.601563 -6.777344 -5.707031 -6.390625 -5.707031 C -6.019531 -5.707031 -5.683594 -5.605469 -5.378906 -5.40625 C -5.074219 -5.207031 -4.832031 -4.914063 -4.652344 -4.523438 C -4.535156 -5.03125 -4.289063 -5.425781 -3.921875 -5.707031 C -3.546875 -5.988281 -3.085938 -6.128906 -2.539063 -6.128906 C -1.785156 -6.128906 -1.148438 -5.855469 -0.628906 -5.308594 C -0.105469 -4.761719 0.152344 -4.070313 0.152344 -3.234375 C 0.152344 -2.476563 -0.0703125 -1.847656 -0.519531 -1.355469 C -0.96875 -0.855469 -1.550781 -0.574219 -2.265625 -0.503906 Z M -2.265625 -0.503906 \"/>\n",
       "</symbol>\n",
       "<symbol overflow=\"visible\" id=\"glyph2-12\">\n",
       "<path style=\"stroke:none;\" d=\"M 0 -3.878906 L -2.054688 -3.878906 L -2.054688 -0.152344 L -3.023438 -0.152344 L -8.589844 -4.070313 L -8.589844 -4.933594 L -3.023438 -4.933594 L -3.023438 -6.09375 L -2.054688 -6.09375 L -2.054688 -4.933594 L 0 -4.933594 Z M -3.023438 -3.878906 L -6.898438 -3.878906 L -3.023438 -1.1875 Z M -3.023438 -3.878906 \"/>\n",
       "</symbol>\n",
       "</g>\n",
       "<clipPath id=\"clip1\">\n",
       "  <path d=\"M 59.039063 59.039063 L 258.757813 59.039063 L 258.757813 215.558594 L 59.039063 215.558594 Z M 59.039063 59.039063 \"/>\n",
       "</clipPath>\n",
       "</defs>\n",
       "<g id=\"surface156\">\n",
       "<rect x=\"0\" y=\"0\" width=\"288\" height=\"288\" style=\"fill:rgb(100%,100%,100%);fill-opacity:1;stroke:none;\"/>\n",
       "<g style=\"fill:rgb(0%,0%,0%);fill-opacity:1;\">\n",
       "  <use xlink:href=\"#glyph0-0\" x=\"87.183594\" y=\"34.675781\"/>\n",
       "  <use xlink:href=\"#glyph0-1\" x=\"97.582813\" y=\"34.675781\"/>\n",
       "  <use xlink:href=\"#glyph0-2\" x=\"101.583594\" y=\"34.675781\"/>\n",
       "  <use xlink:href=\"#glyph0-3\" x=\"109.592188\" y=\"34.675781\"/>\n",
       "  <use xlink:href=\"#glyph0-4\" x=\"114.3875\" y=\"34.675781\"/>\n",
       "  <use xlink:href=\"#glyph0-5\" x=\"123.183594\" y=\"34.675781\"/>\n",
       "  <use xlink:href=\"#glyph0-6\" x=\"131.979688\" y=\"34.675781\"/>\n",
       "  <use xlink:href=\"#glyph0-7\" x=\"137.583594\" y=\"34.675781\"/>\n",
       "  <use xlink:href=\"#glyph0-8\" x=\"145.592187\" y=\"34.675781\"/>\n",
       "  <use xlink:href=\"#glyph0-9\" x=\"158.396094\" y=\"34.675781\"/>\n",
       "  <use xlink:href=\"#glyph0-4\" x=\"162.396875\" y=\"34.675781\"/>\n",
       "  <use xlink:href=\"#glyph0-10\" x=\"171.192969\" y=\"34.675781\"/>\n",
       "  <use xlink:href=\"#glyph0-9\" x=\"175.988281\" y=\"34.675781\"/>\n",
       "  <use xlink:href=\"#glyph0-2\" x=\"179.989062\" y=\"34.675781\"/>\n",
       "  <use xlink:href=\"#glyph0-7\" x=\"187.997656\" y=\"34.675781\"/>\n",
       "  <use xlink:href=\"#glyph0-8\" x=\"196.00625\" y=\"34.675781\"/>\n",
       "  <use xlink:href=\"#glyph0-11\" x=\"208.810156\" y=\"34.675781\"/>\n",
       "  <use xlink:href=\"#glyph0-12\" x=\"217.60625\" y=\"34.675781\"/>\n",
       "  <use xlink:href=\"#glyph0-13\" x=\"221.607031\" y=\"34.675781\"/>\n",
       "</g>\n",
       "<g style=\"fill:rgb(0%,0%,0%);fill-opacity:1;\">\n",
       "  <use xlink:href=\"#glyph1-0\" x=\"139.054688\" y=\"269.28125\"/>\n",
       "  <use xlink:href=\"#glyph1-1\" x=\"145.054688\" y=\"269.28125\"/>\n",
       "  <use xlink:href=\"#glyph1-2\" x=\"151.728516\" y=\"269.28125\"/>\n",
       "  <use xlink:href=\"#glyph1-3\" x=\"161.724609\" y=\"269.28125\"/>\n",
       "  <use xlink:href=\"#glyph1-4\" x=\"168.398438\" y=\"269.28125\"/>\n",
       "  <use xlink:href=\"#glyph1-5\" x=\"171.064453\" y=\"269.28125\"/>\n",
       "</g>\n",
       "<g style=\"fill:rgb(0%,0%,0%);fill-opacity:1;\">\n",
       "  <use xlink:href=\"#glyph2-0\" x=\"12.960938\" y=\"156.808594\"/>\n",
       "  <use xlink:href=\"#glyph2-1\" x=\"12.960938\" y=\"148.142578\"/>\n",
       "  <use xlink:href=\"#glyph2-2\" x=\"12.960938\" y=\"141.46875\"/>\n",
       "  <use xlink:href=\"#glyph2-3\" x=\"12.960938\" y=\"134.794922\"/>\n",
       "  <use xlink:href=\"#glyph2-4\" x=\"12.960938\" y=\"128.794922\"/>\n",
       "  <use xlink:href=\"#glyph2-5\" x=\"12.960938\" y=\"126.128906\"/>\n",
       "  <use xlink:href=\"#glyph2-6\" x=\"12.960938\" y=\"122.794922\"/>\n",
       "</g>\n",
       "<path style=\"fill:none;stroke-width:0.75;stroke-linecap:round;stroke-linejoin:round;stroke:rgb(0%,0%,0%);stroke-opacity:1;stroke-miterlimit:10;\" d=\"M 66.398438 214.558594 L 226.398438 214.558594 \"/>\n",
       "<path style=\"fill:none;stroke-width:0.75;stroke-linecap:round;stroke-linejoin:round;stroke:rgb(0%,0%,0%);stroke-opacity:1;stroke-miterlimit:10;\" d=\"M 66.398438 214.558594 L 66.398438 221.761719 \"/>\n",
       "<path style=\"fill:none;stroke-width:0.75;stroke-linecap:round;stroke-linejoin:round;stroke:rgb(0%,0%,0%);stroke-opacity:1;stroke-miterlimit:10;\" d=\"M 106.398438 214.558594 L 106.398438 221.761719 \"/>\n",
       "<path style=\"fill:none;stroke-width:0.75;stroke-linecap:round;stroke-linejoin:round;stroke:rgb(0%,0%,0%);stroke-opacity:1;stroke-miterlimit:10;\" d=\"M 146.398438 214.558594 L 146.398438 221.761719 \"/>\n",
       "<path style=\"fill:none;stroke-width:0.75;stroke-linecap:round;stroke-linejoin:round;stroke:rgb(0%,0%,0%);stroke-opacity:1;stroke-miterlimit:10;\" d=\"M 186.398438 214.558594 L 186.398438 221.761719 \"/>\n",
       "<path style=\"fill:none;stroke-width:0.75;stroke-linecap:round;stroke-linejoin:round;stroke:rgb(0%,0%,0%);stroke-opacity:1;stroke-miterlimit:10;\" d=\"M 226.398438 214.558594 L 226.398438 221.761719 \"/>\n",
       "<g style=\"fill:rgb(0%,0%,0%);fill-opacity:1;\">\n",
       "  <use xlink:href=\"#glyph1-6\" x=\"61.0625\" y=\"240.480469\"/>\n",
       "  <use xlink:href=\"#glyph1-7\" x=\"65.058594\" y=\"240.480469\"/>\n",
       "</g>\n",
       "<g style=\"fill:rgb(0%,0%,0%);fill-opacity:1;\">\n",
       "  <use xlink:href=\"#glyph1-6\" x=\"101.0625\" y=\"240.480469\"/>\n",
       "  <use xlink:href=\"#glyph1-8\" x=\"105.058594\" y=\"240.480469\"/>\n",
       "</g>\n",
       "<g style=\"fill:rgb(0%,0%,0%);fill-opacity:1;\">\n",
       "  <use xlink:href=\"#glyph1-9\" x=\"143.0625\" y=\"240.480469\"/>\n",
       "</g>\n",
       "<g style=\"fill:rgb(0%,0%,0%);fill-opacity:1;\">\n",
       "  <use xlink:href=\"#glyph1-8\" x=\"183.0625\" y=\"240.480469\"/>\n",
       "</g>\n",
       "<g style=\"fill:rgb(0%,0%,0%);fill-opacity:1;\">\n",
       "  <use xlink:href=\"#glyph1-7\" x=\"223.0625\" y=\"240.480469\"/>\n",
       "</g>\n",
       "<path style=\"fill:none;stroke-width:0.75;stroke-linecap:round;stroke-linejoin:round;stroke:rgb(0%,0%,0%);stroke-opacity:1;stroke-miterlimit:10;\" d=\"M 59.039063 208.800781 L 59.039063 65.300781 \"/>\n",
       "<path style=\"fill:none;stroke-width:0.75;stroke-linecap:round;stroke-linejoin:round;stroke:rgb(0%,0%,0%);stroke-opacity:1;stroke-miterlimit:10;\" d=\"M 59.039063 208.800781 L 51.839844 208.800781 \"/>\n",
       "<path style=\"fill:none;stroke-width:0.75;stroke-linecap:round;stroke-linejoin:round;stroke:rgb(0%,0%,0%);stroke-opacity:1;stroke-miterlimit:10;\" d=\"M 59.039063 172.925781 L 51.839844 172.925781 \"/>\n",
       "<path style=\"fill:none;stroke-width:0.75;stroke-linecap:round;stroke-linejoin:round;stroke:rgb(0%,0%,0%);stroke-opacity:1;stroke-miterlimit:10;\" d=\"M 59.039063 137.050781 L 51.839844 137.050781 \"/>\n",
       "<path style=\"fill:none;stroke-width:0.75;stroke-linecap:round;stroke-linejoin:round;stroke:rgb(0%,0%,0%);stroke-opacity:1;stroke-miterlimit:10;\" d=\"M 59.039063 101.175781 L 51.839844 101.175781 \"/>\n",
       "<path style=\"fill:none;stroke-width:0.75;stroke-linecap:round;stroke-linejoin:round;stroke:rgb(0%,0%,0%);stroke-opacity:1;stroke-miterlimit:10;\" d=\"M 59.039063 65.300781 L 51.839844 65.300781 \"/>\n",
       "<g style=\"fill:rgb(0%,0%,0%);fill-opacity:1;\">\n",
       "  <use xlink:href=\"#glyph2-7\" x=\"41.761719\" y=\"217.140625\"/>\n",
       "  <use xlink:href=\"#glyph2-8\" x=\"41.761719\" y=\"210.466797\"/>\n",
       "  <use xlink:href=\"#glyph2-7\" x=\"41.761719\" y=\"207.132813\"/>\n",
       "</g>\n",
       "<g style=\"fill:rgb(0%,0%,0%);fill-opacity:1;\">\n",
       "  <use xlink:href=\"#glyph2-7\" x=\"41.761719\" y=\"181.265625\"/>\n",
       "  <use xlink:href=\"#glyph2-8\" x=\"41.761719\" y=\"174.591797\"/>\n",
       "  <use xlink:href=\"#glyph2-9\" x=\"41.761719\" y=\"171.257813\"/>\n",
       "</g>\n",
       "<g style=\"fill:rgb(0%,0%,0%);fill-opacity:1;\">\n",
       "  <use xlink:href=\"#glyph2-7\" x=\"41.761719\" y=\"145.390625\"/>\n",
       "  <use xlink:href=\"#glyph2-8\" x=\"41.761719\" y=\"138.716797\"/>\n",
       "  <use xlink:href=\"#glyph2-10\" x=\"41.761719\" y=\"135.382813\"/>\n",
       "</g>\n",
       "<g style=\"fill:rgb(0%,0%,0%);fill-opacity:1;\">\n",
       "  <use xlink:href=\"#glyph2-7\" x=\"41.761719\" y=\"109.515625\"/>\n",
       "  <use xlink:href=\"#glyph2-8\" x=\"41.761719\" y=\"102.841797\"/>\n",
       "  <use xlink:href=\"#glyph2-11\" x=\"41.761719\" y=\"99.507813\"/>\n",
       "</g>\n",
       "<g style=\"fill:rgb(0%,0%,0%);fill-opacity:1;\">\n",
       "  <use xlink:href=\"#glyph2-7\" x=\"41.761719\" y=\"73.640625\"/>\n",
       "  <use xlink:href=\"#glyph2-8\" x=\"41.761719\" y=\"66.966797\"/>\n",
       "  <use xlink:href=\"#glyph2-12\" x=\"41.761719\" y=\"63.632813\"/>\n",
       "</g>\n",
       "<g clip-path=\"url(#clip1)\" clip-rule=\"nonzero\">\n",
       "<path style=\"fill:none;stroke-width:0.75;stroke-linecap:round;stroke-linejoin:round;stroke:rgb(0%,0%,0%);stroke-opacity:1;stroke-miterlimit:10;\" d=\"M 66.398438 208.800781 L 70.398438 208.800781 L 70.398438 208.730469 L 66.398438 208.730469 Z M 66.398438 208.800781 \"/>\n",
       "<path style=\"fill:none;stroke-width:0.75;stroke-linecap:round;stroke-linejoin:round;stroke:rgb(0%,0%,0%);stroke-opacity:1;stroke-miterlimit:10;\" d=\"M 70.398438 208.800781 L 74.398438 208.800781 L 74.398438 208.65625 L 70.398438 208.65625 Z M 70.398438 208.800781 \"/>\n",
       "<path style=\"fill:none;stroke-width:0.75;stroke-linecap:round;stroke-linejoin:round;stroke:rgb(0%,0%,0%);stroke-opacity:1;stroke-miterlimit:10;\" d=\"M 74.398438 208.800781 L 78.398438 208.800781 L 78.398438 208.371094 L 74.398438 208.371094 Z M 74.398438 208.800781 \"/>\n",
       "<path style=\"fill:none;stroke-width:0.75;stroke-linecap:round;stroke-linejoin:round;stroke:rgb(0%,0%,0%);stroke-opacity:1;stroke-miterlimit:10;\" d=\"M 78.398438 208.800781 L 82.398438 208.800781 L 82.398438 207.867188 L 78.398438 207.867188 Z M 78.398438 208.800781 \"/>\n",
       "<path style=\"fill:none;stroke-width:0.75;stroke-linecap:round;stroke-linejoin:round;stroke:rgb(0%,0%,0%);stroke-opacity:1;stroke-miterlimit:10;\" d=\"M 82.398438 208.800781 L 86.398438 208.800781 L 86.398438 207.976563 L 82.398438 207.976563 Z M 82.398438 208.800781 \"/>\n",
       "<path style=\"fill:none;stroke-width:0.75;stroke-linecap:round;stroke-linejoin:round;stroke:rgb(0%,0%,0%);stroke-opacity:1;stroke-miterlimit:10;\" d=\"M 86.398438 208.800781 L 90.398438 208.800781 L 90.398438 206.863281 L 86.398438 206.863281 Z M 86.398438 208.800781 \"/>\n",
       "<path style=\"fill:none;stroke-width:0.75;stroke-linecap:round;stroke-linejoin:round;stroke:rgb(0%,0%,0%);stroke-opacity:1;stroke-miterlimit:10;\" d=\"M 90.398438 208.800781 L 94.398438 208.800781 L 94.398438 205.140625 L 90.398438 205.140625 Z M 90.398438 208.800781 \"/>\n",
       "<path style=\"fill:none;stroke-width:0.75;stroke-linecap:round;stroke-linejoin:round;stroke:rgb(0%,0%,0%);stroke-opacity:1;stroke-miterlimit:10;\" d=\"M 94.398438 208.800781 L 98.398438 208.800781 L 98.398438 202.953125 L 94.398438 202.953125 Z M 94.398438 208.800781 \"/>\n",
       "<path style=\"fill:none;stroke-width:0.75;stroke-linecap:round;stroke-linejoin:round;stroke:rgb(0%,0%,0%);stroke-opacity:1;stroke-miterlimit:10;\" d=\"M 98.398438 208.800781 L 102.398438 208.800781 L 102.398438 197.824219 L 98.398438 197.824219 Z M 98.398438 208.800781 \"/>\n",
       "<path style=\"fill:none;stroke-width:0.75;stroke-linecap:round;stroke-linejoin:round;stroke:rgb(0%,0%,0%);stroke-opacity:1;stroke-miterlimit:10;\" d=\"M 102.398438 208.800781 L 106.398438 208.800781 L 106.398438 192.65625 L 102.398438 192.65625 Z M 102.398438 208.800781 \"/>\n",
       "<path style=\"fill:none;stroke-width:0.75;stroke-linecap:round;stroke-linejoin:round;stroke:rgb(0%,0%,0%);stroke-opacity:1;stroke-miterlimit:10;\" d=\"M 106.398438 208.800781 L 110.398438 208.800781 L 110.398438 183.941406 L 106.398438 183.941406 Z M 106.398438 208.800781 \"/>\n",
       "<path style=\"fill:none;stroke-width:0.75;stroke-linecap:round;stroke-linejoin:round;stroke:rgb(0%,0%,0%);stroke-opacity:1;stroke-miterlimit:10;\" d=\"M 110.398438 208.800781 L 114.398438 208.800781 L 114.398438 175.402344 L 110.398438 175.402344 Z M 110.398438 208.800781 \"/>\n",
       "<path style=\"fill:none;stroke-width:0.75;stroke-linecap:round;stroke-linejoin:round;stroke:rgb(0%,0%,0%);stroke-opacity:1;stroke-miterlimit:10;\" d=\"M 114.398438 208.800781 L 118.398438 208.800781 L 118.398438 163.3125 L 114.398438 163.3125 Z M 114.398438 208.800781 \"/>\n",
       "<path style=\"fill:none;stroke-width:0.75;stroke-linecap:round;stroke-linejoin:round;stroke:rgb(0%,0%,0%);stroke-opacity:1;stroke-miterlimit:10;\" d=\"M 118.398438 208.800781 L 122.398438 208.800781 L 122.398438 147.957031 L 118.398438 147.957031 Z M 118.398438 208.800781 \"/>\n",
       "<path style=\"fill:none;stroke-width:0.75;stroke-linecap:round;stroke-linejoin:round;stroke:rgb(0%,0%,0%);stroke-opacity:1;stroke-miterlimit:10;\" d=\"M 122.398438 208.800781 L 126.398438 208.800781 L 126.398438 131.921875 L 122.398438 131.921875 Z M 122.398438 208.800781 \"/>\n",
       "<path style=\"fill:none;stroke-width:0.75;stroke-linecap:round;stroke-linejoin:round;stroke:rgb(0%,0%,0%);stroke-opacity:1;stroke-miterlimit:10;\" d=\"M 126.398438 208.800781 L 130.398438 208.800781 L 130.398438 113.734375 L 126.398438 113.734375 Z M 126.398438 208.800781 \"/>\n",
       "<path style=\"fill:none;stroke-width:0.75;stroke-linecap:round;stroke-linejoin:round;stroke:rgb(0%,0%,0%);stroke-opacity:1;stroke-miterlimit:10;\" d=\"M 130.398438 208.800781 L 134.398438 208.800781 L 134.398438 96.121094 L 130.398438 96.121094 Z M 130.398438 208.800781 \"/>\n",
       "<path style=\"fill:none;stroke-width:0.75;stroke-linecap:round;stroke-linejoin:round;stroke:rgb(0%,0%,0%);stroke-opacity:1;stroke-miterlimit:10;\" d=\"M 134.398438 208.800781 L 138.398438 208.800781 L 138.398438 83.417969 L 134.398438 83.417969 Z M 134.398438 208.800781 \"/>\n",
       "<path style=\"fill:none;stroke-width:0.75;stroke-linecap:round;stroke-linejoin:round;stroke:rgb(0%,0%,0%);stroke-opacity:1;stroke-miterlimit:10;\" d=\"M 138.398438 208.800781 L 142.398438 208.800781 L 142.398438 73.445313 L 138.398438 73.445313 Z M 138.398438 208.800781 \"/>\n",
       "<path style=\"fill:none;stroke-width:0.75;stroke-linecap:round;stroke-linejoin:round;stroke:rgb(0%,0%,0%);stroke-opacity:1;stroke-miterlimit:10;\" d=\"M 142.398438 208.800781 L 146.398438 208.800781 L 146.398438 64.800781 L 142.398438 64.800781 Z M 142.398438 208.800781 \"/>\n",
       "<path style=\"fill:none;stroke-width:0.75;stroke-linecap:round;stroke-linejoin:round;stroke:rgb(0%,0%,0%);stroke-opacity:1;stroke-miterlimit:10;\" d=\"M 146.398438 208.800781 L 150.398438 208.800781 L 150.398438 69.035156 L 146.398438 69.035156 Z M 146.398438 208.800781 \"/>\n",
       "<path style=\"fill:none;stroke-width:0.75;stroke-linecap:round;stroke-linejoin:round;stroke:rgb(0%,0%,0%);stroke-opacity:1;stroke-miterlimit:10;\" d=\"M 150.398438 208.800781 L 154.398438 208.800781 L 154.398438 71.402344 L 150.398438 71.402344 Z M 150.398438 208.800781 \"/>\n",
       "<path style=\"fill:none;stroke-width:0.75;stroke-linecap:round;stroke-linejoin:round;stroke:rgb(0%,0%,0%);stroke-opacity:1;stroke-miterlimit:10;\" d=\"M 154.398438 208.800781 L 158.398438 208.800781 L 158.398438 83.277344 L 154.398438 83.277344 Z M 154.398438 208.800781 \"/>\n",
       "<path style=\"fill:none;stroke-width:0.75;stroke-linecap:round;stroke-linejoin:round;stroke:rgb(0%,0%,0%);stroke-opacity:1;stroke-miterlimit:10;\" d=\"M 158.398438 208.800781 L 162.398438 208.800781 L 162.398438 95.941406 L 158.398438 95.941406 Z M 158.398438 208.800781 \"/>\n",
       "<path style=\"fill:none;stroke-width:0.75;stroke-linecap:round;stroke-linejoin:round;stroke:rgb(0%,0%,0%);stroke-opacity:1;stroke-miterlimit:10;\" d=\"M 162.398438 208.800781 L 166.398438 208.800781 L 166.398438 113.445313 L 162.398438 113.445313 Z M 162.398438 208.800781 \"/>\n",
       "<path style=\"fill:none;stroke-width:0.75;stroke-linecap:round;stroke-linejoin:round;stroke:rgb(0%,0%,0%);stroke-opacity:1;stroke-miterlimit:10;\" d=\"M 166.398438 208.800781 L 170.398438 208.800781 L 170.398438 129.265625 L 166.398438 129.265625 Z M 166.398438 208.800781 \"/>\n",
       "<path style=\"fill:none;stroke-width:0.75;stroke-linecap:round;stroke-linejoin:round;stroke:rgb(0%,0%,0%);stroke-opacity:1;stroke-miterlimit:10;\" d=\"M 170.398438 208.800781 L 174.398438 208.800781 L 174.398438 147.5625 L 170.398438 147.5625 Z M 170.398438 208.800781 \"/>\n",
       "<path style=\"fill:none;stroke-width:0.75;stroke-linecap:round;stroke-linejoin:round;stroke:rgb(0%,0%,0%);stroke-opacity:1;stroke-miterlimit:10;\" d=\"M 174.398438 208.800781 L 178.398438 208.800781 L 178.398438 160.945313 L 174.398438 160.945313 Z M 174.398438 208.800781 \"/>\n",
       "<path style=\"fill:none;stroke-width:0.75;stroke-linecap:round;stroke-linejoin:round;stroke:rgb(0%,0%,0%);stroke-opacity:1;stroke-miterlimit:10;\" d=\"M 178.398438 208.800781 L 182.398438 208.800781 L 182.398438 174.433594 L 178.398438 174.433594 Z M 178.398438 208.800781 \"/>\n",
       "<path style=\"fill:none;stroke-width:0.75;stroke-linecap:round;stroke-linejoin:round;stroke:rgb(0%,0%,0%);stroke-opacity:1;stroke-miterlimit:10;\" d=\"M 182.398438 208.800781 L 186.398438 208.800781 L 186.398438 185.160156 L 182.398438 185.160156 Z M 182.398438 208.800781 \"/>\n",
       "<path style=\"fill:none;stroke-width:0.75;stroke-linecap:round;stroke-linejoin:round;stroke:rgb(0%,0%,0%);stroke-opacity:1;stroke-miterlimit:10;\" d=\"M 186.398438 208.800781 L 190.398438 208.800781 L 190.398438 193.375 L 186.398438 193.375 Z M 186.398438 208.800781 \"/>\n",
       "<path style=\"fill:none;stroke-width:0.75;stroke-linecap:round;stroke-linejoin:round;stroke:rgb(0%,0%,0%);stroke-opacity:1;stroke-miterlimit:10;\" d=\"M 190.398438 208.800781 L 194.398438 208.800781 L 194.398438 198.46875 L 190.398438 198.46875 Z M 190.398438 208.800781 \"/>\n",
       "<path style=\"fill:none;stroke-width:0.75;stroke-linecap:round;stroke-linejoin:round;stroke:rgb(0%,0%,0%);stroke-opacity:1;stroke-miterlimit:10;\" d=\"M 194.398438 208.800781 L 198.398438 208.800781 L 198.398438 202.128906 L 194.398438 202.128906 Z M 194.398438 208.800781 \"/>\n",
       "<path style=\"fill:none;stroke-width:0.75;stroke-linecap:round;stroke-linejoin:round;stroke:rgb(0%,0%,0%);stroke-opacity:1;stroke-miterlimit:10;\" d=\"M 198.398438 208.800781 L 202.398438 208.800781 L 202.398438 204.710938 L 198.398438 204.710938 Z M 198.398438 208.800781 \"/>\n",
       "<path style=\"fill:none;stroke-width:0.75;stroke-linecap:round;stroke-linejoin:round;stroke:rgb(0%,0%,0%);stroke-opacity:1;stroke-miterlimit:10;\" d=\"M 202.398438 208.800781 L 206.398438 208.800781 L 206.398438 206.433594 L 202.398438 206.433594 Z M 202.398438 208.800781 \"/>\n",
       "<path style=\"fill:none;stroke-width:0.75;stroke-linecap:round;stroke-linejoin:round;stroke:rgb(0%,0%,0%);stroke-opacity:1;stroke-miterlimit:10;\" d=\"M 206.398438 208.800781 L 210.398438 208.800781 L 210.398438 207.582031 L 206.398438 207.582031 Z M 206.398438 208.800781 \"/>\n",
       "<path style=\"fill:none;stroke-width:0.75;stroke-linecap:round;stroke-linejoin:round;stroke:rgb(0%,0%,0%);stroke-opacity:1;stroke-miterlimit:10;\" d=\"M 210.398438 208.800781 L 214.398438 208.800781 L 214.398438 208.191406 L 210.398438 208.191406 Z M 210.398438 208.800781 \"/>\n",
       "<path style=\"fill:none;stroke-width:0.75;stroke-linecap:round;stroke-linejoin:round;stroke:rgb(0%,0%,0%);stroke-opacity:1;stroke-miterlimit:10;\" d=\"M 214.398438 208.800781 L 218.398438 208.800781 L 218.398438 208.585938 L 214.398438 208.585938 Z M 214.398438 208.800781 \"/>\n",
       "<path style=\"fill:none;stroke-width:0.75;stroke-linecap:round;stroke-linejoin:round;stroke:rgb(0%,0%,0%);stroke-opacity:1;stroke-miterlimit:10;\" d=\"M 218.398438 208.800781 L 222.398438 208.800781 L 222.398438 208.65625 L 218.398438 208.65625 Z M 218.398438 208.800781 \"/>\n",
       "<path style=\"fill:none;stroke-width:0.75;stroke-linecap:round;stroke-linejoin:round;stroke:rgb(0%,0%,0%);stroke-opacity:1;stroke-miterlimit:10;\" d=\"M 222.398438 208.800781 L 226.398438 208.800781 L 226.398438 208.765625 L 222.398438 208.765625 Z M 222.398438 208.800781 \"/>\n",
       "<path style=\"fill:none;stroke-width:0.75;stroke-linecap:round;stroke-linejoin:round;stroke:rgb(0%,0%,0%);stroke-opacity:1;stroke-miterlimit:10;\" d=\"M 226.398438 208.800781 L 230.398438 208.800781 L 230.398438 208.730469 L 226.398438 208.730469 Z M 226.398438 208.800781 \"/>\n",
       "<path style=\"fill:none;stroke-width:0.75;stroke-linecap:round;stroke-linejoin:round;stroke:rgb(0%,0%,0%);stroke-opacity:1;stroke-miterlimit:10;\" d=\"M 230.398438 208.800781 L 234.398438 208.800781 L 234.398438 208.765625 L 230.398438 208.765625 Z M 230.398438 208.800781 \"/>\n",
       "<path style=\"fill:none;stroke-width:0.75;stroke-linecap:round;stroke-linejoin:round;stroke:rgb(0%,0%,0%);stroke-opacity:1;stroke-miterlimit:10;\" d=\"M 234.398438 208.800781 L 238.398438 208.800781 Z M 234.398438 208.800781 \"/>\n",
       "<path style=\"fill:none;stroke-width:0.75;stroke-linecap:round;stroke-linejoin:round;stroke:rgb(0%,0%,0%);stroke-opacity:1;stroke-miterlimit:10;\" d=\"M 238.398438 208.800781 L 242.398438 208.800781 Z M 238.398438 208.800781 \"/>\n",
       "<path style=\"fill:none;stroke-width:0.75;stroke-linecap:round;stroke-linejoin:round;stroke:rgb(0%,0%,0%);stroke-opacity:1;stroke-miterlimit:10;\" d=\"M 242.398438 208.800781 L 246.398438 208.800781 Z M 242.398438 208.800781 \"/>\n",
       "<path style=\"fill:none;stroke-width:0.75;stroke-linecap:round;stroke-linejoin:round;stroke:rgb(0%,0%,0%);stroke-opacity:1;stroke-miterlimit:10;\" d=\"M 246.398438 208.800781 L 250.398438 208.800781 L 250.398438 208.765625 L 246.398438 208.765625 Z M 246.398438 208.800781 \"/>\n",
       "<path style=\"fill:none;stroke-width:0.75;stroke-linecap:round;stroke-linejoin:round;stroke:rgb(0%,0%,100%);stroke-opacity:1;stroke-miterlimit:10;\" d=\"M 68.871094 208.722656 L 70.683594 208.691406 L 72.496094 208.644531 L 74.3125 208.585938 L 76.125 208.5 L 77.9375 208.390625 L 79.75 208.246094 L 81.5625 208.050781 L 83.375 207.800781 L 85.1875 207.476563 L 87 207.0625 L 88.8125 206.53125 L 90.628906 205.867188 L 92.441406 205.042969 L 94.253906 204.019531 L 96.066406 202.769531 L 97.878906 201.253906 L 99.691406 199.4375 L 101.503906 197.277344 L 103.316406 194.734375 L 105.132813 191.773438 L 106.945313 188.355469 L 108.757813 184.453125 L 110.570313 180.042969 L 112.382813 175.109375 L 114.195313 169.65625 L 116.007813 163.6875 L 117.820313 157.238281 L 119.632813 150.347656 L 121.449219 143.082031 L 123.261719 135.511719 L 125.074219 127.742188 L 126.886719 119.882813 L 128.699219 112.058594 L 130.511719 104.410156 L 132.324219 97.074219 L 134.136719 90.203125 L 135.953125 83.9375 L 137.765625 78.421875 L 139.578125 73.773438 L 141.390625 70.101563 L 143.203125 67.5 L 145.015625 66.023438 L 146.828125 65.714844 L 148.640625 66.578125 L 150.453125 68.59375 L 152.269531 71.710938 L 154.082031 75.855469 L 155.894531 80.929688 L 157.707031 86.820313 L 159.519531 93.386719 L 161.332031 100.496094 L 163.144531 108 L 164.957031 115.75 L 166.773438 123.605469 L 168.585938 131.4375 L 170.398438 139.125 L 172.210938 146.5625 L 174.023438 153.660156 L 175.835938 160.347656 L 177.648438 166.574219 L 179.460938 172.300781 L 181.273438 177.507813 L 183.089844 182.195313 L 184.902344 186.363281 L 186.714844 190.03125 L 188.527344 193.230469 L 190.339844 195.988281 L 192.152344 198.34375 L 193.964844 200.339844 L 195.777344 202.007813 L 197.589844 203.390625 L 199.40625 204.527344 L 201.21875 205.453125 L 203.03125 206.203125 L 204.84375 206.796875 L 206.65625 207.269531 L 208.46875 207.640625 L 210.28125 207.929688 L 212.09375 208.148438 L 213.910156 208.320313 L 215.722656 208.449219 L 217.535156 208.542969 L 219.347656 208.613281 L 221.160156 208.667969 L 222.972656 208.707031 L 224.785156 208.734375 L 226.597656 208.753906 L 228.410156 208.769531 L 230.226563 208.777344 L 232.039063 208.785156 L 237.476563 208.796875 L 242.914063 208.796875 L 244.730469 208.800781 L 250.167969 208.800781 \"/>\n",
       "</g>\n",
       "</g>\n",
       "</svg>\n"
      ],
      "text/plain": [
       "Plot with title \"Histogram of sample\""
      ]
     },
     "metadata": {
      "image/svg+xml": {
       "isolated": true
      }
     },
     "output_type": "display_data"
    }
   ],
   "source": [
    "# generate random samples from standard normal\n",
    "sample <- rnorm(5e4) # 1e5 = 10^5, 1e3 = 10^3 = 1000\n",
    "#head(sample, 10) # print out the first 6 numbers in sample\n",
    "#tail(sample)\n",
    "\n",
    "# descriptive statistics of sample\n",
    "#summary(sample)\n",
    "\n",
    "# histogram \n",
    "hist(sample, prob=TRUE, breaks=50)#, breaks=50, prob=TRUE)\n",
    "\n",
    "# superimpose the density\n",
    "curve(dnorm, from=min(sample), to=max(sample), add=T, col='blue')"
   ]
  }
 ],
 "metadata": {
  "celltoolbar": "Slideshow",
  "kernelspec": {
   "display_name": "R",
   "language": "R",
   "name": "ir"
  },
  "language_info": {
   "codemirror_mode": "r",
   "file_extension": ".r",
   "mimetype": "text/x-r-source",
   "name": "R",
   "pygments_lexer": "r",
   "version": "3.6.1"
  }
 },
 "nbformat": 4,
 "nbformat_minor": 1
}
