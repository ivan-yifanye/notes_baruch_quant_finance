{
 "cells": [
  {
   "cell_type": "markdown",
   "metadata": {
    "slideshow": {
     "slide_type": "slide"
    }
   },
   "source": [
    "# Topics in Quantitative Finance, Summer 2020 \n",
    "\n",
    "## Lecture 2: Crash course on stochastic calculus\n",
    "\n",
    "### Tai-Ho Wang (王 太 和)   \n",
    "    \n",
    "<h2><img src=\"BCstacked_blk.jpg\" align = \"center\" height=50 width=190></h2>\n",
    "\n",
    "$$\n",
    "\\newcommand{\\bea}{\\begin{eqnarray}}\n",
    "\\newcommand{\\eea}{\\end{eqnarray}}\n",
    "\\newcommand{\\supp}{\\mathrm{supp}}\n",
    "\\newcommand{\\F}{\\mathcal{F} }\n",
    "\\newcommand{\\cF}{\\mathcal{F} }\n",
    "\\newcommand{\\E}{\\mathbb{E} }\n",
    "\\newcommand{\\Eof}[1]{\\mathbb{E}\\left[ #1 \\right]}\n",
    "\\def\\Cov{{ \\mbox{Cov} }}\n",
    "\\def\\Var{{ \\mbox{Var} }}\n",
    "\\newcommand{\\1}{\\mathbf{1} }\n",
    "\\newcommand{\\p}{\\partial}\n",
    "\\newcommand{\\P}{\\mathbb{P} }\n",
    "\\newcommand{\\PP}{\\mathbb{P} }\n",
    "\\newcommand{\\Pof}[1]{\\mathbb{P}\\left[ #1 \\right]}\n",
    "\\newcommand{\\QQ}{\\mathbb{Q} }\n",
    "\\newcommand{\\R}{\\mathbb{R} }\n",
    "\\newcommand{\\DD}{\\mathbb{D} }\n",
    "\\newcommand{\\HH}{\\mathbb{H} }\n",
    "\\newcommand{\\spn}{\\mathrm{span} }\n",
    "\\newcommand{\\cov}{\\mathrm{cov} }\n",
    "\\newcommand{\\HS}{\\mathcal{L}_{\\mathrm{HS}} }\n",
    "\\newcommand{\\Hess}{\\mathrm{Hess} }\n",
    "\\newcommand{\\trace}{\\mathrm{trace} }\n",
    "\\newcommand{\\LL}{\\mathcal{L} }\n",
    "\\newcommand{\\s}{\\mathcal{S} }\n",
    "\\newcommand{\\ee}{\\mathcal{E} }\n",
    "\\newcommand{\\ff}{\\mathcal{F} }\n",
    "\\newcommand{\\hh}{\\mathcal{H} }\n",
    "\\newcommand{\\bb}{\\mathcal{B} }\n",
    "\\newcommand{\\dd}{\\mathcal{D} }\n",
    "\\newcommand{\\g}{\\mathcal{G} }\n",
    "\\newcommand{\\half}{\\frac{1}{2} }\n",
    "\\newcommand{\\T}{\\mathcal{T} }\n",
    "\\newcommand{\\bit}{\\begin{itemize}}\n",
    "\\newcommand{\\eit}{\\end{itemize}}\n",
    "\\newcommand{\\beq}{\\begin{equation}}\n",
    "\\newcommand{\\eeq}{\\end{equation}}\n",
    "\\newcommand{\\tr}{\\mbox{tr}}\n",
    "$$\n"
   ]
  },
  {
   "cell_type": "markdown",
   "metadata": {
    "slideshow": {
     "slide_type": "slide"
    }
   },
   "source": [
    "## Outline of Lecture 2\n",
    "\n",
    "* Brownian motion \n",
    "* Stochastic integral \n",
    "* Ito's formula \n",
    "* Feymann-Kac formula"
   ]
  },
  {
   "cell_type": "markdown",
   "metadata": {
    "slideshow": {
     "slide_type": "slide"
    }
   },
   "source": [
    "## Definition of Brownian motion\n",
    "\n",
    "\n",
    "Let $(\\Omega,\\cF_t,\\P)$ be a filtered probability space. \n",
    "\n",
    "A stochastic process $B_t$ adapted to $\\cF_t$ is called a (standard) Brownian motion or a Wiener process if it\n",
    "satisfies the following conditions\n",
    "\n",
    "* $\\P[\\omega: B_0(\\omega) = 0] = 1$, i.e., the process starts at zero almost surely.\n",
    "\n",
    "\n",
    "* For any $0 \\leq s < t$, the random variable $B_t - B_s$ is normally distributed with mean 0 and variance $t-s$, i.e., for any $a<b$,\n",
    "$$\n",
    "\\P[a \\leq B_t - B_s \\leq b] = \\frac{1}{\\sqrt{2\\pi(t-s)}}\\int_a^b e^{-\\frac{x^2}{2(t-s)}}dx.\n",
    "$$\n",
    "\n",
    "\n",
    "* $B_t$ has independent increment, i.e., for any $0\\leq t_1 < t_2 < \\cdots < t_n$, the random variables\n",
    "  $$\n",
    "    B_{t_1}, \\; B_{t_2} - B_{t_1},\\; \\cdots, \\; B_{t_n} - B_{t_{n-1}}\n",
    "  $$\n",
    "are independent.\n",
    "\n",
    "\n",
    "* Almost all sample paths of $B_t$ are continuous functions, i.e.,\n",
    "  $$\n",
    "    \\P[\\omega:B_t(\\omega) \\mbox{ is continuous } ] = 1\n",
    "  $$\n",
    "  \n",
    "\n",
    "### Remark\n",
    "* A Brownian motion is sometimes defined as a stochastic process satisfying only the first 3 conditions in the  definition. Such a process always has continuous modification by applying Kolmogorov's continuity criterion.\n",
    "* The standard Brownian motion starts at 0. A Brownian motion starts at $x\\neq 0$ is obtain by shifting $x + B_t$."
   ]
  },
  {
   "cell_type": "markdown",
   "metadata": {
    "slideshow": {
     "slide_type": "slide"
    }
   },
   "source": [
    "## Kolmogorov's continuity criterion\n",
    "#### Theorem \n",
    "A process $X$, for which there exist three constants $\\alpha$,\n",
    "$\\beta$, $C > 0$ such that\n",
    "$$\n",
    "  \\E|X_{t+h} - X_t|^{\\alpha} \\leq C h^{1 + \\beta}\n",
    "$$\n",
    "for every $t$ and $h$, has a modification which is almost surely\n",
    "continuous."
   ]
  },
  {
   "cell_type": "markdown",
   "metadata": {
    "slideshow": {
     "slide_type": "slide"
    }
   },
   "source": [
    "## Historical note\n",
    "\n",
    "Quotes from Wikipedia:\n",
    "\n",
    "\"Brownian motion or pedesis (from Greek: πήδησις /pɛ̌ːdɛːsis/ \"leaping\") is the random motion of particles suspended in a fluid (a liquid or a gas) resulting from their collision with the quick atoms or molecules in the gas or liquid.\"\n",
    "\n",
    "\n",
    "\"This transport phenomenon is named after the botanist Robert Brown. In 1827, while looking through a microscope at particles found in pollen grains in water, he noted that the particles moved through the water but was not able to determine the mechanisms that caused this motion.\"\n",
    "\n",
    "\n",
    "\"The first person to describe the mathematics behind Brownian motion was Thorvald N. Thiele in a paper on the method of least squares published in 1880. This was followed independently by Louis Bachelier in 1900 in his PhD thesis \"The theory of speculation\", in which he presented a stochastic analysis of the stock and option markets. Albert Einstein (in one of his 1905 papers) and Marian Smoluchowski (1906) brought the solution of the problem to the attention of physicists, and presented it as a way to indirectly confirm the existence of atoms and molecules. Their equations describing Brownian motion were subsequently verified by the experimental work of Jean Baptiste Perrin in 1908.\""
   ]
  },
  {
   "cell_type": "markdown",
   "metadata": {
    "slideshow": {
     "slide_type": "slide"
    }
   },
   "source": [
    "## Properties of Brownian motion\n",
    "\n",
    "The following properties hold for Brownian motion $B_t$.\n",
    "\n",
    "* *Time-homogeneity*\n",
    "For any $s>0$, the process $B_{t+s} - B_s$, $t\\geq 0$ is also a Brownian motion and is independent of the $\\sigma$-algrebra $\\sigma(B_u, u\\leq s)$.\n",
    "\n",
    "\n",
    "* *Symmetry*\n",
    "  The process $-B_t$, $t\\geq 0$, is a Brownian motion.\n",
    "\n",
    "\n",
    "* *Self-similarity*\n",
    "  For every $c > 0$, the process $cB_{t/c^2}$, $t \\geq 0$, is a Brownian motion.\n",
    "\n",
    "\n",
    "* *Time inversion*\n",
    "  The process $X$ defined by $X_0=0$, $X_t = tB_{1/t}$ for $t>0$, is a Brownian motion.\n"
   ]
  },
  {
   "cell_type": "markdown",
   "metadata": {
    "slideshow": {
     "slide_type": "slide"
    }
   },
   "source": [
    "## Distributional properties of Brownian motion\n",
    "\n",
    "Brownian motion is a Gaussian process, it is fully characterized by the mean and the covariance functions. \n",
    "\n",
    "* $\\Eof{B_t} = 0$ for all $t$\n",
    "\n",
    "\n",
    "* $\\cov(B_t,B_s) = \\min\\{s,t\\}$ \n",
    "\n",
    "To calculate the covariance, without loss of generality, we assume $s < t$. \n",
    "\n",
    "\\begin{eqnarray*}\n",
    "  \\cov(B_t,B_s) &=& \\Eof{B_t\\, B_s} = \\Eof{(B_t - B_s + B_s)B_s} = \\Eof{(B_t - B_s)B_s} + s \\\\\n",
    "  &=& \\Eof{B_t - B_s}\\,\\Eof{B_s} + s \\quad (\\because \\mbox{ independent increment}) \\\\\n",
    "  &=& s = \\min\\{s,t\\}.\n",
    "\\end{eqnarray*}\n",
    "\n"
   ]
  },
  {
   "cell_type": "markdown",
   "metadata": {
    "slideshow": {
     "slide_type": "slide"
    }
   },
   "source": [
    "## Review: Gaussian process\n",
    "\n",
    "A stochastic process $X_t$ is called a *Gaussian process* if all its finite dimensional distributions are multivariate normally distributed. Thus, a Gaussian process is fully characterized by its mean function $\\mu(t) = \\Eof{X_t}$ and covariance function $\\gamma(t,s) = \\cov(X_t,X_s)$.\n",
    "\n",
    "#### Commonly encountered Gaussian processes\n",
    "\n",
    "* Brownian motion\n",
    "\n",
    "* Brownian motion with deterministic drift\n",
    "\n",
    "* Brownian bridge\n",
    "\n",
    "* Ornstein-Uhlenbeck process\n",
    "\n",
    "* fractional Brownian motion"
   ]
  },
  {
   "cell_type": "markdown",
   "metadata": {
    "slideshow": {
     "slide_type": "slide"
    }
   },
   "source": [
    "## Variation of a function\n",
    "\n",
    "Let $f:[0,T] \\to \\R$. Let $\\Pi_n = \\{0=t_0 < t_1 < \\cdots < t_n = T \\}$ be a sequence of partitions of the finite interval $[0,T]$ and denote $\\displaystyle\\|\\Pi_n\\| = \\max_n\\{ t_i - t_{i-1} \\}$. The variation $V_f(T)$ of $f$ in $[0,T]$ is defined as\n",
    "$$\n",
    "  V_f(T) = \\lim_{\\|\\Pi_n\\|\\to 0} \\sum_{i=1}^n |f(t_i) - f(t_{i-1})|\n",
    "$$\n",
    "provided the limit exists.\n",
    "\n",
    "#### Remark\n",
    "An important property for functions of finite variation is that it can be uniquely written as the sum of an increasing function and a decreasing function.  "
   ]
  },
  {
   "cell_type": "markdown",
   "metadata": {
    "slideshow": {
     "slide_type": "slide"
    }
   },
   "source": [
    "## Quadratic variation and covariation\n",
    "\n",
    "Let $f,g:[0,T] \\to \\R$. Let $\\Pi_n = \\{0=t_0 < t_1 < \\cdots < t_n = T\\}$ be a sequence of partitions of the finite interval $[0,T]$ and denote $\\|\\Pi_n\\| = \\max_n\\{ t_i - t_{i-1} \\}$.\n",
    "\n",
    "#### Quadratic variation\n",
    "\n",
    "The quadratic variation of $f$, denoted by $[f](T)$, in $[0,T]$ is defined as\n",
    "\n",
    "$$\n",
    "  [f](T) = \\lim_{\\|\\Pi_n\\|\\to 0} \\sum_{i=1}^n |f(t_i) - f(t_{i-1})|^2\n",
    "$$\n",
    "\n",
    "provided the limit exists.\n",
    "\n",
    "#### Quadratic covariation\n",
    "The quadratic covariation of $f$ and $g$, denoted by $[f,g](T)$, in $[0,T]$ is defined as\n",
    "\n",
    "$$\n",
    "  [f,g](T) = \\lim_{\\|\\Pi_n\\|\\to 0} \\sum_{i=1}^n [f(t_i) - f(t_{i-1})][g(t_i) - g(t_{i-1})]\n",
    "$$\n",
    "\n",
    "provided the limit exists.\n",
    "\n",
    "#### Remark\n",
    "One can define even higher order variations, say, cubic variation. However, if the variation at some order is finite, all the higher order variations vanish. For example, the cubic variation of Brownian motion vanishes since it has finite quadratic variation. "
   ]
  },
  {
   "cell_type": "markdown",
   "metadata": {
    "slideshow": {
     "slide_type": "slide"
    }
   },
   "source": [
    "## Quadratic variation of Brownian motion\n",
    "\n",
    "Let $\\Delta_n = \\{a=t_0 < t_1 < \\cdots < t_n = b \\}$ be a partition of a finite interval $[a,b]$. Then\n",
    "\n",
    "$$\n",
    "  \\lim_{n\\to\\infty}\\sum_{i=1}^n (B_{t_{i}} - B_{t_{i-1}})^2 = b-a \\quad \\mbox{ in } L^2(\\Omega)\n",
    "$$\n",
    "\n",
    "as $\\|\\Delta_n\\| = \\displaystyle\\max_{1\\leq i \\leq n}(t_i - t_{i-1})$ goes to 0.\n",
    "\n",
    "In other words, the quadratic variation $[B]_t$ of Brownian motion $B_t$ in $[0,t]$ is $[B]_t = t$.\n",
    "\n",
    "#### Remark\n",
    "Almost sure convergence is guaranteed if the sequence\n",
    "$\\{\\Delta_n\\}$ satisfies the condition\n",
    "\n",
    "$$\n",
    "  \\Delta_1 \\subset \\Delta_2 \\subset \\cdots \\subset \\Delta_n\n",
    "  \\subset \\cdots.\n",
    "$$\n",
    "\n",
    "Almost sure convergence is also guaranteed when $\\{\\Delta_n\\}$\n",
    "satisfies $\\displaystyle\\sum_{n=1}^\\infty \\| \\Delta_n \\| < \\infty$.\n"
   ]
  },
  {
   "cell_type": "markdown",
   "metadata": {
    "slideshow": {
     "slide_type": "slide"
    }
   },
   "source": [
    "## Technical note: Convergence in $L^p$\n",
    "\n",
    "A sequence of random variables $X_n$ defined on the probability space $(\\Omega,\\F,\\P)$ is called *covergent to * $X$ *in* $L^p$ if \n",
    "\n",
    "$$\n",
    "\\lim_{n\\to\\infty} \\|X_n - X\\|_p = 0 \\quad \\mbox{ or equivalently } \\quad \\lim_{n\\to\\infty} \\Eof{|X_n - X|^p} = 0\n",
    "$$\n",
    "\n",
    "where $\\|X\\|_p = \\sqrt[p]{\\Eof{|X|^p}}$ is the $L^p$-norm of the random variable $X$.\n",
    "\n",
    "#### Remark\n",
    "Recall that we have the relationship among different types of convergence \n",
    "\n",
    "$$\n",
    "\\begin{array}{ccccc}\n",
    "\\mbox{in } L^p & \\Rightarrow & \\mbox{in probability} & \\Rightarrow & \\mbox{in distribution or weakly} \\\\\n",
    "& & \\Uparrow & & \\\\\n",
    "& & \\mbox{almost surely}\n",
    "\\end{array}\n",
    "$$"
   ]
  },
  {
   "cell_type": "markdown",
   "metadata": {
    "slideshow": {
     "slide_type": "slide"
    }
   },
   "source": [
    "## Local properties of Brownian paths\n",
    "Let $B_t$ be a Brownian motion.\n",
    "\n",
    "* $B_t$ is locally Hölder continuous of order $\\alpha$ for every $\\alpha < \\frac12$.\n",
    "\n",
    "\n",
    "* The Brownian paths are almost surely of infinite variation on any interval.\n",
    "\n",
    "\n",
    "* The Brownian paths are almost surely nowhere locally Hölder continuous of order $\\alpha$ for $\\alpha > \\frac12$.\n",
    "\n",
    "\n",
    "* Levy's modulus of continuity. Let $h(t) = \\sqrt{2 t \\log(1/t) }$. Then\n",
    "\n",
    "$$\n",
    "\\P\\left[ \\mathop{\\overline{\\lim}}_{\\epsilon \\to 0} \\left( \\sup_{0\\leq t_1 < t_2 \\leq 1, \\\\ t_2 - t_1 \\leq \\epsilon}\\frac{|B_{t_2} - B_{t_1}|}{h(\\epsilon)} \\right) = 1 \\right] = 1\n",
    "$$\n"
   ]
  },
  {
   "cell_type": "markdown",
   "metadata": {
    "slideshow": {
     "slide_type": "slide"
    }
   },
   "source": [
    "## Technical note: Lipschitz and Hölder continuity \n",
    "\n",
    "#### Definition (Lipschitz continuous)\n",
    "\n",
    "A function $f$ is called Lipschitz or Lipschitz continuous on the interval $[a,b]$ if there exists a constant $L$ such that \n",
    "\n",
    "$$\n",
    "|f(t) - f(s)| \\leq L|t-s|\n",
    "$$\n",
    "\n",
    "for all $t,s \\in [a,b]$. \n",
    "\n",
    "#### Definition (Hölder continuous)\n",
    "\n",
    "A function $f$ is called Hölder continuous of order $\\alpha$ on the interval $[a,b]$ if there exists a constant $K$ such that \n",
    "\n",
    "$$\n",
    "|f(t) - f(s)| \\leq K|t-s|^\\alpha\n",
    "$$\n",
    "\n",
    "for all $t,s \\in [a,b]$."
   ]
  },
  {
   "cell_type": "markdown",
   "metadata": {
    "slideshow": {
     "slide_type": "slide"
    }
   },
   "source": [
    "## The Lévy-Ciesielski construction of Brownian motion \n",
    "\n",
    "Let $\\{\\psi_i\\}$ be a complete orthonormal basis for $L^2[0,1]$ and $\\xi_i$, $i=1,2,\\cdots$, an iid sequence of standard normal random variables defined on a probability space $(\\Omega,\\F,\\P)$. Define $\\phi_i(t) = \\int_0^t \\psi_i(s) ds$, for $t\\in[0,1]$. Then the stochastic process $W$ defined by\n",
    "\n",
    "$$\n",
    "  W_t = \\sum_{i=1}^\\infty \\xi_i \\phi_i(t)\n",
    "$$\n",
    "\n",
    "is a Brownian motion."
   ]
  },
  {
   "cell_type": "markdown",
   "metadata": {
    "slideshow": {
     "slide_type": "slide"
    }
   },
   "source": [
    "## Paley-Wiener expansion of Brownian motion\n",
    "\n",
    "The Paley-Wiener representation of a Brownian path in terms of a random Fourier series. \n",
    "\n",
    "Let $\\xi_n$ be an iid sequence of standard normal variables. Then\n",
    "\n",
    "$$\n",
    "B_t=\\xi_0 t+ \\sqrt{2}\\sum_{n=1}^\\infty\\xi_n\\frac{\\sin( n\\pi t)}{n \\pi}\n",
    "$$\n",
    "\n",
    "and\n",
    "\n",
    "$$\n",
    "B_t = \\sqrt{2} \\sum_{n=1}^\\infty \\xi_n \\frac{\\sin \\left(\\left(n - \\frac{1}{2}\\right) \\pi t\\right)}{ \\left(n - \\frac{1}{2}\\right) \\pi} \n",
    "$$\n",
    "\n",
    "represent a Brownian motion on [0,1]. "
   ]
  },
  {
   "cell_type": "markdown",
   "metadata": {
    "slideshow": {
     "slide_type": "fragment"
    }
   },
   "source": [
    "For Brownian motion $B_t$, since the random variable\n",
    "$B_{t+h} - B_t$ is centered Gaussian with variance $h$, we have\n",
    "\n",
    "$$\n",
    "   \\Eof{(B_{t+h} - B_t)^4} = 3 h^2.\n",
    "$$\n",
    "\n",
    "Therefore, by taking $\\alpha=4$, $\\beta = 1$, and $C=3$, the Kolmogorov's continuity criterion applies."
   ]
  },
  {
   "cell_type": "code",
   "execution_count": 1,
   "metadata": {},
   "outputs": [
    {
     "name": "stderr",
     "output_type": "stream",
     "text": [
      "Warning message:\n",
      "\"package 'repr' was built under R version 3.6.3\"\n"
     ]
    }
   ],
   "source": [
    "# rescale the output figure\n",
    "library(repr)\n",
    "options(repr.plot.width=8, repr.plot.height=5)"
   ]
  },
  {
   "cell_type": "code",
   "execution_count": 2,
   "metadata": {
    "slideshow": {
     "slide_type": "fragment"
    }
   },
   "outputs": [
    {
     "data": {
      "image/png": "[encoded data removed]",
      "text/plain": [
       "plot without title"
      ]
     },
     "metadata": {
      "image/png": {
       "height": 300,
       "width": 480
      }
     },
     "output_type": "display_data"
    },
    {
     "data": {
      "image/png": "[encoded data removed]",
      "text/plain": [
       "plot without title"
      ]
     },
     "metadata": {
      "image/png": {
       "height": 300,
       "width": 480
      }
     },
     "output_type": "display_data"
    },
    {
     "data": {
      "image/png": "[encoded data removed]",
      "text/plain": [
       "plot without title"
      ]
     },
     "metadata": {
      "image/png": {
       "height": 300,
       "width": 480
      }
     },
     "output_type": "display_data"
    }
   ],
   "source": [
    "\n",
    "# the following function plots the Brownian motion path by the Paley-Wiener expansion\n",
    "plotBM <- function(N,col='blue')\n",
    "{\n",
    "  xi0 <- rnorm(1)\n",
    "  xi <- rnorm(N)\n",
    "  W <- function(N) {\n",
    "    if (N==0)\n",
    "      res <- function(t) xi0*t\n",
    "    else {\n",
    "      coeff <- xi/(1:N)/pi\n",
    "      res <- function(t) xi0*t + sqrt(2)*sum(coeff*sin(seq(1:N)*pi*t)) \n",
    "    }\n",
    "    res\n",
    "  }\n",
    "  \n",
    "  vW <- function(t) sapply(t,function(x) W(N)(x))\n",
    "  curve(vW,from=0,to=1,col=col,xlab='t',ylab='BM')  \n",
    "}\n",
    "                           \n",
    "plotBM(20)\n",
    "plotBM(200,col='red')       \n",
    "plotBM(20000,col='green')"
   ]
  },
  {
   "cell_type": "markdown",
   "metadata": {
    "slideshow": {
     "slide_type": "slide"
    }
   },
   "source": [
    "## Technical note: Weak convergence or convergence in distribution\n",
    "\n",
    "A sequence of random variables $X_n$ is called convergent weakly or convergent in distribution to $X$ if it satisfies one of the following equivalent conditions. \n",
    "\n",
    "* $\\displaystyle\\lim_{n\\to\\infty} \\phi_{X_n}(u) = \\phi_X(u)$ for every $u$, where $\\phi$ is the characteristic function. \n",
    "\n",
    "\n",
    "* $\\displaystyle\\lim_{n\\to\\infty} \\Eof{f(X_n)} = \\Eof{f(X)}$ for all bounded continuous function $f$\n",
    "\n",
    "\n",
    "* $\\displaystyle\\lim_{n\\to\\infty} F_n(x) = F(x)$ for every $x$ at which $F$ is continuous. $F_n$ and $F$ are cdfs of $X_n$ and $X$ respectively.  \n",
    "\n",
    "\n",
    "#### Remark\n",
    "As opposed to the definition of convergence a.s., in $L^p$, and in probability, in defining weak convergence, the random variables $X_n$'s and $X$ need not to be defined on the same probability space. \n"
   ]
  },
  {
   "cell_type": "markdown",
   "metadata": {
    "slideshow": {
     "slide_type": "slide"
    }
   },
   "source": [
    "## Donsker's invariance principle\n",
    "\n",
    "* Donsker's invariance principle is also referred to as the Donsker's theorem.\n",
    "\n",
    "\n",
    "Suppose $\\{X_i\\}_{i=1}^\\infty$ is an iid sequence of random variables with mean 0 and and variance 1. Let $S_n = \\sum_{i=1}^n X_i$. Define the function $\\mathfrak{S}_n$ of $t$ by \n",
    "\n",
    "$$\n",
    "  \\mathfrak{S}_n(t) = \\frac1{\\sqrt n}\\sum_{i=1}^n\\left[S_{i-1} + n \\left( t-\\frac{i-1}n \\right) X_i \\right]\\,\\1_{\\left(\\frac{i-1}n,\\frac in\\right]}(t) .\n",
    "$$\n",
    "\n",
    "In fact, $\\mathfrak{S}_n$ is simply the linear interpolation of the scaled random walk $\\left\\{\\frac{S_1}{\\sqrt n}, \\frac{S_2}{\\sqrt n}, \\cdots, \\frac{S_n}{\\sqrt n} \\right\\}$.\n",
    "\n",
    "Then, $\\mathfrak{S}_n\\Longrightarrow W$ as $n\\to\\infty$, where $W$ denotes a Brownian motion. \n",
    "\n",
    "In other words, as $n\\to\\infty$, the linearly interpolated scaled random walk $\\mathfrak{S}_n$ converges weakly to a Brownian motion. \n",
    " "
   ]
  },
  {
   "cell_type": "code",
   "execution_count": 14,
   "metadata": {
    "slideshow": {
     "slide_type": "slide"
    }
   },
   "outputs": [
    {
     "data": {
      "image/png": "[encoded data removed]",
      "text/plain": [
       "plot without title"
      ]
     },
     "metadata": {
      "image/png": {
       "height": 420,
       "width": 420
      }
     },
     "output_type": "display_data"
    }
   ],
   "source": [
    "# Simulate BM by using the Donsker's invariance principle\n",
    "N <- 1000\n",
    "nu <- 3\n",
    "X <- rexp(N,1) - 1\n",
    "BM <- c(0,cumsum(X)/sqrt(N))\n",
    "t <- c(0,(1:N)/N)\n",
    "plot(t,BM,type='l',col='blue')"
   ]
  },
  {
   "cell_type": "markdown",
   "metadata": {
    "slideshow": {
     "slide_type": "slide"
    }
   },
   "source": [
    "## Simulation of Brownian motion"
   ]
  },
  {
   "cell_type": "code",
   "execution_count": 1,
   "metadata": {},
   "outputs": [
    {
     "data": {
      "image/png": "[encoded data removed]",
      "text/plain": [
       "Plot with title \"Histogram of B[, 100]\""
      ]
     },
     "metadata": {
      "image/png": {
       "height": 420,
       "width": 420
      }
     },
     "output_type": "display_data"
    }
   ],
   "source": [
    "# the code demonstrates how to simulate Brownian paths \n",
    "\n",
    "NSim <- 10000   # number of samples at each step\n",
    "NSteps <- 100  # number of steps \n",
    "Tfin <- 1    # terminal time\n",
    "B <- matrix(0,NSim,NSteps+1)  # initialize the Brownians\n",
    "\n",
    "cov <- 0\n",
    "# simulation step\n",
    "for (i in 1:NSteps){\n",
    "  dB <- rnorm(NSim)\n",
    "  dB <- dB - mean(dB)  # now dB has mean 0\n",
    "  \n",
    "  dB <- dB/sd(dB)  # now dB has variance 1\n",
    "  dB <- sqrt(Tfin/NSteps)*dB\n",
    "  cov <- cov + dB[1] * dB[2]\n",
    "  B[,i+1] <- B[,i] + dB\n",
    "}\n",
    "\n",
    "t <- (0:NSteps)/NSteps*Tfin\n",
    "par(mfrow=c(2,2))\n",
    "\n",
    "# plot a Browian path\n",
    "plot(t,B[5,],type='l',col='blue',ylab='Bt sample path')\n",
    "\n",
    "# histograms superimposed with normal distributions at different times \n",
    "hist(B[,100],prob=T,breaks=50,col='blue',ylim=c(0,1.5),xlab='B')\n",
    "curve(dnorm,col='orange',add=T)\n",
    "hist(B[,10],prob=T,breaks=25,col='green',add=T)\n",
    "curve(dnorm(x,sd=1/sqrt(10)),add=T,col='red')\n",
    "\n",
    "# evolution of mean\n",
    "plot(t,apply(B,2,FUN=mean),type='l',col='blue',xlab='t',ylab='mean')\n",
    "abline(h=0,col='red')\n",
    "\n",
    "# evolution of standard deviation\n",
    "plot(t,apply(B,2,FUN=sd),type='l',col='blue',xlab='t',ylab='sd')\n",
    "curve(sqrt(x),add=T,col='red')"
   ]
  },
  {
   "cell_type": "code",
   "execution_count": 67,
   "metadata": {},
   "outputs": [
    {
     "data": {
      "text/html": [
       "-1.34912636377775e-05"
      ],
      "text/latex": [
       "-1.34912636377775e-05"
      ],
      "text/markdown": [
       "-1.34912636377775e-05"
      ],
      "text/plain": [
       "[1] -1.349126e-05"
      ]
     },
     "metadata": {},
     "output_type": "display_data"
    }
   ],
   "source": [
    "cov / NSteps"
   ]
  },
  {
   "cell_type": "markdown",
   "metadata": {
    "slideshow": {
     "slide_type": "slide"
    }
   },
   "source": [
    "## Brownian motion with drift \n",
    "\n",
    "Let $(\\Omega,\\F_t,\\P)$ be a filtered probability space and $B_t$ a Brownian motion on $\\Omega$. \n",
    "A stochastic process $X$ of the form\n",
    "\n",
    "$$\n",
    "X_t = x + B_t + \\int_0^t \\mu_s ds \\quad \\Longleftrightarrow \\quad dX_t = dB_t + \\mu_t dt\n",
    "$$\n",
    "\n",
    "is called a Brownian motion with drift $\\mu_t$, where $\\mu$ is adapted to the filtration $\\F_t$.\n",
    "\n",
    "#### Remark\n",
    "\n",
    "* $X_t$ is a Gaussian process if $\\mu_t$ is deterministic. Apparently, the mean function is $\\Eof{X_t} = x + \\int_0^t \\mu_s ds$ and the covariance function $\\gamma(t,s) = \\cov(X_t,X_s) = \\min\\{t,s\\}$.\n",
    "\n",
    "\n",
    "* We can always transform a Brownian motion with drift into a standard Brownian motion by change of the underlying probability measure so long as the drift $\\mu_t$ satisfies certain conditions, say, bounded.  "
   ]
  },
  {
   "cell_type": "markdown",
   "metadata": {
    "slideshow": {
     "slide_type": "slide"
    }
   },
   "source": [
    "## Wiener integral\n",
    "\n",
    "* Let $f$ be a (deterministic) step function defined by $f = \\sum_{i=1}^n a_i \\1_{[t_{i-1}, t_i)}$, where $t_0 = a$ and $t_n = b$, $a_i \\in \\R$. The *Wiener integral* $I(f)$ of $f$ is defined by\n",
    "\n",
    "    $$\n",
    "    I(f) = \\int_a^b f(t) dB_t = \\sum_{i=1}^n a_i \\Delta B_{t_i}, \\quad \\Delta B_{t_i} = B_{t_i} - B_{t_{i-1}}.\n",
    "    $$\n",
    "\n",
    "* Let $f\\in L^2[a,b]$ and $f_n$ be a sequence of step functions such that $f_n \\to f$ in $L^2[a,b]$. The Wiener integral $I(f)$ of $f$ is defined by\n",
    "\n",
    "    $$\n",
    "    I(f) = \\int_a^b f(t) dB_t = \\lim_{n\\to\\infty} \\int_a^b f_n(t) dB_t, \\quad \\mbox{ in } L^2(\\Omega).\n",
    "    $$\n",
    "\n",
    "A technical issue here: Is $I(f)$ well-defined?  "
   ]
  },
  {
   "cell_type": "markdown",
   "metadata": {
    "slideshow": {
     "slide_type": "slide"
    }
   },
   "source": [
    "## Wiener integral is normally distributed\n",
    "\n",
    "\n",
    "#### Theorem\n",
    "\n",
    "For each $f\\in L^2[a,b]$, the Wiener integral $\\int_a^b f(t)dB_t$ is a Gaussian random variable with mean 0 and variance $\\|f\\|_2^2 = \\int_a^b f^2(t)dt$. In short,\n",
    "\n",
    "$$\n",
    "   \\int_a^b f(s) dB_s \\sim N(0,\\|f\\|_2^2).\n",
    "$$\n",
    "\n",
    "\n",
    "* In particular, recall that if the integrand $f$ is the step function $f(t) = \\sum_{i=1}^n a_i \\1_{[t_{i-1},t_i)}(t)$, apparently the Wiener integral $I(f)$ of $f$ is normally distributed \n",
    "\n",
    "    $$\n",
    "    I(f) = \\sum_{i=1}^n a_i \\Delta B_i \\sim N\\left(0,\\sum_{i=1}^n a_i^2 \\Delta t_i \\right)\n",
    "    $$\n",
    "\n",
    "    since the $\\Delta B_i$'s are independent normal random variables. \n",
    "\n",
    "* The proof for general $f\\in L^2[a,b]$ is based on limiting process. \n",
    "\n",
    "\n",
    "#### Example \n",
    "\n",
    "$\\int_0^t s dB_s \\sim N\\left(0,\\frac{t^3}3\\right)$\n",
    "\n",
    "#### Corollary\n",
    "\n",
    "If $f,g\\in L^2[a,b]$, then\n",
    "\n",
    "$$\n",
    "  \\E[I(f)I(g)] = \\E\\left[ \\int_a^b f(s) dB_s \\int_a^b g(s) dB_s\\right] = \\int_a^b f(t)g(t) dt.\n",
    "$$\n",
    "\n",
    "Thus, the Wiener integral $I:L^2[a,b] \\to L^2(\\Omega)$ is an isometry. In particular, if $f$ and $g$ are orthogonal, i.e., $\\int_a^b f g = 0$,  then the Gaussian random variables $I(f)$ and $I(g)$ are independent.\n"
   ]
  },
  {
   "cell_type": "markdown",
   "metadata": {
    "slideshow": {
     "slide_type": "slide"
    }
   },
   "source": [
    "## Properties of Wiener integral\n",
    "\n",
    "Let $f$ and $g$ be deterministic $L^2[a,b]$ functions, $\\alpha$ and $\\beta$ are constants. Then\n",
    "\n",
    "* $\\int_a^b \\left[\\alpha f(t) + \\beta g(t)\\right] dB_t = \\alpha \\int_a^b f(t) dB_t + \\beta \\int_a^b g(t) dB_t$.\n",
    "\n",
    "\n",
    "* $\\int_a^b f(t) dB_t = \\int_a^c f(t)dB_t+ \\int_c^b f(t) dB_t$, for $c\\in[a,b]$.\n",
    "\n",
    "\n",
    "#### Integration by parts formula\n",
    "\n",
    "Let $f$ be a continuous function of bounded variation. Then almost surely\n",
    "\n",
    "$$\n",
    "  \\int_a^b f(t) dB_t = f(t) B_t |_a^b - \\int_a^b B_t df(t).\n",
    "$$\n",
    "\n",
    "* Note that the integral on the left hand side is in the sense of Wiener, whereas on the right hand side is in the sense of Riemann-Stietjes.\n",
    "\n",
    "\n",
    "#### Example\n",
    "\n",
    "Determine the distribution of the random variable $\\int_0^1 B_t dt$."
   ]
  },
  {
   "cell_type": "markdown",
   "metadata": {
    "slideshow": {
     "slide_type": "slide"
    }
   },
   "source": [
    "## Wiener integral defines a continuous martingale\n",
    "\n",
    "Let $f\\in L^2[a,b]$. Then the stochastic process $M_t$ obtained through Wiener integral\n",
    "\n",
    "$$\n",
    "  M_t = \\int_a^t f(s) dB_s, \\quad a \\leq t \\leq b,\n",
    "$$\n",
    "\n",
    "is a martingale with respect to $\\F_s = \\sigma(B_s; s \\leq t)$.\n",
    "\n",
    "* Don't be confused with a continuous time martingale and a continuous martinagle. \n",
    "\n",
    "* Since Wiener integral defines a Gaussian process, continuity of the process can be obtained by applying Kolmogorov's continuity criterion.  \n",
    "\n",
    "#### Technical note: martingale conditions\n",
    "\n",
    "To show if the process $M_t$ is a martingale, we need to verify the three defining conditions\n",
    "\n",
    "* $M_t$ is adapted \n",
    "\n",
    "\n",
    "* $M_t$ is integrable for every $t$\n",
    "\n",
    "\n",
    "* For every $s < t$, $\\Eof{M_t | \\F_s} = M_s$ almost surely"
   ]
  },
  {
   "cell_type": "markdown",
   "metadata": {
    "slideshow": {
     "slide_type": "slide"
    }
   },
   "source": [
    "## An illustrative example for Ito integral\n",
    "\n",
    "Let's start with defining the simple integral as\n",
    "\n",
    "$$\n",
    "  \\int_0^t B_s dB_s.\n",
    "$$\n",
    "\n",
    "As in the theory of Riemann-Stieltjes integral, we shall start with partitioning the interval $[0,t]$ into, say, $n$ subintervals. Within each subinterval, we pick a point and evaluate the integrand at that point, multiply that value by the increment of the integrator in that subinterval. Then we sum up the results from each subinterval and take limit as the mesh of the partition approaches zero. Possible choices for selecting points from each subinterval  may be, denoting $\\Delta B_{t_k} = B_{t_k} - B_{t_{k-1}}$:\n",
    "\n",
    "* The right point rule:\n",
    "    $$\n",
    "    R_n = \\sum_{k=1}^n B_{t_k} \\Delta B_{t_k}\n",
    "    $$\n",
    "\n",
    "\n",
    "* The left point rule:\n",
    "    $$\n",
    "    L_n = \\sum_{k=1}^n B_{t_{k-1}} \\Delta B_{t_k}\n",
    "    $$\n",
    "\n",
    "\n",
    "* The midpoint rule:\n",
    "    $$\n",
    "    M_n = \\sum_{k=1}^n B_{t_*} \\Delta B_{t_k}, \\quad \\mbox{ where } t_* = \\frac{t_k + t_{k-1}}2\n",
    "    $$"
   ]
  },
  {
   "cell_type": "markdown",
   "metadata": {
    "slideshow": {
     "slide_type": "slide"
    }
   },
   "source": [
    "## Which rule rules?\n",
    "\n",
    "Question: Which rule yields convergent integral? in what sense? We knew that it can't be pathwise because the integrator, in this case the Brownian motion, is not of finite variation (because it has nonzero second variation) almost surely. \n",
    "\n",
    "Note that the following identities hold.\n",
    "\\begin{eqnarray*}\n",
    "  && R_n - L_n = \\sum_{k=1}^n \\left( \\Delta B_{t_k} \\right)^2,  \\qquad \n",
    "  R_n + L_n = \\sum_{k=1}^n \\Delta B_{t_k}^2 = B_t^2.  \\\\\n",
    "\\end{eqnarray*}\n",
    "Hence,\n",
    "\\begin{eqnarray*}\n",
    "  && R_n = \\frac{B_t^2}2 + \\frac12 \\sum_{k=1}^n \\left( \\Delta B_{t_k} \\right)^2,  \\qquad \n",
    "   L_n = \\frac{B_t^2}2 - \\frac12 \\sum_{k=1}^n \\left( \\Delta B_{t_k} \\right)^2.\n",
    "\\end{eqnarray*}\n",
    "Notice that the first term in both expressions is independent of partitions and the second term, as we have seen in previous lecture, will converge to the quadratic variation of Brownian motion in $L^2$ as the mesh approaches zero! Consequently,\n",
    "\\begin{eqnarray*}\n",
    "  && \\lim_{\\|\\Pi_n\\|\\to0} R_n = \\frac{B_t^2}2 + \\frac t2,  \\qquad\n",
    "   \\lim_{\\|\\Pi_n\\|\\to0} L_n = \\frac{B_t^2}2 - \\frac t2.\n",
    "\\end{eqnarray*}\n",
    "\n",
    "So we learnt from this simple example that\n",
    "\n",
    "* The right point rule and the left end point rule yield different \"integrals\".\n",
    "\n",
    "\n",
    "* The difference between the \"right integral\" and the \"left integral\" is exactly the quadratic variation.\n",
    "\n",
    "\n",
    "* The convergence is in $L^2$ sense.\n",
    "\n",
    "\n",
    "#### Remark\n",
    "\n",
    "* We need to stick with one specific rule in order to have convergence.\n",
    "* Ito picked the left end point rule because of adaptivity and martingality.\n",
    "* $L_n$ is a martingale whereas $R_n$ isn't.\n",
    "* The midpoint rule leads to the Stratonovich integral.\n"
   ]
  },
  {
   "cell_type": "markdown",
   "metadata": {
    "slideshow": {
     "slide_type": "slide"
    }
   },
   "source": [
    "## Simulation of stochastic integral: left endpoint rule"
   ]
  },
  {
   "cell_type": "code",
   "execution_count": 2,
   "metadata": {},
   "outputs": [
    {
     "data": {
      "image/png": "[encoded data removed]",
      "text/plain": [
       "Plot with title \"Histogram of X[, NSteps]\""
      ]
     },
     "metadata": {
      "image/png": {
       "height": 420,
       "width": 420
      }
     },
     "output_type": "display_data"
    }
   ],
   "source": [
    "# Simulate the stochastic integral int f(B) dB from 0 to t, for t in [0,1]\n",
    "# Demonstrate the effect of Ito correction/term \n",
    "\n",
    "NSim <- 1e4   # number of samples at each step\n",
    "NSteps <- 100   # number of steps \n",
    "Tfin <- 1    # terminal time\n",
    "dt <- Tfin/NSteps\n",
    "f <- function(x) x \n",
    "B <- matrix(0,NSim,NSteps+1)  # initialize the Brownians\n",
    "dB <- matrix(0,NSim,NSteps+1)\n",
    "\n",
    "# Simulate Browian paths\n",
    "for (i in 1:NSteps){\n",
    "  db <- rnorm(NSim)\n",
    "  db <- db - mean(db)  # now db has mean 0\n",
    "  db <- db/sd(db)  # now db has variance 1\n",
    "  dB[,i] <- sqrt(dt)*db\n",
    "  B[,i+1] <- B[,i] + dB[,i]\n",
    "}\n",
    "\n",
    "# Calculate the (discretized) stochastic integral using left endpoints\n",
    "dX <- f(B)*dB\n",
    "X <- t(apply(dX,1,FUN=cumsum))\n",
    "t <- (0:NSteps)*dt\n",
    "    \n",
    "# plots\n",
    "par(mfrow=c(2,2))\n",
    "    \n",
    "# evolution of mean\n",
    "plot(t,colMeans(X),type='l',col='blue',ylab='mean')\n",
    "    \n",
    "# evolution of variance\n",
    "plot(t,apply(X,2,FUN=var),type='l',col='blue',ylab='variance of X')\n",
    "    \n",
    "# histogram at terminal time\n",
    "hist(X[,NSteps],prob=T,col='green',breaks=100)"
   ]
  },
  {
   "cell_type": "markdown",
   "metadata": {
    "slideshow": {
     "slide_type": "slide"
    }
   },
   "source": [
    "## Simulation of stochastic integral: right endpoint rule"
   ]
  },
  {
   "cell_type": "code",
   "execution_count": 3,
   "metadata": {},
   "outputs": [
    {
     "data": {
      "image/png": "[encoded data removed]",
      "text/plain": [
       "Plot with title \"Histogram of X[, NSteps]\""
      ]
     },
     "metadata": {
      "image/png": {
       "height": 420,
       "width": 420
      }
     },
     "output_type": "display_data"
    }
   ],
   "source": [
    "# What happens if we use right endpoints? \n",
    "\n",
    "# Calculate the (discretized) stochastic integral using right endpoints\n",
    "B <- B[,-1]\n",
    "dB <- dB[,1:NSteps]\n",
    "dX <- f(B)*dB\n",
    "X <- t(apply(dX,1,FUN=cumsum))\n",
    "t <- (1:NSteps)/NSteps*Tfin\n",
    "\n",
    "# plots\n",
    "par(mfrow=c(2,2))\n",
    "    \n",
    "# evolution of mean\n",
    "plot(t,colMeans(X),type='l',col='blue',ylab='mean')\n",
    "    \n",
    "# evolution of variance\n",
    "plot(t,apply(X,2,FUN=var),type='l',col='blue',ylab='variance of X')\n",
    "    \n",
    "# histogram at terminal time\n",
    "hist(X[,NSteps],prob=T,col='green',breaks=100)"
   ]
  },
  {
   "cell_type": "markdown",
   "metadata": {
    "slideshow": {
     "slide_type": "slide"
    }
   },
   "source": [
    "## 伊藤 清 先生 (Itô, Kiyoshi sensei)\n",
    "\n",
    "<h2><img src=\"http://upload.wikimedia.org/wikipedia/commons/c/c1/Kiyosi_Ito.jpg\" align = \"center\" width=160></h2> \n",
    "\n",
    "<br>\n",
    "Courtesy: Photo from Wikipedia"
   ]
  },
  {
   "cell_type": "markdown",
   "metadata": {
    "slideshow": {
     "slide_type": "slide"
    }
   },
   "source": [
    "## Ito integral of simple processes\n",
    "\n",
    "\n",
    "#### Definition (simple process) \n",
    "\n",
    "A process $\\varphi_t$ is called *simple* if it is of the form \n",
    "\n",
    "$$\n",
    " \\varphi_t(\\omega) = \\sum_{k=1}^n \\xi_{k-1}(\\omega) \\1_{[t_{k-1},t_k)}(t),\n",
    "$$\n",
    "\n",
    "where $\\xi_k \\in \\F_{t_k}$ for $k=0,\\cdots,n$. \n",
    "\n",
    "* Basically, a simple process is simply a step function with random coefficients that are measurable with respect to the left endpoints. \n",
    "\n",
    "* Simple process is defined as such for mimicking a) the step functions in the Wiener integral and b) the left endpoint rule in the Riemann integral.\n",
    "\n",
    "* The left endpoint measurability is key to the martingality of Ito integral, as we expected. \n",
    "\n",
    "#### Definition (Ito integral of a simple process)\n",
    "\n",
    "The stochastic integral of a simple process $\\varphi_t$ with respect to Brownian motion $B_t$ over $[0,T]$ is defined by\n",
    "\n",
    "$$\n",
    "  \\int_0^T \\varphi_t dB_t = \\sum_{k=1}^n \\xi_{k-1} \\Delta B_{t_k}, \\quad \\mbox{ where } \\Delta B_{t_k} = B_{t_k} - B_{t_{k-1}}.\n",
    "$$\n"
   ]
  },
  {
   "cell_type": "markdown",
   "metadata": {},
   "source": [
    "## Integrand for Ito integral \n",
    "\n",
    "#### Definition \n",
    "\n",
    "We will use $L^2_{ad}(\\Omega\\times[a,b])$ to denote the space of all stochastic processes $\\varphi_t(\\omega)$, $a\\leq t \\leq b$, satisfying\n",
    "\n",
    "\n",
    "* $\\varphi_t$ is adapted to the filtration $\\F_t$.\n",
    "\n",
    "\n",
    "* $\\int_a^b \\E|\\varphi_t|^2 dt < \\infty$.\n",
    "\n",
    "In other words, $\\varphi_t$ is adatped and in $L^2(\\Omega\\times[a,b])$. <br>\n",
    "Note that, for notational simplicity, we usually omit the reference to the sample space $\\Omega$ and deonte the space as $L^2_{ad}[a,b]$.\n",
    "\n",
    "\n",
    "#### Lemma \n",
    "Any $L_{ad}^2$ process is the $L^2$ limit of a sequence of simple processes. Precisely, let $\\varphi_t \\in L^2_{\\rm ad}([a,b])$. Then there exists a sequence of simple processes $\\{\\varphi^{(n)}_t\\}$ in $L^2_{\\rm ad}([a,b])$ such that\n",
    "\n",
    "$$\n",
    "  \\lim_{n\\to\\infty} \\E\\int_a^b |\\varphi^{(n)}_t - \\varphi_t|^2 dt = 0.\n",
    "$$\n",
    "\n",
    "In other words, $\\varphi^{(n)}_t \\to \\varphi_t$ in $L^2_{\\rm ad}([a,b])$."
   ]
  },
  {
   "cell_type": "markdown",
   "metadata": {
    "slideshow": {
     "slide_type": "slide"
    }
   },
   "source": [
    "## Properties of Ito integral\n",
    "\n",
    "Let $\\varphi \\in L^2_{ad}$ and, for $t \\in [0,T]$,\n",
    "\n",
    "$$\n",
    "  X_t = \\int_0^t \\varphi_s dB_s\n",
    "$$\n",
    "\n",
    "be the stochastic integral of $\\varphi_t$ with respect to Brownian motion $B_t$ up to time $t$. Then $X_t$ has the following properties.\n",
    "\n",
    "* *Adaptivity*:  $X_t \\in \\F_t$ for each $t$.\n",
    "\n",
    "\n",
    "* *Martingality*: $X_t$ is a martingale.\n",
    "\n",
    "\n",
    "* *Ito isometry*:\n",
    "    $$\n",
    "        \\E[X_t^2] = \\E\\int_0^t \\varphi_s^2 ds\\; \\leftrightsquigarrow \\; \\E\\left[\\int_0^t \\varphi_s dB_s\\right]^2 = \\int_0^t \\Eof{\\varphi_s^2} ds.\n",
    "    $$\n",
    "\n",
    "\n",
    "* *Quadratic variation*:  $[X]_t = \\int_0^t \\varphi_s^2 ds \\leftrightsquigarrow d[X]_t = \\varphi_t^2 dt$.\n",
    "\n",
    "\n",
    "* *Continuity*: $X_t$ is continuous in $t$ a.s.\n",
    "\n",
    "\n",
    "* *Linearity*: Let $\\psi_t$ be another adapted process with $\\E\\int_0^T \\psi_t^2 dt < \\infty$ and $\\alpha,\\beta \\in \\R$. Then\n",
    "\n",
    "    $$\n",
    "    \\int_0^t (\\alpha \\varphi_s + \\beta \\psi_s) dB_s = \\alpha \\int_0^t \\varphi_s dB_s + \\beta \\int_0^t \\psi_s dB_s\n",
    "    $$\n"
   ]
  },
  {
   "cell_type": "markdown",
   "metadata": {
    "slideshow": {
     "slide_type": "slide"
    }
   },
   "source": [
    "## Ito processes\n",
    "\n",
    "\n",
    "#### Definition\n",
    "An adapted process $X_t$ is called an *Ito process* if it is of the form\n",
    "\n",
    "$$\n",
    "  X_t = x + \\int_0^t \\sigma_s dB_s + \\int_0^t b_s ds,\n",
    "$$\n",
    "\n",
    "where $\\sigma_t$ and $b_s$ are adapted processes. We also write it in differential form as\n",
    "\n",
    "$$\n",
    "  d X_t = \\sigma_t dB_t + b_t dt, \\quad \\mbox{with initial condition } X_0 = x.\n",
    "$$\n",
    "\n",
    "The coefficient $b_t$ is referred to as the *drift* (term) and $\\sigma_t$ as the *diffusion* (term) of the Ito process $X_t$.\n",
    "\n",
    "\n",
    "#### Lemma\n",
    "The quadratic variation of the Ito process $X_t$ is\n",
    "\n",
    "$$\n",
    "  [X]_t = \\int_0^t \\sigma_s^2 ds \\quad \\leftrightsquigarrow \\quad d[X]_t = \\sigma_t^2 dt.\n",
    "$$\n",
    "\n",
    "Note that \n",
    "\n",
    "* though the quadratic variation of Brownian motion is deterministic (recall $[B]_t = t$ a.s.), in general the quadratic variation of an Ito process is stochastic;\n",
    "\n",
    "* the proof is very similar to that of Brownian and is left as an exercise."
   ]
  },
  {
   "cell_type": "markdown",
   "metadata": {
    "slideshow": {
     "slide_type": "slide"
    }
   },
   "source": [
    "## Ito integral with respect to Ito processes\n",
    "\n",
    "Let $X_t$ be an Ito process with drift $b_t$ and diffusion $\\sigma_t$, i.e., $X_t$ is defined by\n",
    "\n",
    "$$\n",
    "  X_t = x + \\int_0^t \\sigma_s dB_s + \\int_0^t b_s ds \\quad \\leftrightsquigarrow \\quad dX_t = \\sigma_t dB_t + b_t dt, \\; X_0 = x.\n",
    "$$\n",
    "\n",
    "and $\\varphi_t$ be an adapted process. We define the stochastic integral of $\\varphi_t$ with respect to $X_t$ as\n",
    "\n",
    "$$\n",
    "  \\int_0^t \\varphi_s dX_s = \\int_0^t \\varphi_s \\sigma_s dB_s + \\int_0^t \\varphi_s b_s ds\n",
    "$$\n",
    "\n",
    "provided the integrals on the right hand side are defined."
   ]
  },
  {
   "cell_type": "markdown",
   "metadata": {
    "slideshow": {
     "slide_type": "slide"
    }
   },
   "source": [
    "## Ito's formula for Brownian motion\n",
    "\n",
    "#### Theorem \n",
    "\n",
    "Let $f(t,x)$ be a function with continuous partial derivatives $f_t$, $f_x$, and $f_{xx}$. Let $W_t = W_0 + B_t$ be a Brownian motion starting at $W_0$ (nonrandom). Then, for every $T \\geq 0$,\n",
    "\n",
    "$$\n",
    "  f(T,W_T) - f(0,W_0) = \\int_0^T f_x(t,W_t) dW_t + \\int_0^T \\left[f_t(t,W_t) + \\frac12 f_{xx}(t,W_t) \\right] dt.\n",
    "$$\n",
    "\n",
    "Or equivalently in differential form\n",
    "\n",
    "$$\n",
    "  df(t,W_t) = f_x(t,W_t) dW_t + \\left[ f_t(t,W_t) + \\frac12 f_{xx}(t,W_t) \\right]dt.\n",
    "$$\n",
    "\n",
    "\n",
    "#### Remark\n",
    "The idea is that we Taylor expand $f(t,W_t)$ to second order then formly apply the following rule:\n",
    "\n",
    "$$\n",
    " (dB_t)^2 \\rightsquigarrow dt, \\quad (dt)^2 \\rightsquigarrow 0, \\quad dB_t dt \\rightsquigarrow 0.\n",
    "$$\n"
   ]
  },
  {
   "cell_type": "code",
   "execution_count": null,
   "metadata": {},
   "outputs": [],
   "source": []
  },
  {
   "cell_type": "markdown",
   "metadata": {
    "slideshow": {
     "slide_type": "slide"
    }
   },
   "source": [
    "## Ito's formula for Ito process\n",
    "\n",
    "Let $f(t,x)$ be a function with continuous partial derivatives $f_t$, $f_x$, and $f_{xx}$. Then for every $T \\geq 0$,\n",
    "\\begin{eqnarray*}\n",
    "  f(T,X_T) - f(0,x) &=& \\int_0^T f_t(t,X_t) dt + \\int_0^T f_x(t,X_t) dX_t + \\frac12 \\int_0^T f_{xx}(t,X_t) d[X]_t  \\\\\n",
    "  &=& \\int_0^T f_x(t,X_t) \\sigma_t dB_t + \\int_0^T \\left[f_t + \\frac{\\sigma_t^2}2 f_{xx} + b_t f_x \\right] dt.\n",
    "\\end{eqnarray*}\n",
    "Or in differential form\n",
    "\\begin{eqnarray*}\n",
    "  df(t,X_t) &=& f_t(t,X_t) dt + f_x(t,X_t) dX_t + \\frac12 f_{xx}(t,X_t) d[X]_t   \\\\\n",
    "  &=& \\sigma_t f_x dB_t + \\left[ f_t + \\frac{\\sigma_t^2}2 f_{xx} + b_t f_x \\right] dt\n",
    "\\end{eqnarray*}\n",
    "\n",
    "#### Remark\n",
    "\n",
    "* Ito's formula natually decomposes $f(t,X_t)$ into a drift/finite variation part plus a diffusion/martingale part; reminiscent of the Doob decomposition. Processes consist of a finite variation part and a martingale part are also referred to as *semimartingales*.\n",
    "\n",
    "* Note that the second order differential operator $\\frac{\\sigma_t^2}2 \\p_x^2 + b_t \\p_x$ in the drift part is the infinitesimal generator of the process $X_t$. "
   ]
  },
  {
   "cell_type": "markdown",
   "metadata": {
    "slideshow": {
     "slide_type": "slide"
    }
   },
   "source": [
    "## Review: Fundamental theorem of calculus and Taylor's theorem\n",
    "\n",
    "#### Fundamental theorem of calculus\n",
    "Let $f$ be a continuously differentiable function. Then\n",
    "$$\n",
    " f(y) - f(x) = \\int_x^y f'(\\xi) d\\xi.\n",
    "$$\n",
    "\n",
    "\n",
    "#### Taylor's theorem\n",
    "For a second differentiable function $f$, there exists some $\\xi$ between $y$ and $x$ such that \n",
    "\\begin{eqnarray*}\n",
    "&& f(y) - f(x) = f'(x) (y - x) + \\frac{f''(\\xi)}2 (y-x)^2.\n",
    "\\end{eqnarray*}\n",
    "\n",
    "Notice that the equation is exact, however in general it is not possible to specify what $\\xi$ is.  "
   ]
  },
  {
   "cell_type": "markdown",
   "metadata": {
    "slideshow": {
     "slide_type": "slide"
    }
   },
   "source": [
    "## Applications of Ito's formula I: Evaluating stochastic integral\n",
    "In classical calculus, we barely evaluate an integral from the definitioin *per se*, i.e., partition the integrating interval, form Riemann sum, then take limit as the mesh of the partition approaches zero. Instead, we evaluate an integral by applying the Fundamental Theorem of Calculus. Though in stochastic calculus the Fundamental Theorem of Calculus does not really exist, we evaluate stochastic integrals by applying Ito's formula. \n",
    "\n",
    "#### Theorem \n",
    "$$\n",
    "\\int_a^b f(B_t) dB_t = F(B_t)|_{t=a}^b - \\frac12 \\int_a^b f'(B_t) dt,\n",
    "$$\n",
    "\n",
    "where $F$ is an antiderivative of $f$, i.e., $F'=f$.\n",
    "\n",
    "#### Theorem \n",
    "$$\n",
    "\\int_a^b f(t,B_t) dB_t = F(t,B_t)|_{t=a}^b - \\int_a^b \\left[F_t(t,B_t) + \\frac12 f_x(t,B_t)\\right] dt,\n",
    "$$\n",
    "\n",
    "where $F_x = f$, i.e., $F$ is an antiderivative of $f$ with respect to $x$.\n",
    "\n",
    "\n",
    "* The idea is, we find an antiderivative of $f$ (with respect to $x$), say, $F$; apply Ito's formula to $F$, then rearrange terms. \n",
    "\n",
    "\n",
    "* However, the price we pay is that in general the last (Riemann) integral on the right hand side usually has no simple analytical expression. "
   ]
  },
  {
   "cell_type": "markdown",
   "metadata": {
    "slideshow": {
     "slide_type": "slide"
    }
   },
   "source": [
    "## Examples of stochastic integral evaluation\n",
    "\n",
    "* Evaluate the stochastic integral $\\int_0^t B_s dB_s$. <br> \n",
    "    Note that in this case $f(x) = x$. Hence an antidrivative of $f$ is $F(x) = \\frac{x^2}2$. <br>\n",
    "    Apply Ito's formula to $F$ we have\n",
    "\n",
    "    \\begin{eqnarray*}\n",
    "    && d F(B_t) = d\\left(\\frac{B_t^2}2\\right) = B_t dB_t + \\frac12 dt \\\\ \n",
    "    &\\Longrightarrow& \\frac{B_T^2}2 - \\frac{B_0^2}2 = \\int_0^T B_t dB_t + \\frac12 \\int_0^T dt \\\\\n",
    "    &\\Longrightarrow& \\int_0^T B_t dB_t = \\frac12(B_T^2 - T)\n",
    "    \\end{eqnarray*}\n",
    "    \n",
    "\n",
    "* Evaluate the stochastic integral $\\int_0^t se^{B_s} dB_s$. <br>\n",
    "    Note that in this case $f(t,x) = t e^x$. Hence an antidrivative $F$ of $f$ is $F(t,x) = t e^x$. <br>\n",
    "    Apply Ito's formula to $F$ we have\n",
    "\n",
    "    \\begin{eqnarray*}\n",
    "    && d F(t,B_t) = d\\left(t e^{B_t} \\right) = e^{B_t} dt + te^{B_t} dB_t + \\frac12 te^{B_t} dt \\\\ \n",
    "    &\\Longrightarrow& T e^{B_T} = \\int_0^T t e^{B_t} dB_t + \\int_0^T e^{B_t} \\left(1 + \\frac t2 \\right) dt \\\\\n",
    "    &\\Longrightarrow& \\int_0^T t e^{B_t} dB_t = T e^{B_T} - \\int_0^T e^{B_t} \\left(1 + \\frac t2 \\right) dt\n",
    "    \\end{eqnarray*}\n"
   ]
  },
  {
   "cell_type": "markdown",
   "metadata": {
    "slideshow": {
     "slide_type": "slide"
    }
   },
   "source": [
    "## Applications of Ito's formula II: Solving SDEs\n",
    "\n",
    "A stochastic differenital equation (SDE) is an differential equation with random noise of the form\n",
    "\n",
    "$$\n",
    " dX_t = \\mu(X_t,t) dt + \\sigma (X_t,t) dB_t\n",
    "$$\n",
    "\n",
    "In cases, we can solve SDEs by applying Ito's formula to certain function of $X_t$. We demonstrate the technique by solving the following two very important examples. \n",
    "\n",
    "* *Geometric Brownian motion/Black-Scholes model*\n",
    "\n",
    "    $dX_t = \\mu X_t dt + \\sigma X_t dB_t$, where $\\mu$ and $\\sigma$ are constants. \n",
    "    \n",
    "    To solve it, we apply Ito's formula to $\\log X_t$. \n",
    "\n",
    "\n",
    "* *Ornstein-Uhlenbeck process/Vasicek model*\n",
    "\n",
    "    $dX_t = \\lambda(m - X_t) dt + \\sigma dB_t$, where $m$, $\\lambda$, and $\\sigma$ are constants. \n",
    "    \n",
    "    To solve it, we apply Ito's formula to $e^{\\lambda t} X_t$.\n",
    "    \n",
    "\n",
    "#### Remark\n",
    "Geometric Brownian motion and Ornstein-Uhlenbeck process are special cases of the so called *linear SDEs* which has the general form\n",
    "\n",
    "$$\n",
    "dX_t = (\\mu_1 X_t + \\mu_0) dt + (\\sigma_1 X_t + \\sigma_0) dB_t.\n",
    "$$\n",
    "\n",
    "Such SDEs have \"closed form\" solutions."
   ]
  },
  {
   "cell_type": "markdown",
   "metadata": {
    "slideshow": {
     "slide_type": "slide"
    }
   },
   "source": [
    "## Simulation of the Ornstein-Uhlenbeck process"
   ]
  },
  {
   "cell_type": "code",
   "execution_count": 3,
   "metadata": {},
   "outputs": [
    {
     "data": {
      "image/png": "[encoded data removed]",
      "text/plain": [
       "Plot with title \"Histogram of X[, 2]\""
      ]
     },
     "metadata": {
      "image/png": {
       "height": 420,
       "width": 420
      }
     },
     "output_type": "display_data"
    },
    {
     "data": {
      "image/png": "[encoded data removed]",
      "text/plain": [
       "plot without title"
      ]
     },
     "metadata": {
      "image/png": {
       "height": 420,
       "width": 420
      }
     },
     "output_type": "display_data"
    }
   ],
   "source": [
    "# The code simulates the OU process dX = lambda (m - X) dt + sigma dB\n",
    "# by Euler-Maruyama scheme\n",
    "\n",
    "# Parameters of the OU process \n",
    "lambda <- 2\n",
    "m <- -1\n",
    "sigma <- 0.2\n",
    "x0 <- 1\n",
    "Tfin <- 1\n",
    "\n",
    "# number of paths and number of time steps\n",
    "NSim <- 1e3\n",
    "NSteps <- 100\n",
    "\n",
    "# initialize X\n",
    "X <- matrix(0,NSim,NSteps+1)  \n",
    "X[,1] <- x0\n",
    "\n",
    "# Euler-Maruyama scheme\n",
    "dt <- Tfin/NSteps\n",
    "for (i in 1:NSteps){\n",
    "  db <- rnorm(NSim)\n",
    "  db <- db - mean(db)  # now db has mean 0\n",
    "  db <- db/sd(db)  # now db has variance 1\n",
    "\n",
    "  X[,i+1] <- X[,i] + lambda*(m - X[,i])*dt + sigma*sqrt(dt)*db\n",
    "}\n",
    "\n",
    "par(mfrow=c(3,1))\n",
    "# histograms at different times\n",
    "hist(X[,2],prob=T,col='green',breaks=20,xlim=c(-.5,1.2))\n",
    "hist(X[,NSteps+1],prob=T,col='red',breaks=20,add=T)\n",
    "\n",
    "t <- (0:NSteps)/NSteps*Tfin\n",
    "plot(t,X[14, ],type='l',col='blue',ylab='mean')\n",
    "\n",
    "# time evolution of mean\n",
    "t <- (0:NSteps)/NSteps*Tfin\n",
    "plot(t,colMeans(X),type='l',col='blue',ylab='mean')\n",
    "\n",
    "# time evolution of variance\n",
    "t <- (0:NSteps)/NSteps*Tfin\n",
    "plot(t,apply(X,2,FUN=var),type='l',col='blue',ylab='var')\n",
    "abline(h=sigma^2/2/lambda,col='green')"
   ]
  },
  {
   "cell_type": "markdown",
   "metadata": {
    "slideshow": {
     "slide_type": "slide"
    }
   },
   "source": [
    "## Stochastic differential equation\n",
    "\n",
    "Let $(\\Omega,\\cF_t,\\P)$ be a filtered probability space and $W_t$ a Brownian motion defined on it. \n",
    "A stochastic differential equation (SDE) driven by the Brownian motion $W_t$ is an equation of the form\n",
    "\n",
    "$$\n",
    "dX_t = \\mu(X_t,t) dt + \\sigma(X_t,t) dW_t, \\quad X_0 = x\n",
    "$$\n",
    "\n",
    "or in integral form\n",
    "\n",
    "$$\n",
    "X_t = x_0 + \\int_0^t \\mu(X_s,s) ds + \\int_0^t \\sigma(X_s,s) dW_s.\n",
    "$$\n",
    "\n",
    "As usual, $\\mu(x,t)$ is referred to as the drift part and $\\sigma(x,t)$ the diffusion part."
   ]
  },
  {
   "cell_type": "markdown",
   "metadata": {
    "slideshow": {
     "slide_type": "slide"
    }
   },
   "source": [
    "## Connection to partial differential equation\n",
    "\n",
    "Stochastic differential equation provides a way to numerically solve second order parabolic partial differential equations by Monte Carlo simulation. The key point is a stochastic representation of the solution to partial differential equations which we develop in the following. \n",
    "\n",
    "Let $X_t$ be the diffusion process driven by\n",
    "\n",
    "$$\n",
    "  dX_t = \\mu(X_t,t) dt + \\sigma(X_t,t) dW_t.\n",
    "$$\n",
    "\n",
    "We shall suppress the dependence on $x,t$ of $\\mu$ and $\\sigma$ for notational simplicity.\n",
    "\n",
    "\n",
    "#### Theorem \n",
    "Let $u = u(x,t)$ be the solution to the terminal value problem\n",
    "\n",
    "\\begin{eqnarray*}\n",
    "  && u_t + \\frac{\\sigma^2}2 u_{xx} + \\mu u_x = 0, \\quad t < T, \\\\\n",
    "  && u(x,T) = h(x).  \n",
    "\\end{eqnarray*}\n",
    "\n",
    "Then $u$ has the representation\n",
    "\n",
    "$$\n",
    "  u(x,t) = \\E_{t,x}\\left[h(X_T)\\right],\n",
    "$$\n",
    "\n",
    "where $\\E_{t,x}[\\cdot]$ denotes the conditional expectation $\\E[\\cdot|X_t = x]$. \n"
   ]
  },
  {
   "cell_type": "markdown",
   "metadata": {
    "slideshow": {
     "slide_type": "slide"
    }
   },
   "source": [
    "### Proof\n",
    "\n",
    "Applying Ito's formula to $u(X_t,t)$ yields\n",
    "\n",
    "\\begin{eqnarray*}\n",
    "  u(X_T,T) - u(X_t,t) &=& \\int_t^T \\sigma(X_s,s)u_x(X_s,s) dW_s + \\int_t^T \\left[ u_t + \\frac{\\sigma^2}2 u_{xx} + \\mu u_x \\right]ds  \\\\\n",
    "  &=& \\int_t^T \\sigma(X_s,s)u_x(X_s,s) dW_s\n",
    "\\end{eqnarray*}\n",
    "\n",
    "since $u$ satisfies the PDE\n",
    "\n",
    "$$\n",
    "u_t + \\frac{\\sigma^2}2 u_{xx} + \\mu u_x = 0.\n",
    "$$\n",
    "\n",
    "Thus taking conditional expectation $\\E_{t,x}[\\cdot]$ on both sides and taking into account the terminal condition $u(x,T) = h(x)$ we end up with\n",
    "\n",
    "$$\n",
    "  u(x,t) = \\E_{t,x}[h(X_T)].\n",
    "$$\n"
   ]
  },
  {
   "cell_type": "markdown",
   "metadata": {
    "slideshow": {
     "slide_type": "slide"
    }
   },
   "source": [
    "## The Feynman-Kac formula\n",
    "\n",
    "Let $u = u(x,t)$ be the solution to the terminal value problem\n",
    "\n",
    "\\begin{eqnarray*}\n",
    "  && u_t + \\frac{\\sigma^2}2 u_{xx} + \\mu u_x = V(x,t) u, \\quad t < T,  \\\\\n",
    "  && u(x,T) = h(x).  \n",
    "\\end{eqnarray*}\n",
    "\n",
    "Then $u$ has the representation\n",
    "\n",
    "$$\n",
    "  u(x,t) = \\E_{t,x}\\left[e^{-\\int_t^T V(X_s,s) ds}h(X_T)\\right],\n",
    "$$\n",
    "\n",
    "where $\\E_{t,x}[\\cdot]$ denotes the conditional expectation $\\E[\\cdot|X_t = x]$. This is the celebrated *Feynman-Kac formula*."
   ]
  },
  {
   "cell_type": "markdown",
   "metadata": {
    "slideshow": {
     "slide_type": "slide"
    }
   },
   "source": [
    "### Proof of Feynman-Kac formula\n",
    "\n",
    "Applying Ito's formula to $u(X_t,t)e^{-\\int_0^t V(X_s,s)ds}$ yields\n",
    "\n",
    "\\begin{eqnarray*}\n",
    "  && d\\left[ u(X_t,t)e^{-\\int_0^t V(X_s,s)ds} \\right] \\\\\n",
    "  &=& e^{-\\int_0^t V(X_s,s)ds}\\left[ u_t(X_t,t) dt - V(X_t,t) u(X_t,t) dt + u_x(X_t,t) dX_t + \\frac12 u_{xx}(X_t,t) d[X]_t \\right]  \\\\\n",
    "  &=& e^{-\\int_0^t V(X_s,s)ds}\\left[ \\left\\{ u_t(X_t,t) + \\frac{\\sigma^2(X_t,t)}2 u_{xx}(X_t,t) + \\mu u_x(X_t,t) - V(X_t,t) u(X_t,t) \\right\\} dt + \\sigma(X_t,t) u_x(X_t,t) dB_t \\right]  \\\\\n",
    "  &=& e^{-\\int_0^t V(X_s,s)ds} \\sigma(X_t,t) u_x(X_t,t) dB_t\n",
    "\\end{eqnarray*}\n",
    "\n",
    "since $u$ satisfies the PDE\n",
    "\n",
    "$$\n",
    "u_t + \\frac{\\sigma^2}2 u_{xx} + \\mu u_x = V(x,t) u.\n",
    "$$\n",
    "\n",
    "In integral form\n",
    "\n",
    "\\begin{eqnarray*}\n",
    "  u(X_T,T)e^{-\\int_0^T V(X_s,s)ds} - u(X_t,t)e^{-\\int_0^t V(X_s,s)ds} &=& \\int_t^T e^{-\\int_0^\\tau V(X_s,s)ds} \\sigma(X_\\tau,\\tau) u_x(X_\\tau,\\tau) dB_\\tau\n",
    "\\end{eqnarray*}\n",
    "\n",
    "therefore, by dividing on both sides the term $e^{-\\int_0^t V(X_s,s)ds}$ we have\n",
    "\n",
    "\\begin{eqnarray*}\n",
    "  u(X_T,T)e^{-\\int_t^T V(X_s,s)ds} - u(X_t,t) &=& \\int_t^T e^{-\\int_t^\\tau V(X_s,s)ds} \\sigma(X_\\tau,\\tau) u_x(X_\\tau,\\tau) dB_\\tau.\n",
    "\\end{eqnarray*}"
   ]
  },
  {
   "cell_type": "markdown",
   "metadata": {
    "slideshow": {
     "slide_type": "slide"
    }
   },
   "source": [
    "## Richard Phillips Feynman \n",
    "\n",
    "<h2><img src=\"http://upload.wikimedia.org/wikipedia/en/4/42/Richard_Feynman_Nobel.jpg\" align = \"center\" width=160></h2> \n",
    "\n",
    "<br>\n",
    "Courtesy: Photo from Wikipedia"
   ]
  },
  {
   "cell_type": "markdown",
   "metadata": {
    "slideshow": {
     "slide_type": "slide"
    }
   },
   "source": [
    "## Marek Kac\n",
    "\n",
    "<h2><img src=\"http://upload.wikimedia.org/wikipedia/commons/5/56/Mark_Kac.jpg\" align = \"center\" width=160></h2> \n",
    "<br>\n",
    "Courtesy: Photo from Wikipedia\n",
    "<br>\n",
    "Quoted from Wikipedia:\n",
    "\n",
    "* When Kac and Richard Feynman were both on the Cornell faculty he went to a lecture of Feynman's and saw that the two of them were working on the same thing from different directions. The Feynman-Kac formula resulted, which proves rigorously the real case of Feynman's path integrals. The complex case, which occurs when a particle's spin is included, is still unproven."
   ]
  },
  {
   "cell_type": "markdown",
   "metadata": {
    "slideshow": {
     "slide_type": "slide"
    }
   },
   "source": [
    "## Adding nonhomogeneous term\n",
    "\n",
    "Let $u = u(x,t)$ be the solution to the terminal value problem\n",
    "\n",
    "\\begin{eqnarray*}\n",
    "  && u_t + \\frac{\\sigma^2}2 u_{xx} + \\mu u_x = f(x,t), \\quad t < T,  \\\\\n",
    "  && u(x,T) = h(x).  \n",
    "\\end{eqnarray*}\n",
    "\n",
    "Then $u$ has the representation\n",
    "\n",
    "$$\n",
    "  u(x,t) = \\E_{t,x}\\left[h(X_T) - \\int_t^T f(X_\\tau,\\tau) d\\tau\\right],\n",
    "$$\n",
    "\n",
    "where $\\E_{t,x}[\\cdot]$ denotes the conditional expectation $\\E[\\cdot|X_t = x]$."
   ]
  },
  {
   "cell_type": "markdown",
   "metadata": {
    "slideshow": {
     "slide_type": "slide"
    }
   },
   "source": [
    "## Backward second order parabolic PDEs\n",
    "\n",
    "Finally, we have the stochastic representation for any backward second order parabolic linear PDE with terminal condition as follows.\n",
    "\n",
    "#### Theorem \n",
    "\n",
    "Let $u = u(x,t)$ be the solution to the terminal value problem\n",
    "\n",
    "\\begin{eqnarray*}\n",
    "  && u_t + \\frac{\\sigma^2}2 u_{xx} + \\mu u_x = V(x,t) u + f(x,t), \\quad t < T,  \\\\\n",
    "  && u(x,T) = h(x).  \n",
    "\\end{eqnarray*}\n",
    "\n",
    "Then $u$ has the representation\n",
    "\n",
    "$$\n",
    "  u(x,t) = \\E_{t,x}\\left[e^{-\\int_t^T V(X_s,s)ds}h(X_T) - \\int_t^T e^{-\\int_t^\\tau V(X_s,s)ds} f(X_\\tau,\\tau) d\\tau\\right],\n",
    "$$\n",
    "\n",
    "where $\\E_{t,x}[\\cdot] = \\E[\\cdot|X_t = x]$ is the conditional expectation.\n",
    "\n"
   ]
  }
 ],
 "metadata": {
  "celltoolbar": "Slideshow",
  "kernelspec": {
   "display_name": "R",
   "language": "R",
   "name": "ir"
  },
  "language_info": {
   "codemirror_mode": "r",
   "file_extension": ".r",
   "mimetype": "text/x-r-source",
   "name": "R",
   "pygments_lexer": "r",
   "version": "3.6.1"
  }
 },
 "nbformat": 4,
 "nbformat_minor": 1
}
