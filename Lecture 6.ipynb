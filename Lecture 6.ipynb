{
 "cells": [
  {
   "cell_type": "markdown",
   "metadata": {},
   "source": [
    "# Topics in Quantitative Finance, Summer 2020\n",
    "\n",
    "## Lecture 6: Fixed Income Derivatives Pricing\n",
    "\n",
    "### Tai-Ho Wang (王 太 和)\n",
    "    \n",
    "<h2><img src=\"BCstacked_blk.jpg\" align = \"center\" height=50 width=190></h2>\n",
    "\n",
    "$$\n",
    "\\newcommand{\\bea}{\\begin{eqnarray}}\n",
    "\\newcommand{\\eea}{\\end{eqnarray}}\n",
    "\\newcommand{\\supp}{\\mathrm{supp}}\n",
    "\\newcommand{\\F}{\\mathcal{F} }\n",
    "\\newcommand{\\cF}{\\mathcal{F} }\n",
    "\\newcommand{\\E}{\\mathbb{E} }\n",
    "\\newcommand{\\Eof}[1]{\\mathbb{E}\\left[ #1 \\right]}\n",
    "\\newcommand{\\Etof}[1]{\\mathbb{E}_t\\left[ #1 \\right]}\n",
    "\\def\\Cov{{ \\mbox{Cov} }}\n",
    "\\def\\ES{{ \\mbox{ES} }}\n",
    "\\def\\Var{{ \\mbox{Var} }}\n",
    "\\def\\VaR{{ \\mbox{VaR} }}\n",
    "\\def\\sd{{ \\mbox{sd} }}\n",
    "\\def\\corr{{ \\mbox{corr} }}\n",
    "\\newcommand{\\1}{\\mathbf{1} }\n",
    "\\newcommand{\\p}{\\partial}\n",
    "\\newcommand{\\PP}{\\mathbb{P} }\n",
    "\\newcommand{\\Pof}[1]{\\mathbb{P}\\left[ #1 \\right]}\n",
    "\\newcommand{\\QQ}{\\mathbb{Q} }\n",
    "\\newcommand{\\R}{\\mathbb{R} }\n",
    "\\newcommand{\\DD}{\\mathbb{D} }\n",
    "\\newcommand{\\HH}{\\mathbb{H} }\n",
    "\\newcommand{\\spn}{\\mathrm{span} }\n",
    "\\newcommand{\\cov}{\\mathrm{cov} }\n",
    "\\newcommand{\\HS}{\\mathcal{L}_{\\mathrm{HS}} }\n",
    "\\newcommand{\\Hess}{\\mathrm{Hess} }\n",
    "\\newcommand{\\trace}{\\mathrm{trace} }\n",
    "\\newcommand{\\LL}{\\mathcal{L} }\n",
    "\\newcommand{\\s}{\\mathcal{S} }\n",
    "\\newcommand{\\ee}{\\mathcal{E} }\n",
    "\\newcommand{\\ff}{\\mathcal{F} }\n",
    "\\newcommand{\\hh}{\\mathcal{H} }\n",
    "\\newcommand{\\bb}{\\mathcal{B} }\n",
    "\\newcommand{\\dd}{\\mathcal{D} }\n",
    "\\newcommand{\\g}{\\mathcal{G} }\n",
    "\\newcommand{\\half}{\\frac{1}{2} }\n",
    "\\newcommand{\\T}{\\mathcal{T} }\n",
    "\\newcommand{\\bit}{\\begin{itemize}}\n",
    "\\newcommand{\\eit}{\\end{itemize}}\n",
    "\\newcommand{\\beq}{\\begin{equation}}\n",
    "\\newcommand{\\eeq}{\\end{equation}}\n",
    "\\newcommand{\\tr}{\\mbox{tr}}\n",
    "\\newcommand{\\pvo}{{\\rm PV01}}\n",
    "$$\n"
   ]
  },
  {
   "cell_type": "markdown",
   "metadata": {},
   "source": [
    "## Agenda\n",
    "- Derivatives on bonds\n",
    "    - Option on bond\n",
    "- Derivatives on rates\n",
    "    - caplet, floorlet and cap, floor\n",
    "    - swaption\n",
    "- Interest rate derivatives pricing models\n",
    "    - Short rate model\n",
    "    - Forward rate model"
   ]
  },
  {
   "cell_type": "markdown",
   "metadata": {},
   "source": [
    "## Notations\n",
    "\n",
    "- $M$: maturity\n",
    "- $\\tau$: time to maturity\n",
    "- $f(t, T)$: instanstaneous forward rate\n",
    "- $r(t) = f(t,t)$: short rate\n",
    "- $y(t, M)$: spot or zero rate\n",
    "- $L_t[t, M]$: LIBOR\n",
    "- $L_t[T, M]$: forward LIBOR\n",
    "- $s(t, T, M)$: forward swap rate with starting at $T$ ending at $M$. \n",
    "- $Z(t, M)$: price of ZCB at time $t$ maturing at $T$\n",
    "- $Z(t, T, M)$: the $T$-forward price at time $t$ of ZCB maturing at $M$, for $t \\leq T \\leq M$"
   ]
  },
  {
   "cell_type": "markdown",
   "metadata": {},
   "source": [
    "## Relationships between the quantities\n",
    "\n",
    "\\begin{eqnarray*}\n",
    "&& Z(t, M) = \\Etof{e^{-\\int_t^M r(s) ds}} \\\\\n",
    "&& Z(t, M) = e^{-(M - t)y(t,M)} = e^{-\\int_t^M f(t, s)ds} \\quad \\leftrightsquigarrow \\quad f(t, M) = -\\frac{d}{dM}\\ln Z(t, M), \\\\\n",
    "&& y(t, M) = \\frac1{M - t}\\int_t^M f(t, s) ds \\\\\n",
    "&& Z(t, T, M) = \\frac{Z(t, M)}{Z(t, T)} = e^{-\\int_T^M f(t, s)ds}\n",
    "\\end{eqnarray*}"
   ]
  },
  {
   "cell_type": "markdown",
   "metadata": {},
   "source": [
    "## Interest rate derivative models\n",
    "\n",
    "\n",
    "- Parametric form for a single yield curve\n",
    "    - Nelson-Siegel\n",
    "    - Svensson\n",
    "- Modeling bond price \n",
    "    - Black's model\n",
    "    - Inconsistencies among the pricing formulas\n",
    "- Modeling interest rates\n",
    "    - short rate models\n",
    "        - single factor: Vasicek, Cox-Ingersoll-Ross (CIR), Black-Karasinski\n",
    "        - two-factor: Hull-White, Ho-Lee, Black-Derman-Toy (BDT) \n",
    "    - forward rate models\n",
    "        - Heath-Jarrow-Morton (HJM)\n",
    "    - LIBOR market model (LMM) \n",
    "        \n",
    "$$\n",
    "\\newcommand{\\Eof}[1]{\\mathbb{E}\\left[ #1 \\right]}\n",
    "\\newcommand{\\Etof}[1]{\\mathbb{E}_t\\left[ #1 \\right]}\n",
    "$$"
   ]
  },
  {
   "cell_type": "markdown",
   "metadata": {},
   "source": [
    "## Risk neutral pricing\n",
    "\n",
    "For a given numeraire, there exists an equivalent probability measure, called the *equivalent martingale measure*, such that the price of any traded asset or derivatives, denominated by the numeraire, is a martingale under the equivalent martingale measure. \n",
    "\n",
    "### Note\n",
    "- A numeraire is a traded asset with positive values all the time. \n",
    "- Commonly selected numeraires include\n",
    "    - money market, the associated equivalent martingale measure is also referred to as the risk neutral probability  \n",
    "    - ZCB, the associated equivalent martingale measure is referred to as the forward measure\n",
    "    - share price, the associated equivalent martingale measure is referred to as the share measure"
   ]
  },
  {
   "cell_type": "markdown",
   "metadata": {},
   "source": [
    "## Options on ZCB\n",
    "\n",
    "The payoff of a call expiring at $T$, struck at $K$ on ZCB maturing at $M > T$ is given by\n",
    "\n",
    "$$\n",
    "\\left\\{Z(T, M) - K\\right\\}^+\n",
    "$$\n",
    "\n",
    "- Money account $M_t = e^{\\int_0^t r_s ds}$ as the numeraire\n",
    "\n",
    "$$\n",
    "\\Eof{e^{-\\int_t^T r_s ds} \\left\\{Z(T, M) - K\\right\\}^+},\n",
    "$$\n",
    "\n",
    "where the expectation is under the risk neutral probability.\n",
    "\n",
    "- ZCB as numeraire\n",
    "\n",
    "$$\n",
    "Z(t, T) \\Eof{\\left\\{Z(T, M) - K\\right\\}^+},\n",
    "$$\n",
    "\n",
    "where the expectation is under forward measure. \n",
    "\n",
    "Likewise, the payoff of a put on ZCB maturing is given by\n",
    "\n",
    "$$\n",
    "\\left\\{K - Z(T, M)\\right\\}^+\n",
    "$$\n",
    "\n",
    "- Money account $M_t = e^{\\int_0^t r_s ds}$ as the numeraire\n",
    "\n",
    "$$\n",
    "\\Eof{e^{-\\int_t^T r_s ds} \\left\\{K - Z(T, M)\\right\\}^+}\n",
    "$$\n",
    "\n",
    "- ZCB as numeraire\n",
    "\n",
    "$$\n",
    "Z(t, T) \\Eof{\\left\\{K - Z(T, M)\\right\\}^+}\n",
    "$$\n"
   ]
  },
  {
   "cell_type": "markdown",
   "metadata": {},
   "source": [
    "## Option on coupon bearing bonds\n",
    "\n",
    "- $c$: coupon\n",
    "\n",
    "Since the present value of a coupon bearing bond at the expiry $T$ of option is given in terms of ZCBs by \n",
    "$$\n",
    "c \\sum_{i=1}^n Z(T, T_i) + Z(T, T_n)\n",
    "$$\n",
    "\n",
    "The payoff of a call struck at $K$ is given by \n",
    "\n",
    "$$\n",
    "\\left\\{c \\sum_{i=1}^n Z(T, T_i) + Z(T, T_n) - K \\right\\}^+\n",
    "$$\n",
    "\n",
    "and the payoff of a put is given by \n",
    "\n",
    "$$\n",
    "\\left\\{K - c \\sum_{i=1}^n Z(T, T_i) + Z(T, T_n)\\right\\}^+\n",
    "$$"
   ]
  },
  {
   "cell_type": "markdown",
   "metadata": {},
   "source": [
    "## Equivalence between cap/floor and options on ZCB\n",
    "\n",
    "Note since the payoff of a caplet can be written as\n",
    "\n",
    "\\begin{eqnarray*}\n",
    "&& Z(T_{i-1}, T_i) \\alpha \\left(L_{T_{i-1}} - K\\right)^+ \\\\\n",
    "&=& Z(T_{i-1}, T_i) \\left(\\left\\{1 + \\alpha L_{T_{i-1}} \\right\\} - \\left\\{ 1 + \\alpha K \\right\\} \\right)^+ \\\\\n",
    "&=& (1 + \\alpha K) \\left(\\frac1{1 + K \\alpha} - Z(T_{i-1}, T_i) \\right)^+, \\\\\n",
    "\\end{eqnarray*}\n",
    "\n",
    "it can regarded as a put option on ZCB struck at $\\frac1{1 + K\\alpha}$. Likewise, a floorlet can be regarded as a call on ZCB as \n",
    "\n",
    "\\begin{eqnarray*}\n",
    "&& Z(T_{i-1}, T_i) \\alpha \\left(K - L_{T_{i-1}}\\right)^+ \\\\\n",
    "&=& (1 + \\alpha K) \\left(Z(T_{i-1}, T_i) - \\frac1{1 + K \\alpha}  \\right)^+. \\\\\n",
    "\\end{eqnarray*}"
   ]
  },
  {
   "cell_type": "markdown",
   "metadata": {},
   "source": [
    "## Equivalence between swaptions and options on coupon bonds\n",
    "\n",
    "Recall that the payoff at expiry $T$ for a payer swaption struck at $K$ is given by \n",
    "\n",
    "\\begin{eqnarray*}\n",
    "&& \\left\\{s(T, T, T_n) - K \\right\\}^+ \\sum_{i=1}^n \\alpha Z(T, T_i) \\\\\n",
    "&=& \\left\\{1 - \\left[ Z(T, T_n) + K \\sum_{i=1}^n \\alpha Z(T, T_i) \\right] \\right\\}^+ \n",
    "\\end{eqnarray*}\n",
    "\n",
    "which is a put struck at $\\$1$ on a coupon bearing bond. "
   ]
  },
  {
   "cell_type": "markdown",
   "metadata": {},
   "source": [
    "## Relationship between cap/floor and payer/receiver swaption\n",
    "\n",
    "Consider a $T_0$ by $T_n$ cap struck at $K$ having payoff at expiry $T_0$\n",
    "\n",
    "\\begin{eqnarray*}\n",
    "&& \\sum_{i=1}^n \\alpha (L_{T_{i-1}} - K)^+ Z(T_0, T_i) \\\\\n",
    "&=& \\sum_{i=1}^n \\left\\{\\alpha L_{T_{i-1}} Z(T_0, T_i) - K \\alpha Z(T_0, T_i) \\right\\}^+ \\\\\n",
    "&\\geq& \\left\\{\\sum_{i=1}^n \\alpha L_{T_{i-1}} Z(T_0, T_i) - K \\, \\pvo_{T_0} \\right\\}^+ \\\\\n",
    "&=& \\left\\{\\frac{1 - Z(T_0, T_n)}{\\pvo_{T_0}} - K \\right\\}^+ \\pvo_{T_0} \\\\\n",
    "&=& (s(T_0, T_0, T_n) - K)^+ \\pvo_{T_0}\n",
    "\\end{eqnarray*}\n",
    "\n",
    "where $s(T_0, T_0, T_n)$ is the $T_0$ into $T_n - T_0$ swap rate and  $\\pvo_{T_0} = \\sum_{i=1}^n \\alpha Z(T_0, T_i)$. For the last equality, see the note above. Hence, the payoff of a cap struck at $K$ dominates the that of a payer swaption of the same strike and payment dates. Likewise, one can show that the payoff of a floor struck at $K$ dominates the that of a receiver swaption of the same strike and payment dates. Therefore, by monotonicity, a cap/floor must have a higher price than a payer/receiver swaption of the same strike and same payment dates. "
   ]
  },
  {
   "cell_type": "markdown",
   "metadata": {},
   "source": [
    "## Black's model for bond option pricing\n",
    "\n",
    "$$\n",
    "c = Z(t, T) \\left\\{ Z(t, T, M) N(d_1) - K N(d_2)\\right\\} = Z(t, M) N(d_1) - K Z(t, T) N(d_2).\n",
    "$$\n",
    "\n",
    "where $Z(t, T, M):=\\frac{Z(t, M)}{Z(t, T)}$ is the forward price of the bond initiating at $T$, maturing at $M$ and \n",
    "\n",
    "$$\n",
    "d_1 = \\frac{\\ln Z(t, T, M) - \\ln K}{\\sigma\\sqrt{T - t}} + \\frac{\\sigma\\sqrt{T - t}}2, \\quad d_2 = d_1 - \\sigma\\sqrt{T - t}.\n",
    "$$"
   ]
  },
  {
   "cell_type": "code",
   "execution_count": 1,
   "metadata": {},
   "outputs": [
    {
     "data": {
      "text/html": [
       "<table>\n",
       "<thead><tr><th scope=col>Z.0..1.</th><th scope=col>Z.0..5.</th></tr></thead>\n",
       "<tbody>\n",
       "\t<tr><td>0.9512294</td><td>0.7788008</td></tr>\n",
       "</tbody>\n",
       "</table>\n"
      ],
      "text/latex": [
       "\\begin{tabular}{r|ll}\n",
       " Z.0..1. & Z.0..5.\\\\\n",
       "\\hline\n",
       "\t 0.9512294 & 0.7788008\\\\\n",
       "\\end{tabular}\n"
      ],
      "text/markdown": [
       "\n",
       "Z.0..1. | Z.0..5. | \n",
       "|---|\n",
       "| 0.9512294 | 0.7788008 | \n",
       "\n",
       "\n"
      ],
      "text/plain": [
       "  Z.0..1.   Z.0..5.  \n",
       "1 0.9512294 0.7788008"
      ]
     },
     "metadata": {},
     "output_type": "display_data"
    }
   ],
   "source": [
    "# yield curve\n",
    "y <- function(t, s) {0.05}\n",
    "\n",
    "# bond price\n",
    "Z <- function(t, s) {exp(-(s-t)*y(t, s))}\n",
    "\n",
    "data.frame(Z(0, 1), Z(0, 5))\n",
    "\n",
    "# Black's formula\n",
    "bCall <- function(K, sigma, t, T, M) {\n",
    "    d1 <- log(Z(t, M)/Z(t, T)/K)/(sigma*sqrt(T - t)) + sigma*sqrt(T - t)/2\n",
    "    d2 <- d1 - sigma*sqrt(T - t)\n",
    "    \n",
    "    Z(t, M)*pnorm(d1) - K*Z(t, T)*pnorm(d2)\n",
    "}"
   ]
  },
  {
   "cell_type": "code",
   "execution_count": 2,
   "metadata": {},
   "outputs": [
    {
     "data": {
      "text/html": [
       "0.818730753077982"
      ],
      "text/latex": [
       "0.818730753077982"
      ],
      "text/markdown": [
       "0.818730753077982"
      ],
      "text/plain": [
       "[1] 0.8187308"
      ]
     },
     "metadata": {},
     "output_type": "display_data"
    },
    {
     "data": {
      "text/html": [
       "0.0404279263129798"
      ],
      "text/latex": [
       "0.0404279263129798"
      ],
      "text/markdown": [
       "0.0404279263129798"
      ],
      "text/plain": [
       "[1] 0.04042793"
      ]
     },
     "metadata": {},
     "output_type": "display_data"
    }
   ],
   "source": [
    "K <- 0.8\n",
    "t <- 0\n",
    "T <- 1\n",
    "M <- 5\n",
    "sigma <- 0.1\n",
    "\n",
    "Z(t, M)/Z(t, T)\n",
    "bCall(K, sigma, t, T, M)"
   ]
  },
  {
   "cell_type": "markdown",
   "metadata": {},
   "source": [
    "## Pricing caplet using Black's model\n",
    "\n",
    "$$\n",
    "caplet = Z(t, T) \\left\\{ F(t, T, M) N(d_1) - R_{cap} N(d_2)\\right\\}(M - T).\n",
    "$$\n",
    "\n",
    "where $F(t, T, M):=-\\frac1{M - T}\\ln\\frac{Z(t, M)}{Z(t, T)}$ denotes the forward rate and \n",
    "\n",
    "$$\n",
    "d_1 = \\frac{\\ln F(t, T, M) - \\ln R_{cap}}{\\sigma\\sqrt{T - t}} + \\frac{\\sigma\\sqrt{T - t}}2, \\quad d_2 = d_1 - \\sigma\\sqrt{T - t}.\n",
    "$$\n",
    "\n",
    "### Remark\n",
    "The notional principal is assumed $\\$1$."
   ]
  },
  {
   "cell_type": "code",
   "execution_count": 1,
   "metadata": {},
   "outputs": [],
   "source": [
    "# yield curve\n",
    "y <- function(t, s) {0.05}\n",
    "\n",
    "# bond price\n",
    "Z <- function(t, s) {exp(-(s-t)*y(t, s))}\n",
    "\n",
    "# forward rate\n",
    "F <- function(t, T, M) {-log(Z(t, M)/Z(t, T))/(M - T)}\n",
    "\n",
    "# caplet price\n",
    "bCaplet <- function(Rcap, sigma, t, T, M) {\n",
    "    \n",
    "    d1 <- log(F(t, T, M)/Rcap)/(sigma*sqrt(T - t)) + sigma*sqrt(T - t)/2\n",
    "    d2 <- d1 - sigma*sqrt(T - t)\n",
    "    \n",
    "    Z(t, T)*(F(t, T, M)*pnorm(d1) - Rcap*pnorm(d2))*(M - T)\n",
    "}"
   ]
  },
  {
   "cell_type": "code",
   "execution_count": 3,
   "metadata": {},
   "outputs": [
    {
     "ename": "ERROR",
     "evalue": "Error in F(t, T, M): 没有\"F\"这个函数\n",
     "output_type": "error",
     "traceback": [
      "Error in F(t, T, M): 没有\"F\"这个函数\nTraceback:\n"
     ]
    }
   ],
   "source": [
    "Rcap <- 0.045\n",
    "t <- 0\n",
    "T <- 0.75\n",
    "M <- 1\n",
    "sigma <- 0.1\n",
    "\n",
    "F(t, T, M)\n",
    "bCaplet(Rcap, sigma, t, T, M)"
   ]
  },
  {
   "cell_type": "markdown",
   "metadata": {},
   "source": [
    "## Pricing swaption using Black's model\n",
    "\n",
    "$$\n",
    "swaption = \\sum_{i=1}^n Z(t, T_i) \\left\\{ s(t, T, M) N(d_1) - K N(d_2)\\right\\}  \\sum_{i=1}^n \\Delta T_i \\left( 1 + s(t, T, M)\\right)^{-i}.\n",
    "$$\n",
    "\n",
    "where $s(t, T, M)$ denotes the swap rate and \n",
    "\n",
    "$$\n",
    "d_1 = \\frac{\\ln s(t, T, M) - \\ln K}{\\sigma\\sqrt{T - t}} + \\frac{\\sigma\\sqrt{T - t}}2, \\quad d_2 = d_1 - \\sigma\\sqrt{T - t}.\n",
    "$$\n",
    "\n",
    "### Note\n",
    "Recall that the (forward) swap rate is determined by \n",
    "$$\n",
    "s(t, T, M) = \\frac{Z(t, T) - Z(t, M)}{\\sum_{i=1}^n Z(t, T_i) \\Delta T_i},\n",
    "$$\n",
    "\n",
    "where the $T_i$'s are the settlement dates, $\\Delta T_i := T_i - T_{i-1}$, $T_0 = T$, and $T_n = M$."
   ]
  },
  {
   "cell_type": "code",
   "execution_count": 4,
   "metadata": {},
   "outputs": [],
   "source": [
    "# yield curve\n",
    "y <- function(t, s) {0.05}\n",
    "\n",
    "# bond price\n",
    "Z <- function(t, s) {exp(-(s-t)*y(t, s))}\n",
    "\n",
    "# swap rate\n",
    "Rswap <- function(t, T, M) {-log(Z(t, M)/Z(t, T))/(M - T)}\n",
    "\n",
    "# swaption price in Black's model\n",
    "bCaplet <- function(Rcap, sigma, t, T, M) {\n",
    "    \n",
    "    d1 <- log(f(t, T, M)/Rcap)/(sigma*sqrt(T - t)) + sigma*sqrt(T - t)/2\n",
    "    d2 <- d1 - sigma*sqrt(T - t)\n",
    "    \n",
    "    Z(t, T)*(f(t, T, M)*pnorm(d1) - Rcap*pnorm(d2))*(M - T)\n",
    "}"
   ]
  },
  {
   "cell_type": "markdown",
   "metadata": {},
   "source": [
    "## Example - Swaption\n",
    "\n",
    "Assume a flat term structure at $5\\%$ with continuous compounding. Consider a two-year option which exercises into a one-year semiannual payer swap. The strike is assumed to be $5\\%$. The principal underlying the cap is $\\$1,000,000$. Assume that the volatilty is $20\\%$. Determine the price of the swaption.  "
   ]
  },
  {
   "cell_type": "code",
   "execution_count": 5,
   "metadata": {},
   "outputs": [
    {
     "data": {
      "text/html": [
       "<table>\n",
       "<caption>A data.frame: 1 × 3</caption>\n",
       "<thead>\n",
       "\t<tr><th scope=col>stT</th><th scope=col>d1</th><th scope=col>d2</th></tr>\n",
       "\t<tr><th scope=col>&lt;dbl&gt;</th><th scope=col>&lt;dbl&gt;</th><th scope=col>&lt;dbl&gt;</th></tr>\n",
       "</thead>\n",
       "<tbody>\n",
       "\t<tr><td>0.05063024</td><td>0.1592832</td><td>0.01786181</td></tr>\n",
       "</tbody>\n",
       "</table>\n"
      ],
      "text/latex": [
       "A data.frame: 1 × 3\n",
       "\\begin{tabular}{lll}\n",
       " stT & d1 & d2\\\\\n",
       " <dbl> & <dbl> & <dbl>\\\\\n",
       "\\hline\n",
       "\t 0.05063024 & 0.1592832 & 0.01786181\\\\\n",
       "\\end{tabular}\n"
      ],
      "text/markdown": [
       "\n",
       "A data.frame: 1 × 3\n",
       "\n",
       "| stT &lt;dbl&gt; | d1 &lt;dbl&gt; | d2 &lt;dbl&gt; |\n",
       "|---|---|---|\n",
       "| 0.05063024 | 0.1592832 | 0.01786181 |\n",
       "\n"
      ],
      "text/plain": [
       "  stT        d1        d2        \n",
       "1 0.05063024 0.1592832 0.01786181"
      ]
     },
     "metadata": {},
     "output_type": "display_data"
    },
    {
     "data": {
      "text/html": [
       "0.871602439504827"
      ],
      "text/latex": [
       "0.871602439504827"
      ],
      "text/markdown": [
       "0.871602439504827"
      ],
      "text/plain": [
       "[1] 0.8716024"
      ]
     },
     "metadata": {},
     "output_type": "display_data"
    },
    {
     "data": {
      "text/html": [
       "2756.51520506572"
      ],
      "text/latex": [
       "2756.51520506572"
      ],
      "text/markdown": [
       "2756.51520506572"
      ],
      "text/plain": [
       "[1] 2756.515"
      ]
     },
     "metadata": {},
     "output_type": "display_data"
    }
   ],
   "source": [
    "y <- function(t) {0.05}\n",
    "Z <- function(t) {exp(-y(t)*t)}\n",
    "\n",
    "n <- 2 # number of swaps\n",
    "dT <- 0.5\n",
    "T0 <- 2\n",
    "Ts <- 1:n\n",
    "K <- 0.05\n",
    "\n",
    "PV01 <- dT*(Z(2.5) + Z(3))\n",
    "stT <- (Z(2) - Z(3))/PV01\n",
    "\n",
    "d1 <- log(stT/K)/sigma/sqrt(T0) + sigma*sqrt(T0)/2\n",
    "d2 <- d1 - sigma*sqrt(T0)\n",
    "data.frame(stT, d1, d2)\n",
    "\n",
    "PV01\n",
    "\n",
    "PV01*(stT*pnorm(d1) - K*pnorm(d2))*1e6"
   ]
  },
  {
   "cell_type": "code",
   "execution_count": 6,
   "metadata": {},
   "outputs": [
    {
     "data": {
      "text/html": [
       "0.0506302410488576"
      ],
      "text/latex": [
       "0.0506302410488576"
      ],
      "text/markdown": [
       "0.0506302410488576"
      ],
      "text/plain": [
       "[1] 0.05063024"
      ]
     },
     "metadata": {},
     "output_type": "display_data"
    }
   ],
   "source": [
    "stT"
   ]
  },
  {
   "cell_type": "markdown",
   "metadata": {},
   "source": [
    "## Caveat\n",
    "\n",
    "The Black's models for option on bonds, caplet and floorlet, and swaption are inconsistent.\n",
    "\n",
    "A more consistent way to price the fixed income derivatives is by directly modeling the rates, say short rate. "
   ]
  },
  {
   "cell_type": "markdown",
   "metadata": {},
   "source": [
    "## Bond price in short rate model\n",
    "\n",
    "Assume the short rate $r_t$ follows a stochastic evoluation governed by \n",
    "\n",
    "$$\n",
    "dr_t = \\alpha_t dt + \\sigma_t dW_t,\n",
    "$$\n",
    "\n",
    "where the drift $\\alpha_t$ and the diffusion $\\sigma_t$ coefficients are deterministic functions of $t$ and $r$. \n",
    "\n",
    "Risk neutral proicing theory asserts that the time $t$ price of a ZCB maturing at $M$ is given by the expectation under risk neutral probability\n",
    "\n",
    "$$\n",
    "Z(t, M) = \\Etof{e^{-\\int_t^M r_s ds}}.\n",
    "$$\n",
    "\n",
    "Thus, the time $t$ price $u^M(t, r) := Z(t, M) = \\Etof{e^{-\\int_t^M r_s ds}}$ of a ZCB maturing at $M$ satisfies the PDE\n",
    "\n",
    "$$\n",
    "u_t^M + \\frac{\\sigma_t^2}2 u^M_{rr} + \\alpha_t u_r^M = r u^M, \\quad \\mbox{ for } t < M\n",
    "$$\n",
    "\n",
    "with terminal condition $u^M(M, r) = 1$, for all $r$, where subindices refer to corresponding partial derivatives."
   ]
  },
  {
   "cell_type": "markdown",
   "metadata": {},
   "source": [
    "## Pricing of option on bond in short rate models\n",
    "\n",
    "The price $c$ of the call at time $t$, struck at $K$ and expring at $T$, on a ZCB maturing at $M > T$ is given by the expectation under risk neutral probability \n",
    "\n",
    "\\begin{eqnarray*}\n",
    "c &=& \\Etof{e^{-\\int_t^T r_s ds}\\left\\{Z(T, M) - K\\right\\}^+} = \\Etof{e^{-\\int_t^T r_s ds} \\left\\{ u^M(T, r_T) - K \\right\\}^+}.\n",
    "\\end{eqnarray*}\n",
    "\n",
    "Thus, $c$ satisfies the PDE\n",
    "\n",
    "$$\n",
    "c_t + \\frac{\\sigma_t^2}2 c_{rr} + \\alpha_t c_r = r c, \\quad \\mbox{ for } t < T\n",
    "$$\n",
    "\n",
    "with terminal condition $c(T, r) = \\left\\{ u^M(T, r) - K\\right\\}^+$."
   ]
  },
  {
   "cell_type": "markdown",
   "metadata": {},
   "source": [
    "## Example 1: the Vasicek model\n",
    "\n",
    "In the Vasicek model, the coefficients $\\alpha$ and $\\sigma_t$ are specified as\n",
    "\n",
    "$$\n",
    "\\alpha_t = \\lambda(\\bar r - r_t), \\quad \\sigma_t = \\sigma\n",
    "$$\n",
    "\n",
    "leading to the following SDE for short rate $r_t$\n",
    "\n",
    "$$\n",
    "dr_t = \\lambda(\\bar r - r_t) dt + \\sigma dW_t,\n",
    "$$\n",
    "\n",
    "where $W_t$ is a Brownian motion. The SDE has closed form solution given by\n",
    "\n",
    "$$\n",
    "r_t = \\bar r + e^{-\\lambda t} (r_0 - \\bar r) + \\sigma \\int_0^t e^{-\\lambda(t - s)} dW_s.\n",
    "$$\n",
    "\n",
    "Thus, $r_t \\sim N(\\mu, \\Sigma^2)$ with mean $\\mu$ and variance $\\Sigma^2$ given by \n",
    "\n",
    "\\begin{eqnarray*}\n",
    "&& \\mu = \\bar r + e^{-\\lambda t} (r_0 - \\bar r), \\\\\n",
    "&& \\Sigma^2 = \\frac{\\sigma^2}{2\\lambda} \\left(1 - e^{-2\\lambda t} \\right).\n",
    "\\end{eqnarray*}\n",
    "\n",
    "### Note\n",
    "- The parameter $\\lambda$ is referred to as the *mean-reverting rate* and $\\bar r$ as the *long term mean*.\n",
    "- Since $r_t$ is normally distributed, with positive probability it may go below zero, though the probability can be pretty small. "
   ]
  },
  {
   "cell_type": "markdown",
   "metadata": {},
   "source": [
    "## Bond price in Vasicek model\n",
    "\n",
    "One can show that, by evaluating the conditional expectation or by solving the corresponding pricing PDE, the time $t$ price $Z(t, M)$ of a ZCB maturing at $M$ is given by \n",
    "\n",
    "$$\n",
    "Z(t, M) = u(t, r) = e^{\\alpha(M - t) - \\beta(M - t) r},\n",
    "$$\n",
    "\n",
    "where \n",
    "\\begin{eqnarray*}\n",
    "&& \\alpha(\\tau) = \\left(\\bar r - \\frac{\\sigma^2}{2\\lambda^2} \\right) \\{\\beta(\\tau) - \\tau \\} - \\frac{\\sigma^2}{4\\lambda} \\beta^2(\\tau), \\\\\n",
    "&& \\beta(\\tau) = \\frac1\\lambda\\left(1 - e^{-\\lambda\\tau}\\right).\n",
    "\\end{eqnarray*}\n",
    "\n",
    "### Note\n",
    "- The price of ZCB depends only time to maturity $\\tau := M - t$.\n",
    "- The yield curve $y$, depending on time to maturity as well, can be obtained as \n",
    "\n",
    "$$\n",
    "y(t, M) = -\\frac1{M - t}\\ln Z(t, M) = -\\frac{\\alpha(M-t)}{M - t} + \\frac{\\beta(M - t)}{M - t} r.\n",
    "$$"
   ]
  },
  {
   "cell_type": "code",
   "execution_count": 7,
   "metadata": {},
   "outputs": [],
   "source": [
    "# ZCB price in Vasicek model\n",
    "\n",
    "Z_Vas <- function(t, M, r, rbar, sigma, lambda){\n",
    "    tmp <- function(tau) {1 - exp(-lambda*(tau))}\n",
    "    beta <- function(tau) {tmp(tau)/lambda}\n",
    "    alpha <- function(tau) {\n",
    "        term1 <- (rbar - sigma^2/lambda^2/2)*(beta(tau) - tau)\n",
    "        term2 <- sigma^2*beta(tau)^2/lambda/4\n",
    "        \n",
    "        term1 - term2\n",
    "    }\n",
    "    \n",
    "    exp(alpha(M - t) - beta(M - t)*r)\n",
    "}"
   ]
  },
  {
   "cell_type": "code",
   "execution_count": 8,
   "metadata": {},
   "outputs": [],
   "source": [
    "# rescale the plot\n",
    "options(repr.plot.width=5, repr.plot.height=5)"
   ]
  },
  {
   "cell_type": "code",
   "execution_count": 9,
   "metadata": {},
   "outputs": [
    {
     "data": {
      "text/html": [
       "0.951243613320915"
      ],
      "text/latex": [
       "0.951243613320915"
      ],
      "text/markdown": [
       "0.951243613320915"
      ],
      "text/plain": [
       "[1] 0.9512436"
      ]
     },
     "metadata": {},
     "output_type": "display_data"
    },
    {
     "data": {
      "image/png": "[encoded data removed]",
      "text/plain": [
       "plot without title"
      ]
     },
     "metadata": {},
     "output_type": "display_data"
    }
   ],
   "source": [
    "t <- 0\n",
    "r <- 0.05\n",
    "rbar <- 0.05\n",
    "lambda <- 0.15\n",
    "sigma <- 0.01\n",
    "\n",
    "Z_Vas(t, 1, r, rbar, sigma, lambda)\n",
    "curve(Z_Vas(t, x, r, rbar, sigma, lambda), from=0, to=30, col='blue', \n",
    "      xlab='T2M', ylab='ZCB', las=1)"
   ]
  },
  {
   "cell_type": "code",
   "execution_count": 10,
   "metadata": {},
   "outputs": [
    {
     "data": {
      "text/html": [
       "0.0493757529094623"
      ],
      "text/latex": [
       "0.0493757529094623"
      ],
      "text/markdown": [
       "0.0493757529094623"
      ],
      "text/plain": [
       "[1] 0.04937575"
      ]
     },
     "metadata": {},
     "output_type": "display_data"
    },
    {
     "data": {
      "image/png": "[encoded data removed]",
      "text/plain": [
       "plot without title"
      ]
     },
     "metadata": {},
     "output_type": "display_data"
    }
   ],
   "source": [
    "# yield curve from Vasicek model\n",
    "y_Vas <- function(t, M, r, rbar, sigma, lambda) {\n",
    "    -log(Z_Vas(t, M, r, rbar, sigma, lambda))/(M - t)\n",
    "}\n",
    "\n",
    "y_Vas(t, 10, r, rbar, sigma, lambda)\n",
    "\n",
    "# plot yield curve\n",
    "curve(y_Vas(t, x, r, rbar, sigma, lambda)*100, from=0, to=10, col='blue', \n",
    "      xlab='T2M', ylab='Y2M', las=1)"
   ]
  },
  {
   "cell_type": "markdown",
   "metadata": {},
   "source": [
    "## Call and put on ZCB in Vasicek model\n",
    "\n",
    "\\begin{eqnarray*}\n",
    "&& c(t, T, M) = Z(t, M) N(d_1) - K Z(t, T) N(d_2), \\\\\n",
    "&& p(t, T, M) = K Z(t, T) N(- d_2) - Z(t, M) N(-d_1),\n",
    "\\end{eqnarray*}\n",
    "\n",
    "where \n",
    "\n",
    "\\begin{eqnarray*}\n",
    "&& d_1 = \\frac{\\ln Z(t, M) - \\ln \\{K Z(t, T)\\}}w + \\frac w2, \\qquad d_2 = d_1 - w,  \\\\\n",
    "&& w = \\sigma \\sqrt{\\frac{1 - e^{-2\\lambda(T - t)}}{2\\lambda}} \\, \\frac{1 - e^{-\\lambda(M - T)}}\\lambda\n",
    "\\end{eqnarray*}"
   ]
  },
  {
   "cell_type": "code",
   "execution_count": 11,
   "metadata": {},
   "outputs": [],
   "source": [
    "# call and put on ZCB in Vasicek model\n",
    "zcbCall_Vas <- function(r, rbar, K, t, T, M, sigma, lambda) {    \n",
    "    # ZCB price\n",
    "    Z <- function(t, M) {\n",
    "        tau <- M - t\n",
    "        tmp <- 1 - exp(-lambda*(tau))\n",
    "        beta <- tmp/lambda\n",
    "        term1 <- (rbar - sigma^2/lambda^2/2)*(beta - (tau))\n",
    "        term2 <- sigma^2*beta^2/lambda/4\n",
    "        alpha <- term1 - term2\n",
    "        \n",
    "        exp(alpha - r*beta)\n",
    "    }\n",
    "    \n",
    "    term1 <- sqrt((1 - exp(-2*lambda*(T - t)))/2/lambda)\n",
    "    term2 <- (1 - exp(-lambda*(M - T)))/lambda\n",
    "    w <- sigma*term1*term2\n",
    "    d1 <- (log(Z(t, M)) - log(K*Z(t, T)))/w + w/2\n",
    "    d2 <- d1 - w\n",
    "    \n",
    "    Z(t, M)*pnorm(d1) - K*Z(t, T)*pnorm(d2)\n",
    "}"
   ]
  },
  {
   "cell_type": "code",
   "execution_count": 12,
   "metadata": {},
   "outputs": [
    {
     "data": {
      "text/html": [
       "0.951243613320915"
      ],
      "text/latex": [
       "0.951243613320915"
      ],
      "text/markdown": [
       "0.951243613320915"
      ],
      "text/plain": [
       "[1] 0.9512436"
      ]
     },
     "metadata": {},
     "output_type": "display_data"
    },
    {
     "data": {
      "text/html": [
       "0.14242772870481"
      ],
      "text/latex": [
       "0.14242772870481"
      ],
      "text/markdown": [
       "0.14242772870481"
      ],
      "text/plain": [
       "[1] 0.1424277"
      ]
     },
     "metadata": {},
     "output_type": "display_data"
    },
    {
     "data": {
      "image/png": "[encoded data removed]",
      "text/plain": [
       "plot without title"
      ]
     },
     "metadata": {},
     "output_type": "display_data"
    }
   ],
   "source": [
    "Z_Vas(t, M=1, r, rbar, sigma, lambda)\n",
    "K <- 0.67\n",
    "\n",
    "zcbCall_Vas(r, rbar, K, t, T=1, M=5, sigma, lambda)\n",
    "\n",
    "# plot call prices\n",
    "curve(zcbCall_Vas(r, rbar, x, t, T=5, M=10, sigma, lambda), from=0, to=1, col='blue', \n",
    "      xlab='strike', ylab='call price', las=1)"
   ]
  },
  {
   "cell_type": "markdown",
   "metadata": {},
   "source": [
    "## Example 2: the Cox-Ingersoll-Ross (CIR) model\n",
    "\n",
    "In the CIR model, the coefficients $\\alpha$ and $\\sigma_t$ are specified as\n",
    "\n",
    "$$\n",
    "\\alpha_t = \\lambda(\\bar r - r_t), \\quad \\sigma_t = \\sigma \\sqrt{r_t}\n",
    "$$\n",
    "\n",
    "leading to the following SDE for short rate $r_t$\n",
    "\n",
    "$$\n",
    "dr_t = \\lambda(\\bar r - r_t) dt + \\sigma \\sqrt{r_t} dW_t,\n",
    "$$\n",
    "\n",
    "where $W_t$ is a Brownian motion. Unlike the Vasicek model, the solution to the SDE of CIR has no simple closed form expression. \n",
    "\n",
    "### Note\n",
    "- Like in the Vasicek model, $\\lambda$ is referred to as the mean-reverting rate and $\\bar r$ as the long term mean. \n",
    "- The condition on parameters $2\\lambda\\bar r > \\sigma^2$ is required for the positivity of $r_t$. \n"
   ]
  },
  {
   "cell_type": "markdown",
   "metadata": {},
   "source": [
    "## Bond price in CIR model\n",
    "\n",
    "One can show that, by solving the corresponding pricing PDE, the time $t$ price $Z(t, M)$ of a ZCB maturing at $M$ is given by \n",
    "\n",
    "$$\n",
    "Z(t, M) = u(t, r) = e^{\\alpha(M - t) - \\beta(M - t) r},\n",
    "$$\n",
    "\n",
    "where \n",
    "\\begin{eqnarray*}\n",
    "&& \\alpha(\\tau) = k_3 \\ln\\left\\{\\frac{k_1 e^{k_2\\tau}}{k_1 + k_2 \\left(e^{k_1\\tau} - 1\\right)} \\right\\}, \\\\\n",
    "&& \\beta(\\tau) = \\frac{e^{k_1\\tau} - 1}{k_1 + k_2 \\left(e^{k_1\\tau} - 1\\right)}, \\\\\n",
    "&& k_1 = \\sqrt{\\lambda^2 + 2\\sigma^2}, \\quad k_2 = \\frac{\\lambda + k_1}2, \\quad k_3 = \\frac{2\\lambda\\bar r}{\\sigma^2}. \n",
    "\\end{eqnarray*}\n",
    "\n",
    "### Note\n",
    "- The price of ZCB depends only time to maturity $\\tau := M - t$.\n",
    "- The yield curve $y$, depending on time to maturity as well, can be obtained as \n",
    "\n",
    "$$\n",
    "y(t, M) = -\\frac1{M - t}\\ln Z(t, M) = -\\frac{\\alpha(M-t)}{M - t} + \\frac{\\beta(M - t)}{M - t} r.\n",
    "$$"
   ]
  },
  {
   "cell_type": "code",
   "execution_count": 13,
   "metadata": {},
   "outputs": [],
   "source": [
    "# ZCB price in CIR model\n",
    "Z_CIR <- function(t, M, r, rbar, sigma, lambda){\n",
    "    tau <- M - t\n",
    "    k1 <- sqrt(lambda^2 + 2*sigma^2)\n",
    "    k2 <- (lambda + k1)/2\n",
    "    k3 <- 2*lambda*rbar/sigma^2\n",
    "    denom <- k1 + k2*(exp(k1*tau) - 1)\n",
    "    beta <- (exp(k1*tau) - 1)/denom\n",
    "    alpha <- k3*log(k1*exp(k2*tau)/denom)\n",
    "    \n",
    "    exp(alpha - beta*r)\n",
    "}"
   ]
  },
  {
   "cell_type": "code",
   "execution_count": 14,
   "metadata": {},
   "outputs": [
    {
     "data": {
      "text/html": [
       "0.95130023926552"
      ],
      "text/latex": [
       "0.95130023926552"
      ],
      "text/markdown": [
       "0.95130023926552"
      ],
      "text/plain": [
       "[1] 0.9513002"
      ]
     },
     "metadata": {},
     "output_type": "display_data"
    },
    {
     "data": {
      "image/png": "[encoded data removed]",
      "text/plain": [
       "plot without title"
      ]
     },
     "metadata": {},
     "output_type": "display_data"
    }
   ],
   "source": [
    "t <- 0\n",
    "r <- 0.05\n",
    "rbar <- 0.05\n",
    "lambda <- 0.15\n",
    "sigma <- 0.1\n",
    "\n",
    "Z_CIR(t, 1, r, rbar, sigma, lambda)\n",
    "curve(Z_CIR(t, x, r, rbar, sigma, lambda), from=0, to=30, col='blue', \n",
    "      xlab='T2M', ylab='ZCB', las=1)"
   ]
  },
  {
   "cell_type": "code",
   "execution_count": 15,
   "metadata": {},
   "outputs": [
    {
     "data": {
      "text/html": [
       "0.0499255572554929"
      ],
      "text/latex": [
       "0.0499255572554929"
      ],
      "text/markdown": [
       "0.0499255572554929"
      ],
      "text/plain": [
       "[1] 0.04992556"
      ]
     },
     "metadata": {},
     "output_type": "display_data"
    },
    {
     "data": {
      "image/png": "[encoded data removed]",
      "text/plain": [
       "plot without title"
      ]
     },
     "metadata": {},
     "output_type": "display_data"
    }
   ],
   "source": [
    "# yield curve in CIR model\n",
    "y_CIR <- function(t, M, r, rbar, sigma, lambda) {\n",
    "    -log(Z_CIR(t, M, r, rbar, sigma, lambda))/(M - t)\n",
    "}\n",
    "\n",
    "y_CIR(t, 1, r, rbar, sigma, lambda)\n",
    "\n",
    "# plot yield curve\n",
    "curve(y_CIR(t, x, r, rbar, sigma, lambda)*100, from=0, to=10, col='blue', \n",
    "      xlab='T2M', ylab='Y2M', las=1)"
   ]
  },
  {
   "cell_type": "markdown",
   "metadata": {},
   "source": [
    "## Call on ZCB in CIR model\n",
    "\n",
    "The price $c$ of a call on ZCB under CIR short rate model is given by \n",
    "\n",
    "\\begin{eqnarray*}\n",
    "&& c(t, T, M) = Z(t, M) \\chi^2(a_1; 2k_3, \\theta_1) - K Z(t, T) \\chi^2(a_2; 2k_3, \\theta_2),\n",
    "\\end{eqnarray*}\n",
    "\n",
    "where \n",
    "\n",
    "\\begin{eqnarray*}\n",
    "&& \\rho = \\rho(T - t) = \\frac{2k_1}{\\sigma^2} e^{1 - k_1(T - t)}, \\qquad\n",
    "\\psi = \\frac{2k_2}{\\sigma^2}, \\qquad\n",
    "\\phi = \\phi(M - T) = \\frac{\\alpha(M - T) - \\ln K}{\\beta(M - T)}, \\\\\n",
    "&& a_1 = 2\\phi \\{ \\rho + \\psi + \\beta(M - T)\\}, \\qquad a_2 = 2 \\phi(\\rho + \\psi), \\\\\n",
    "&& \\theta_1 = \\frac{2\\rho^2 r e^{k_1(T - t)}}{\\rho + \\psi + \\beta(M - T)}, \\qquad \\theta_2 = \\frac{2\\rho^2 r e^{k_1(T - t)}}{\\rho + \\psi}.\n",
    "\\end{eqnarray*}\n",
    "\n",
    "and $\\chi^2(\\cdot; \\nu, \\theta)$ denote the cdf of the chi-squared distribution of degrees of freedom $\\nu$ and noncentrality $\\theta$. "
   ]
  },
  {
   "cell_type": "code",
   "execution_count": 16,
   "metadata": {},
   "outputs": [],
   "source": [
    "# call on ZCB in CIR model\n",
    "zcbCall_CIR <- function(r, rbar, K, t, T, M, sigma, lambda) {\n",
    "    # some parameters\n",
    "    k1 <- sqrt(lambda^2 + 2*sigma^2)\n",
    "    k2 <- (lambda + k1)/2 \n",
    "    k3 <- 2*lambda*rbar/sigma^2\n",
    "    denom <- k1 + k2*(exp(k1*(M - T)) - 1)\n",
    "    beta <- (exp(k1*(M - T)) - 1)/denom\n",
    "    alpha <- k3*log(k1*exp(k2*(M - T))/denom)\n",
    "    \n",
    "    rho <- 2*k1/sigma^2*exp(1 - k1*(T - t))\n",
    "    psi <- 2*k2/sigma^2\n",
    "    phi <- (alpha - log(K))/beta\n",
    "    \n",
    "    a1 <- 2*phi*(rho + psi + beta)\n",
    "    a2 <- 2*phi*(rho + psi)\n",
    "    theta1 <- 2*rho^2*r*exp(k1*(T - t))/(rho + psi + beta)\n",
    "    theta2 <- 2*rho^2*r*exp(k1*(T - t))/(rho + psi)\n",
    "    \n",
    "    # ZCB price\n",
    "    Z <- function(t, M){\n",
    "        tau <- M - t\n",
    "        denom <- k1 + k2*(exp(k1*tau) - 1)\n",
    "        beta <- (exp(k1*tau) - 1)/denom\n",
    "        alpha <- k3*log(k1*exp(k2*tau)/denom)\n",
    "        \n",
    "        exp(alpha - beta*r)\n",
    "    }\n",
    "    \n",
    "    # return call price\n",
    "    Z(t, M)*pchisq(a1, df=2*k3, ncp=theta1) - K*Z(t, T)*pchisq(a2, df=2*k3, ncp=theta2)\n",
    "}"
   ]
  },
  {
   "cell_type": "code",
   "execution_count": 17,
   "metadata": {},
   "outputs": [
    {
     "data": {
      "text/html": [
       "0.146387281196123"
      ],
      "text/latex": [
       "0.146387281196123"
      ],
      "text/markdown": [
       "0.146387281196123"
      ],
      "text/plain": [
       "[1] 0.1463873"
      ]
     },
     "metadata": {},
     "output_type": "display_data"
    }
   ],
   "source": [
    "t <- 0\n",
    "r <- 0.05\n",
    "rbar <- 0.05\n",
    "lambda <- 0.15\n",
    "sigma <- 0.1\n",
    "K <- 0.67\n",
    "T <- 1\n",
    "M <- 5\n",
    "\n",
    "zcbCall_CIR(r, rbar, K, t, T, M, sigma, lambda)"
   ]
  },
  {
   "cell_type": "markdown",
   "metadata": {},
   "source": [
    "## Forward rate model - the HJM model\n",
    "\n",
    "Rather than modeling the short rate, the Heath-Jarrow-Morton (HJM) model models the foward rates $f(t, T)$ as\n",
    "\n",
    "$$\n",
    "df_t(T) = \\alpha_t(T) dt + \\sum_{i=1}^n \\sigma_t^i(T) dW_t^i,\n",
    "$$\n",
    "\n",
    "where $W_t = (W_t^1, \\cdots, W_t^n)$ is an $n$-dimensional Brownian motion, with initial condition $f_0(T) = f(0, T)$, the current forward rate curve. \n",
    "The no arbitrage principle requires that the drift coefficients $\\alpha_t(T)$ satifies the condition\n",
    "\n",
    "$$\n",
    "\\alpha_t(T) = \\sum_{i=1}^n \\int_t^T \\sigma_t^i(T) \\, \\sigma_t^i(u) du.\n",
    "$$\n",
    "\n",
    "Equivalently, in integral form, the SDE for the forward rate $f_t(T)$ reads \n",
    "\n",
    "$$\n",
    "f_t(T) = f_0(T) + \\int_0^t \\sum_{i=1}^n \\int_s^T \\sigma_s^i(T) \\, \\sigma_s^i(u) du ds + \\int_0^t \\sum_{i=1}^n \\sigma_s^i(T) \\, dW_s^i.\n",
    "$$\n",
    "\n",
    "The corresponding ZCB price $Z_t(T)$ satisfies the SDE\n",
    "\n",
    "$$\n",
    "\\frac{dZ_t(T)}{Z_t(T)} = r_t dt - \\sum_{i=1}^n \\int_t^T \\sigma_t^i(u) du \\, dW_t^i\n",
    "$$\n",
    "\n",
    "and the SDE for the short rate $r_t = f_t(t)$ in interal form reads \n",
    "\n",
    "$$\n",
    "r_t = r_0 + \\int_0^t \\sum_{i=1}^n \\int_s^t \\sigma_s^i(t) \\, \\sigma_s^i(u) du ds + \\int_0^t \\sum_{i=1}^n \\sigma_s^i(t) \\, dW_s^i.\n",
    "$$\n",
    "\n",
    "### Note\n",
    "- The drift coefficient in the SDE for ZCB is given by the short rate $r_t$ (under risk neutral probability) since ZCB is a traded asset. This also leads the no arbitrage condition on $\\alpha_t(T)$ given above. "
   ]
  }
 ],
 "metadata": {
  "celltoolbar": "Slideshow",
  "kernelspec": {
   "display_name": "R",
   "language": "R",
   "name": "ir"
  },
  "language_info": {
   "codemirror_mode": "r",
   "file_extension": ".r",
   "mimetype": "text/x-r-source",
   "name": "R",
   "pygments_lexer": "r",
   "version": "3.6.1"
  }
 },
 "nbformat": 4,
 "nbformat_minor": 1
}
